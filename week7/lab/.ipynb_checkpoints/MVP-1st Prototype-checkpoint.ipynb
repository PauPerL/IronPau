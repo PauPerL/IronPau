{
 "cells": [
  {
   "cell_type": "code",
   "execution_count": null,
   "metadata": {},
   "outputs": [],
   "source": []
  },
  {
   "cell_type": "code",
   "execution_count": 1,
   "metadata": {},
   "outputs": [],
   "source": [
    "import pandas as pd\n",
    "import requests\n",
    "from bs4 import BeautifulSoup\n",
    "from tqdm.notebook import tqdm\n",
    "import re\n",
    "import random\n",
    "from fuzzywuzzy import fuzz, process\n"
   ]
  },
  {
   "cell_type": "raw",
   "metadata": {},
   "source": [
    "#lets do input and standarize to lower\n",
    "name = input('what song do you like?')\n",
    "name= name.lower()\n",
    "print(name)"
   ]
  },
  {
   "cell_type": "code",
   "execution_count": 2,
   "metadata": {},
   "outputs": [],
   "source": [
    "# get 'songs_100.csv'\n",
    "\n",
    "df= pd.read_csv('songs_100.csv')"
   ]
  },
  {
   "cell_type": "code",
   "execution_count": 3,
   "metadata": {},
   "outputs": [],
   "source": [
    "df['name']=df['name'].str.lower()"
   ]
  },
  {
   "cell_type": "code",
   "execution_count": 4,
   "metadata": {},
   "outputs": [],
   "source": [
    "df['artist']=df['artist'].str.lower()"
   ]
  },
  {
   "cell_type": "code",
   "execution_count": 5,
   "metadata": {},
   "outputs": [
    {
     "data": {
      "text/html": [
       "<div>\n",
       "<style scoped>\n",
       "    .dataframe tbody tr th:only-of-type {\n",
       "        vertical-align: middle;\n",
       "    }\n",
       "\n",
       "    .dataframe tbody tr th {\n",
       "        vertical-align: top;\n",
       "    }\n",
       "\n",
       "    .dataframe thead th {\n",
       "        text-align: right;\n",
       "    }\n",
       "</style>\n",
       "<table border=\"1\" class=\"dataframe\">\n",
       "  <thead>\n",
       "    <tr style=\"text-align: right;\">\n",
       "      <th></th>\n",
       "      <th>rank</th>\n",
       "      <th>name</th>\n",
       "      <th>artist</th>\n",
       "    </tr>\n",
       "  </thead>\n",
       "  <tbody>\n",
       "    <tr>\n",
       "      <th>0</th>\n",
       "      <td>1</td>\n",
       "      <td>first class</td>\n",
       "      <td>jack harlow</td>\n",
       "    </tr>\n",
       "    <tr>\n",
       "      <th>1</th>\n",
       "      <td>2</td>\n",
       "      <td>as it was</td>\n",
       "      <td>harry styles</td>\n",
       "    </tr>\n",
       "    <tr>\n",
       "      <th>2</th>\n",
       "      <td>3</td>\n",
       "      <td>n95</td>\n",
       "      <td>kendrick lamar</td>\n",
       "    </tr>\n",
       "    <tr>\n",
       "      <th>3</th>\n",
       "      <td>4</td>\n",
       "      <td>wait for u</td>\n",
       "      <td>future featuring drake &amp; tems</td>\n",
       "    </tr>\n",
       "    <tr>\n",
       "      <th>4</th>\n",
       "      <td>5</td>\n",
       "      <td>die hard</td>\n",
       "      <td>kendrick lamar, blxst &amp; amanda reifer</td>\n",
       "    </tr>\n",
       "    <tr>\n",
       "      <th>...</th>\n",
       "      <td>...</td>\n",
       "      <td>...</td>\n",
       "      <td>...</td>\n",
       "    </tr>\n",
       "    <tr>\n",
       "      <th>95</th>\n",
       "      <td>96</td>\n",
       "      <td>the motto</td>\n",
       "      <td>tiesto &amp; ava max</td>\n",
       "    </tr>\n",
       "    <tr>\n",
       "      <th>96</th>\n",
       "      <td>97</td>\n",
       "      <td>me fui de vacaciones</td>\n",
       "      <td>bad bunny</td>\n",
       "    </tr>\n",
       "    <tr>\n",
       "      <th>97</th>\n",
       "      <td>98</td>\n",
       "      <td>hold my hand</td>\n",
       "      <td>lady gaga</td>\n",
       "    </tr>\n",
       "    <tr>\n",
       "      <th>98</th>\n",
       "      <td>99</td>\n",
       "      <td>ensename a bailar</td>\n",
       "      <td>bad bunny</td>\n",
       "    </tr>\n",
       "    <tr>\n",
       "      <th>99</th>\n",
       "      <td>100</td>\n",
       "      <td>flowers</td>\n",
       "      <td>lauren spencer-smith</td>\n",
       "    </tr>\n",
       "  </tbody>\n",
       "</table>\n",
       "<p>100 rows × 3 columns</p>\n",
       "</div>"
      ],
      "text/plain": [
       "    rank                  name                                 artist\n",
       "0      1           first class                            jack harlow\n",
       "1      2             as it was                           harry styles\n",
       "2      3                   n95                         kendrick lamar\n",
       "3      4            wait for u          future featuring drake & tems\n",
       "4      5              die hard  kendrick lamar, blxst & amanda reifer\n",
       "..   ...                   ...                                    ...\n",
       "95    96             the motto                       tiesto & ava max\n",
       "96    97  me fui de vacaciones                              bad bunny\n",
       "97    98          hold my hand                              lady gaga\n",
       "98    99     ensename a bailar                              bad bunny\n",
       "99   100               flowers                   lauren spencer-smith\n",
       "\n",
       "[100 rows x 3 columns]"
      ]
     },
     "execution_count": 5,
     "metadata": {},
     "output_type": "execute_result"
    }
   ],
   "source": [
    "df"
   ]
  },
  {
   "cell_type": "code",
   "execution_count": 7,
   "metadata": {},
   "outputs": [],
   "source": [
    "#get the list of songs\n",
    "songs=[]\n",
    "singer=[]\n",
    "songs=df['name'].tolist()\n",
    "singer=df['artist'].tolist()"
   ]
  },
  {
   "cell_type": "code",
   "execution_count": 8,
   "metadata": {
    "scrolled": true
   },
   "outputs": [
    {
     "data": {
      "text/plain": [
       "100"
      ]
     },
     "execution_count": 8,
     "metadata": {},
     "output_type": "execute_result"
    }
   ],
   "source": [
    "len(songs)"
   ]
  },
  {
   "cell_type": "raw",
   "metadata": {},
   "source": []
  },
  {
   "cell_type": "markdown",
   "metadata": {},
   "source": [
    "### start over with the inputs\n"
   ]
  },
  {
   "cell_type": "code",
   "execution_count": 39,
   "metadata": {},
   "outputs": [
    {
     "name": "stdout",
     "output_type": "stream",
     "text": [
      "What is the name of your song? enseñame a bailar\n"
     ]
    }
   ],
   "source": [
    "#get a standarized input\n",
    "user_req=input('What is the name of your song? ').lstrip().rstrip().lower()\n",
    "#print(user_req)\n",
    "if len(user_req)<2:\n",
    "    print('Input to short, corto')"
   ]
  },
  {
   "cell_type": "code",
   "execution_count": 40,
   "metadata": {},
   "outputs": [
    {
     "name": "stdout",
     "output_type": "stream",
     "text": [
      "Sorry, we can't recomend you anyrhing.\n"
     ]
    }
   ],
   "source": [
    "#Simple check\n",
    "#check list and recomend random song\n",
    "\n",
    "if user_req in songs:\n",
    "    print('Your music is from the top 100!')\n",
    "    print('We recomend you this: ')\n",
    "    rnd=random.randint(0, 99)\n",
    "    print(songs[rnd])\n",
    "    print('from: ', singer[rnd])\n",
    "else:\n",
    "    print(\"Sorry, we can't recomend you anyrhing.\" )"
   ]
  },
  {
   "cell_type": "markdown",
   "metadata": {},
   "source": [
    "## testing use fuzzy"
   ]
  },
  {
   "cell_type": "code",
   "execution_count": 43,
   "metadata": {
    "scrolled": true
   },
   "outputs": [
    {
     "name": "stdout",
     "output_type": "stream",
     "text": [
      "Your input:  enseñame a bailar\n",
      "Highest ratio:  94\n",
      "Closest name:  ensename a bailar\n",
      "Did you mean... ensename a bailar? \n",
      "[Yes/No]rgkòwg\n",
      "Something went wrong\n"
     ]
    }
   ],
   "source": [
    "#selector using fuzz ratio\n",
    "\n",
    "fratio=0\n",
    "Mfratio=0\n",
    "\n",
    "\n",
    "for i in songs:\n",
    "    fratio=fuzz.ratio(user_req, i)\n",
    "    if fratio>Mfratio:\n",
    "        Mfratio=fratio\n",
    "        matchSng=i\n",
    "\n",
    "print('Your input: ', user_req)\n",
    "print('Highest ratio: ',Mfratio)\n",
    "print('Closest name: ',matchSng)\n",
    "\n",
    "if Mfratio>66:\n",
    "    print('Did you mean... '+matchSng+'? ')\n",
    "    user_ans=input('[Yes/No]').lstrip().rstrip().lower() \n",
    "    \n",
    "    if user_ans=='yes':\n",
    "        print('Your music is from the top 100!')\n",
    "        print('We recomend you this: ')\n",
    "        rnd=random.randint(0, 99)\n",
    "        print(songs[rnd])\n",
    "        print('from: ', singer[rnd])\n",
    "    elif user_ans=='no':\n",
    "        print('Maybe want to try search again?')\n",
    "    else:\n",
    "        print('Something went wrong')\n",
    "    \n",
    "    \n",
    "else:\n",
    "    print('We didnt find anything')\n"
   ]
  },
  {
   "cell_type": "code",
   "execution_count": null,
   "metadata": {},
   "outputs": [],
   "source": []
  }
 ],
 "metadata": {
  "kernelspec": {
   "display_name": "Python 3 (ipykernel)",
   "language": "python",
   "name": "python3"
  },
  "language_info": {
   "codemirror_mode": {
    "name": "ipython",
    "version": 3
   },
   "file_extension": ".py",
   "mimetype": "text/x-python",
   "name": "python",
   "nbconvert_exporter": "python",
   "pygments_lexer": "ipython3",
   "version": "3.9.12"
  }
 },
 "nbformat": 4,
 "nbformat_minor": 4
}
