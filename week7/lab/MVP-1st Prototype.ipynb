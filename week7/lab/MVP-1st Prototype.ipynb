{
 "cells": [
  {
   "cell_type": "code",
   "execution_count": null,
   "metadata": {},
   "outputs": [],
   "source": []
  },
  {
   "cell_type": "code",
   "execution_count": null,
   "metadata": {},
   "outputs": [],
   "source": [
    "import pandas as pd\n",
    "import requests\n",
    "from bs4 import BeautifulSoup\n",
    "from tqdm.notebook import tqdm\n",
    "import re\n",
    "import random\n",
    "from fuzzywuzzy import fuzz, process\n"
   ]
  },
  {
   "cell_type": "raw",
   "metadata": {},
   "source": [
    "#lets do input and standarize to lower\n",
    "name = input('what song do you like?')\n",
    "name= name.lower()\n",
    "print(name)"
   ]
  },
  {
   "cell_type": "code",
   "execution_count": null,
   "metadata": {},
   "outputs": [],
   "source": [
    "# get 'songs_100.csv'\n",
    "\n",
    "df= pd.read_csv('songs_100.csv')"
   ]
  },
  {
   "cell_type": "code",
   "execution_count": null,
   "metadata": {},
   "outputs": [],
   "source": [
    "df['name']=df['name'].str.lower()"
   ]
  },
  {
   "cell_type": "code",
   "execution_count": null,
   "metadata": {},
   "outputs": [],
   "source": [
    "df['artist']=df['artist'].str.lower()"
   ]
  },
  {
   "cell_type": "code",
   "execution_count": null,
   "metadata": {},
   "outputs": [],
   "source": [
    "df"
   ]
  },
  {
   "cell_type": "code",
   "execution_count": null,
   "metadata": {},
   "outputs": [],
   "source": [
    "#get the list of songs\n",
    "songs=[]\n",
    "singer=[]\n",
    "songs=df['name'].tolist()\n",
    "singer=df['artist'].tolist()"
   ]
  },
  {
   "cell_type": "code",
   "execution_count": null,
   "metadata": {
    "scrolled": true
   },
   "outputs": [],
   "source": [
    "len(songs)"
   ]
  },
  {
   "cell_type": "raw",
   "metadata": {},
   "source": []
  },
  {
   "cell_type": "markdown",
   "metadata": {},
   "source": [
    "### start over with the inputs\n"
   ]
  },
  {
   "cell_type": "code",
   "execution_count": null,
   "metadata": {},
   "outputs": [],
   "source": [
    "#get a standarized input\n",
    "user_req=input('What is the name of your song? ').lstrip().rstrip().lower()\n",
    "#print(user_req)\n",
    "if len(user_req)<2:\n",
    "    print('Input to short, corto')"
   ]
  },
  {
   "cell_type": "code",
   "execution_count": null,
   "metadata": {},
   "outputs": [],
   "source": [
    "#Simple check\n",
    "#check list and recomend random song\n",
    "\n",
    "if user_req in songs:\n",
    "    print('Your music is from the top 100!')\n",
    "    print('We recomend you this: ')\n",
    "    rnd=random.randint(0, 99)\n",
    "    print(songs[rnd])\n",
    "    print('from: ', singer[rnd])\n",
    "else:\n",
    "    print(\"Sorry, we can't recomend you anyrhing.\" )"
   ]
  },
  {
   "cell_type": "markdown",
   "metadata": {},
   "source": [
    "## testing use fuzzy"
   ]
  },
  {
   "cell_type": "code",
   "execution_count": null,
   "metadata": {
    "scrolled": true
   },
   "outputs": [],
   "source": [
    "#selector using fuzz ratio\n",
    "\n",
    "fratio=0\n",
    "Mfratio=0\n",
    "\n",
    "\n",
    "for i in songs:\n",
    "    fratio=fuzz.ratio(user_req, i)\n",
    "    if fratio>Mfratio:\n",
    "        Mfratio=fratio\n",
    "        matchSng=i\n",
    "\n",
    "print('Your input: ', user_req)\n",
    "print('Highest ratio: ',Mfratio)\n",
    "print('Closest name: ',matchSng)\n",
    "\n",
    "if Mfratio>66:\n",
    "    print('Did you mean... '+matchSng+'? ')\n",
    "    user_ans=input('[Yes/No]').lstrip().rstrip().lower() \n",
    "    \n",
    "    if user_ans=='yes':\n",
    "        print('Your music is from the top 100!')\n",
    "        print('We recomend you this: ')\n",
    "        rnd=random.randint(0, 99)\n",
    "        print(songs[rnd])\n",
    "        print('from: ', singer[rnd])\n",
    "    elif user_ans=='no':\n",
    "        print('Maybe want to try search again?')\n",
    "    else:\n",
    "        print('Something went wrong')\n",
    "    \n",
    "    \n",
    "else:\n",
    "    print('We didnt find anything')\n"
   ]
  },
  {
   "cell_type": "code",
   "execution_count": null,
   "metadata": {},
   "outputs": [],
   "source": []
  }
 ],
 "metadata": {
  "kernelspec": {
   "display_name": "Python 3 (ipykernel)",
   "language": "python",
   "name": "python3"
  },
  "language_info": {
   "codemirror_mode": {
    "name": "ipython",
    "version": 3
   },
   "file_extension": ".py",
   "mimetype": "text/x-python",
   "name": "python",
   "nbconvert_exporter": "python",
   "pygments_lexer": "ipython3",
   "version": "3.9.12"
  }
 },
 "nbformat": 4,
 "nbformat_minor": 4
}
