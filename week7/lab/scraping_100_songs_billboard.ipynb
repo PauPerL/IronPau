{
 "cells": [
  {
   "cell_type": "code",
   "execution_count": null,
   "metadata": {},
   "outputs": [],
   "source": [
    "#function that does all the scraping and saves it\n",
    "\n",
    "def scrape_billboard_100():\n",
    "    #get the tools - import libs\n",
    "    import pandas as pd\n",
    "    import requests\n",
    "    from bs4 import BeautifulSoup\n",
    "    from tqdm.notebook import tqdm\n",
    "    \n",
    "    #use the url to get the page and start scraping\n",
    "    url = \"https://www.billboard.com/charts/hot-100/\"\n",
    "    page = requests.get(url)\n",
    "    soup = BeautifulSoup(page.content, 'html.parser')\n",
    "    \n",
    "    \n",
    "    # start lists and get length of the list\n",
    "    bb_position= []\n",
    "    song_name= []\n",
    "    artist_name= []\n",
    "\n",
    "    len_songs=len(soup.select('h3.c-title.a-no-trucate'))\n",
    "    len_songs_check=len(soup.select('span.c-label.a-no-trucate'))\n",
    "    \n",
    "    #loop to get all the songs with artist\n",
    "    for i in tqdm(range(len_songs)):\n",
    "        bb_position.append(i+1) #esto es un poco trampa porque nos estamos inventando la posicion segun hacemos el for\n",
    "        song_name.append(soup.select('h3.c-title.a-no-trucate')[i].get_text(strip=True))\n",
    "        artist_name.append(soup.select('span.c-label.a-no-trucate')[i].get_text(strip=True))\n",
    "    \n",
    "    #create the dataframe\n",
    "    songs_100 = pd.DataFrame({'rank':bb_position,\n",
    "                           'name':song_name,\n",
    "                           'artist':artist_name})\n",
    "    \n",
    "    #save the dataframe\n",
    "    songs_100.to_csv('songs_100.csv', index=False)\n",
    "    \n",
    "    return songs_100\n"
   ]
  }
 ],
 "metadata": {
  "kernelspec": {
   "display_name": "Python 3 (ipykernel)",
   "language": "python",
   "name": "python3"
  },
  "language_info": {
   "codemirror_mode": {
    "name": "ipython",
    "version": 3
   },
   "file_extension": ".py",
   "mimetype": "text/x-python",
   "name": "python",
   "nbconvert_exporter": "python",
   "pygments_lexer": "ipython3",
   "version": "3.9.12"
  }
 },
 "nbformat": 4,
 "nbformat_minor": 4
}
