{
 "cells": [
  {
   "cell_type": "markdown",
   "id": "fbb4d9e4",
   "metadata": {},
   "source": [
    "# demo pandas profiling - optional tool "
   ]
  },
  {
   "cell_type": "raw",
   "metadata": {},
   "source": [
    "import pandas_profiling"
   ]
  },
  {
   "cell_type": "raw",
   "metadata": {},
   "source": [
    "cd Documents/"
   ]
  },
  {
   "cell_type": "raw",
   "metadata": {},
   "source": [
    "import pandas as pd "
   ]
  },
  {
   "cell_type": "raw",
   "metadata": {},
   "source": [
    "df=pd.read_csv('customer_churn.csv')"
   ]
  },
  {
   "cell_type": "raw",
   "metadata": {},
   "source": [
    "from pandas_profiling import ProfileReport\n",
    "prof = ProfileReport(df)\n",
    "prof.to_file(output_file='output.html')"
   ]
  },
  {
   "cell_type": "raw",
   "metadata": {
    "collapsed": true
   },
   "source": [
    "pd.show_versions()"
   ]
  },
  {
   "cell_type": "markdown",
   "id": "af7589cc",
   "metadata": {},
   "source": [
    "# Get Unit 4 data in as 'data'"
   ]
  },
  {
   "cell_type": "code",
   "execution_count": 1,
   "id": "fda5a151",
   "metadata": {},
   "outputs": [],
   "source": [
    "import pandas as pd \n",
    "import numpy as np \n",
    "import seaborn as sns \n",
    "import matplotlib.pyplot as plt \n",
    "import datetime as dt"
   ]
  },
  {
   "cell_type": "raw",
   "metadata": {},
   "source": [
    "cd .."
   ]
  },
  {
   "cell_type": "raw",
   "metadata": {},
   "source": [
    "cd CaseStudies/other_data/"
   ]
  },
  {
   "cell_type": "raw",
   "metadata": {},
   "source": [
    "ls"
   ]
  },
  {
   "cell_type": "code",
   "execution_count": 5,
   "id": "398a5fa6",
   "metadata": {},
   "outputs": [],
   "source": [
    "data=pd.read_csv('unit4.csv')"
   ]
  },
  {
   "cell_type": "code",
   "execution_count": 6,
   "id": "6e401f3c",
   "metadata": {},
   "outputs": [
    {
     "data": {
      "text/plain": [
       "Index(['STATE', 'PVASTATE', 'DOB', 'MDMAUD', 'RECP3', 'GENDER', 'DOMAIN',\n",
       "       'INCOME', 'HOMEOWNR', 'HV1', 'HV2', 'HV3', 'HV4', 'IC1', 'IC2', 'IC3',\n",
       "       'IC4', 'IC5', 'VETERANS', 'NUMPROM', 'CARDPROM', 'CARDPM12', 'NUMPRM12',\n",
       "       'MAXADATE', 'RFA_2', 'NGIFTALL', 'TIMELAG', 'AVGGIFT'],\n",
       "      dtype='object')"
      ]
     },
     "execution_count": 6,
     "metadata": {},
     "output_type": "execute_result"
    }
   ],
   "source": [
    "data.columns"
   ]
  },
  {
   "cell_type": "code",
   "execution_count": 7,
   "id": "a2fc7205",
   "metadata": {},
   "outputs": [
    {
     "name": "stdout",
     "output_type": "stream",
     "text": [
      "<class 'pandas.core.frame.DataFrame'>\n",
      "RangeIndex: 90569 entries, 0 to 90568\n",
      "Data columns (total 28 columns):\n",
      " #   Column    Non-Null Count  Dtype  \n",
      "---  ------    --------------  -----  \n",
      " 0   STATE     90569 non-null  object \n",
      " 1   PVASTATE  90569 non-null  object \n",
      " 2   DOB       90569 non-null  int64  \n",
      " 3   MDMAUD    90569 non-null  object \n",
      " 4   RECP3     90569 non-null  object \n",
      " 5   GENDER    90569 non-null  object \n",
      " 6   DOMAIN    90569 non-null  object \n",
      " 7   INCOME    70386 non-null  float64\n",
      " 8   HOMEOWNR  90569 non-null  object \n",
      " 9   HV1       90569 non-null  int64  \n",
      " 10  HV2       90569 non-null  int64  \n",
      " 11  HV3       90569 non-null  int64  \n",
      " 12  HV4       90569 non-null  int64  \n",
      " 13  IC1       90569 non-null  int64  \n",
      " 14  IC2       90569 non-null  int64  \n",
      " 15  IC3       90569 non-null  int64  \n",
      " 16  IC4       90569 non-null  int64  \n",
      " 17  IC5       90569 non-null  int64  \n",
      " 18  VETERANS  90569 non-null  object \n",
      " 19  NUMPROM   90569 non-null  int64  \n",
      " 20  CARDPROM  90569 non-null  int64  \n",
      " 21  CARDPM12  90569 non-null  int64  \n",
      " 22  NUMPRM12  90569 non-null  int64  \n",
      " 23  MAXADATE  90569 non-null  int64  \n",
      " 24  RFA_2     90569 non-null  object \n",
      " 25  NGIFTALL  90569 non-null  int64  \n",
      " 26  TIMELAG   80916 non-null  float64\n",
      " 27  AVGGIFT   90569 non-null  float64\n",
      "dtypes: float64(3), int64(16), object(9)\n",
      "memory usage: 19.3+ MB\n"
     ]
    }
   ],
   "source": [
    "data.info()"
   ]
  },
  {
   "cell_type": "markdown",
   "id": "0dd2efd4",
   "metadata": {},
   "source": [
    "## split the data into numericals and categoricals for EDA "
   ]
  },
  {
   "cell_type": "code",
   "execution_count": 30,
   "id": "4a5ef743",
   "metadata": {},
   "outputs": [],
   "source": [
    "d_num=data.select_dtypes(np.number)\n",
    "d_cat=data.select_dtypes(object)"
   ]
  },
  {
   "cell_type": "markdown",
   "id": "a534b4b9",
   "metadata": {},
   "source": [
    "### data quality check "
   ]
  },
  {
   "cell_type": "code",
   "execution_count": 34,
   "id": "132ec7cc",
   "metadata": {},
   "outputs": [
    {
     "name": "stdout",
     "output_type": "stream",
     "text": [
      "<class 'pandas.core.frame.DataFrame'>\n",
      "RangeIndex: 90569 entries, 0 to 90568\n",
      "Data columns (total 28 columns):\n",
      " #   Column    Non-Null Count  Dtype  \n",
      "---  ------    --------------  -----  \n",
      " 0   STATE     90569 non-null  object \n",
      " 1   PVASTATE  90569 non-null  object \n",
      " 2   DOB       90569 non-null  int64  \n",
      " 3   MDMAUD    90569 non-null  object \n",
      " 4   RECP3     90569 non-null  object \n",
      " 5   GENDER    90569 non-null  object \n",
      " 6   DOMAIN    90569 non-null  object \n",
      " 7   INCOME    70386 non-null  float64\n",
      " 8   HOMEOWNR  90569 non-null  object \n",
      " 9   HV1       90569 non-null  int64  \n",
      " 10  HV2       90569 non-null  int64  \n",
      " 11  HV3       90569 non-null  int64  \n",
      " 12  HV4       90569 non-null  int64  \n",
      " 13  IC1       90569 non-null  int64  \n",
      " 14  IC2       90569 non-null  int64  \n",
      " 15  IC3       90569 non-null  int64  \n",
      " 16  IC4       90569 non-null  int64  \n",
      " 17  IC5       90569 non-null  int64  \n",
      " 18  VETERANS  90569 non-null  object \n",
      " 19  NUMPROM   90569 non-null  int64  \n",
      " 20  CARDPROM  90569 non-null  int64  \n",
      " 21  CARDPM12  90569 non-null  int64  \n",
      " 22  NUMPRM12  90569 non-null  int64  \n",
      " 23  MAXADATE  90569 non-null  int64  \n",
      " 24  RFA_2     90569 non-null  object \n",
      " 25  NGIFTALL  90569 non-null  int64  \n",
      " 26  TIMELAG   80916 non-null  float64\n",
      " 27  AVGGIFT   90569 non-null  float64\n",
      "dtypes: float64(3), int64(16), object(9)\n",
      "memory usage: 19.3+ MB\n"
     ]
    }
   ],
   "source": [
    "data.info()"
   ]
  },
  {
   "cell_type": "code",
   "execution_count": 37,
   "id": "4f2f056a",
   "metadata": {},
   "outputs": [
    {
     "data": {
      "text/plain": [
       "1"
      ]
     },
     "execution_count": 37,
     "metadata": {},
     "output_type": "execute_result"
    }
   ],
   "source": [
    "# count duplicates \n",
    "data.duplicated().sum()"
   ]
  },
  {
   "cell_type": "code",
   "execution_count": 39,
   "id": "f111c239",
   "metadata": {},
   "outputs": [
    {
     "data": {
      "text/html": [
       "<div>\n",
       "<style scoped>\n",
       "    .dataframe tbody tr th:only-of-type {\n",
       "        vertical-align: middle;\n",
       "    }\n",
       "\n",
       "    .dataframe tbody tr th {\n",
       "        vertical-align: top;\n",
       "    }\n",
       "\n",
       "    .dataframe thead th {\n",
       "        text-align: right;\n",
       "    }\n",
       "</style>\n",
       "<table border=\"1\" class=\"dataframe\">\n",
       "  <thead>\n",
       "    <tr style=\"text-align: right;\">\n",
       "      <th></th>\n",
       "      <th>STATE</th>\n",
       "      <th>PVASTATE</th>\n",
       "      <th>DOB</th>\n",
       "      <th>MDMAUD</th>\n",
       "      <th>RECP3</th>\n",
       "      <th>GENDER</th>\n",
       "      <th>DOMAIN</th>\n",
       "      <th>INCOME</th>\n",
       "      <th>HOMEOWNR</th>\n",
       "      <th>HV1</th>\n",
       "      <th>...</th>\n",
       "      <th>VETERANS</th>\n",
       "      <th>NUMPROM</th>\n",
       "      <th>CARDPROM</th>\n",
       "      <th>CARDPM12</th>\n",
       "      <th>NUMPRM12</th>\n",
       "      <th>MAXADATE</th>\n",
       "      <th>RFA_2</th>\n",
       "      <th>NGIFTALL</th>\n",
       "      <th>TIMELAG</th>\n",
       "      <th>AVGGIFT</th>\n",
       "    </tr>\n",
       "  </thead>\n",
       "  <tbody>\n",
       "    <tr>\n",
       "      <th>36109</th>\n",
       "      <td>CA</td>\n",
       "      <td></td>\n",
       "      <td>4801</td>\n",
       "      <td>XXXX</td>\n",
       "      <td></td>\n",
       "      <td>F</td>\n",
       "      <td>U1</td>\n",
       "      <td>NaN</td>\n",
       "      <td></td>\n",
       "      <td>3365</td>\n",
       "      <td>...</td>\n",
       "      <td></td>\n",
       "      <td>13</td>\n",
       "      <td>5</td>\n",
       "      <td>3</td>\n",
       "      <td>8</td>\n",
       "      <td>9702</td>\n",
       "      <td>L1F</td>\n",
       "      <td>1</td>\n",
       "      <td>NaN</td>\n",
       "      <td>15.0</td>\n",
       "    </tr>\n",
       "    <tr>\n",
       "      <th>49464</th>\n",
       "      <td>CA</td>\n",
       "      <td></td>\n",
       "      <td>4801</td>\n",
       "      <td>XXXX</td>\n",
       "      <td></td>\n",
       "      <td>F</td>\n",
       "      <td>U1</td>\n",
       "      <td>NaN</td>\n",
       "      <td></td>\n",
       "      <td>3365</td>\n",
       "      <td>...</td>\n",
       "      <td></td>\n",
       "      <td>13</td>\n",
       "      <td>5</td>\n",
       "      <td>3</td>\n",
       "      <td>8</td>\n",
       "      <td>9702</td>\n",
       "      <td>L1F</td>\n",
       "      <td>1</td>\n",
       "      <td>NaN</td>\n",
       "      <td>15.0</td>\n",
       "    </tr>\n",
       "  </tbody>\n",
       "</table>\n",
       "<p>2 rows × 28 columns</p>\n",
       "</div>"
      ],
      "text/plain": [
       "      STATE PVASTATE   DOB MDMAUD RECP3 GENDER DOMAIN  INCOME HOMEOWNR   HV1  \\\n",
       "36109    CA           4801   XXXX            F     U1     NaN           3365   \n",
       "49464    CA           4801   XXXX            F     U1     NaN           3365   \n",
       "\n",
       "       ...  VETERANS  NUMPROM  CARDPROM  CARDPM12  NUMPRM12  MAXADATE  RFA_2  \\\n",
       "36109  ...                 13         5         3         8      9702    L1F   \n",
       "49464  ...                 13         5         3         8      9702    L1F   \n",
       "\n",
       "       NGIFTALL TIMELAG  AVGGIFT  \n",
       "36109         1     NaN     15.0  \n",
       "49464         1     NaN     15.0  \n",
       "\n",
       "[2 rows x 28 columns]"
      ]
     },
     "execution_count": 39,
     "metadata": {},
     "output_type": "execute_result"
    }
   ],
   "source": [
    "# see duplicates \n",
    "data[data.duplicated(keep=False)]"
   ]
  },
  {
   "cell_type": "code",
   "execution_count": 8,
   "id": "b0d05a18",
   "metadata": {},
   "outputs": [],
   "source": [
    "# drop duplicate row \n",
    "data=data.drop_duplicates()"
   ]
  },
  {
   "cell_type": "code",
   "execution_count": null,
   "id": "0fc9d9e7",
   "metadata": {},
   "outputs": [],
   "source": [
    "# drop nulls and any obvious columns to drop ? "
   ]
  },
  {
   "cell_type": "code",
   "execution_count": null,
   "id": "4ada6056",
   "metadata": {},
   "outputs": [],
   "source": []
  },
  {
   "cell_type": "markdown",
   "id": "3ee344a5",
   "metadata": {},
   "source": [
    "### after removing rows - reset index "
   ]
  },
  {
   "cell_type": "code",
   "execution_count": 43,
   "id": "002a5fe6",
   "metadata": {},
   "outputs": [],
   "source": [
    "data.reset_index(drop=True,inplace=True)"
   ]
  },
  {
   "cell_type": "markdown",
   "id": "1628bba9",
   "metadata": {},
   "source": [
    "### see all columns, EDA on numericals and categoricals "
   ]
  },
  {
   "cell_type": "code",
   "execution_count": 9,
   "id": "5c68fc76",
   "metadata": {},
   "outputs": [],
   "source": [
    "pd.set_option('display.max_columns',None)"
   ]
  },
  {
   "cell_type": "code",
   "execution_count": 47,
   "id": "bd916524",
   "metadata": {},
   "outputs": [
    {
     "data": {
      "text/html": [
       "<div>\n",
       "<style scoped>\n",
       "    .dataframe tbody tr th:only-of-type {\n",
       "        vertical-align: middle;\n",
       "    }\n",
       "\n",
       "    .dataframe tbody tr th {\n",
       "        vertical-align: top;\n",
       "    }\n",
       "\n",
       "    .dataframe thead th {\n",
       "        text-align: right;\n",
       "    }\n",
       "</style>\n",
       "<table border=\"1\" class=\"dataframe\">\n",
       "  <thead>\n",
       "    <tr style=\"text-align: right;\">\n",
       "      <th></th>\n",
       "      <th>STATE</th>\n",
       "      <th>PVASTATE</th>\n",
       "      <th>DOB</th>\n",
       "      <th>MDMAUD</th>\n",
       "      <th>RECP3</th>\n",
       "      <th>GENDER</th>\n",
       "      <th>DOMAIN</th>\n",
       "      <th>INCOME</th>\n",
       "      <th>HOMEOWNR</th>\n",
       "      <th>HV1</th>\n",
       "      <th>HV2</th>\n",
       "      <th>HV3</th>\n",
       "      <th>HV4</th>\n",
       "      <th>IC1</th>\n",
       "      <th>IC2</th>\n",
       "      <th>IC3</th>\n",
       "      <th>IC4</th>\n",
       "      <th>IC5</th>\n",
       "      <th>VETERANS</th>\n",
       "      <th>NUMPROM</th>\n",
       "      <th>CARDPROM</th>\n",
       "      <th>CARDPM12</th>\n",
       "      <th>NUMPRM12</th>\n",
       "      <th>MAXADATE</th>\n",
       "      <th>RFA_2</th>\n",
       "      <th>NGIFTALL</th>\n",
       "      <th>TIMELAG</th>\n",
       "      <th>AVGGIFT</th>\n",
       "    </tr>\n",
       "  </thead>\n",
       "  <tbody>\n",
       "    <tr>\n",
       "      <th>0</th>\n",
       "      <td>IL</td>\n",
       "      <td></td>\n",
       "      <td>3712</td>\n",
       "      <td>XXXX</td>\n",
       "      <td></td>\n",
       "      <td>F</td>\n",
       "      <td>T2</td>\n",
       "      <td>NaN</td>\n",
       "      <td></td>\n",
       "      <td>479</td>\n",
       "      <td>635</td>\n",
       "      <td>3</td>\n",
       "      <td>2</td>\n",
       "      <td>307</td>\n",
       "      <td>318</td>\n",
       "      <td>349</td>\n",
       "      <td>378</td>\n",
       "      <td>12883</td>\n",
       "      <td></td>\n",
       "      <td>74</td>\n",
       "      <td>27</td>\n",
       "      <td>6</td>\n",
       "      <td>14</td>\n",
       "      <td>9702</td>\n",
       "      <td>L4E</td>\n",
       "      <td>31</td>\n",
       "      <td>4.0</td>\n",
       "      <td>7.741935</td>\n",
       "    </tr>\n",
       "    <tr>\n",
       "      <th>1</th>\n",
       "      <td>CA</td>\n",
       "      <td></td>\n",
       "      <td>5202</td>\n",
       "      <td>XXXX</td>\n",
       "      <td></td>\n",
       "      <td>M</td>\n",
       "      <td>S1</td>\n",
       "      <td>6.0</td>\n",
       "      <td>H</td>\n",
       "      <td>5468</td>\n",
       "      <td>5218</td>\n",
       "      <td>12</td>\n",
       "      <td>10</td>\n",
       "      <td>1088</td>\n",
       "      <td>1096</td>\n",
       "      <td>1026</td>\n",
       "      <td>1037</td>\n",
       "      <td>36175</td>\n",
       "      <td></td>\n",
       "      <td>32</td>\n",
       "      <td>12</td>\n",
       "      <td>6</td>\n",
       "      <td>13</td>\n",
       "      <td>9702</td>\n",
       "      <td>L2G</td>\n",
       "      <td>3</td>\n",
       "      <td>18.0</td>\n",
       "      <td>15.666667</td>\n",
       "    </tr>\n",
       "    <tr>\n",
       "      <th>2</th>\n",
       "      <td>NC</td>\n",
       "      <td></td>\n",
       "      <td>0</td>\n",
       "      <td>XXXX</td>\n",
       "      <td></td>\n",
       "      <td>M</td>\n",
       "      <td>R2</td>\n",
       "      <td>3.0</td>\n",
       "      <td>U</td>\n",
       "      <td>497</td>\n",
       "      <td>546</td>\n",
       "      <td>2</td>\n",
       "      <td>1</td>\n",
       "      <td>251</td>\n",
       "      <td>292</td>\n",
       "      <td>292</td>\n",
       "      <td>340</td>\n",
       "      <td>11576</td>\n",
       "      <td></td>\n",
       "      <td>63</td>\n",
       "      <td>26</td>\n",
       "      <td>6</td>\n",
       "      <td>14</td>\n",
       "      <td>9702</td>\n",
       "      <td>L4E</td>\n",
       "      <td>27</td>\n",
       "      <td>12.0</td>\n",
       "      <td>7.481481</td>\n",
       "    </tr>\n",
       "    <tr>\n",
       "      <th>3</th>\n",
       "      <td>CA</td>\n",
       "      <td></td>\n",
       "      <td>2801</td>\n",
       "      <td>XXXX</td>\n",
       "      <td></td>\n",
       "      <td>F</td>\n",
       "      <td>R2</td>\n",
       "      <td>1.0</td>\n",
       "      <td>U</td>\n",
       "      <td>1000</td>\n",
       "      <td>1263</td>\n",
       "      <td>2</td>\n",
       "      <td>1</td>\n",
       "      <td>386</td>\n",
       "      <td>388</td>\n",
       "      <td>396</td>\n",
       "      <td>423</td>\n",
       "      <td>15130</td>\n",
       "      <td></td>\n",
       "      <td>66</td>\n",
       "      <td>27</td>\n",
       "      <td>6</td>\n",
       "      <td>14</td>\n",
       "      <td>9702</td>\n",
       "      <td>L4E</td>\n",
       "      <td>16</td>\n",
       "      <td>9.0</td>\n",
       "      <td>6.812500</td>\n",
       "    </tr>\n",
       "    <tr>\n",
       "      <th>4</th>\n",
       "      <td>FL</td>\n",
       "      <td></td>\n",
       "      <td>2001</td>\n",
       "      <td>XXXX</td>\n",
       "      <td>X</td>\n",
       "      <td>F</td>\n",
       "      <td>S2</td>\n",
       "      <td>3.0</td>\n",
       "      <td>H</td>\n",
       "      <td>576</td>\n",
       "      <td>594</td>\n",
       "      <td>4</td>\n",
       "      <td>3</td>\n",
       "      <td>240</td>\n",
       "      <td>250</td>\n",
       "      <td>293</td>\n",
       "      <td>321</td>\n",
       "      <td>9836</td>\n",
       "      <td></td>\n",
       "      <td>113</td>\n",
       "      <td>43</td>\n",
       "      <td>10</td>\n",
       "      <td>25</td>\n",
       "      <td>9702</td>\n",
       "      <td>L2F</td>\n",
       "      <td>37</td>\n",
       "      <td>14.0</td>\n",
       "      <td>6.864865</td>\n",
       "    </tr>\n",
       "  </tbody>\n",
       "</table>\n",
       "</div>"
      ],
      "text/plain": [
       "  STATE PVASTATE   DOB MDMAUD RECP3 GENDER DOMAIN  INCOME HOMEOWNR   HV1  \\\n",
       "0    IL           3712   XXXX            F     T2     NaN            479   \n",
       "1    CA           5202   XXXX            M     S1     6.0        H  5468   \n",
       "2    NC              0   XXXX            M     R2     3.0        U   497   \n",
       "3    CA           2801   XXXX            F     R2     1.0        U  1000   \n",
       "4    FL           2001   XXXX     X      F     S2     3.0        H   576   \n",
       "\n",
       "    HV2  HV3  HV4   IC1   IC2   IC3   IC4    IC5 VETERANS  NUMPROM  CARDPROM  \\\n",
       "0   635    3    2   307   318   349   378  12883                74        27   \n",
       "1  5218   12   10  1088  1096  1026  1037  36175                32        12   \n",
       "2   546    2    1   251   292   292   340  11576                63        26   \n",
       "3  1263    2    1   386   388   396   423  15130                66        27   \n",
       "4   594    4    3   240   250   293   321   9836               113        43   \n",
       "\n",
       "   CARDPM12  NUMPRM12  MAXADATE RFA_2  NGIFTALL  TIMELAG    AVGGIFT  \n",
       "0         6        14      9702   L4E        31      4.0   7.741935  \n",
       "1         6        13      9702   L2G         3     18.0  15.666667  \n",
       "2         6        14      9702   L4E        27     12.0   7.481481  \n",
       "3         6        14      9702   L4E        16      9.0   6.812500  \n",
       "4        10        25      9702   L2F        37     14.0   6.864865  "
      ]
     },
     "execution_count": 47,
     "metadata": {},
     "output_type": "execute_result"
    }
   ],
   "source": [
    "data.head()"
   ]
  },
  {
   "cell_type": "code",
   "execution_count": 10,
   "id": "7c8f35c4",
   "metadata": {},
   "outputs": [],
   "source": [
    "d_num=data.select_dtypes(np.number)\n",
    "d_cat=data.select_dtypes(object)"
   ]
  },
  {
   "cell_type": "markdown",
   "id": "1618ed4d",
   "metadata": {},
   "source": [
    "# Numeric columns handling "
   ]
  },
  {
   "cell_type": "code",
   "execution_count": 50,
   "id": "6a8ade78",
   "metadata": {
    "collapsed": true
   },
   "outputs": [
    {
     "name": "stdout",
     "output_type": "stream",
     "text": [
      "<class 'pandas.core.frame.DataFrame'>\n",
      "RangeIndex: 90568 entries, 0 to 90567\n",
      "Data columns (total 19 columns):\n",
      " #   Column    Non-Null Count  Dtype  \n",
      "---  ------    --------------  -----  \n",
      " 0   DOB       90568 non-null  int64  \n",
      " 1   INCOME    70386 non-null  float64\n",
      " 2   HV1       90568 non-null  int64  \n",
      " 3   HV2       90568 non-null  int64  \n",
      " 4   HV3       90568 non-null  int64  \n",
      " 5   HV4       90568 non-null  int64  \n",
      " 6   IC1       90568 non-null  int64  \n",
      " 7   IC2       90568 non-null  int64  \n",
      " 8   IC3       90568 non-null  int64  \n",
      " 9   IC4       90568 non-null  int64  \n",
      " 10  IC5       90568 non-null  int64  \n",
      " 11  NUMPROM   90568 non-null  int64  \n",
      " 12  CARDPROM  90568 non-null  int64  \n",
      " 13  CARDPM12  90568 non-null  int64  \n",
      " 14  NUMPRM12  90568 non-null  int64  \n",
      " 15  MAXADATE  90568 non-null  int64  \n",
      " 16  NGIFTALL  90568 non-null  int64  \n",
      " 17  TIMELAG   80916 non-null  float64\n",
      " 18  AVGGIFT   90568 non-null  float64\n",
      "dtypes: float64(3), int64(16)\n",
      "memory usage: 13.1 MB\n"
     ]
    }
   ],
   "source": [
    "d_num.info()"
   ]
  },
  {
   "cell_type": "markdown",
   "id": "ae10be53",
   "metadata": {},
   "source": [
    "## create a nulls df which summarises % of nulls per column "
   ]
  },
  {
   "cell_type": "code",
   "execution_count": 63,
   "id": "a9707bb2",
   "metadata": {},
   "outputs": [],
   "source": [
    "nulls=pd.DataFrame(d_num.isna().sum()/len(d_num)) # work on the numericals first \n",
    "# eg 3 rows nulls / 4 rows data "
   ]
  },
  {
   "cell_type": "code",
   "execution_count": 64,
   "id": "0461ae2e",
   "metadata": {},
   "outputs": [],
   "source": [
    "nulls.reset_index(inplace=True)"
   ]
  },
  {
   "cell_type": "code",
   "execution_count": 66,
   "id": "ce7b2109",
   "metadata": {},
   "outputs": [
    {
     "data": {
      "text/html": [
       "<div>\n",
       "<style scoped>\n",
       "    .dataframe tbody tr th:only-of-type {\n",
       "        vertical-align: middle;\n",
       "    }\n",
       "\n",
       "    .dataframe tbody tr th {\n",
       "        vertical-align: top;\n",
       "    }\n",
       "\n",
       "    .dataframe thead th {\n",
       "        text-align: right;\n",
       "    }\n",
       "</style>\n",
       "<table border=\"1\" class=\"dataframe\">\n",
       "  <thead>\n",
       "    <tr style=\"text-align: right;\">\n",
       "      <th></th>\n",
       "      <th>column_name</th>\n",
       "      <th>percentage_nulls</th>\n",
       "    </tr>\n",
       "  </thead>\n",
       "  <tbody>\n",
       "    <tr>\n",
       "      <th>1</th>\n",
       "      <td>INCOME</td>\n",
       "      <td>0.222838</td>\n",
       "    </tr>\n",
       "    <tr>\n",
       "      <th>17</th>\n",
       "      <td>TIMELAG</td>\n",
       "      <td>0.106572</td>\n",
       "    </tr>\n",
       "    <tr>\n",
       "      <th>0</th>\n",
       "      <td>DOB</td>\n",
       "      <td>0.000000</td>\n",
       "    </tr>\n",
       "    <tr>\n",
       "      <th>10</th>\n",
       "      <td>IC5</td>\n",
       "      <td>0.000000</td>\n",
       "    </tr>\n",
       "    <tr>\n",
       "      <th>16</th>\n",
       "      <td>NGIFTALL</td>\n",
       "      <td>0.000000</td>\n",
       "    </tr>\n",
       "    <tr>\n",
       "      <th>15</th>\n",
       "      <td>MAXADATE</td>\n",
       "      <td>0.000000</td>\n",
       "    </tr>\n",
       "    <tr>\n",
       "      <th>14</th>\n",
       "      <td>NUMPRM12</td>\n",
       "      <td>0.000000</td>\n",
       "    </tr>\n",
       "    <tr>\n",
       "      <th>13</th>\n",
       "      <td>CARDPM12</td>\n",
       "      <td>0.000000</td>\n",
       "    </tr>\n",
       "    <tr>\n",
       "      <th>12</th>\n",
       "      <td>CARDPROM</td>\n",
       "      <td>0.000000</td>\n",
       "    </tr>\n",
       "    <tr>\n",
       "      <th>11</th>\n",
       "      <td>NUMPROM</td>\n",
       "      <td>0.000000</td>\n",
       "    </tr>\n",
       "    <tr>\n",
       "      <th>9</th>\n",
       "      <td>IC4</td>\n",
       "      <td>0.000000</td>\n",
       "    </tr>\n",
       "    <tr>\n",
       "      <th>8</th>\n",
       "      <td>IC3</td>\n",
       "      <td>0.000000</td>\n",
       "    </tr>\n",
       "    <tr>\n",
       "      <th>7</th>\n",
       "      <td>IC2</td>\n",
       "      <td>0.000000</td>\n",
       "    </tr>\n",
       "    <tr>\n",
       "      <th>6</th>\n",
       "      <td>IC1</td>\n",
       "      <td>0.000000</td>\n",
       "    </tr>\n",
       "    <tr>\n",
       "      <th>5</th>\n",
       "      <td>HV4</td>\n",
       "      <td>0.000000</td>\n",
       "    </tr>\n",
       "    <tr>\n",
       "      <th>4</th>\n",
       "      <td>HV3</td>\n",
       "      <td>0.000000</td>\n",
       "    </tr>\n",
       "    <tr>\n",
       "      <th>3</th>\n",
       "      <td>HV2</td>\n",
       "      <td>0.000000</td>\n",
       "    </tr>\n",
       "    <tr>\n",
       "      <th>2</th>\n",
       "      <td>HV1</td>\n",
       "      <td>0.000000</td>\n",
       "    </tr>\n",
       "    <tr>\n",
       "      <th>18</th>\n",
       "      <td>AVGGIFT</td>\n",
       "      <td>0.000000</td>\n",
       "    </tr>\n",
       "  </tbody>\n",
       "</table>\n",
       "</div>"
      ],
      "text/plain": [
       "   column_name  percentage_nulls\n",
       "1       INCOME          0.222838\n",
       "17     TIMELAG          0.106572\n",
       "0          DOB          0.000000\n",
       "10         IC5          0.000000\n",
       "16    NGIFTALL          0.000000\n",
       "15    MAXADATE          0.000000\n",
       "14    NUMPRM12          0.000000\n",
       "13    CARDPM12          0.000000\n",
       "12    CARDPROM          0.000000\n",
       "11     NUMPROM          0.000000\n",
       "9          IC4          0.000000\n",
       "8          IC3          0.000000\n",
       "7          IC2          0.000000\n",
       "6          IC1          0.000000\n",
       "5          HV4          0.000000\n",
       "4          HV3          0.000000\n",
       "3          HV2          0.000000\n",
       "2          HV1          0.000000\n",
       "18     AVGGIFT          0.000000"
      ]
     },
     "execution_count": 66,
     "metadata": {},
     "output_type": "execute_result"
    }
   ],
   "source": [
    "nulls.columns=['column_name','percentage_nulls']\n",
    "nulls.sort_values(by='percentage_nulls',ascending=False)\n",
    "# this is your data quality snapshot "
   ]
  },
  {
   "cell_type": "markdown",
   "id": "d412113b",
   "metadata": {},
   "source": [
    "## fill in nulls \n",
    "- with a fixed value \n",
    "- with interpolation "
   ]
  },
  {
   "cell_type": "code",
   "execution_count": 68,
   "id": "0cc4aa44",
   "metadata": {},
   "outputs": [
    {
     "data": {
      "text/html": [
       "<div>\n",
       "<style scoped>\n",
       "    .dataframe tbody tr th:only-of-type {\n",
       "        vertical-align: middle;\n",
       "    }\n",
       "\n",
       "    .dataframe tbody tr th {\n",
       "        vertical-align: top;\n",
       "    }\n",
       "\n",
       "    .dataframe thead th {\n",
       "        text-align: right;\n",
       "    }\n",
       "</style>\n",
       "<table border=\"1\" class=\"dataframe\">\n",
       "  <thead>\n",
       "    <tr style=\"text-align: right;\">\n",
       "      <th></th>\n",
       "      <th>DOB</th>\n",
       "      <th>INCOME</th>\n",
       "      <th>HV1</th>\n",
       "      <th>HV2</th>\n",
       "      <th>HV3</th>\n",
       "      <th>HV4</th>\n",
       "      <th>IC1</th>\n",
       "      <th>IC2</th>\n",
       "      <th>IC3</th>\n",
       "      <th>IC4</th>\n",
       "      <th>IC5</th>\n",
       "      <th>NUMPROM</th>\n",
       "      <th>CARDPROM</th>\n",
       "      <th>CARDPM12</th>\n",
       "      <th>NUMPRM12</th>\n",
       "      <th>MAXADATE</th>\n",
       "      <th>NGIFTALL</th>\n",
       "      <th>TIMELAG</th>\n",
       "      <th>AVGGIFT</th>\n",
       "    </tr>\n",
       "  </thead>\n",
       "  <tbody>\n",
       "    <tr>\n",
       "      <th>count</th>\n",
       "      <td>90568.000000</td>\n",
       "      <td>70386.000000</td>\n",
       "      <td>90568.000000</td>\n",
       "      <td>90568.000000</td>\n",
       "      <td>90568.000000</td>\n",
       "      <td>90568.000000</td>\n",
       "      <td>90568.000000</td>\n",
       "      <td>90568.000000</td>\n",
       "      <td>90568.000000</td>\n",
       "      <td>90568.000000</td>\n",
       "      <td>90568.000000</td>\n",
       "      <td>90568.000000</td>\n",
       "      <td>90568.000000</td>\n",
       "      <td>90568.000000</td>\n",
       "      <td>90568.000000</td>\n",
       "      <td>90568.000000</td>\n",
       "      <td>90568.000000</td>\n",
       "      <td>80916.000000</td>\n",
       "      <td>90568.000000</td>\n",
       "    </tr>\n",
       "    <tr>\n",
       "      <th>mean</th>\n",
       "      <td>2724.419861</td>\n",
       "      <td>3.878257</td>\n",
       "      <td>1056.365814</td>\n",
       "      <td>1127.396586</td>\n",
       "      <td>4.213387</td>\n",
       "      <td>3.865383</td>\n",
       "      <td>339.368044</td>\n",
       "      <td>386.225897</td>\n",
       "      <td>386.688941</td>\n",
       "      <td>429.972684</td>\n",
       "      <td>15681.854474</td>\n",
       "      <td>46.797578</td>\n",
       "      <td>18.370848</td>\n",
       "      <td>5.343433</td>\n",
       "      <td>12.837404</td>\n",
       "      <td>9701.640602</td>\n",
       "      <td>9.501446</td>\n",
       "      <td>8.114378</td>\n",
       "      <td>13.428568</td>\n",
       "    </tr>\n",
       "    <tr>\n",
       "      <th>std</th>\n",
       "      <td>2136.454475</td>\n",
       "      <td>1.855265</td>\n",
       "      <td>936.357737</td>\n",
       "      <td>942.138836</td>\n",
       "      <td>2.302247</td>\n",
       "      <td>2.239625</td>\n",
       "      <td>162.383738</td>\n",
       "      <td>173.076543</td>\n",
       "      <td>160.938606</td>\n",
       "      <td>171.325839</td>\n",
       "      <td>8508.737296</td>\n",
       "      <td>22.944818</td>\n",
       "      <td>8.582028</td>\n",
       "      <td>1.207107</td>\n",
       "      <td>4.499929</td>\n",
       "      <td>5.679915</td>\n",
       "      <td>8.495065</td>\n",
       "      <td>8.310877</td>\n",
       "      <td>10.796408</td>\n",
       "    </tr>\n",
       "    <tr>\n",
       "      <th>min</th>\n",
       "      <td>0.000000</td>\n",
       "      <td>1.000000</td>\n",
       "      <td>0.000000</td>\n",
       "      <td>0.000000</td>\n",
       "      <td>0.000000</td>\n",
       "      <td>0.000000</td>\n",
       "      <td>0.000000</td>\n",
       "      <td>0.000000</td>\n",
       "      <td>0.000000</td>\n",
       "      <td>0.000000</td>\n",
       "      <td>0.000000</td>\n",
       "      <td>4.000000</td>\n",
       "      <td>1.000000</td>\n",
       "      <td>0.000000</td>\n",
       "      <td>1.000000</td>\n",
       "      <td>9611.000000</td>\n",
       "      <td>1.000000</td>\n",
       "      <td>0.000000</td>\n",
       "      <td>1.285714</td>\n",
       "    </tr>\n",
       "    <tr>\n",
       "      <th>25%</th>\n",
       "      <td>112.000000</td>\n",
       "      <td>2.000000</td>\n",
       "      <td>511.000000</td>\n",
       "      <td>553.000000</td>\n",
       "      <td>3.000000</td>\n",
       "      <td>2.000000</td>\n",
       "      <td>230.000000</td>\n",
       "      <td>273.000000</td>\n",
       "      <td>277.000000</td>\n",
       "      <td>314.000000</td>\n",
       "      <td>10770.000000</td>\n",
       "      <td>27.000000</td>\n",
       "      <td>11.000000</td>\n",
       "      <td>5.000000</td>\n",
       "      <td>11.000000</td>\n",
       "      <td>9702.000000</td>\n",
       "      <td>3.000000</td>\n",
       "      <td>4.000000</td>\n",
       "      <td>8.454545</td>\n",
       "    </tr>\n",
       "    <tr>\n",
       "      <th>50%</th>\n",
       "      <td>2610.000000</td>\n",
       "      <td>4.000000</td>\n",
       "      <td>735.000000</td>\n",
       "      <td>800.000000</td>\n",
       "      <td>4.000000</td>\n",
       "      <td>3.000000</td>\n",
       "      <td>309.000000</td>\n",
       "      <td>355.000000</td>\n",
       "      <td>353.000000</td>\n",
       "      <td>396.000000</td>\n",
       "      <td>13692.000000</td>\n",
       "      <td>46.000000</td>\n",
       "      <td>18.000000</td>\n",
       "      <td>6.000000</td>\n",
       "      <td>12.000000</td>\n",
       "      <td>9702.000000</td>\n",
       "      <td>7.000000</td>\n",
       "      <td>6.000000</td>\n",
       "      <td>11.666667</td>\n",
       "    </tr>\n",
       "    <tr>\n",
       "      <th>75%</th>\n",
       "      <td>4601.000000</td>\n",
       "      <td>5.000000</td>\n",
       "      <td>1206.000000</td>\n",
       "      <td>1320.000000</td>\n",
       "      <td>5.000000</td>\n",
       "      <td>5.000000</td>\n",
       "      <td>414.000000</td>\n",
       "      <td>464.000000</td>\n",
       "      <td>465.000000</td>\n",
       "      <td>513.000000</td>\n",
       "      <td>18128.000000</td>\n",
       "      <td>64.000000</td>\n",
       "      <td>25.000000</td>\n",
       "      <td>6.000000</td>\n",
       "      <td>13.000000</td>\n",
       "      <td>9702.000000</td>\n",
       "      <td>13.000000</td>\n",
       "      <td>11.000000</td>\n",
       "      <td>15.625000</td>\n",
       "    </tr>\n",
       "    <tr>\n",
       "      <th>max</th>\n",
       "      <td>9710.000000</td>\n",
       "      <td>7.000000</td>\n",
       "      <td>6000.000000</td>\n",
       "      <td>6000.000000</td>\n",
       "      <td>13.000000</td>\n",
       "      <td>13.000000</td>\n",
       "      <td>1500.000000</td>\n",
       "      <td>1500.000000</td>\n",
       "      <td>1500.000000</td>\n",
       "      <td>1500.000000</td>\n",
       "      <td>159306.000000</td>\n",
       "      <td>195.000000</td>\n",
       "      <td>61.000000</td>\n",
       "      <td>19.000000</td>\n",
       "      <td>78.000000</td>\n",
       "      <td>9702.000000</td>\n",
       "      <td>237.000000</td>\n",
       "      <td>1088.000000</td>\n",
       "      <td>1000.000000</td>\n",
       "    </tr>\n",
       "  </tbody>\n",
       "</table>\n",
       "</div>"
      ],
      "text/plain": [
       "                DOB        INCOME           HV1           HV2           HV3  \\\n",
       "count  90568.000000  70386.000000  90568.000000  90568.000000  90568.000000   \n",
       "mean    2724.419861      3.878257   1056.365814   1127.396586      4.213387   \n",
       "std     2136.454475      1.855265    936.357737    942.138836      2.302247   \n",
       "min        0.000000      1.000000      0.000000      0.000000      0.000000   \n",
       "25%      112.000000      2.000000    511.000000    553.000000      3.000000   \n",
       "50%     2610.000000      4.000000    735.000000    800.000000      4.000000   \n",
       "75%     4601.000000      5.000000   1206.000000   1320.000000      5.000000   \n",
       "max     9710.000000      7.000000   6000.000000   6000.000000     13.000000   \n",
       "\n",
       "                HV4           IC1           IC2           IC3           IC4  \\\n",
       "count  90568.000000  90568.000000  90568.000000  90568.000000  90568.000000   \n",
       "mean       3.865383    339.368044    386.225897    386.688941    429.972684   \n",
       "std        2.239625    162.383738    173.076543    160.938606    171.325839   \n",
       "min        0.000000      0.000000      0.000000      0.000000      0.000000   \n",
       "25%        2.000000    230.000000    273.000000    277.000000    314.000000   \n",
       "50%        3.000000    309.000000    355.000000    353.000000    396.000000   \n",
       "75%        5.000000    414.000000    464.000000    465.000000    513.000000   \n",
       "max       13.000000   1500.000000   1500.000000   1500.000000   1500.000000   \n",
       "\n",
       "                 IC5       NUMPROM      CARDPROM      CARDPM12      NUMPRM12  \\\n",
       "count   90568.000000  90568.000000  90568.000000  90568.000000  90568.000000   \n",
       "mean    15681.854474     46.797578     18.370848      5.343433     12.837404   \n",
       "std      8508.737296     22.944818      8.582028      1.207107      4.499929   \n",
       "min         0.000000      4.000000      1.000000      0.000000      1.000000   \n",
       "25%     10770.000000     27.000000     11.000000      5.000000     11.000000   \n",
       "50%     13692.000000     46.000000     18.000000      6.000000     12.000000   \n",
       "75%     18128.000000     64.000000     25.000000      6.000000     13.000000   \n",
       "max    159306.000000    195.000000     61.000000     19.000000     78.000000   \n",
       "\n",
       "           MAXADATE      NGIFTALL       TIMELAG       AVGGIFT  \n",
       "count  90568.000000  90568.000000  80916.000000  90568.000000  \n",
       "mean    9701.640602      9.501446      8.114378     13.428568  \n",
       "std        5.679915      8.495065      8.310877     10.796408  \n",
       "min     9611.000000      1.000000      0.000000      1.285714  \n",
       "25%     9702.000000      3.000000      4.000000      8.454545  \n",
       "50%     9702.000000      7.000000      6.000000     11.666667  \n",
       "75%     9702.000000     13.000000     11.000000     15.625000  \n",
       "max     9702.000000    237.000000   1088.000000   1000.000000  "
      ]
     },
     "execution_count": 68,
     "metadata": {},
     "output_type": "execute_result"
    }
   ],
   "source": [
    "d_num.describe()"
   ]
  },
  {
   "cell_type": "code",
   "execution_count": 74,
   "id": "3b2d3222",
   "metadata": {},
   "outputs": [
    {
     "data": {
      "text/plain": [
       "array([nan,  6.,  3.,  1.,  4.,  2.,  7.,  5.])"
      ]
     },
     "execution_count": 74,
     "metadata": {},
     "output_type": "execute_result"
    }
   ],
   "source": [
    "d_num['INCOME'].unique()"
   ]
  },
  {
   "cell_type": "code",
   "execution_count": 75,
   "id": "2b0592d5",
   "metadata": {},
   "outputs": [
    {
     "data": {
      "text/plain": [
       "5.0    14639\n",
       "2.0    12482\n",
       "4.0    12092\n",
       "1.0     8646\n",
       "3.0     8135\n",
       "6.0     7347\n",
       "7.0     7045\n",
       "Name: INCOME, dtype: int64"
      ]
     },
     "execution_count": 75,
     "metadata": {},
     "output_type": "execute_result"
    }
   ],
   "source": [
    "d_num['INCOME'].value_counts()"
   ]
  },
  {
   "cell_type": "code",
   "execution_count": 77,
   "id": "cd96e296",
   "metadata": {},
   "outputs": [
    {
     "data": {
      "text/plain": [
       "4.0"
      ]
     },
     "execution_count": 77,
     "metadata": {},
     "output_type": "execute_result"
    }
   ],
   "source": [
    "d_num['INCOME'].median()"
   ]
  },
  {
   "cell_type": "code",
   "execution_count": 78,
   "id": "d90c52ba",
   "metadata": {},
   "outputs": [
    {
     "data": {
      "text/plain": [
       "3.8782570397522234"
      ]
     },
     "execution_count": 78,
     "metadata": {},
     "output_type": "execute_result"
    }
   ],
   "source": [
    "d_num['INCOME'].mean()"
   ]
  },
  {
   "cell_type": "code",
   "execution_count": 79,
   "id": "ecd61342",
   "metadata": {},
   "outputs": [
    {
     "data": {
      "text/plain": [
       "<AxesSubplot:>"
      ]
     },
     "execution_count": 79,
     "metadata": {},
     "output_type": "execute_result"
    },
    {
     "data": {
      "image/png": "[encoded data removed]",
      "text/plain": [
       "<Figure size 432x288 with 1 Axes>"
      ]
     },
     "metadata": {
      "needs_background": "light"
     },
     "output_type": "display_data"
    }
   ],
   "source": [
    "d_num['INCOME'].hist()"
   ]
  },
  {
   "cell_type": "code",
   "execution_count": 80,
   "id": "2265456f",
   "metadata": {},
   "outputs": [
    {
     "data": {
      "text/html": [
       "<div>\n",
       "<style scoped>\n",
       "    .dataframe tbody tr th:only-of-type {\n",
       "        vertical-align: middle;\n",
       "    }\n",
       "\n",
       "    .dataframe tbody tr th {\n",
       "        vertical-align: top;\n",
       "    }\n",
       "\n",
       "    .dataframe thead th {\n",
       "        text-align: right;\n",
       "    }\n",
       "</style>\n",
       "<table border=\"1\" class=\"dataframe\">\n",
       "  <thead>\n",
       "    <tr style=\"text-align: right;\">\n",
       "      <th></th>\n",
       "      <th>DOB</th>\n",
       "      <th>INCOME</th>\n",
       "      <th>HV1</th>\n",
       "      <th>HV2</th>\n",
       "      <th>HV3</th>\n",
       "      <th>HV4</th>\n",
       "      <th>IC1</th>\n",
       "      <th>IC2</th>\n",
       "      <th>IC3</th>\n",
       "      <th>IC4</th>\n",
       "      <th>IC5</th>\n",
       "      <th>NUMPROM</th>\n",
       "      <th>CARDPROM</th>\n",
       "      <th>CARDPM12</th>\n",
       "      <th>NUMPRM12</th>\n",
       "      <th>MAXADATE</th>\n",
       "      <th>NGIFTALL</th>\n",
       "      <th>TIMELAG</th>\n",
       "      <th>AVGGIFT</th>\n",
       "    </tr>\n",
       "  </thead>\n",
       "  <tbody>\n",
       "    <tr>\n",
       "      <th>0</th>\n",
       "      <td>3712</td>\n",
       "      <td>NaN</td>\n",
       "      <td>479</td>\n",
       "      <td>635</td>\n",
       "      <td>3</td>\n",
       "      <td>2</td>\n",
       "      <td>307</td>\n",
       "      <td>318</td>\n",
       "      <td>349</td>\n",
       "      <td>378</td>\n",
       "      <td>12883</td>\n",
       "      <td>74</td>\n",
       "      <td>27</td>\n",
       "      <td>6</td>\n",
       "      <td>14</td>\n",
       "      <td>9702</td>\n",
       "      <td>31</td>\n",
       "      <td>4.0</td>\n",
       "      <td>7.741935</td>\n",
       "    </tr>\n",
       "    <tr>\n",
       "      <th>1</th>\n",
       "      <td>5202</td>\n",
       "      <td>6.0</td>\n",
       "      <td>5468</td>\n",
       "      <td>5218</td>\n",
       "      <td>12</td>\n",
       "      <td>10</td>\n",
       "      <td>1088</td>\n",
       "      <td>1096</td>\n",
       "      <td>1026</td>\n",
       "      <td>1037</td>\n",
       "      <td>36175</td>\n",
       "      <td>32</td>\n",
       "      <td>12</td>\n",
       "      <td>6</td>\n",
       "      <td>13</td>\n",
       "      <td>9702</td>\n",
       "      <td>3</td>\n",
       "      <td>18.0</td>\n",
       "      <td>15.666667</td>\n",
       "    </tr>\n",
       "    <tr>\n",
       "      <th>2</th>\n",
       "      <td>0</td>\n",
       "      <td>3.0</td>\n",
       "      <td>497</td>\n",
       "      <td>546</td>\n",
       "      <td>2</td>\n",
       "      <td>1</td>\n",
       "      <td>251</td>\n",
       "      <td>292</td>\n",
       "      <td>292</td>\n",
       "      <td>340</td>\n",
       "      <td>11576</td>\n",
       "      <td>63</td>\n",
       "      <td>26</td>\n",
       "      <td>6</td>\n",
       "      <td>14</td>\n",
       "      <td>9702</td>\n",
       "      <td>27</td>\n",
       "      <td>12.0</td>\n",
       "      <td>7.481481</td>\n",
       "    </tr>\n",
       "    <tr>\n",
       "      <th>3</th>\n",
       "      <td>2801</td>\n",
       "      <td>1.0</td>\n",
       "      <td>1000</td>\n",
       "      <td>1263</td>\n",
       "      <td>2</td>\n",
       "      <td>1</td>\n",
       "      <td>386</td>\n",
       "      <td>388</td>\n",
       "      <td>396</td>\n",
       "      <td>423</td>\n",
       "      <td>15130</td>\n",
       "      <td>66</td>\n",
       "      <td>27</td>\n",
       "      <td>6</td>\n",
       "      <td>14</td>\n",
       "      <td>9702</td>\n",
       "      <td>16</td>\n",
       "      <td>9.0</td>\n",
       "      <td>6.812500</td>\n",
       "    </tr>\n",
       "    <tr>\n",
       "      <th>4</th>\n",
       "      <td>2001</td>\n",
       "      <td>3.0</td>\n",
       "      <td>576</td>\n",
       "      <td>594</td>\n",
       "      <td>4</td>\n",
       "      <td>3</td>\n",
       "      <td>240</td>\n",
       "      <td>250</td>\n",
       "      <td>293</td>\n",
       "      <td>321</td>\n",
       "      <td>9836</td>\n",
       "      <td>113</td>\n",
       "      <td>43</td>\n",
       "      <td>10</td>\n",
       "      <td>25</td>\n",
       "      <td>9702</td>\n",
       "      <td>37</td>\n",
       "      <td>14.0</td>\n",
       "      <td>6.864865</td>\n",
       "    </tr>\n",
       "    <tr>\n",
       "      <th>5</th>\n",
       "      <td>0</td>\n",
       "      <td>NaN</td>\n",
       "      <td>807</td>\n",
       "      <td>899</td>\n",
       "      <td>3</td>\n",
       "      <td>3</td>\n",
       "      <td>364</td>\n",
       "      <td>410</td>\n",
       "      <td>406</td>\n",
       "      <td>454</td>\n",
       "      <td>15619</td>\n",
       "      <td>35</td>\n",
       "      <td>15</td>\n",
       "      <td>6</td>\n",
       "      <td>12</td>\n",
       "      <td>9702</td>\n",
       "      <td>4</td>\n",
       "      <td>6.0</td>\n",
       "      <td>12.750000</td>\n",
       "    </tr>\n",
       "    <tr>\n",
       "      <th>6</th>\n",
       "      <td>6001</td>\n",
       "      <td>4.0</td>\n",
       "      <td>484</td>\n",
       "      <td>519</td>\n",
       "      <td>3</td>\n",
       "      <td>3</td>\n",
       "      <td>251</td>\n",
       "      <td>284</td>\n",
       "      <td>278</td>\n",
       "      <td>311</td>\n",
       "      <td>10717</td>\n",
       "      <td>63</td>\n",
       "      <td>26</td>\n",
       "      <td>4</td>\n",
       "      <td>9</td>\n",
       "      <td>9702</td>\n",
       "      <td>14</td>\n",
       "      <td>4.0</td>\n",
       "      <td>7.642857</td>\n",
       "    </tr>\n",
       "    <tr>\n",
       "      <th>7</th>\n",
       "      <td>0</td>\n",
       "      <td>2.0</td>\n",
       "      <td>702</td>\n",
       "      <td>787</td>\n",
       "      <td>3</td>\n",
       "      <td>3</td>\n",
       "      <td>367</td>\n",
       "      <td>457</td>\n",
       "      <td>431</td>\n",
       "      <td>466</td>\n",
       "      <td>14248</td>\n",
       "      <td>35</td>\n",
       "      <td>14</td>\n",
       "      <td>6</td>\n",
       "      <td>12</td>\n",
       "      <td>9702</td>\n",
       "      <td>5</td>\n",
       "      <td>6.0</td>\n",
       "      <td>6.200000</td>\n",
       "    </tr>\n",
       "    <tr>\n",
       "      <th>8</th>\n",
       "      <td>0</td>\n",
       "      <td>3.0</td>\n",
       "      <td>234</td>\n",
       "      <td>288</td>\n",
       "      <td>2</td>\n",
       "      <td>1</td>\n",
       "      <td>226</td>\n",
       "      <td>266</td>\n",
       "      <td>280</td>\n",
       "      <td>323</td>\n",
       "      <td>11127</td>\n",
       "      <td>70</td>\n",
       "      <td>29</td>\n",
       "      <td>6</td>\n",
       "      <td>12</td>\n",
       "      <td>9702</td>\n",
       "      <td>11</td>\n",
       "      <td>8.0</td>\n",
       "      <td>18.090909</td>\n",
       "    </tr>\n",
       "    <tr>\n",
       "      <th>9</th>\n",
       "      <td>3211</td>\n",
       "      <td>NaN</td>\n",
       "      <td>565</td>\n",
       "      <td>581</td>\n",
       "      <td>3</td>\n",
       "      <td>3</td>\n",
       "      <td>291</td>\n",
       "      <td>329</td>\n",
       "      <td>311</td>\n",
       "      <td>332</td>\n",
       "      <td>10517</td>\n",
       "      <td>28</td>\n",
       "      <td>11</td>\n",
       "      <td>4</td>\n",
       "      <td>9</td>\n",
       "      <td>9702</td>\n",
       "      <td>3</td>\n",
       "      <td>7.0</td>\n",
       "      <td>9.333333</td>\n",
       "    </tr>\n",
       "  </tbody>\n",
       "</table>\n",
       "</div>"
      ],
      "text/plain": [
       "    DOB  INCOME   HV1   HV2  HV3  HV4   IC1   IC2   IC3   IC4    IC5  NUMPROM  \\\n",
       "0  3712     NaN   479   635    3    2   307   318   349   378  12883       74   \n",
       "1  5202     6.0  5468  5218   12   10  1088  1096  1026  1037  36175       32   \n",
       "2     0     3.0   497   546    2    1   251   292   292   340  11576       63   \n",
       "3  2801     1.0  1000  1263    2    1   386   388   396   423  15130       66   \n",
       "4  2001     3.0   576   594    4    3   240   250   293   321   9836      113   \n",
       "5     0     NaN   807   899    3    3   364   410   406   454  15619       35   \n",
       "6  6001     4.0   484   519    3    3   251   284   278   311  10717       63   \n",
       "7     0     2.0   702   787    3    3   367   457   431   466  14248       35   \n",
       "8     0     3.0   234   288    2    1   226   266   280   323  11127       70   \n",
       "9  3211     NaN   565   581    3    3   291   329   311   332  10517       28   \n",
       "\n",
       "   CARDPROM  CARDPM12  NUMPRM12  MAXADATE  NGIFTALL  TIMELAG    AVGGIFT  \n",
       "0        27         6        14      9702        31      4.0   7.741935  \n",
       "1        12         6        13      9702         3     18.0  15.666667  \n",
       "2        26         6        14      9702        27     12.0   7.481481  \n",
       "3        27         6        14      9702        16      9.0   6.812500  \n",
       "4        43        10        25      9702        37     14.0   6.864865  \n",
       "5        15         6        12      9702         4      6.0  12.750000  \n",
       "6        26         4         9      9702        14      4.0   7.642857  \n",
       "7        14         6        12      9702         5      6.0   6.200000  \n",
       "8        29         6        12      9702        11      8.0  18.090909  \n",
       "9        11         4         9      9702         3      7.0   9.333333  "
      ]
     },
     "execution_count": 80,
     "metadata": {},
     "output_type": "execute_result"
    }
   ],
   "source": [
    "d_num.head(10)"
   ]
  },
  {
   "cell_type": "code",
   "execution_count": 86,
   "id": "9872da9d",
   "metadata": {},
   "outputs": [],
   "source": [
    "zeros_d=d_num['INCOME'].fillna(0)"
   ]
  },
  {
   "cell_type": "code",
   "execution_count": 87,
   "id": "18296b2d",
   "metadata": {},
   "outputs": [
    {
     "data": {
      "text/plain": [
       "0    0.0\n",
       "1    6.0\n",
       "2    3.0\n",
       "3    1.0\n",
       "4    3.0\n",
       "5    0.0\n",
       "6    4.0\n",
       "7    2.0\n",
       "8    3.0\n",
       "9    0.0\n",
       "Name: INCOME, dtype: float64"
      ]
     },
     "execution_count": 87,
     "metadata": {},
     "output_type": "execute_result"
    }
   ],
   "source": [
    "zeros_d.head(10)"
   ]
  },
  {
   "cell_type": "code",
   "execution_count": 88,
   "id": "d2dc4628",
   "metadata": {},
   "outputs": [
    {
     "data": {
      "text/plain": [
       "<AxesSubplot:>"
      ]
     },
     "execution_count": 88,
     "metadata": {},
     "output_type": "execute_result"
    },
    {
     "data": {
      "image/png": "[encoded data removed]",
      "text/plain": [
       "<Figure size 432x288 with 1 Axes>"
      ]
     },
     "metadata": {
      "needs_background": "light"
     },
     "output_type": "display_data"
    }
   ],
   "source": [
    "zeros_d.hist()"
   ]
  },
  {
   "cell_type": "markdown",
   "id": "8bdfef54",
   "metadata": {},
   "source": [
    "### after picking your method - apply to your dataframe "
   ]
  },
  {
   "cell_type": "code",
   "execution_count": 94,
   "id": "99fef37f",
   "metadata": {},
   "outputs": [],
   "source": [
    "d_num['INCOME']=d_num['INCOME'].fillna(0)"
   ]
  },
  {
   "cell_type": "code",
   "execution_count": 26,
   "id": "774d7564",
   "metadata": {},
   "outputs": [],
   "source": [
    "import warnings\n",
    "warnings.filterwarnings('ignore')"
   ]
  },
  {
   "cell_type": "code",
   "execution_count": 95,
   "id": "297518ad",
   "metadata": {},
   "outputs": [
    {
     "data": {
      "text/plain": [
       "<AxesSubplot:>"
      ]
     },
     "execution_count": 95,
     "metadata": {},
     "output_type": "execute_result"
    },
    {
     "data": {
      "image/png": "[encoded data removed]",
      "text/plain": [
       "<Figure size 432x288 with 1 Axes>"
      ]
     },
     "metadata": {
      "needs_background": "light"
     },
     "output_type": "display_data"
    }
   ],
   "source": [
    "d_num['TIMELAG'].hist()"
   ]
  },
  {
   "cell_type": "code",
   "execution_count": 102,
   "id": "3c3f022e",
   "metadata": {},
   "outputs": [
    {
     "data": {
      "text/plain": [
       "array([4.000e+00, 1.800e+01, 1.200e+01, 9.000e+00, 1.400e+01, 6.000e+00,\n",
       "       8.000e+00, 7.000e+00,       nan, 3.000e+00, 5.000e+00, 1.000e+00,\n",
       "       2.300e+01, 1.700e+01, 2.000e+00, 1.600e+01, 1.500e+01, 1.100e+01,\n",
       "       1.000e+01, 2.000e+01, 0.000e+00, 2.100e+01, 1.300e+01, 1.900e+01,\n",
       "       2.500e+01, 2.600e+01, 2.800e+01, 3.100e+01, 2.200e+01, 3.500e+01,\n",
       "       2.700e+01, 3.400e+01, 4.200e+01, 2.900e+01, 3.000e+01, 4.900e+01,\n",
       "       2.400e+01, 6.200e+01, 3.700e+01, 3.600e+01, 4.400e+01, 4.600e+01,\n",
       "       3.900e+01, 4.500e+01, 3.800e+01, 3.300e+01, 4.800e+01, 4.700e+01,\n",
       "       4.300e+01, 4.000e+01, 9.000e+01, 5.600e+01, 3.200e+01, 5.700e+01,\n",
       "       5.800e+01, 5.900e+01, 4.100e+01, 5.000e+01, 5.100e+01, 5.500e+01,\n",
       "       6.100e+01, 5.400e+01, 8.900e+01, 1.044e+03, 5.300e+01, 4.420e+02,\n",
       "       5.200e+01, 1.088e+03])"
      ]
     },
     "execution_count": 102,
     "metadata": {},
     "output_type": "execute_result"
    }
   ],
   "source": [
    "d_num['TIMELAG'].unique()"
   ]
  },
  {
   "cell_type": "code",
   "execution_count": 99,
   "id": "8ebf8f73",
   "metadata": {},
   "outputs": [
    {
     "data": {
      "text/html": [
       "<div>\n",
       "<style scoped>\n",
       "    .dataframe tbody tr th:only-of-type {\n",
       "        vertical-align: middle;\n",
       "    }\n",
       "\n",
       "    .dataframe tbody tr th {\n",
       "        vertical-align: top;\n",
       "    }\n",
       "\n",
       "    .dataframe thead th {\n",
       "        text-align: right;\n",
       "    }\n",
       "</style>\n",
       "<table border=\"1\" class=\"dataframe\">\n",
       "  <thead>\n",
       "    <tr style=\"text-align: right;\">\n",
       "      <th></th>\n",
       "      <th>DOB</th>\n",
       "      <th>INCOME</th>\n",
       "      <th>HV1</th>\n",
       "      <th>HV2</th>\n",
       "      <th>HV3</th>\n",
       "      <th>HV4</th>\n",
       "      <th>IC1</th>\n",
       "      <th>IC2</th>\n",
       "      <th>IC3</th>\n",
       "      <th>IC4</th>\n",
       "      <th>IC5</th>\n",
       "      <th>NUMPROM</th>\n",
       "      <th>CARDPROM</th>\n",
       "      <th>CARDPM12</th>\n",
       "      <th>NUMPRM12</th>\n",
       "      <th>MAXADATE</th>\n",
       "      <th>NGIFTALL</th>\n",
       "      <th>TIMELAG</th>\n",
       "      <th>AVGGIFT</th>\n",
       "    </tr>\n",
       "  </thead>\n",
       "  <tbody>\n",
       "    <tr>\n",
       "      <th>count</th>\n",
       "      <td>90568.000000</td>\n",
       "      <td>90568.000000</td>\n",
       "      <td>90568.000000</td>\n",
       "      <td>90568.000000</td>\n",
       "      <td>90568.000000</td>\n",
       "      <td>90568.000000</td>\n",
       "      <td>90568.000000</td>\n",
       "      <td>90568.000000</td>\n",
       "      <td>90568.000000</td>\n",
       "      <td>90568.000000</td>\n",
       "      <td>90568.000000</td>\n",
       "      <td>90568.000000</td>\n",
       "      <td>90568.000000</td>\n",
       "      <td>90568.000000</td>\n",
       "      <td>90568.000000</td>\n",
       "      <td>90568.000000</td>\n",
       "      <td>90568.000000</td>\n",
       "      <td>80916.000000</td>\n",
       "      <td>90568.000000</td>\n",
       "    </tr>\n",
       "    <tr>\n",
       "      <th>mean</th>\n",
       "      <td>2724.419861</td>\n",
       "      <td>3.014034</td>\n",
       "      <td>1056.365814</td>\n",
       "      <td>1127.396586</td>\n",
       "      <td>4.213387</td>\n",
       "      <td>3.865383</td>\n",
       "      <td>339.368044</td>\n",
       "      <td>386.225897</td>\n",
       "      <td>386.688941</td>\n",
       "      <td>429.972684</td>\n",
       "      <td>15681.854474</td>\n",
       "      <td>46.797578</td>\n",
       "      <td>18.370848</td>\n",
       "      <td>5.343433</td>\n",
       "      <td>12.837404</td>\n",
       "      <td>9701.640602</td>\n",
       "      <td>9.501446</td>\n",
       "      <td>8.114378</td>\n",
       "      <td>13.428568</td>\n",
       "    </tr>\n",
       "    <tr>\n",
       "      <th>std</th>\n",
       "      <td>2136.454475</td>\n",
       "      <td>2.297785</td>\n",
       "      <td>936.357737</td>\n",
       "      <td>942.138836</td>\n",
       "      <td>2.302247</td>\n",
       "      <td>2.239625</td>\n",
       "      <td>162.383738</td>\n",
       "      <td>173.076543</td>\n",
       "      <td>160.938606</td>\n",
       "      <td>171.325839</td>\n",
       "      <td>8508.737296</td>\n",
       "      <td>22.944818</td>\n",
       "      <td>8.582028</td>\n",
       "      <td>1.207107</td>\n",
       "      <td>4.499929</td>\n",
       "      <td>5.679915</td>\n",
       "      <td>8.495065</td>\n",
       "      <td>8.310877</td>\n",
       "      <td>10.796408</td>\n",
       "    </tr>\n",
       "    <tr>\n",
       "      <th>min</th>\n",
       "      <td>0.000000</td>\n",
       "      <td>0.000000</td>\n",
       "      <td>0.000000</td>\n",
       "      <td>0.000000</td>\n",
       "      <td>0.000000</td>\n",
       "      <td>0.000000</td>\n",
       "      <td>0.000000</td>\n",
       "      <td>0.000000</td>\n",
       "      <td>0.000000</td>\n",
       "      <td>0.000000</td>\n",
       "      <td>0.000000</td>\n",
       "      <td>4.000000</td>\n",
       "      <td>1.000000</td>\n",
       "      <td>0.000000</td>\n",
       "      <td>1.000000</td>\n",
       "      <td>9611.000000</td>\n",
       "      <td>1.000000</td>\n",
       "      <td>0.000000</td>\n",
       "      <td>1.285714</td>\n",
       "    </tr>\n",
       "    <tr>\n",
       "      <th>25%</th>\n",
       "      <td>112.000000</td>\n",
       "      <td>1.000000</td>\n",
       "      <td>511.000000</td>\n",
       "      <td>553.000000</td>\n",
       "      <td>3.000000</td>\n",
       "      <td>2.000000</td>\n",
       "      <td>230.000000</td>\n",
       "      <td>273.000000</td>\n",
       "      <td>277.000000</td>\n",
       "      <td>314.000000</td>\n",
       "      <td>10770.000000</td>\n",
       "      <td>27.000000</td>\n",
       "      <td>11.000000</td>\n",
       "      <td>5.000000</td>\n",
       "      <td>11.000000</td>\n",
       "      <td>9702.000000</td>\n",
       "      <td>3.000000</td>\n",
       "      <td>4.000000</td>\n",
       "      <td>8.454545</td>\n",
       "    </tr>\n",
       "    <tr>\n",
       "      <th>50%</th>\n",
       "      <td>2610.000000</td>\n",
       "      <td>3.000000</td>\n",
       "      <td>735.000000</td>\n",
       "      <td>800.000000</td>\n",
       "      <td>4.000000</td>\n",
       "      <td>3.000000</td>\n",
       "      <td>309.000000</td>\n",
       "      <td>355.000000</td>\n",
       "      <td>353.000000</td>\n",
       "      <td>396.000000</td>\n",
       "      <td>13692.000000</td>\n",
       "      <td>46.000000</td>\n",
       "      <td>18.000000</td>\n",
       "      <td>6.000000</td>\n",
       "      <td>12.000000</td>\n",
       "      <td>9702.000000</td>\n",
       "      <td>7.000000</td>\n",
       "      <td>6.000000</td>\n",
       "      <td>11.666667</td>\n",
       "    </tr>\n",
       "    <tr>\n",
       "      <th>75%</th>\n",
       "      <td>4601.000000</td>\n",
       "      <td>5.000000</td>\n",
       "      <td>1206.000000</td>\n",
       "      <td>1320.000000</td>\n",
       "      <td>5.000000</td>\n",
       "      <td>5.000000</td>\n",
       "      <td>414.000000</td>\n",
       "      <td>464.000000</td>\n",
       "      <td>465.000000</td>\n",
       "      <td>513.000000</td>\n",
       "      <td>18128.000000</td>\n",
       "      <td>64.000000</td>\n",
       "      <td>25.000000</td>\n",
       "      <td>6.000000</td>\n",
       "      <td>13.000000</td>\n",
       "      <td>9702.000000</td>\n",
       "      <td>13.000000</td>\n",
       "      <td>11.000000</td>\n",
       "      <td>15.625000</td>\n",
       "    </tr>\n",
       "    <tr>\n",
       "      <th>max</th>\n",
       "      <td>9710.000000</td>\n",
       "      <td>7.000000</td>\n",
       "      <td>6000.000000</td>\n",
       "      <td>6000.000000</td>\n",
       "      <td>13.000000</td>\n",
       "      <td>13.000000</td>\n",
       "      <td>1500.000000</td>\n",
       "      <td>1500.000000</td>\n",
       "      <td>1500.000000</td>\n",
       "      <td>1500.000000</td>\n",
       "      <td>159306.000000</td>\n",
       "      <td>195.000000</td>\n",
       "      <td>61.000000</td>\n",
       "      <td>19.000000</td>\n",
       "      <td>78.000000</td>\n",
       "      <td>9702.000000</td>\n",
       "      <td>237.000000</td>\n",
       "      <td>1088.000000</td>\n",
       "      <td>1000.000000</td>\n",
       "    </tr>\n",
       "  </tbody>\n",
       "</table>\n",
       "</div>"
      ],
      "text/plain": [
       "                DOB        INCOME           HV1           HV2           HV3  \\\n",
       "count  90568.000000  90568.000000  90568.000000  90568.000000  90568.000000   \n",
       "mean    2724.419861      3.014034   1056.365814   1127.396586      4.213387   \n",
       "std     2136.454475      2.297785    936.357737    942.138836      2.302247   \n",
       "min        0.000000      0.000000      0.000000      0.000000      0.000000   \n",
       "25%      112.000000      1.000000    511.000000    553.000000      3.000000   \n",
       "50%     2610.000000      3.000000    735.000000    800.000000      4.000000   \n",
       "75%     4601.000000      5.000000   1206.000000   1320.000000      5.000000   \n",
       "max     9710.000000      7.000000   6000.000000   6000.000000     13.000000   \n",
       "\n",
       "                HV4           IC1           IC2           IC3           IC4  \\\n",
       "count  90568.000000  90568.000000  90568.000000  90568.000000  90568.000000   \n",
       "mean       3.865383    339.368044    386.225897    386.688941    429.972684   \n",
       "std        2.239625    162.383738    173.076543    160.938606    171.325839   \n",
       "min        0.000000      0.000000      0.000000      0.000000      0.000000   \n",
       "25%        2.000000    230.000000    273.000000    277.000000    314.000000   \n",
       "50%        3.000000    309.000000    355.000000    353.000000    396.000000   \n",
       "75%        5.000000    414.000000    464.000000    465.000000    513.000000   \n",
       "max       13.000000   1500.000000   1500.000000   1500.000000   1500.000000   \n",
       "\n",
       "                 IC5       NUMPROM      CARDPROM      CARDPM12      NUMPRM12  \\\n",
       "count   90568.000000  90568.000000  90568.000000  90568.000000  90568.000000   \n",
       "mean    15681.854474     46.797578     18.370848      5.343433     12.837404   \n",
       "std      8508.737296     22.944818      8.582028      1.207107      4.499929   \n",
       "min         0.000000      4.000000      1.000000      0.000000      1.000000   \n",
       "25%     10770.000000     27.000000     11.000000      5.000000     11.000000   \n",
       "50%     13692.000000     46.000000     18.000000      6.000000     12.000000   \n",
       "75%     18128.000000     64.000000     25.000000      6.000000     13.000000   \n",
       "max    159306.000000    195.000000     61.000000     19.000000     78.000000   \n",
       "\n",
       "           MAXADATE      NGIFTALL       TIMELAG       AVGGIFT  \n",
       "count  90568.000000  90568.000000  80916.000000  90568.000000  \n",
       "mean    9701.640602      9.501446      8.114378     13.428568  \n",
       "std        5.679915      8.495065      8.310877     10.796408  \n",
       "min     9611.000000      1.000000      0.000000      1.285714  \n",
       "25%     9702.000000      3.000000      4.000000      8.454545  \n",
       "50%     9702.000000      7.000000      6.000000     11.666667  \n",
       "75%     9702.000000     13.000000     11.000000     15.625000  \n",
       "max     9702.000000    237.000000   1088.000000   1000.000000  "
      ]
     },
     "execution_count": 99,
     "metadata": {},
     "output_type": "execute_result"
    }
   ],
   "source": [
    "d_num.describe()"
   ]
  },
  {
   "cell_type": "code",
   "execution_count": 100,
   "id": "86230384",
   "metadata": {},
   "outputs": [
    {
     "data": {
      "text/plain": [
       "count    80916.000000\n",
       "mean         8.114378\n",
       "std          8.310877\n",
       "min          0.000000\n",
       "25%          4.000000\n",
       "50%          6.000000\n",
       "75%         11.000000\n",
       "max       1088.000000\n",
       "Name: TIMELAG, dtype: float64"
      ]
     },
     "execution_count": 100,
     "metadata": {},
     "output_type": "execute_result"
    }
   ],
   "source": [
    "d_num['TIMELAG'].describe()"
   ]
  },
  {
   "cell_type": "code",
   "execution_count": 103,
   "id": "c2cd6660",
   "metadata": {},
   "outputs": [],
   "source": [
    "timelag=d_num['TIMELAG']"
   ]
  },
  {
   "cell_type": "code",
   "execution_count": 107,
   "id": "7de3efe3",
   "metadata": {},
   "outputs": [],
   "source": [
    "timelag=timelag[timelag<60]"
   ]
  },
  {
   "cell_type": "code",
   "execution_count": 115,
   "id": "72b2717f",
   "metadata": {},
   "outputs": [
    {
     "data": {
      "text/plain": [
       "<AxesSubplot:>"
      ]
     },
     "execution_count": 115,
     "metadata": {},
     "output_type": "execute_result"
    },
    {
     "data": {
      "image/png": "[encoded data removed]",
      "text/plain": [
       "<Figure size 432x288 with 1 Axes>"
      ]
     },
     "metadata": {
      "needs_background": "light"
     },
     "output_type": "display_data"
    }
   ],
   "source": [
    "timelag.hist(bins=5)"
   ]
  },
  {
   "cell_type": "code",
   "execution_count": 110,
   "id": "bd284393",
   "metadata": {},
   "outputs": [
    {
     "data": {
      "text/plain": [
       "Index(['DOB', 'INCOME', 'HV1', 'HV2', 'HV3', 'HV4', 'IC1', 'IC2', 'IC3', 'IC4',\n",
       "       'IC5', 'NUMPROM', 'CARDPROM', 'CARDPM12', 'NUMPRM12', 'MAXADATE',\n",
       "       'NGIFTALL', 'TIMELAG', 'AVGGIFT'],\n",
       "      dtype='object')"
      ]
     },
     "execution_count": 110,
     "metadata": {},
     "output_type": "execute_result"
    }
   ],
   "source": [
    "d_num.columns"
   ]
  },
  {
   "cell_type": "code",
   "execution_count": 113,
   "id": "37ccfb2d",
   "metadata": {
    "collapsed": true
   },
   "outputs": [
    {
     "data": {
      "image/png": "[encoded data removed]",
      "text/plain": [
       "<Figure size 432x288 with 1 Axes>"
      ]
     },
     "metadata": {
      "needs_background": "light"
     },
     "output_type": "display_data"
    }
   ],
   "source": [
    "sns.scatterplot(data=d_num, x=\"TIMELAG\", y=\"AVGGIFT\");"
   ]
  },
  {
   "cell_type": "code",
   "execution_count": 114,
   "id": "c00c18c1",
   "metadata": {
    "collapsed": true
   },
   "outputs": [
    {
     "data": {
      "text/plain": [
       "<AxesSubplot:xlabel='TIMELAG'>"
      ]
     },
     "execution_count": 114,
     "metadata": {},
     "output_type": "execute_result"
    },
    {
     "data": {
      "image/png": "[encoded data removed]",
      "text/plain": [
       "<Figure size 432x288 with 1 Axes>"
      ]
     },
     "metadata": {
      "needs_background": "light"
     },
     "output_type": "display_data"
    }
   ],
   "source": [
    "sns.boxplot(d_num['TIMELAG']);"
   ]
  },
  {
   "cell_type": "code",
   "execution_count": null,
   "id": "4fbb3d76",
   "metadata": {},
   "outputs": [],
   "source": [
    "# removing outliers then scatter plot again \n",
    "- IQR \n",
    "-upper_limit \n",
    "- exclude anything over upper limit \n",
    "OR FILTER BY A FIXED LIMIT "
   ]
  },
  {
   "cell_type": "code",
   "execution_count": null,
   "id": "12930724",
   "metadata": {},
   "outputs": [],
   "source": [
    "# pd.cut or pd.qcut \n",
    "# OR create function to bucket values \n"
   ]
  },
  {
   "cell_type": "markdown",
   "id": "e4288324",
   "metadata": {},
   "source": [
    "## correlation "
   ]
  },
  {
   "cell_type": "code",
   "execution_count": null,
   "id": "a1477265",
   "metadata": {},
   "outputs": [],
   "source": [
    "- correlation matrix (with or without mask, consider colours )\n",
    "- joint plot \n",
    "- pair plot \n",
    "- scatter plot \n",
    "- box plot "
   ]
  },
  {
   "cell_type": "markdown",
   "id": "070add9e",
   "metadata": {},
   "source": [
    "# Categorical columns "
   ]
  },
  {
   "cell_type": "code",
   "execution_count": 31,
   "id": "45341865",
   "metadata": {},
   "outputs": [
    {
     "data": {
      "text/plain": [
       "Index(['STATE', 'PVASTATE', 'MDMAUD', 'RECP3', 'GENDER', 'DOMAIN', 'HOMEOWNR',\n",
       "       'VETERANS', 'RFA_2'],\n",
       "      dtype='object')"
      ]
     },
     "execution_count": 31,
     "metadata": {},
     "output_type": "execute_result"
    }
   ],
   "source": [
    "d_cat.columns"
   ]
  },
  {
   "cell_type": "code",
   "execution_count": 32,
   "id": "8a5ebaf4",
   "metadata": {},
   "outputs": [
    {
     "name": "stdout",
     "output_type": "stream",
     "text": [
      "<class 'pandas.core.frame.DataFrame'>\n",
      "Int64Index: 90568 entries, 0 to 90568\n",
      "Data columns (total 9 columns):\n",
      " #   Column    Non-Null Count  Dtype \n",
      "---  ------    --------------  ----- \n",
      " 0   STATE     90568 non-null  object\n",
      " 1   PVASTATE  90568 non-null  object\n",
      " 2   MDMAUD    90568 non-null  object\n",
      " 3   RECP3     90568 non-null  object\n",
      " 4   GENDER    90568 non-null  object\n",
      " 5   DOMAIN    90568 non-null  object\n",
      " 6   HOMEOWNR  90568 non-null  object\n",
      " 7   VETERANS  90568 non-null  object\n",
      " 8   RFA_2     90568 non-null  object\n",
      "dtypes: object(9)\n",
      "memory usage: 6.9+ MB\n"
     ]
    }
   ],
   "source": [
    "d_cat.info()"
   ]
  },
  {
   "cell_type": "markdown",
   "id": "46ccfdf7",
   "metadata": {},
   "source": [
    "### common things to check \n",
    "- blanks and nulls and any other weird values \n",
    "- relevance - from the cat to the target \n",
    "    - chi squared test \n",
    "- cardinality (how many diff values are in that column, are there some small ones which can be grouped)"
   ]
  },
  {
   "cell_type": "code",
   "execution_count": 33,
   "id": "37f58023",
   "metadata": {},
   "outputs": [
    {
     "data": {
      "text/plain": [
       "array(['XXXX', 'C1CM', 'D1CM', 'L1CM', 'C2CM', 'D2CM', 'I1CM', 'I2MM',\n",
       "       'I1LM', 'L2CM', 'C1MM', 'C1LM', 'D5CM', 'I2CM', 'D5TM', 'L1LM',\n",
       "       'D5MM', 'C2MM', 'I5CM', 'C5CM', 'I5MM', 'C2LM', 'C5MM', 'D2MM',\n",
       "       'L1MM', 'C5TM', 'L2TM'], dtype=object)"
      ]
     },
     "execution_count": 33,
     "metadata": {},
     "output_type": "execute_result"
    }
   ],
   "source": [
    "d_cat['MDMAUD'].unique()"
   ]
  },
  {
   "cell_type": "code",
   "execution_count": 37,
   "id": "fd6fc5b0",
   "metadata": {},
   "outputs": [
    {
     "data": {
      "text/plain": [
       "not_major_donor    90289\n",
       "major_donor          279\n",
       "Name: MDMAUD, dtype: int64"
      ]
     },
     "execution_count": 37,
     "metadata": {},
     "output_type": "execute_result"
    }
   ],
   "source": [
    "d_cat['MDMAUD'].value_counts()"
   ]
  },
  {
   "cell_type": "code",
   "execution_count": 22,
   "id": "724acd2b",
   "metadata": {},
   "outputs": [],
   "source": [
    "major=data[(data.MDMAUD != 'XXXX')] # looking at major donors only "
   ]
  },
  {
   "cell_type": "code",
   "execution_count": 23,
   "id": "e39e9a82",
   "metadata": {},
   "outputs": [
    {
     "data": {
      "text/html": [
       "<div>\n",
       "<style scoped>\n",
       "    .dataframe tbody tr th:only-of-type {\n",
       "        vertical-align: middle;\n",
       "    }\n",
       "\n",
       "    .dataframe tbody tr th {\n",
       "        vertical-align: top;\n",
       "    }\n",
       "\n",
       "    .dataframe thead th {\n",
       "        text-align: right;\n",
       "    }\n",
       "</style>\n",
       "<table border=\"1\" class=\"dataframe\">\n",
       "  <thead>\n",
       "    <tr style=\"text-align: right;\">\n",
       "      <th></th>\n",
       "      <th>DOB</th>\n",
       "      <th>INCOME</th>\n",
       "      <th>HV1</th>\n",
       "      <th>HV2</th>\n",
       "      <th>HV3</th>\n",
       "      <th>HV4</th>\n",
       "      <th>IC1</th>\n",
       "      <th>IC2</th>\n",
       "      <th>IC3</th>\n",
       "      <th>IC4</th>\n",
       "      <th>IC5</th>\n",
       "      <th>NUMPROM</th>\n",
       "      <th>CARDPROM</th>\n",
       "      <th>CARDPM12</th>\n",
       "      <th>NUMPRM12</th>\n",
       "      <th>MAXADATE</th>\n",
       "      <th>NGIFTALL</th>\n",
       "      <th>TIMELAG</th>\n",
       "      <th>AVGGIFT</th>\n",
       "    </tr>\n",
       "  </thead>\n",
       "  <tbody>\n",
       "    <tr>\n",
       "      <th>count</th>\n",
       "      <td>279.000000</td>\n",
       "      <td>211.000000</td>\n",
       "      <td>279.000000</td>\n",
       "      <td>279.000000</td>\n",
       "      <td>279.000000</td>\n",
       "      <td>279.000000</td>\n",
       "      <td>279.000000</td>\n",
       "      <td>279.000000</td>\n",
       "      <td>279.000000</td>\n",
       "      <td>279.000000</td>\n",
       "      <td>279.000000</td>\n",
       "      <td>279.000000</td>\n",
       "      <td>279.000000</td>\n",
       "      <td>279.000000</td>\n",
       "      <td>279.000000</td>\n",
       "      <td>279.000000</td>\n",
       "      <td>279.000000</td>\n",
       "      <td>277.000000</td>\n",
       "      <td>279.000000</td>\n",
       "    </tr>\n",
       "    <tr>\n",
       "      <th>mean</th>\n",
       "      <td>2284.824373</td>\n",
       "      <td>4.620853</td>\n",
       "      <td>1560.057348</td>\n",
       "      <td>1659.580645</td>\n",
       "      <td>5.243728</td>\n",
       "      <td>4.799283</td>\n",
       "      <td>419.763441</td>\n",
       "      <td>475.767025</td>\n",
       "      <td>470.770609</td>\n",
       "      <td>522.548387</td>\n",
       "      <td>20949.831541</td>\n",
       "      <td>89.534050</td>\n",
       "      <td>24.068100</td>\n",
       "      <td>6.146953</td>\n",
       "      <td>28.351254</td>\n",
       "      <td>9701.673835</td>\n",
       "      <td>15.236559</td>\n",
       "      <td>8.083032</td>\n",
       "      <td>76.561089</td>\n",
       "    </tr>\n",
       "    <tr>\n",
       "      <th>std</th>\n",
       "      <td>1830.291615</td>\n",
       "      <td>1.990057</td>\n",
       "      <td>1308.499175</td>\n",
       "      <td>1301.707619</td>\n",
       "      <td>2.790932</td>\n",
       "      <td>2.623058</td>\n",
       "      <td>234.541067</td>\n",
       "      <td>254.266245</td>\n",
       "      <td>218.951568</td>\n",
       "      <td>231.667766</td>\n",
       "      <td>13169.703884</td>\n",
       "      <td>30.273776</td>\n",
       "      <td>8.152703</td>\n",
       "      <td>1.230568</td>\n",
       "      <td>7.382065</td>\n",
       "      <td>5.448027</td>\n",
       "      <td>16.941328</td>\n",
       "      <td>7.267929</td>\n",
       "      <td>81.977787</td>\n",
       "    </tr>\n",
       "    <tr>\n",
       "      <th>min</th>\n",
       "      <td>0.000000</td>\n",
       "      <td>1.000000</td>\n",
       "      <td>0.000000</td>\n",
       "      <td>0.000000</td>\n",
       "      <td>0.000000</td>\n",
       "      <td>0.000000</td>\n",
       "      <td>0.000000</td>\n",
       "      <td>0.000000</td>\n",
       "      <td>0.000000</td>\n",
       "      <td>0.000000</td>\n",
       "      <td>0.000000</td>\n",
       "      <td>14.000000</td>\n",
       "      <td>6.000000</td>\n",
       "      <td>1.000000</td>\n",
       "      <td>6.000000</td>\n",
       "      <td>9611.000000</td>\n",
       "      <td>1.000000</td>\n",
       "      <td>0.000000</td>\n",
       "      <td>8.904762</td>\n",
       "    </tr>\n",
       "    <tr>\n",
       "      <th>25%</th>\n",
       "      <td>653.500000</td>\n",
       "      <td>3.000000</td>\n",
       "      <td>677.500000</td>\n",
       "      <td>717.000000</td>\n",
       "      <td>3.000000</td>\n",
       "      <td>3.000000</td>\n",
       "      <td>258.500000</td>\n",
       "      <td>300.500000</td>\n",
       "      <td>314.500000</td>\n",
       "      <td>358.500000</td>\n",
       "      <td>13060.500000</td>\n",
       "      <td>68.000000</td>\n",
       "      <td>18.000000</td>\n",
       "      <td>6.000000</td>\n",
       "      <td>25.000000</td>\n",
       "      <td>9702.000000</td>\n",
       "      <td>7.000000</td>\n",
       "      <td>4.000000</td>\n",
       "      <td>42.635088</td>\n",
       "    </tr>\n",
       "    <tr>\n",
       "      <th>50%</th>\n",
       "      <td>2201.000000</td>\n",
       "      <td>5.000000</td>\n",
       "      <td>1125.000000</td>\n",
       "      <td>1235.000000</td>\n",
       "      <td>5.000000</td>\n",
       "      <td>4.000000</td>\n",
       "      <td>358.000000</td>\n",
       "      <td>426.000000</td>\n",
       "      <td>426.000000</td>\n",
       "      <td>487.000000</td>\n",
       "      <td>17408.000000</td>\n",
       "      <td>94.000000</td>\n",
       "      <td>25.000000</td>\n",
       "      <td>6.000000</td>\n",
       "      <td>29.000000</td>\n",
       "      <td>9702.000000</td>\n",
       "      <td>11.000000</td>\n",
       "      <td>6.000000</td>\n",
       "      <td>61.111111</td>\n",
       "    </tr>\n",
       "    <tr>\n",
       "      <th>75%</th>\n",
       "      <td>3651.500000</td>\n",
       "      <td>6.000000</td>\n",
       "      <td>1929.500000</td>\n",
       "      <td>2144.500000</td>\n",
       "      <td>6.000000</td>\n",
       "      <td>6.000000</td>\n",
       "      <td>513.000000</td>\n",
       "      <td>558.000000</td>\n",
       "      <td>572.500000</td>\n",
       "      <td>618.000000</td>\n",
       "      <td>24688.000000</td>\n",
       "      <td>113.000000</td>\n",
       "      <td>30.000000</td>\n",
       "      <td>6.000000</td>\n",
       "      <td>33.000000</td>\n",
       "      <td>9702.000000</td>\n",
       "      <td>19.000000</td>\n",
       "      <td>10.000000</td>\n",
       "      <td>87.875000</td>\n",
       "    </tr>\n",
       "    <tr>\n",
       "      <th>max</th>\n",
       "      <td>6604.000000</td>\n",
       "      <td>7.000000</td>\n",
       "      <td>5916.000000</td>\n",
       "      <td>5800.000000</td>\n",
       "      <td>13.000000</td>\n",
       "      <td>13.000000</td>\n",
       "      <td>1287.000000</td>\n",
       "      <td>1500.000000</td>\n",
       "      <td>1130.000000</td>\n",
       "      <td>1246.000000</td>\n",
       "      <td>88847.000000</td>\n",
       "      <td>158.000000</td>\n",
       "      <td>41.000000</td>\n",
       "      <td>12.000000</td>\n",
       "      <td>50.000000</td>\n",
       "      <td>9702.000000</td>\n",
       "      <td>237.000000</td>\n",
       "      <td>40.000000</td>\n",
       "      <td>948.500000</td>\n",
       "    </tr>\n",
       "  </tbody>\n",
       "</table>\n",
       "</div>"
      ],
      "text/plain": [
       "               DOB      INCOME          HV1          HV2         HV3  \\\n",
       "count   279.000000  211.000000   279.000000   279.000000  279.000000   \n",
       "mean   2284.824373    4.620853  1560.057348  1659.580645    5.243728   \n",
       "std    1830.291615    1.990057  1308.499175  1301.707619    2.790932   \n",
       "min       0.000000    1.000000     0.000000     0.000000    0.000000   \n",
       "25%     653.500000    3.000000   677.500000   717.000000    3.000000   \n",
       "50%    2201.000000    5.000000  1125.000000  1235.000000    5.000000   \n",
       "75%    3651.500000    6.000000  1929.500000  2144.500000    6.000000   \n",
       "max    6604.000000    7.000000  5916.000000  5800.000000   13.000000   \n",
       "\n",
       "              HV4          IC1          IC2          IC3          IC4  \\\n",
       "count  279.000000   279.000000   279.000000   279.000000   279.000000   \n",
       "mean     4.799283   419.763441   475.767025   470.770609   522.548387   \n",
       "std      2.623058   234.541067   254.266245   218.951568   231.667766   \n",
       "min      0.000000     0.000000     0.000000     0.000000     0.000000   \n",
       "25%      3.000000   258.500000   300.500000   314.500000   358.500000   \n",
       "50%      4.000000   358.000000   426.000000   426.000000   487.000000   \n",
       "75%      6.000000   513.000000   558.000000   572.500000   618.000000   \n",
       "max     13.000000  1287.000000  1500.000000  1130.000000  1246.000000   \n",
       "\n",
       "                IC5     NUMPROM    CARDPROM    CARDPM12    NUMPRM12  \\\n",
       "count    279.000000  279.000000  279.000000  279.000000  279.000000   \n",
       "mean   20949.831541   89.534050   24.068100    6.146953   28.351254   \n",
       "std    13169.703884   30.273776    8.152703    1.230568    7.382065   \n",
       "min        0.000000   14.000000    6.000000    1.000000    6.000000   \n",
       "25%    13060.500000   68.000000   18.000000    6.000000   25.000000   \n",
       "50%    17408.000000   94.000000   25.000000    6.000000   29.000000   \n",
       "75%    24688.000000  113.000000   30.000000    6.000000   33.000000   \n",
       "max    88847.000000  158.000000   41.000000   12.000000   50.000000   \n",
       "\n",
       "          MAXADATE    NGIFTALL     TIMELAG     AVGGIFT  \n",
       "count   279.000000  279.000000  277.000000  279.000000  \n",
       "mean   9701.673835   15.236559    8.083032   76.561089  \n",
       "std       5.448027   16.941328    7.267929   81.977787  \n",
       "min    9611.000000    1.000000    0.000000    8.904762  \n",
       "25%    9702.000000    7.000000    4.000000   42.635088  \n",
       "50%    9702.000000   11.000000    6.000000   61.111111  \n",
       "75%    9702.000000   19.000000   10.000000   87.875000  \n",
       "max    9702.000000  237.000000   40.000000  948.500000  "
      ]
     },
     "execution_count": 23,
     "metadata": {},
     "output_type": "execute_result"
    }
   ],
   "source": [
    "major.describe()"
   ]
  },
  {
   "cell_type": "code",
   "execution_count": 24,
   "id": "26c44eb1",
   "metadata": {},
   "outputs": [
    {
     "data": {
      "text/plain": [
       "13.428568110050856"
      ]
     },
     "execution_count": 24,
     "metadata": {},
     "output_type": "execute_result"
    }
   ],
   "source": [
    "d_num['AVGGIFT'].mean()"
   ]
  },
  {
   "cell_type": "code",
   "execution_count": 36,
   "id": "10ab6699",
   "metadata": {},
   "outputs": [],
   "source": [
    "# conclusion - replace value MDMAUD with major_donor, not_major_donor\n",
    "def grp_mdmaud(x): \n",
    "    if x == 'XXXX':\n",
    "        return 'not_major_donor'\n",
    "    else:\n",
    "        return 'major_donor'\n",
    "d_cat['MDMAUD']=list(map(grp_mdmaud,d_cat['MDMAUD']))"
   ]
  },
  {
   "cell_type": "code",
   "execution_count": 35,
   "id": "d642066c",
   "metadata": {},
   "outputs": [
    {
     "data": {
      "text/plain": [
       "'not_major_donor'"
      ]
     },
     "execution_count": 35,
     "metadata": {},
     "output_type": "execute_result"
    }
   ],
   "source": [
    "grp_mdmaud('XXXX')"
   ]
  },
  {
   "cell_type": "code",
   "execution_count": 39,
   "id": "d3d4af1f",
   "metadata": {},
   "outputs": [
    {
     "data": {
      "text/plain": [
       "CA    16283\n",
       "FL     7959\n",
       "TX     7166\n",
       "IL     6124\n",
       "MI     5375\n",
       "NC     3956\n",
       "WA     3383\n",
       "GA     3261\n",
       "IN     2855\n",
       "WI     2656\n",
       "MO     2583\n",
       "TN     2396\n",
       "AZ     2278\n",
       "MN     2081\n",
       "OR     2045\n",
       "CO     1929\n",
       "SC     1660\n",
       "AL     1627\n",
       "OK     1553\n",
       "KY     1542\n",
       "LA     1533\n",
       "KS     1233\n",
       "IA     1214\n",
       "AR      969\n",
       "MS      948\n",
       "NV      923\n",
       "NM      824\n",
       "NE      715\n",
       "UT      546\n",
       "ID      504\n",
       "MT      498\n",
       "HI      423\n",
       "SD      278\n",
       "AK      275\n",
       "WY      267\n",
       "ND      241\n",
       "AP       78\n",
       "NY       70\n",
       "VA       54\n",
       "OH       52\n",
       "PA       36\n",
       "MD       30\n",
       "MA       25\n",
       "NJ       24\n",
       "CT       20\n",
       "AA       15\n",
       "AE       14\n",
       "ME       11\n",
       "NH        8\n",
       "RI        6\n",
       "VT        6\n",
       "VI        5\n",
       "WV        3\n",
       "GU        3\n",
       "DE        3\n",
       "AS        1\n",
       "DC        1\n",
       "Name: STATE, dtype: int64"
      ]
     },
     "execution_count": 39,
     "metadata": {},
     "output_type": "execute_result"
    }
   ],
   "source": [
    "d_cat['STATE'].value_counts()"
   ]
  },
  {
   "cell_type": "markdown",
   "id": "e6b0ac1e",
   "metadata": {},
   "source": [
    "how to establish relevance \n",
    "- box plot , cat plot with jitter , map (in tableau or in python eg folium )\n",
    "- groupby state with mean, median,"
   ]
  },
  {
   "cell_type": "code",
   "execution_count": 40,
   "id": "49544845",
   "metadata": {},
   "outputs": [],
   "source": [
    "geo=data[['STATE','AVGGIFT']]"
   ]
  },
  {
   "cell_type": "code",
   "execution_count": 43,
   "id": "461ef221",
   "metadata": {},
   "outputs": [],
   "source": [
    "geo.to_csv('statewithgift.csv')"
   ]
  },
  {
   "cell_type": "code",
   "execution_count": 55,
   "id": "420d4528",
   "metadata": {},
   "outputs": [],
   "source": [
    "grouping=data.groupby(\"STATE\").agg({\"AVGGIFT\": [np.mean, np.median, 'count']})"
   ]
  },
  {
   "cell_type": "code",
   "execution_count": 57,
   "id": "f10521eb",
   "metadata": {},
   "outputs": [],
   "source": [
    "grouping.columns=['mean','median','count']"
   ]
  },
  {
   "cell_type": "code",
   "execution_count": 59,
   "id": "04da04e8",
   "metadata": {},
   "outputs": [
    {
     "data": {
      "text/html": [
       "<div>\n",
       "<style scoped>\n",
       "    .dataframe tbody tr th:only-of-type {\n",
       "        vertical-align: middle;\n",
       "    }\n",
       "\n",
       "    .dataframe tbody tr th {\n",
       "        vertical-align: top;\n",
       "    }\n",
       "\n",
       "    .dataframe thead th {\n",
       "        text-align: right;\n",
       "    }\n",
       "</style>\n",
       "<table border=\"1\" class=\"dataframe\">\n",
       "  <thead>\n",
       "    <tr style=\"text-align: right;\">\n",
       "      <th></th>\n",
       "      <th>mean</th>\n",
       "      <th>median</th>\n",
       "      <th>count</th>\n",
       "    </tr>\n",
       "    <tr>\n",
       "      <th>STATE</th>\n",
       "      <th></th>\n",
       "      <th></th>\n",
       "      <th></th>\n",
       "    </tr>\n",
       "  </thead>\n",
       "  <tbody>\n",
       "    <tr>\n",
       "      <th>AS</th>\n",
       "      <td>30.000000</td>\n",
       "      <td>30.000000</td>\n",
       "      <td>1</td>\n",
       "    </tr>\n",
       "    <tr>\n",
       "      <th>VT</th>\n",
       "      <td>22.100168</td>\n",
       "      <td>17.944444</td>\n",
       "      <td>6</td>\n",
       "    </tr>\n",
       "    <tr>\n",
       "      <th>DC</th>\n",
       "      <td>20.000000</td>\n",
       "      <td>20.000000</td>\n",
       "      <td>1</td>\n",
       "    </tr>\n",
       "    <tr>\n",
       "      <th>DE</th>\n",
       "      <td>17.300000</td>\n",
       "      <td>11.833333</td>\n",
       "      <td>3</td>\n",
       "    </tr>\n",
       "    <tr>\n",
       "      <th>AK</th>\n",
       "      <td>17.261347</td>\n",
       "      <td>15.000000</td>\n",
       "      <td>275</td>\n",
       "    </tr>\n",
       "    <tr>\n",
       "      <th>VA</th>\n",
       "      <td>16.830475</td>\n",
       "      <td>12.607143</td>\n",
       "      <td>54</td>\n",
       "    </tr>\n",
       "    <tr>\n",
       "      <th>CT</th>\n",
       "      <td>15.738928</td>\n",
       "      <td>11.550000</td>\n",
       "      <td>20</td>\n",
       "    </tr>\n",
       "    <tr>\n",
       "      <th>HI</th>\n",
       "      <td>15.479504</td>\n",
       "      <td>13.750000</td>\n",
       "      <td>423</td>\n",
       "    </tr>\n",
       "    <tr>\n",
       "      <th>CA</th>\n",
       "      <td>14.683392</td>\n",
       "      <td>12.531250</td>\n",
       "      <td>16283</td>\n",
       "    </tr>\n",
       "    <tr>\n",
       "      <th>RI</th>\n",
       "      <td>14.598950</td>\n",
       "      <td>15.500000</td>\n",
       "      <td>6</td>\n",
       "    </tr>\n",
       "    <tr>\n",
       "      <th>AE</th>\n",
       "      <td>14.427682</td>\n",
       "      <td>13.750000</td>\n",
       "      <td>14</td>\n",
       "    </tr>\n",
       "    <tr>\n",
       "      <th>NV</th>\n",
       "      <td>14.324033</td>\n",
       "      <td>12.228571</td>\n",
       "      <td>923</td>\n",
       "    </tr>\n",
       "    <tr>\n",
       "      <th>AA</th>\n",
       "      <td>13.912722</td>\n",
       "      <td>11.750000</td>\n",
       "      <td>15</td>\n",
       "    </tr>\n",
       "    <tr>\n",
       "      <th>OH</th>\n",
       "      <td>13.912483</td>\n",
       "      <td>12.500000</td>\n",
       "      <td>52</td>\n",
       "    </tr>\n",
       "    <tr>\n",
       "      <th>AP</th>\n",
       "      <td>13.853691</td>\n",
       "      <td>12.666667</td>\n",
       "      <td>78</td>\n",
       "    </tr>\n",
       "    <tr>\n",
       "      <th>GA</th>\n",
       "      <td>13.820925</td>\n",
       "      <td>12.315789</td>\n",
       "      <td>3261</td>\n",
       "    </tr>\n",
       "    <tr>\n",
       "      <th>AZ</th>\n",
       "      <td>13.729736</td>\n",
       "      <td>11.666667</td>\n",
       "      <td>2278</td>\n",
       "    </tr>\n",
       "    <tr>\n",
       "      <th>WA</th>\n",
       "      <td>13.721866</td>\n",
       "      <td>12.000000</td>\n",
       "      <td>3383</td>\n",
       "    </tr>\n",
       "    <tr>\n",
       "      <th>MA</th>\n",
       "      <td>13.691318</td>\n",
       "      <td>11.000000</td>\n",
       "      <td>25</td>\n",
       "    </tr>\n",
       "    <tr>\n",
       "      <th>CO</th>\n",
       "      <td>13.671403</td>\n",
       "      <td>11.909091</td>\n",
       "      <td>1929</td>\n",
       "    </tr>\n",
       "    <tr>\n",
       "      <th>IL</th>\n",
       "      <td>13.599498</td>\n",
       "      <td>11.644958</td>\n",
       "      <td>6124</td>\n",
       "    </tr>\n",
       "    <tr>\n",
       "      <th>TX</th>\n",
       "      <td>13.562393</td>\n",
       "      <td>12.000000</td>\n",
       "      <td>7166</td>\n",
       "    </tr>\n",
       "    <tr>\n",
       "      <th>MD</th>\n",
       "      <td>13.385319</td>\n",
       "      <td>12.200000</td>\n",
       "      <td>30</td>\n",
       "    </tr>\n",
       "    <tr>\n",
       "      <th>FL</th>\n",
       "      <td>13.272612</td>\n",
       "      <td>11.333333</td>\n",
       "      <td>7959</td>\n",
       "    </tr>\n",
       "    <tr>\n",
       "      <th>NY</th>\n",
       "      <td>13.229591</td>\n",
       "      <td>11.733333</td>\n",
       "      <td>70</td>\n",
       "    </tr>\n",
       "    <tr>\n",
       "      <th>MI</th>\n",
       "      <td>13.187559</td>\n",
       "      <td>11.666667</td>\n",
       "      <td>5375</td>\n",
       "    </tr>\n",
       "    <tr>\n",
       "      <th>OR</th>\n",
       "      <td>13.162742</td>\n",
       "      <td>11.666667</td>\n",
       "      <td>2045</td>\n",
       "    </tr>\n",
       "    <tr>\n",
       "      <th>SC</th>\n",
       "      <td>13.138478</td>\n",
       "      <td>11.683333</td>\n",
       "      <td>1660</td>\n",
       "    </tr>\n",
       "    <tr>\n",
       "      <th>TN</th>\n",
       "      <td>13.132693</td>\n",
       "      <td>11.375000</td>\n",
       "      <td>2396</td>\n",
       "    </tr>\n",
       "    <tr>\n",
       "      <th>NM</th>\n",
       "      <td>13.095191</td>\n",
       "      <td>11.690476</td>\n",
       "      <td>824</td>\n",
       "    </tr>\n",
       "    <tr>\n",
       "      <th>NC</th>\n",
       "      <td>13.069003</td>\n",
       "      <td>11.666667</td>\n",
       "      <td>3956</td>\n",
       "    </tr>\n",
       "    <tr>\n",
       "      <th>MS</th>\n",
       "      <td>13.062295</td>\n",
       "      <td>11.666667</td>\n",
       "      <td>948</td>\n",
       "    </tr>\n",
       "    <tr>\n",
       "      <th>MT</th>\n",
       "      <td>13.044418</td>\n",
       "      <td>11.400000</td>\n",
       "      <td>498</td>\n",
       "    </tr>\n",
       "    <tr>\n",
       "      <th>WY</th>\n",
       "      <td>13.019322</td>\n",
       "      <td>11.500000</td>\n",
       "      <td>267</td>\n",
       "    </tr>\n",
       "    <tr>\n",
       "      <th>UT</th>\n",
       "      <td>12.965863</td>\n",
       "      <td>12.000000</td>\n",
       "      <td>546</td>\n",
       "    </tr>\n",
       "    <tr>\n",
       "      <th>AL</th>\n",
       "      <td>12.827698</td>\n",
       "      <td>11.250000</td>\n",
       "      <td>1627</td>\n",
       "    </tr>\n",
       "    <tr>\n",
       "      <th>OK</th>\n",
       "      <td>12.789834</td>\n",
       "      <td>10.923077</td>\n",
       "      <td>1553</td>\n",
       "    </tr>\n",
       "    <tr>\n",
       "      <th>WV</th>\n",
       "      <td>12.753333</td>\n",
       "      <td>13.360000</td>\n",
       "      <td>3</td>\n",
       "    </tr>\n",
       "    <tr>\n",
       "      <th>MO</th>\n",
       "      <td>12.665959</td>\n",
       "      <td>10.760000</td>\n",
       "      <td>2583</td>\n",
       "    </tr>\n",
       "    <tr>\n",
       "      <th>LA</th>\n",
       "      <td>12.614383</td>\n",
       "      <td>11.400000</td>\n",
       "      <td>1533</td>\n",
       "    </tr>\n",
       "    <tr>\n",
       "      <th>ID</th>\n",
       "      <td>12.595635</td>\n",
       "      <td>10.928571</td>\n",
       "      <td>504</td>\n",
       "    </tr>\n",
       "    <tr>\n",
       "      <th>KS</th>\n",
       "      <td>12.584702</td>\n",
       "      <td>10.600000</td>\n",
       "      <td>1233</td>\n",
       "    </tr>\n",
       "    <tr>\n",
       "      <th>AR</th>\n",
       "      <td>12.516960</td>\n",
       "      <td>11.090909</td>\n",
       "      <td>969</td>\n",
       "    </tr>\n",
       "    <tr>\n",
       "      <th>IN</th>\n",
       "      <td>12.452000</td>\n",
       "      <td>10.888889</td>\n",
       "      <td>2855</td>\n",
       "    </tr>\n",
       "    <tr>\n",
       "      <th>KY</th>\n",
       "      <td>12.451172</td>\n",
       "      <td>10.666667</td>\n",
       "      <td>1542</td>\n",
       "    </tr>\n",
       "    <tr>\n",
       "      <th>IA</th>\n",
       "      <td>12.357655</td>\n",
       "      <td>10.240385</td>\n",
       "      <td>1214</td>\n",
       "    </tr>\n",
       "    <tr>\n",
       "      <th>PA</th>\n",
       "      <td>12.187539</td>\n",
       "      <td>11.000000</td>\n",
       "      <td>36</td>\n",
       "    </tr>\n",
       "    <tr>\n",
       "      <th>MN</th>\n",
       "      <td>12.063167</td>\n",
       "      <td>10.214286</td>\n",
       "      <td>2081</td>\n",
       "    </tr>\n",
       "    <tr>\n",
       "      <th>NE</th>\n",
       "      <td>12.057293</td>\n",
       "      <td>10.094667</td>\n",
       "      <td>715</td>\n",
       "    </tr>\n",
       "    <tr>\n",
       "      <th>WI</th>\n",
       "      <td>12.042207</td>\n",
       "      <td>10.666667</td>\n",
       "      <td>2656</td>\n",
       "    </tr>\n",
       "    <tr>\n",
       "      <th>ME</th>\n",
       "      <td>11.435176</td>\n",
       "      <td>9.357143</td>\n",
       "      <td>11</td>\n",
       "    </tr>\n",
       "    <tr>\n",
       "      <th>ND</th>\n",
       "      <td>11.180982</td>\n",
       "      <td>10.333333</td>\n",
       "      <td>241</td>\n",
       "    </tr>\n",
       "    <tr>\n",
       "      <th>NJ</th>\n",
       "      <td>11.111854</td>\n",
       "      <td>11.250000</td>\n",
       "      <td>24</td>\n",
       "    </tr>\n",
       "    <tr>\n",
       "      <th>SD</th>\n",
       "      <td>10.622677</td>\n",
       "      <td>9.620243</td>\n",
       "      <td>278</td>\n",
       "    </tr>\n",
       "    <tr>\n",
       "      <th>VI</th>\n",
       "      <td>9.702381</td>\n",
       "      <td>9.250000</td>\n",
       "      <td>5</td>\n",
       "    </tr>\n",
       "    <tr>\n",
       "      <th>NH</th>\n",
       "      <td>9.675424</td>\n",
       "      <td>8.177018</td>\n",
       "      <td>8</td>\n",
       "    </tr>\n",
       "    <tr>\n",
       "      <th>GU</th>\n",
       "      <td>8.933862</td>\n",
       "      <td>7.444444</td>\n",
       "      <td>3</td>\n",
       "    </tr>\n",
       "  </tbody>\n",
       "</table>\n",
       "</div>"
      ],
      "text/plain": [
       "            mean     median  count\n",
       "STATE                             \n",
       "AS     30.000000  30.000000      1\n",
       "VT     22.100168  17.944444      6\n",
       "DC     20.000000  20.000000      1\n",
       "DE     17.300000  11.833333      3\n",
       "AK     17.261347  15.000000    275\n",
       "VA     16.830475  12.607143     54\n",
       "CT     15.738928  11.550000     20\n",
       "HI     15.479504  13.750000    423\n",
       "CA     14.683392  12.531250  16283\n",
       "RI     14.598950  15.500000      6\n",
       "AE     14.427682  13.750000     14\n",
       "NV     14.324033  12.228571    923\n",
       "AA     13.912722  11.750000     15\n",
       "OH     13.912483  12.500000     52\n",
       "AP     13.853691  12.666667     78\n",
       "GA     13.820925  12.315789   3261\n",
       "AZ     13.729736  11.666667   2278\n",
       "WA     13.721866  12.000000   3383\n",
       "MA     13.691318  11.000000     25\n",
       "CO     13.671403  11.909091   1929\n",
       "IL     13.599498  11.644958   6124\n",
       "TX     13.562393  12.000000   7166\n",
       "MD     13.385319  12.200000     30\n",
       "FL     13.272612  11.333333   7959\n",
       "NY     13.229591  11.733333     70\n",
       "MI     13.187559  11.666667   5375\n",
       "OR     13.162742  11.666667   2045\n",
       "SC     13.138478  11.683333   1660\n",
       "TN     13.132693  11.375000   2396\n",
       "NM     13.095191  11.690476    824\n",
       "NC     13.069003  11.666667   3956\n",
       "MS     13.062295  11.666667    948\n",
       "MT     13.044418  11.400000    498\n",
       "WY     13.019322  11.500000    267\n",
       "UT     12.965863  12.000000    546\n",
       "AL     12.827698  11.250000   1627\n",
       "OK     12.789834  10.923077   1553\n",
       "WV     12.753333  13.360000      3\n",
       "MO     12.665959  10.760000   2583\n",
       "LA     12.614383  11.400000   1533\n",
       "ID     12.595635  10.928571    504\n",
       "KS     12.584702  10.600000   1233\n",
       "AR     12.516960  11.090909    969\n",
       "IN     12.452000  10.888889   2855\n",
       "KY     12.451172  10.666667   1542\n",
       "IA     12.357655  10.240385   1214\n",
       "PA     12.187539  11.000000     36\n",
       "MN     12.063167  10.214286   2081\n",
       "NE     12.057293  10.094667    715\n",
       "WI     12.042207  10.666667   2656\n",
       "ME     11.435176   9.357143     11\n",
       "ND     11.180982  10.333333    241\n",
       "NJ     11.111854  11.250000     24\n",
       "SD     10.622677   9.620243    278\n",
       "VI      9.702381   9.250000      5\n",
       "NH      9.675424   8.177018      8\n",
       "GU      8.933862   7.444444      3"
      ]
     },
     "execution_count": 59,
     "metadata": {},
     "output_type": "execute_result"
    }
   ],
   "source": [
    "grouping.sort_values(by='mean', ascending=False)"
   ]
  },
  {
   "cell_type": "code",
   "execution_count": 66,
   "id": "2f92db67",
   "metadata": {},
   "outputs": [
    {
     "data": {
      "image/png": "[encoded data removed]",
      "text/plain": [
       "<Figure size 1440x360 with 1 Axes>"
      ]
     },
     "metadata": {
      "needs_background": "light"
     },
     "output_type": "display_data"
    }
   ],
   "source": [
    "ax=sns.catplot(data=data,x='STATE',y='AVGGIFT').set(title='state by state v avg gift amount')\n",
    "ax.fig.set_figwidth(20)"
   ]
  },
  {
   "cell_type": "markdown",
   "id": "e083f8e8",
   "metadata": {},
   "source": [
    "## chi squared test "
   ]
  },
  {
   "cell_type": "markdown",
   "id": "a24bc9e3",
   "metadata": {},
   "source": [
    "- looking for correlation between categories\n",
    "- create a crosstab between the columns \n",
    "- run the test \n",
    "- evaluate the results "
   ]
  },
  {
   "cell_type": "code",
   "execution_count": 67,
   "id": "abf65788",
   "metadata": {},
   "outputs": [],
   "source": [
    "from scipy.stats import chi2_contingency\n",
    "# just an example conceptually "
   ]
  },
  {
   "cell_type": "code",
   "execution_count": 68,
   "id": "353e9e4e",
   "metadata": {},
   "outputs": [
    {
     "data": {
      "text/plain": [
       "Index(['STATE', 'PVASTATE', 'MDMAUD', 'RECP3', 'GENDER', 'DOMAIN', 'HOMEOWNR',\n",
       "       'VETERANS', 'RFA_2'],\n",
       "      dtype='object')"
      ]
     },
     "execution_count": 68,
     "metadata": {},
     "output_type": "execute_result"
    }
   ],
   "source": [
    "d_cat.columns"
   ]
  },
  {
   "cell_type": "code",
   "execution_count": 70,
   "id": "3fd926c1",
   "metadata": {},
   "outputs": [],
   "source": [
    "data_crosstab=pd.crosstab(d_cat['HOMEOWNR'], d_cat['RFA_2'], margins = False)"
   ]
  },
  {
   "cell_type": "code",
   "execution_count": 71,
   "id": "45ba187e",
   "metadata": {},
   "outputs": [
    {
     "data": {
      "text/html": [
       "<div>\n",
       "<style scoped>\n",
       "    .dataframe tbody tr th:only-of-type {\n",
       "        vertical-align: middle;\n",
       "    }\n",
       "\n",
       "    .dataframe tbody tr th {\n",
       "        vertical-align: top;\n",
       "    }\n",
       "\n",
       "    .dataframe thead th {\n",
       "        text-align: right;\n",
       "    }\n",
       "</style>\n",
       "<table border=\"1\" class=\"dataframe\">\n",
       "  <thead>\n",
       "    <tr style=\"text-align: right;\">\n",
       "      <th>RFA_2</th>\n",
       "      <th>L1E</th>\n",
       "      <th>L1F</th>\n",
       "      <th>L1G</th>\n",
       "      <th>L2E</th>\n",
       "      <th>L2F</th>\n",
       "      <th>L2G</th>\n",
       "      <th>L3D</th>\n",
       "      <th>L3E</th>\n",
       "      <th>L3F</th>\n",
       "      <th>L3G</th>\n",
       "      <th>L4D</th>\n",
       "      <th>L4E</th>\n",
       "      <th>L4F</th>\n",
       "      <th>L4G</th>\n",
       "    </tr>\n",
       "    <tr>\n",
       "      <th>HOMEOWNR</th>\n",
       "      <th></th>\n",
       "      <th></th>\n",
       "      <th></th>\n",
       "      <th></th>\n",
       "      <th></th>\n",
       "      <th></th>\n",
       "      <th></th>\n",
       "      <th></th>\n",
       "      <th></th>\n",
       "      <th></th>\n",
       "      <th></th>\n",
       "      <th></th>\n",
       "      <th></th>\n",
       "      <th></th>\n",
       "    </tr>\n",
       "  </thead>\n",
       "  <tbody>\n",
       "    <tr>\n",
       "      <th></th>\n",
       "      <td>1009</td>\n",
       "      <td>6727</td>\n",
       "      <td>2882</td>\n",
       "      <td>1010</td>\n",
       "      <td>2351</td>\n",
       "      <td>1087</td>\n",
       "      <td>508</td>\n",
       "      <td>1615</td>\n",
       "      <td>759</td>\n",
       "      <td>354</td>\n",
       "      <td>1079</td>\n",
       "      <td>894</td>\n",
       "      <td>534</td>\n",
       "      <td>241</td>\n",
       "    </tr>\n",
       "    <tr>\n",
       "      <th>H</th>\n",
       "      <td>2522</td>\n",
       "      <td>16179</td>\n",
       "      <td>6771</td>\n",
       "      <td>2596</td>\n",
       "      <td>5800</td>\n",
       "      <td>2413</td>\n",
       "      <td>1184</td>\n",
       "      <td>3970</td>\n",
       "      <td>1838</td>\n",
       "      <td>776</td>\n",
       "      <td>2276</td>\n",
       "      <td>1901</td>\n",
       "      <td>980</td>\n",
       "      <td>440</td>\n",
       "    </tr>\n",
       "    <tr>\n",
       "      <th>U</th>\n",
       "      <td>1136</td>\n",
       "      <td>6300</td>\n",
       "      <td>2354</td>\n",
       "      <td>1075</td>\n",
       "      <td>2247</td>\n",
       "      <td>910</td>\n",
       "      <td>575</td>\n",
       "      <td>1659</td>\n",
       "      <td>755</td>\n",
       "      <td>295</td>\n",
       "      <td>1094</td>\n",
       "      <td>852</td>\n",
       "      <td>437</td>\n",
       "      <td>183</td>\n",
       "    </tr>\n",
       "  </tbody>\n",
       "</table>\n",
       "</div>"
      ],
      "text/plain": [
       "RFA_2      L1E    L1F   L1G   L2E   L2F   L2G   L3D   L3E   L3F  L3G   L4D  \\\n",
       "HOMEOWNR                                                                     \n",
       "          1009   6727  2882  1010  2351  1087   508  1615   759  354  1079   \n",
       "H         2522  16179  6771  2596  5800  2413  1184  3970  1838  776  2276   \n",
       "U         1136   6300  2354  1075  2247   910   575  1659   755  295  1094   \n",
       "\n",
       "RFA_2      L4E  L4F  L4G  \n",
       "HOMEOWNR                  \n",
       "           894  534  241  \n",
       "H         1901  980  440  \n",
       "U          852  437  183  "
      ]
     },
     "execution_count": 71,
     "metadata": {},
     "output_type": "execute_result"
    }
   ],
   "source": [
    "data_crosstab"
   ]
  },
  {
   "cell_type": "code",
   "execution_count": 72,
   "id": "1eaa9cbb",
   "metadata": {},
   "outputs": [
    {
     "data": {
      "text/plain": [
       "(175.3605988661588,\n",
       " 4.1538789000941835e-24,\n",
       " 26,\n",
       " array([[ 1084.71369579,  6788.11831994,  2790.6915246 ,  1087.96760445,\n",
       "          2416.72445014,  1024.98122957,   526.90078173,  1683.66531225,\n",
       "           779.07870329,   331.20141772,  1034.04568943,   847.64320731,\n",
       "           453.45541472,   200.81264906],\n",
       "        [ 2558.27535112, 16009.6400053 ,  6581.78961664,  2565.94962901,\n",
       "          5699.79582192,  2417.39753555,  1242.68485558,  3970.8906457 ,\n",
       "          1837.4413921 ,   781.13185673,  2438.77588111,  1999.14939051,\n",
       "          1069.46544033,   473.61257839],\n",
       "        [ 1024.0109531 ,  6408.24167476,  2634.51885876,  1027.08276654,\n",
       "          2281.47972794,   967.62123487,   497.41436269,  1589.44404205,\n",
       "           735.4799046 ,   312.66672555,   976.17842947,   800.20740217,\n",
       "           428.07914495,   189.57477255]]))"
      ]
     },
     "execution_count": 72,
     "metadata": {},
     "output_type": "execute_result"
    }
   ],
   "source": [
    "chi2_contingency(data_crosstab, correction=False)"
   ]
  },
  {
   "cell_type": "code",
   "execution_count": null,
   "id": "ad7e9078",
   "metadata": {},
   "outputs": [],
   "source": [
    "#this returns 4 results in this order:\n",
    "#(chi-square statistic,\n",
    "# p value, \n",
    "# degrees of freedom, \n",
    "# expected frequencies matrix)"
   ]
  }
 ],
 "metadata": {
  "kernelspec": {
   "display_name": "Python 3 (ipykernel)",
   "language": "python",
   "name": "python3"
  },
  "language_info": {
   "codemirror_mode": {
    "name": "ipython",
    "version": 3
   },
   "file_extension": ".py",
   "mimetype": "text/x-python",
   "name": "python",
   "nbconvert_exporter": "python",
   "pygments_lexer": "ipython3",
   "version": "3.9.12"
  },
  "toc": {
   "base_numbering": 1,
   "nav_menu": {},
   "number_sections": true,
   "sideBar": true,
   "skip_h1_title": false,
   "title_cell": "Table of Contents",
   "title_sidebar": "Contents",
   "toc_cell": false,
   "toc_position": {
    "height": "calc(100% - 180px)",
    "left": "10px",
    "top": "150px",
    "width": "165px"
   },
   "toc_section_display": true,
   "toc_window_display": false
  },
  "varInspector": {
   "cols": {
    "lenName": 16,
    "lenType": 16,
    "lenVar": 40
   },
   "kernels_config": {
    "python": {
     "delete_cmd_postfix": "",
     "delete_cmd_prefix": "del ",
     "library": "var_list.py",
     "varRefreshCmd": "print(var_dic_list())"
    },
    "r": {
     "delete_cmd_postfix": ") ",
     "delete_cmd_prefix": "rm(",
     "library": "var_list.r",
     "varRefreshCmd": "cat(var_dic_list()) "
    }
   },
   "types_to_exclude": [
    "module",
    "function",
    "builtin_function_or_method",
    "instance",
    "_Feature"
   ],
   "window_display": false
  }
 },
 "nbformat": 4,
 "nbformat_minor": 5
}
