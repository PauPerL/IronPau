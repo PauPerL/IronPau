{
 "cells": [
  {
   "cell_type": "code",
   "execution_count": 1,
   "metadata": {},
   "outputs": [],
   "source": [
    "from scraping_100_songs_billboard import scrape_billboard_100"
   ]
  },
  {
   "cell_type": "code",
   "execution_count": 2,
   "metadata": {},
   "outputs": [
    {
     "data": {
      "application/vnd.jupyter.widget-view+json": {
       "model_id": "0bc83d1093e54c4ebca67f49a9901560",
       "version_major": 2,
       "version_minor": 0
      },
      "text/plain": [
       "  0%|          | 0/100 [00:00<?, ?it/s]"
      ]
     },
     "metadata": {},
     "output_type": "display_data"
    }
   ],
   "source": [
    "df=scrape_billboard_100()"
   ]
  },
  {
   "cell_type": "code",
   "execution_count": 3,
   "metadata": {},
   "outputs": [],
   "source": [
    "#import pandas as pd\n",
    "#import requests\n",
    "#from bs4 import BeautifulSoup\n",
    "#from tqdm.notebook import tqdm\n",
    "import re\n",
    "import random\n",
    "from fuzzywuzzy import fuzz, process\n"
   ]
  },
  {
   "cell_type": "raw",
   "metadata": {},
   "source": [
    "#lets do input and standarize to lower\n",
    "name = input('what song do you like?')\n",
    "name= name.lower()\n",
    "print(name)"
   ]
  },
  {
   "cell_type": "code",
   "execution_count": 4,
   "metadata": {},
   "outputs": [
    {
     "data": {
      "text/html": [
       "<div>\n",
       "<style scoped>\n",
       "    .dataframe tbody tr th:only-of-type {\n",
       "        vertical-align: middle;\n",
       "    }\n",
       "\n",
       "    .dataframe tbody tr th {\n",
       "        vertical-align: top;\n",
       "    }\n",
       "\n",
       "    .dataframe thead th {\n",
       "        text-align: right;\n",
       "    }\n",
       "</style>\n",
       "<table border=\"1\" class=\"dataframe\">\n",
       "  <thead>\n",
       "    <tr style=\"text-align: right;\">\n",
       "      <th></th>\n",
       "      <th>rank</th>\n",
       "      <th>name</th>\n",
       "      <th>artist</th>\n",
       "    </tr>\n",
       "  </thead>\n",
       "  <tbody>\n",
       "    <tr>\n",
       "      <th>0</th>\n",
       "      <td>1</td>\n",
       "      <td>First Class</td>\n",
       "      <td>Jack Harlow</td>\n",
       "    </tr>\n",
       "    <tr>\n",
       "      <th>1</th>\n",
       "      <td>2</td>\n",
       "      <td>As It Was</td>\n",
       "      <td>Harry Styles</td>\n",
       "    </tr>\n",
       "    <tr>\n",
       "      <th>2</th>\n",
       "      <td>3</td>\n",
       "      <td>N95</td>\n",
       "      <td>Kendrick Lamar</td>\n",
       "    </tr>\n",
       "    <tr>\n",
       "      <th>3</th>\n",
       "      <td>4</td>\n",
       "      <td>Wait For U</td>\n",
       "      <td>Future Featuring Drake &amp; Tems</td>\n",
       "    </tr>\n",
       "    <tr>\n",
       "      <th>4</th>\n",
       "      <td>5</td>\n",
       "      <td>Die Hard</td>\n",
       "      <td>Kendrick Lamar, Blxst &amp; Amanda Reifer</td>\n",
       "    </tr>\n",
       "    <tr>\n",
       "      <th>...</th>\n",
       "      <td>...</td>\n",
       "      <td>...</td>\n",
       "      <td>...</td>\n",
       "    </tr>\n",
       "    <tr>\n",
       "      <th>95</th>\n",
       "      <td>96</td>\n",
       "      <td>The Motto</td>\n",
       "      <td>Tiesto &amp; Ava Max</td>\n",
       "    </tr>\n",
       "    <tr>\n",
       "      <th>96</th>\n",
       "      <td>97</td>\n",
       "      <td>Me Fui de Vacaciones</td>\n",
       "      <td>Bad Bunny</td>\n",
       "    </tr>\n",
       "    <tr>\n",
       "      <th>97</th>\n",
       "      <td>98</td>\n",
       "      <td>Hold My Hand</td>\n",
       "      <td>Lady Gaga</td>\n",
       "    </tr>\n",
       "    <tr>\n",
       "      <th>98</th>\n",
       "      <td>99</td>\n",
       "      <td>Ensename A Bailar</td>\n",
       "      <td>Bad Bunny</td>\n",
       "    </tr>\n",
       "    <tr>\n",
       "      <th>99</th>\n",
       "      <td>100</td>\n",
       "      <td>Flowers</td>\n",
       "      <td>Lauren Spencer-Smith</td>\n",
       "    </tr>\n",
       "  </tbody>\n",
       "</table>\n",
       "<p>100 rows × 3 columns</p>\n",
       "</div>"
      ],
      "text/plain": [
       "    rank                  name                                 artist\n",
       "0      1           First Class                            Jack Harlow\n",
       "1      2             As It Was                           Harry Styles\n",
       "2      3                   N95                         Kendrick Lamar\n",
       "3      4            Wait For U          Future Featuring Drake & Tems\n",
       "4      5              Die Hard  Kendrick Lamar, Blxst & Amanda Reifer\n",
       "..   ...                   ...                                    ...\n",
       "95    96             The Motto                       Tiesto & Ava Max\n",
       "96    97  Me Fui de Vacaciones                              Bad Bunny\n",
       "97    98          Hold My Hand                              Lady Gaga\n",
       "98    99     Ensename A Bailar                              Bad Bunny\n",
       "99   100               Flowers                   Lauren Spencer-Smith\n",
       "\n",
       "[100 rows x 3 columns]"
      ]
     },
     "execution_count": 4,
     "metadata": {},
     "output_type": "execute_result"
    }
   ],
   "source": [
    "df"
   ]
  },
  {
   "cell_type": "code",
   "execution_count": 5,
   "metadata": {},
   "outputs": [],
   "source": [
    "#get the list of songs\n",
    "songs=[]\n",
    "singer=[]\n",
    "songs=df['name'].str.lower().tolist()\n",
    "singer=df['artist'].str.lower().tolist()"
   ]
  },
  {
   "cell_type": "raw",
   "metadata": {},
   "source": []
  },
  {
   "cell_type": "markdown",
   "metadata": {},
   "source": [
    "### start with the inputs\n"
   ]
  },
  {
   "cell_type": "code",
   "execution_count": 6,
   "metadata": {},
   "outputs": [
    {
     "name": "stdout",
     "output_type": "stream",
     "text": [
      "What is the name of your song? fokfdkj\n"
     ]
    }
   ],
   "source": [
    "#get a standarized input\n",
    "user_req=input('What is the name of your song? ').lstrip().rstrip().lower()\n",
    "#print(user_req)\n",
    "if len(user_req)<2:\n",
    "    print('Input to short, corto')"
   ]
  },
  {
   "cell_type": "code",
   "execution_count": 7,
   "metadata": {},
   "outputs": [
    {
     "name": "stdout",
     "output_type": "stream",
     "text": [
      "Sorry, we can't recomend you anyrhing.\n"
     ]
    }
   ],
   "source": [
    "#Simple check\n",
    "#check list and recomend random song\n",
    "\n",
    "if user_req in songs:\n",
    "    print('Your music is from the top 100!')\n",
    "    print('We recomend you this: ')\n",
    "    rnd=random.randint(0, 99)\n",
    "\n",
    "    \n",
    "    #try using directly the df\n",
    "    print(df.iloc[rnd,1])\n",
    "    print('from: ', df.iloc[rnd,2])\n",
    "    \n",
    "else:\n",
    "    print(\"Sorry, we can't recomend you anyrhing.\" )"
   ]
  },
  {
   "cell_type": "markdown",
   "metadata": {},
   "source": [
    "## testing use fuzzy"
   ]
  },
  {
   "cell_type": "code",
   "execution_count": 8,
   "metadata": {
    "scrolled": true
   },
   "outputs": [
    {
     "name": "stdout",
     "output_type": "stream",
     "text": [
      "Your input:  fokfdkj\n",
      "Highest ratio:  42\n",
      "Closest name:  freaky deaky\n",
      "We didnt find anything\n"
     ]
    }
   ],
   "source": [
    "#selector using fuzz ratio\n",
    "\n",
    "fratio=0\n",
    "Mfratio=0\n",
    "\n",
    "\n",
    "for i in songs:\n",
    "    fratio=fuzz.ratio(user_req, i)\n",
    "    if fratio>Mfratio:\n",
    "        Mfratio=fratio\n",
    "        matchSng=i\n",
    "\n",
    "print('Your input: ', user_req)\n",
    "print('Highest ratio: ',Mfratio)\n",
    "print('Closest name: ',matchSng)\n",
    "\n",
    "\n",
    "if Mfratio==100:\n",
    "    print('Your music is from the top 100!')\n",
    "    print('We recomend you this: ')\n",
    "    rnd=random.randint(0, 99)\n",
    "    \n",
    "    #using the df\n",
    "    print(df.iloc[rnd,1])\n",
    "    print('from: ', df.iloc[rnd,2])\n",
    "\n",
    "elif Mfratio>66:\n",
    "    print('Did you mean... '+matchSng+'? ')\n",
    "    user_ans=input('[Yes/No]').lstrip().rstrip().lower() \n",
    "    \n",
    "    if (user_ans=='yes' or user_ans=='y'):\n",
    "        print('Your music is from the top 100!')\n",
    "        print('We recomend you this: ')\n",
    "        rnd=random.randint(0, 99)\n",
    "        \n",
    "        #using the df\n",
    "        print(df.iloc[rnd,1])\n",
    "        print('from: ', df.iloc[rnd,2])\n",
    "        \n",
    "    elif (user_ans=='no' or user_ans=='n'):\n",
    "        print('Maybe want to try search again?')\n",
    "    else:\n",
    "        print('Something went wrong')\n",
    "    \n",
    "    \n",
    "else:\n",
    "    print('We didnt find anything')\n"
   ]
  },
  {
   "cell_type": "code",
   "execution_count": 4,
   "metadata": {},
   "outputs": [],
   "source": [
    "def recomender_core():\n",
    "    \n",
    "    #import libs and scraping\n",
    "    from scraping_100_songs_billboard import scrape_billboard_100\n",
    "    \n",
    "    import re\n",
    "    import random\n",
    "    from fuzzywuzzy import fuzz, process\n",
    "    \n",
    "    df=scrape_billboard_100()\n",
    "    \n",
    "    #get list of songs\n",
    "    songs=[]\n",
    "    singer=[]\n",
    "    songs=df['name'].str.lower().tolist()\n",
    "    singer=df['artist'].str.lower().tolist()\n",
    "    \n",
    "    #get a standarized input\n",
    "    user_req=input('What is the name of your song? ').lstrip().rstrip().lower()\n",
    "    if len(user_req)<2:\n",
    "        print('Input to short, corto')\n",
    "        \n",
    "    #selector using fuzz ratio\n",
    "\n",
    "    fratio=0\n",
    "    Mfratio=0\n",
    "\n",
    "\n",
    "    for i in songs:\n",
    "        fratio=fuzz.ratio(user_req, i)\n",
    "        if fratio>Mfratio:\n",
    "            Mfratio=fratio\n",
    "            matchSng=i\n",
    "\n",
    "    #print('Your input: ', user_req)\n",
    "    #print('Highest ratio: ',Mfratio)\n",
    "    #print('Closest name: ',matchSng)\n",
    "    \n",
    "    if Mfratio==100:\n",
    "        print('Your music is from the top 100!')\n",
    "        print('We recomend you this: ')\n",
    "        rnd=random.randint(0, 99)\n",
    "    \n",
    "        #using the df\n",
    "        print(df.iloc[rnd,1])\n",
    "        print('from: ', df.iloc[rnd,2])\n",
    "\n",
    "    elif Mfratio>66:\n",
    "        print('Did you mean... '+matchSng+'? ')\n",
    "        user_ans=input('[Yes/No]').lstrip().rstrip().lower() \n",
    "    \n",
    "        if (user_ans=='yes' or user_ans=='y'):\n",
    "            print('Your music is from the top 100!')\n",
    "            print('We recomend you this: ')\n",
    "            rnd=random.randint(0, 99)\n",
    "        \n",
    "            #using the df\n",
    "            print(df.iloc[rnd,1])\n",
    "            print('from: ', df.iloc[rnd,2])\n",
    "        \n",
    "        elif (user_ans=='no' or user_ans=='n'):\n",
    "            print('Maybe want to try search again?')\n",
    "        else:\n",
    "            print('Something went wrong')\n",
    "    \n",
    "    \n",
    "    else:\n",
    "        print('We didnt find anything')\n",
    "\n",
    "    "
   ]
  },
  {
   "cell_type": "code",
   "execution_count": 6,
   "metadata": {},
   "outputs": [
    {
     "data": {
      "application/vnd.jupyter.widget-view+json": {
       "model_id": "9ecd3efebe5a4444827a06a609efed57",
       "version_major": 2,
       "version_minor": 0
      },
      "text/plain": [
       "  0%|          | 0/100 [00:00<?, ?it/s]"
      ]
     },
     "metadata": {},
     "output_type": "display_data"
    },
    {
     "name": "stdout",
     "output_type": "stream",
     "text": [
      "What is the name of your song? formentera\n",
      "We didnt find anything\n"
     ]
    }
   ],
   "source": [
    "recomender_core()"
   ]
  },
  {
   "cell_type": "code",
   "execution_count": null,
   "metadata": {},
   "outputs": [],
   "source": []
  }
 ],
 "metadata": {
  "kernelspec": {
   "display_name": "Python 3 (ipykernel)",
   "language": "python",
   "name": "python3"
  },
  "language_info": {
   "codemirror_mode": {
    "name": "ipython",
    "version": 3
   },
   "file_extension": ".py",
   "mimetype": "text/x-python",
   "name": "python",
   "nbconvert_exporter": "python",
   "pygments_lexer": "ipython3",
   "version": "3.9.12"
  }
 },
 "nbformat": 4,
 "nbformat_minor": 4
}
