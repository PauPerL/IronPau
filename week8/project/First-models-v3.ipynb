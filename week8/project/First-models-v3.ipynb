{
 "cells": [
  {
   "cell_type": "markdown",
   "metadata": {},
   "source": [
    "# 1. Importing libraries"
   ]
  },
  {
   "cell_type": "code",
   "execution_count": 1,
   "metadata": {},
   "outputs": [
    {
     "name": "stderr",
     "output_type": "stream",
     "text": [
      "C:\\Users\\Krop\\anaconda3\\envs\\ClassPau\\lib\\site-packages\\statsmodels\\tsa\\base\\tsa_model.py:7: FutureWarning: pandas.Int64Index is deprecated and will be removed from pandas in a future version. Use pandas.Index with the appropriate dtype instead.\n",
      "  from pandas import (to_datetime, Int64Index, DatetimeIndex, Period,\n",
      "C:\\Users\\Krop\\anaconda3\\envs\\ClassPau\\lib\\site-packages\\statsmodels\\tsa\\base\\tsa_model.py:7: FutureWarning: pandas.Float64Index is deprecated and will be removed from pandas in a future version. Use pandas.Index with the appropriate dtype instead.\n",
      "  from pandas import (to_datetime, Int64Index, DatetimeIndex, Period,\n"
     ]
    }
   ],
   "source": [
    "import numpy as np\n",
    "import pandas as pd\n",
    "import seaborn as sns\n",
    "import matplotlib.pyplot as plt\n",
    "import datetime\n",
    "from dateutil.relativedelta import relativedelta\n",
    "import statsmodels.api as sm\n",
    "from datetime import datetime \n",
    "from statsmodels.graphics.tsaplots import plot_acf, plot_pacf\n",
    "\n",
    "from statsmodels.tsa.seasonal import seasonal_decompose\n",
    "\n",
    "from statsmodels.tsa.stattools import adfuller\n",
    "\n",
    "from statsmodels.tsa.arima.model import ARIMA\n",
    "# deprecated -- statsmodels.tsa.arima_model.ARIMA \n",
    "# should use -- statsmodels.tsa.arima.model.ARIMA\n",
    "from statsmodels.tsa.statespace.sarimax import SARIMAX\n",
    "\n",
    "from datetime import timedelta\n",
    "from time import time\n"
   ]
  },
  {
   "cell_type": "markdown",
   "metadata": {},
   "source": [
    "# 2 Preparing dataframe"
   ]
  },
  {
   "cell_type": "code",
   "execution_count": 2,
   "metadata": {},
   "outputs": [
    {
     "name": "stdout",
     "output_type": "stream",
     "text": [
      " Volume in drive C has no label.\n",
      " Volume Serial Number is EA54-6392\n",
      "\n",
      " Directory of C:\\Users\\Krop\\Documents\\Ironhack\\IronPau\\week8\\project\n",
      "\n",
      "03/06/2022  18:05    <DIR>          .\n",
      "03/06/2022  18:05    <DIR>          ..\n",
      "03/06/2022  14:42    <DIR>          .ipynb_checkpoints\n",
      "30/05/2022  18:10    <DIR>          Bacardi\n",
      "30/05/2022  15:17       440,848,929 Bacardi-20220530T131548Z-001.zip\n",
      "02/06/2022  11:48            82,805 first-look-w8d1.ipynb\n",
      "03/06/2022  12:03           667,112 First-models.ipynb\n",
      "03/06/2022  14:42           501,988 First-models-v2.ipynb\n",
      "03/06/2022  18:05           843,838 First-models-v3.ipynb\n",
      "02/06/2022  10:25           588,238 time_series_example_class-Copy1.ipynb\n",
      "               6 File(s)    443,532,910 bytes\n",
      "               4 Dir(s)  759,924,502,528 bytes free\n"
     ]
    }
   ],
   "source": [
    "ls"
   ]
  },
  {
   "cell_type": "code",
   "execution_count": 3,
   "metadata": {},
   "outputs": [
    {
     "name": "stdout",
     "output_type": "stream",
     "text": [
      "C:\\Users\\Krop\\Documents\\Ironhack\\IronPau\\week8\\project\\bacardi\\Files\n"
     ]
    }
   ],
   "source": [
    "cd bacardi\\Files"
   ]
  },
  {
   "cell_type": "code",
   "execution_count": 4,
   "metadata": {},
   "outputs": [
    {
     "name": "stdout",
     "output_type": "stream",
     "text": [
      " Volume in drive C has no label.\n",
      " Volume Serial Number is EA54-6392\n",
      "\n",
      " Directory of C:\\Users\\Krop\\Documents\\Ironhack\\IronPau\\week8\\project\\bacardi\\Files\n",
      "\n",
      "02/06/2022  19:39    <DIR>          .\n",
      "02/06/2022  19:39    <DIR>          ..\n",
      "03/05/2022  07:29        71,965,842 Digital_Commerce_Market Share US_UEBig5.xlsx\n",
      "03/05/2022  06:54        10,276,231 Digital_Commerce_Pure Players_US_UEbig5.xlsb\n",
      "09/05/2022  00:46        37,760,083 Digital_Commerce_RetailersCom_US_UEBig5.xlsx\n",
      "01/06/2022  09:26        11,763,614 Market_share_clean_v2.xlsx\n",
      "02/06/2022  10:31         3,267,508 pureRetailersCleanv1.csv\n",
      "03/06/2022  14:55             3,348 pureRetailersDuplicates.csv\n",
      "               6 File(s)    135,036,626 bytes\n",
      "               2 Dir(s)  759,924,502,528 bytes free\n"
     ]
    }
   ],
   "source": [
    "ls"
   ]
  },
  {
   "cell_type": "code",
   "execution_count": 5,
   "metadata": {},
   "outputs": [],
   "source": [
    "#we are interested on the dataframe [3]\n",
    "dfpurep = pd.read_excel('Digital_Commerce_Pure Players_US_UEbig5.xlsb', sheet_name=3, engine='pyxlsb')"
   ]
  },
  {
   "cell_type": "code",
   "execution_count": 6,
   "metadata": {
    "scrolled": true
   },
   "outputs": [
    {
     "name": "stdout",
     "output_type": "stream",
     "text": [
      "<class 'pandas.core.frame.DataFrame'>\n",
      "RangeIndex: 87244 entries, 0 to 87243\n",
      "Data columns (total 23 columns):\n",
      " #   Column              Non-Null Count  Dtype  \n",
      "---  ------              --------------  -----  \n",
      " 0   Budget Type         87244 non-null  object \n",
      " 1   Fiscal Year         87244 non-null  object \n",
      " 2   Month               87244 non-null  int64  \n",
      " 3   Customer Name       87244 non-null  object \n",
      " 4   Customer Group 1    87244 non-null  object \n",
      " 5   Customer Group 2    87244 non-null  object \n",
      " 6   Financial Category  87244 non-null  object \n",
      " 7   Category            87244 non-null  object \n",
      " 8   Brand               87244 non-null  object \n",
      " 9   Brandline           87244 non-null  object \n",
      " 10  Format              87243 non-null  float64\n",
      " 11  Classification      87244 non-null  object \n",
      " 12  Geography           87244 non-null  object \n",
      " 13  Region              87244 non-null  object \n",
      " 14  Agency Toggle       87244 non-null  object \n",
      " 15  IPC Value           87244 non-null  int64  \n",
      " 16  Market              87244 non-null  object \n",
      " 17  4 Digit Code        87244 non-null  int64  \n",
      " 18  Currency            87244 non-null  object \n",
      " 19  Vol 9LC             84076 non-null  float64\n",
      " 20  Manufacturer        87244 non-null  object \n",
      " 21  DataInd             86896 non-null  object \n",
      " 22  DataSource          87244 non-null  object \n",
      "dtypes: float64(2), int64(3), object(18)\n",
      "memory usage: 15.3+ MB\n"
     ]
    }
   ],
   "source": [
    "dfpurep.info() #inspect the df"
   ]
  },
  {
   "cell_type": "code",
   "execution_count": 7,
   "metadata": {},
   "outputs": [
    {
     "data": {
      "text/plain": [
       "Index(['Budget Type', 'Fiscal Year', 'Month', 'Customer Name',\n",
       "       'Customer Group 1', 'Customer Group 2', 'Financial Category',\n",
       "       'Category', 'Brand', 'Brandline', 'Format', 'Classification',\n",
       "       'Geography', 'Region', 'Agency Toggle', 'IPC Value', 'Market',\n",
       "       '4 Digit Code', 'Currency', 'Vol 9LC', 'Manufacturer', 'DataInd',\n",
       "       'DataSource'],\n",
       "      dtype='object')"
      ]
     },
     "execution_count": 7,
     "metadata": {},
     "output_type": "execute_result"
    }
   ],
   "source": [
    "dfpurep.columns"
   ]
  },
  {
   "cell_type": "code",
   "execution_count": 8,
   "metadata": {},
   "outputs": [
    {
     "data": {
      "text/plain": [
       "8"
      ]
     },
     "execution_count": 8,
     "metadata": {},
     "output_type": "execute_result"
    }
   ],
   "source": [
    "#look for duplicates\n",
    "dfpurep.duplicated().sum()"
   ]
  },
  {
   "cell_type": "code",
   "execution_count": 9,
   "metadata": {
    "scrolled": true
   },
   "outputs": [
    {
     "data": {
      "text/html": [
       "<div>\n",
       "<style scoped>\n",
       "    .dataframe tbody tr th:only-of-type {\n",
       "        vertical-align: middle;\n",
       "    }\n",
       "\n",
       "    .dataframe tbody tr th {\n",
       "        vertical-align: top;\n",
       "    }\n",
       "\n",
       "    .dataframe thead th {\n",
       "        text-align: right;\n",
       "    }\n",
       "</style>\n",
       "<table border=\"1\" class=\"dataframe\">\n",
       "  <thead>\n",
       "    <tr style=\"text-align: right;\">\n",
       "      <th></th>\n",
       "      <th>Budget Type</th>\n",
       "      <th>Fiscal Year</th>\n",
       "      <th>Month</th>\n",
       "      <th>Customer Name</th>\n",
       "      <th>Customer Group 1</th>\n",
       "      <th>Customer Group 2</th>\n",
       "      <th>Financial Category</th>\n",
       "      <th>Category</th>\n",
       "      <th>Brand</th>\n",
       "      <th>Brandline</th>\n",
       "      <th>...</th>\n",
       "      <th>Region</th>\n",
       "      <th>Agency Toggle</th>\n",
       "      <th>IPC Value</th>\n",
       "      <th>Market</th>\n",
       "      <th>4 Digit Code</th>\n",
       "      <th>Currency</th>\n",
       "      <th>Vol 9LC</th>\n",
       "      <th>Manufacturer</th>\n",
       "      <th>DataInd</th>\n",
       "      <th>DataSource</th>\n",
       "    </tr>\n",
       "  </thead>\n",
       "  <tbody>\n",
       "    <tr>\n",
       "      <th>37261</th>\n",
       "      <td>ACTUAL</td>\n",
       "      <td>FY22</td>\n",
       "      <td>44348</td>\n",
       "      <td>Tastillery GmbH</td>\n",
       "      <td>Other DE</td>\n",
       "      <td>Other DE</td>\n",
       "      <td>RUM</td>\n",
       "      <td>RUM</td>\n",
       "      <td>BACARDI</td>\n",
       "      <td>BACARDI OAKHEART ORIGINAL</td>\n",
       "      <td>...</td>\n",
       "      <td>EUROPE</td>\n",
       "      <td>N</td>\n",
       "      <td>4870009675</td>\n",
       "      <td>DE</td>\n",
       "      <td>4870</td>\n",
       "      <td>EUR</td>\n",
       "      <td>0.0</td>\n",
       "      <td>BACARDI</td>\n",
       "      <td>Sell In</td>\n",
       "      <td>NSV Europe</td>\n",
       "    </tr>\n",
       "    <tr>\n",
       "      <th>37262</th>\n",
       "      <td>ACTUAL</td>\n",
       "      <td>FY22</td>\n",
       "      <td>44348</td>\n",
       "      <td>Tastillery GmbH</td>\n",
       "      <td>Other DE</td>\n",
       "      <td>Other DE</td>\n",
       "      <td>RUM</td>\n",
       "      <td>RUM</td>\n",
       "      <td>BACARDI</td>\n",
       "      <td>BACARDI OAKHEART ORIGINAL</td>\n",
       "      <td>...</td>\n",
       "      <td>EUROPE</td>\n",
       "      <td>N</td>\n",
       "      <td>4870009675</td>\n",
       "      <td>DE</td>\n",
       "      <td>4870</td>\n",
       "      <td>EUR</td>\n",
       "      <td>0.0</td>\n",
       "      <td>BACARDI</td>\n",
       "      <td>Sell In</td>\n",
       "      <td>NSV Europe</td>\n",
       "    </tr>\n",
       "    <tr>\n",
       "      <th>37263</th>\n",
       "      <td>ACTUAL</td>\n",
       "      <td>FY22</td>\n",
       "      <td>44348</td>\n",
       "      <td>Tastillery GmbH</td>\n",
       "      <td>Other DE</td>\n",
       "      <td>Other DE</td>\n",
       "      <td>RUM</td>\n",
       "      <td>RUM</td>\n",
       "      <td>BACARDI</td>\n",
       "      <td>BACARDI OAKHEART ORIGINAL</td>\n",
       "      <td>...</td>\n",
       "      <td>EUROPE</td>\n",
       "      <td>N</td>\n",
       "      <td>4870010113</td>\n",
       "      <td>DE</td>\n",
       "      <td>4870</td>\n",
       "      <td>EUR</td>\n",
       "      <td>0.0</td>\n",
       "      <td>BACARDI</td>\n",
       "      <td>Sell In</td>\n",
       "      <td>NSV Europe</td>\n",
       "    </tr>\n",
       "    <tr>\n",
       "      <th>37264</th>\n",
       "      <td>ACTUAL</td>\n",
       "      <td>FY22</td>\n",
       "      <td>44348</td>\n",
       "      <td>Tastillery GmbH</td>\n",
       "      <td>Other DE</td>\n",
       "      <td>Other DE</td>\n",
       "      <td>RUM</td>\n",
       "      <td>RUM</td>\n",
       "      <td>BACARDI</td>\n",
       "      <td>BACARDI OAKHEART ORIGINAL</td>\n",
       "      <td>...</td>\n",
       "      <td>EUROPE</td>\n",
       "      <td>N</td>\n",
       "      <td>4870010113</td>\n",
       "      <td>DE</td>\n",
       "      <td>4870</td>\n",
       "      <td>EUR</td>\n",
       "      <td>0.0</td>\n",
       "      <td>BACARDI</td>\n",
       "      <td>Sell In</td>\n",
       "      <td>NSV Europe</td>\n",
       "    </tr>\n",
       "    <tr>\n",
       "      <th>37265</th>\n",
       "      <td>ACTUAL</td>\n",
       "      <td>FY22</td>\n",
       "      <td>44348</td>\n",
       "      <td>Tastillery GmbH</td>\n",
       "      <td>Other DE</td>\n",
       "      <td>Other DE</td>\n",
       "      <td>RUM</td>\n",
       "      <td>RUM</td>\n",
       "      <td>BACARDI</td>\n",
       "      <td>BACARDI OAKHEART ORIGINAL</td>\n",
       "      <td>...</td>\n",
       "      <td>EUROPE</td>\n",
       "      <td>N</td>\n",
       "      <td>4870009671</td>\n",
       "      <td>DE</td>\n",
       "      <td>4870</td>\n",
       "      <td>EUR</td>\n",
       "      <td>0.0</td>\n",
       "      <td>BACARDI</td>\n",
       "      <td>Sell In</td>\n",
       "      <td>NSV Europe</td>\n",
       "    </tr>\n",
       "    <tr>\n",
       "      <th>37266</th>\n",
       "      <td>ACTUAL</td>\n",
       "      <td>FY22</td>\n",
       "      <td>44348</td>\n",
       "      <td>Tastillery GmbH</td>\n",
       "      <td>Other DE</td>\n",
       "      <td>Other DE</td>\n",
       "      <td>RUM</td>\n",
       "      <td>RUM</td>\n",
       "      <td>BACARDI</td>\n",
       "      <td>BACARDI OAKHEART ORIGINAL</td>\n",
       "      <td>...</td>\n",
       "      <td>EUROPE</td>\n",
       "      <td>N</td>\n",
       "      <td>4870009671</td>\n",
       "      <td>DE</td>\n",
       "      <td>4870</td>\n",
       "      <td>EUR</td>\n",
       "      <td>0.0</td>\n",
       "      <td>BACARDI</td>\n",
       "      <td>Sell In</td>\n",
       "      <td>NSV Europe</td>\n",
       "    </tr>\n",
       "    <tr>\n",
       "      <th>41191</th>\n",
       "      <td>ACTUAL</td>\n",
       "      <td>FY22</td>\n",
       "      <td>44440</td>\n",
       "      <td>YOPOGOELHIELO</td>\n",
       "      <td>YOPOGOELHIELO</td>\n",
       "      <td>YOPOGOELHIELO</td>\n",
       "      <td>RUM</td>\n",
       "      <td>RUM</td>\n",
       "      <td>BACARDI</td>\n",
       "      <td>BACARDI OAKHEART ORIGINAL</td>\n",
       "      <td>...</td>\n",
       "      <td>EUROPE</td>\n",
       "      <td>N</td>\n",
       "      <td>4870002859</td>\n",
       "      <td>ES</td>\n",
       "      <td>4870</td>\n",
       "      <td>EUR</td>\n",
       "      <td>0.0</td>\n",
       "      <td>BACARDI</td>\n",
       "      <td>Sell In</td>\n",
       "      <td>NSV Europe</td>\n",
       "    </tr>\n",
       "    <tr>\n",
       "      <th>41192</th>\n",
       "      <td>ACTUAL</td>\n",
       "      <td>FY22</td>\n",
       "      <td>44440</td>\n",
       "      <td>YOPOGOELHIELO</td>\n",
       "      <td>YOPOGOELHIELO</td>\n",
       "      <td>YOPOGOELHIELO</td>\n",
       "      <td>RUM</td>\n",
       "      <td>RUM</td>\n",
       "      <td>BACARDI</td>\n",
       "      <td>BACARDI OAKHEART ORIGINAL</td>\n",
       "      <td>...</td>\n",
       "      <td>EUROPE</td>\n",
       "      <td>N</td>\n",
       "      <td>4870002859</td>\n",
       "      <td>ES</td>\n",
       "      <td>4870</td>\n",
       "      <td>EUR</td>\n",
       "      <td>0.0</td>\n",
       "      <td>BACARDI</td>\n",
       "      <td>Sell In</td>\n",
       "      <td>NSV Europe</td>\n",
       "    </tr>\n",
       "    <tr>\n",
       "      <th>44703</th>\n",
       "      <td>ACTUAL</td>\n",
       "      <td>FY22</td>\n",
       "      <td>44531</td>\n",
       "      <td>Knuspr.de</td>\n",
       "      <td>Other DE</td>\n",
       "      <td>Other DE</td>\n",
       "      <td>RUM</td>\n",
       "      <td>RUM</td>\n",
       "      <td>BACARDI</td>\n",
       "      <td>BACARDI OAKHEART ORIGINAL</td>\n",
       "      <td>...</td>\n",
       "      <td>EUROPE</td>\n",
       "      <td>N</td>\n",
       "      <td>4870009671</td>\n",
       "      <td>DE</td>\n",
       "      <td>4870</td>\n",
       "      <td>EUR</td>\n",
       "      <td>0.0</td>\n",
       "      <td>BACARDI</td>\n",
       "      <td>Sell In</td>\n",
       "      <td>NSV Europe</td>\n",
       "    </tr>\n",
       "    <tr>\n",
       "      <th>44704</th>\n",
       "      <td>ACTUAL</td>\n",
       "      <td>FY22</td>\n",
       "      <td>44531</td>\n",
       "      <td>Knuspr.de</td>\n",
       "      <td>Other DE</td>\n",
       "      <td>Other DE</td>\n",
       "      <td>RUM</td>\n",
       "      <td>RUM</td>\n",
       "      <td>BACARDI</td>\n",
       "      <td>BACARDI OAKHEART ORIGINAL</td>\n",
       "      <td>...</td>\n",
       "      <td>EUROPE</td>\n",
       "      <td>N</td>\n",
       "      <td>4870009671</td>\n",
       "      <td>DE</td>\n",
       "      <td>4870</td>\n",
       "      <td>EUR</td>\n",
       "      <td>0.0</td>\n",
       "      <td>BACARDI</td>\n",
       "      <td>Sell In</td>\n",
       "      <td>NSV Europe</td>\n",
       "    </tr>\n",
       "    <tr>\n",
       "      <th>44729</th>\n",
       "      <td>ACTUAL</td>\n",
       "      <td>FY22</td>\n",
       "      <td>44531</td>\n",
       "      <td>La Compagnie Du Rhum</td>\n",
       "      <td>La Compagnie Du Rhum</td>\n",
       "      <td>La Compagnie Du Rhum</td>\n",
       "      <td>RUM</td>\n",
       "      <td>RUM</td>\n",
       "      <td>BACARDI</td>\n",
       "      <td>BACARDI OAKHEART ORIGINAL</td>\n",
       "      <td>...</td>\n",
       "      <td>EUROPE</td>\n",
       "      <td>N</td>\n",
       "      <td>4870003253</td>\n",
       "      <td>FR</td>\n",
       "      <td>4870</td>\n",
       "      <td>EUR</td>\n",
       "      <td>0.0</td>\n",
       "      <td>BACARDI</td>\n",
       "      <td>Sell In</td>\n",
       "      <td>NSV Europe</td>\n",
       "    </tr>\n",
       "    <tr>\n",
       "      <th>44730</th>\n",
       "      <td>ACTUAL</td>\n",
       "      <td>FY22</td>\n",
       "      <td>44531</td>\n",
       "      <td>La Compagnie Du Rhum</td>\n",
       "      <td>La Compagnie Du Rhum</td>\n",
       "      <td>La Compagnie Du Rhum</td>\n",
       "      <td>RUM</td>\n",
       "      <td>RUM</td>\n",
       "      <td>BACARDI</td>\n",
       "      <td>BACARDI OAKHEART ORIGINAL</td>\n",
       "      <td>...</td>\n",
       "      <td>EUROPE</td>\n",
       "      <td>N</td>\n",
       "      <td>4870003253</td>\n",
       "      <td>FR</td>\n",
       "      <td>4870</td>\n",
       "      <td>EUR</td>\n",
       "      <td>0.0</td>\n",
       "      <td>BACARDI</td>\n",
       "      <td>Sell In</td>\n",
       "      <td>NSV Europe</td>\n",
       "    </tr>\n",
       "    <tr>\n",
       "      <th>48660</th>\n",
       "      <td>ACTUAL</td>\n",
       "      <td>FY22</td>\n",
       "      <td>44621</td>\n",
       "      <td>Knuspr.de</td>\n",
       "      <td>Other DE</td>\n",
       "      <td>Other DE</td>\n",
       "      <td>RUM</td>\n",
       "      <td>RUM</td>\n",
       "      <td>BACARDI</td>\n",
       "      <td>BACARDI OAKHEART ORIGINAL</td>\n",
       "      <td>...</td>\n",
       "      <td>EUROPE</td>\n",
       "      <td>N</td>\n",
       "      <td>4870012665</td>\n",
       "      <td>DE</td>\n",
       "      <td>4870</td>\n",
       "      <td>EUR</td>\n",
       "      <td>0.0</td>\n",
       "      <td>BACARDI</td>\n",
       "      <td>Sell In</td>\n",
       "      <td>NSV Europe</td>\n",
       "    </tr>\n",
       "    <tr>\n",
       "      <th>48661</th>\n",
       "      <td>ACTUAL</td>\n",
       "      <td>FY22</td>\n",
       "      <td>44621</td>\n",
       "      <td>Knuspr.de</td>\n",
       "      <td>Other DE</td>\n",
       "      <td>Other DE</td>\n",
       "      <td>RUM</td>\n",
       "      <td>RUM</td>\n",
       "      <td>BACARDI</td>\n",
       "      <td>BACARDI OAKHEART ORIGINAL</td>\n",
       "      <td>...</td>\n",
       "      <td>EUROPE</td>\n",
       "      <td>N</td>\n",
       "      <td>4870012665</td>\n",
       "      <td>DE</td>\n",
       "      <td>4870</td>\n",
       "      <td>EUR</td>\n",
       "      <td>0.0</td>\n",
       "      <td>BACARDI</td>\n",
       "      <td>Sell In</td>\n",
       "      <td>NSV Europe</td>\n",
       "    </tr>\n",
       "    <tr>\n",
       "      <th>48689</th>\n",
       "      <td>ACTUAL</td>\n",
       "      <td>FY22</td>\n",
       "      <td>44621</td>\n",
       "      <td>La Compagnie Du Rhum</td>\n",
       "      <td>La Compagnie Du Rhum</td>\n",
       "      <td>La Compagnie Du Rhum</td>\n",
       "      <td>RUM</td>\n",
       "      <td>RUM</td>\n",
       "      <td>BACARDI</td>\n",
       "      <td>BACARDI OAKHEART ORIGINAL</td>\n",
       "      <td>...</td>\n",
       "      <td>EUROPE</td>\n",
       "      <td>N</td>\n",
       "      <td>4870003253</td>\n",
       "      <td>FR</td>\n",
       "      <td>4870</td>\n",
       "      <td>EUR</td>\n",
       "      <td>0.0</td>\n",
       "      <td>BACARDI</td>\n",
       "      <td>Sell In</td>\n",
       "      <td>NSV Europe</td>\n",
       "    </tr>\n",
       "    <tr>\n",
       "      <th>48690</th>\n",
       "      <td>ACTUAL</td>\n",
       "      <td>FY22</td>\n",
       "      <td>44621</td>\n",
       "      <td>La Compagnie Du Rhum</td>\n",
       "      <td>La Compagnie Du Rhum</td>\n",
       "      <td>La Compagnie Du Rhum</td>\n",
       "      <td>RUM</td>\n",
       "      <td>RUM</td>\n",
       "      <td>BACARDI</td>\n",
       "      <td>BACARDI OAKHEART ORIGINAL</td>\n",
       "      <td>...</td>\n",
       "      <td>EUROPE</td>\n",
       "      <td>N</td>\n",
       "      <td>4870003253</td>\n",
       "      <td>FR</td>\n",
       "      <td>4870</td>\n",
       "      <td>EUR</td>\n",
       "      <td>0.0</td>\n",
       "      <td>BACARDI</td>\n",
       "      <td>Sell In</td>\n",
       "      <td>NSV Europe</td>\n",
       "    </tr>\n",
       "  </tbody>\n",
       "</table>\n",
       "<p>16 rows × 23 columns</p>\n",
       "</div>"
      ],
      "text/plain": [
       "      Budget Type Fiscal Year  Month          Customer Name  \\\n",
       "37261      ACTUAL        FY22  44348        Tastillery GmbH   \n",
       "37262      ACTUAL        FY22  44348        Tastillery GmbH   \n",
       "37263      ACTUAL        FY22  44348        Tastillery GmbH   \n",
       "37264      ACTUAL        FY22  44348        Tastillery GmbH   \n",
       "37265      ACTUAL        FY22  44348        Tastillery GmbH   \n",
       "37266      ACTUAL        FY22  44348        Tastillery GmbH   \n",
       "41191      ACTUAL        FY22  44440          YOPOGOELHIELO   \n",
       "41192      ACTUAL        FY22  44440          YOPOGOELHIELO   \n",
       "44703      ACTUAL        FY22  44531              Knuspr.de   \n",
       "44704      ACTUAL        FY22  44531              Knuspr.de   \n",
       "44729      ACTUAL        FY22  44531  La Compagnie Du Rhum    \n",
       "44730      ACTUAL        FY22  44531  La Compagnie Du Rhum    \n",
       "48660      ACTUAL        FY22  44621              Knuspr.de   \n",
       "48661      ACTUAL        FY22  44621              Knuspr.de   \n",
       "48689      ACTUAL        FY22  44621  La Compagnie Du Rhum    \n",
       "48690      ACTUAL        FY22  44621  La Compagnie Du Rhum    \n",
       "\n",
       "            Customer Group 1       Customer Group 2 Financial Category  \\\n",
       "37261               Other DE               Other DE                RUM   \n",
       "37262               Other DE               Other DE                RUM   \n",
       "37263               Other DE               Other DE                RUM   \n",
       "37264               Other DE               Other DE                RUM   \n",
       "37265               Other DE               Other DE                RUM   \n",
       "37266               Other DE               Other DE                RUM   \n",
       "41191          YOPOGOELHIELO          YOPOGOELHIELO                RUM   \n",
       "41192          YOPOGOELHIELO          YOPOGOELHIELO                RUM   \n",
       "44703               Other DE               Other DE                RUM   \n",
       "44704               Other DE               Other DE                RUM   \n",
       "44729  La Compagnie Du Rhum   La Compagnie Du Rhum                 RUM   \n",
       "44730  La Compagnie Du Rhum   La Compagnie Du Rhum                 RUM   \n",
       "48660               Other DE               Other DE                RUM   \n",
       "48661               Other DE               Other DE                RUM   \n",
       "48689  La Compagnie Du Rhum   La Compagnie Du Rhum                 RUM   \n",
       "48690  La Compagnie Du Rhum   La Compagnie Du Rhum                 RUM   \n",
       "\n",
       "      Category    Brand                  Brandline  ...  Region Agency Toggle  \\\n",
       "37261      RUM  BACARDI  BACARDI OAKHEART ORIGINAL  ...  EUROPE             N   \n",
       "37262      RUM  BACARDI  BACARDI OAKHEART ORIGINAL  ...  EUROPE             N   \n",
       "37263      RUM  BACARDI  BACARDI OAKHEART ORIGINAL  ...  EUROPE             N   \n",
       "37264      RUM  BACARDI  BACARDI OAKHEART ORIGINAL  ...  EUROPE             N   \n",
       "37265      RUM  BACARDI  BACARDI OAKHEART ORIGINAL  ...  EUROPE             N   \n",
       "37266      RUM  BACARDI  BACARDI OAKHEART ORIGINAL  ...  EUROPE             N   \n",
       "41191      RUM  BACARDI  BACARDI OAKHEART ORIGINAL  ...  EUROPE             N   \n",
       "41192      RUM  BACARDI  BACARDI OAKHEART ORIGINAL  ...  EUROPE             N   \n",
       "44703      RUM  BACARDI  BACARDI OAKHEART ORIGINAL  ...  EUROPE             N   \n",
       "44704      RUM  BACARDI  BACARDI OAKHEART ORIGINAL  ...  EUROPE             N   \n",
       "44729      RUM  BACARDI  BACARDI OAKHEART ORIGINAL  ...  EUROPE             N   \n",
       "44730      RUM  BACARDI  BACARDI OAKHEART ORIGINAL  ...  EUROPE             N   \n",
       "48660      RUM  BACARDI  BACARDI OAKHEART ORIGINAL  ...  EUROPE             N   \n",
       "48661      RUM  BACARDI  BACARDI OAKHEART ORIGINAL  ...  EUROPE             N   \n",
       "48689      RUM  BACARDI  BACARDI OAKHEART ORIGINAL  ...  EUROPE             N   \n",
       "48690      RUM  BACARDI  BACARDI OAKHEART ORIGINAL  ...  EUROPE             N   \n",
       "\n",
       "        IPC Value Market 4 Digit Code  Currency Vol 9LC  Manufacturer  \\\n",
       "37261  4870009675     DE         4870       EUR     0.0       BACARDI   \n",
       "37262  4870009675     DE         4870       EUR     0.0       BACARDI   \n",
       "37263  4870010113     DE         4870       EUR     0.0       BACARDI   \n",
       "37264  4870010113     DE         4870       EUR     0.0       BACARDI   \n",
       "37265  4870009671     DE         4870       EUR     0.0       BACARDI   \n",
       "37266  4870009671     DE         4870       EUR     0.0       BACARDI   \n",
       "41191  4870002859     ES         4870       EUR     0.0       BACARDI   \n",
       "41192  4870002859     ES         4870       EUR     0.0       BACARDI   \n",
       "44703  4870009671     DE         4870       EUR     0.0       BACARDI   \n",
       "44704  4870009671     DE         4870       EUR     0.0       BACARDI   \n",
       "44729  4870003253     FR         4870       EUR     0.0       BACARDI   \n",
       "44730  4870003253     FR         4870       EUR     0.0       BACARDI   \n",
       "48660  4870012665     DE         4870       EUR     0.0       BACARDI   \n",
       "48661  4870012665     DE         4870       EUR     0.0       BACARDI   \n",
       "48689  4870003253     FR         4870       EUR     0.0       BACARDI   \n",
       "48690  4870003253     FR         4870       EUR     0.0       BACARDI   \n",
       "\n",
       "       DataInd  DataSource  \n",
       "37261  Sell In  NSV Europe  \n",
       "37262  Sell In  NSV Europe  \n",
       "37263  Sell In  NSV Europe  \n",
       "37264  Sell In  NSV Europe  \n",
       "37265  Sell In  NSV Europe  \n",
       "37266  Sell In  NSV Europe  \n",
       "41191  Sell In  NSV Europe  \n",
       "41192  Sell In  NSV Europe  \n",
       "44703  Sell In  NSV Europe  \n",
       "44704  Sell In  NSV Europe  \n",
       "44729  Sell In  NSV Europe  \n",
       "44730  Sell In  NSV Europe  \n",
       "48660  Sell In  NSV Europe  \n",
       "48661  Sell In  NSV Europe  \n",
       "48689  Sell In  NSV Europe  \n",
       "48690  Sell In  NSV Europe  \n",
       "\n",
       "[16 rows x 23 columns]"
      ]
     },
     "execution_count": 9,
     "metadata": {},
     "output_type": "execute_result"
    }
   ],
   "source": [
    "#look how are this duplicates\n",
    "dfduplicates=dfpurep[dfpurep.duplicated(keep=False)]\n",
    "dfduplicates"
   ]
  },
  {
   "cell_type": "code",
   "execution_count": 10,
   "metadata": {
    "scrolled": true
   },
   "outputs": [],
   "source": [
    "dfduplicates.to_csv('pureRetailersDuplicates.csv')"
   ]
  },
  {
   "cell_type": "code",
   "execution_count": 11,
   "metadata": {},
   "outputs": [
    {
     "data": {
      "text/plain": [
       "0"
      ]
     },
     "execution_count": 11,
     "metadata": {},
     "output_type": "execute_result"
    }
   ],
   "source": [
    "#drop the duplicates\n",
    "dfpurep = dfpurep.drop_duplicates()\n",
    "dfpurep.duplicated().sum()"
   ]
  },
  {
   "cell_type": "code",
   "execution_count": 12,
   "metadata": {},
   "outputs": [],
   "source": [
    "#reset the index\n",
    "dfpurep.reset_index(drop=True, inplace=True)"
   ]
  },
  {
   "cell_type": "code",
   "execution_count": 13,
   "metadata": {},
   "outputs": [],
   "source": [
    "#we select only the columns we are interested in\n",
    "data1=dfpurep[['Fiscal Year', 'Month','Category', 'Geography', 'Vol 9LC']]"
   ]
  },
  {
   "cell_type": "code",
   "execution_count": 14,
   "metadata": {
    "scrolled": true
   },
   "outputs": [
    {
     "name": "stdout",
     "output_type": "stream",
     "text": [
      "<class 'pandas.core.frame.DataFrame'>\n",
      "RangeIndex: 87236 entries, 0 to 87235\n",
      "Data columns (total 5 columns):\n",
      " #   Column       Non-Null Count  Dtype  \n",
      "---  ------       --------------  -----  \n",
      " 0   Fiscal Year  87236 non-null  object \n",
      " 1   Month        87236 non-null  int64  \n",
      " 2   Category     87236 non-null  object \n",
      " 3   Geography    87236 non-null  object \n",
      " 4   Vol 9LC      84068 non-null  float64\n",
      "dtypes: float64(1), int64(1), object(3)\n",
      "memory usage: 3.3+ MB\n"
     ]
    }
   ],
   "source": [
    "data1.info()"
   ]
  },
  {
   "cell_type": "code",
   "execution_count": 15,
   "metadata": {},
   "outputs": [],
   "source": [
    "#selecting only germany rum data\n",
    "dfGRum=data1.loc[(data1['Geography'] == 'Germany') & (data1['Category'] == 'RUM')]"
   ]
  },
  {
   "cell_type": "code",
   "execution_count": 16,
   "metadata": {
    "scrolled": true
   },
   "outputs": [
    {
     "data": {
      "text/html": [
       "<div>\n",
       "<style scoped>\n",
       "    .dataframe tbody tr th:only-of-type {\n",
       "        vertical-align: middle;\n",
       "    }\n",
       "\n",
       "    .dataframe tbody tr th {\n",
       "        vertical-align: top;\n",
       "    }\n",
       "\n",
       "    .dataframe thead th {\n",
       "        text-align: right;\n",
       "    }\n",
       "</style>\n",
       "<table border=\"1\" class=\"dataframe\">\n",
       "  <thead>\n",
       "    <tr style=\"text-align: right;\">\n",
       "      <th></th>\n",
       "      <th>Fiscal Year</th>\n",
       "      <th>Month</th>\n",
       "      <th>Category</th>\n",
       "      <th>Geography</th>\n",
       "      <th>Vol 9LC</th>\n",
       "    </tr>\n",
       "  </thead>\n",
       "  <tbody>\n",
       "    <tr>\n",
       "      <th>24288</th>\n",
       "      <td>FY20</td>\n",
       "      <td>43556</td>\n",
       "      <td>RUM</td>\n",
       "      <td>Germany</td>\n",
       "      <td>NaN</td>\n",
       "    </tr>\n",
       "    <tr>\n",
       "      <th>24289</th>\n",
       "      <td>FY20</td>\n",
       "      <td>43556</td>\n",
       "      <td>RUM</td>\n",
       "      <td>Germany</td>\n",
       "      <td>6.666667</td>\n",
       "    </tr>\n",
       "    <tr>\n",
       "      <th>24290</th>\n",
       "      <td>FY20</td>\n",
       "      <td>43556</td>\n",
       "      <td>RUM</td>\n",
       "      <td>Germany</td>\n",
       "      <td>0.466667</td>\n",
       "    </tr>\n",
       "    <tr>\n",
       "      <th>24291</th>\n",
       "      <td>FY20</td>\n",
       "      <td>43556</td>\n",
       "      <td>RUM</td>\n",
       "      <td>Germany</td>\n",
       "      <td>2.000000</td>\n",
       "    </tr>\n",
       "    <tr>\n",
       "      <th>24292</th>\n",
       "      <td>FY20</td>\n",
       "      <td>43556</td>\n",
       "      <td>RUM</td>\n",
       "      <td>Germany</td>\n",
       "      <td>21.000000</td>\n",
       "    </tr>\n",
       "    <tr>\n",
       "      <th>...</th>\n",
       "      <td>...</td>\n",
       "      <td>...</td>\n",
       "      <td>...</td>\n",
       "      <td>...</td>\n",
       "      <td>...</td>\n",
       "    </tr>\n",
       "    <tr>\n",
       "      <th>87186</th>\n",
       "      <td>FY21</td>\n",
       "      <td>44256</td>\n",
       "      <td>RUM</td>\n",
       "      <td>Germany</td>\n",
       "      <td>2.000000</td>\n",
       "    </tr>\n",
       "    <tr>\n",
       "      <th>87187</th>\n",
       "      <td>FY21</td>\n",
       "      <td>44256</td>\n",
       "      <td>RUM</td>\n",
       "      <td>Germany</td>\n",
       "      <td>0.000000</td>\n",
       "    </tr>\n",
       "    <tr>\n",
       "      <th>87188</th>\n",
       "      <td>FY21</td>\n",
       "      <td>44256</td>\n",
       "      <td>RUM</td>\n",
       "      <td>Germany</td>\n",
       "      <td>1.400000</td>\n",
       "    </tr>\n",
       "    <tr>\n",
       "      <th>87189</th>\n",
       "      <td>FY21</td>\n",
       "      <td>44256</td>\n",
       "      <td>RUM</td>\n",
       "      <td>Germany</td>\n",
       "      <td>0.466667</td>\n",
       "    </tr>\n",
       "    <tr>\n",
       "      <th>87190</th>\n",
       "      <td>FY21</td>\n",
       "      <td>44256</td>\n",
       "      <td>RUM</td>\n",
       "      <td>Germany</td>\n",
       "      <td>1.400000</td>\n",
       "    </tr>\n",
       "  </tbody>\n",
       "</table>\n",
       "<p>5050 rows × 5 columns</p>\n",
       "</div>"
      ],
      "text/plain": [
       "      Fiscal Year  Month Category Geography    Vol 9LC\n",
       "24288        FY20  43556      RUM   Germany        NaN\n",
       "24289        FY20  43556      RUM   Germany   6.666667\n",
       "24290        FY20  43556      RUM   Germany   0.466667\n",
       "24291        FY20  43556      RUM   Germany   2.000000\n",
       "24292        FY20  43556      RUM   Germany  21.000000\n",
       "...           ...    ...      ...       ...        ...\n",
       "87186        FY21  44256      RUM   Germany   2.000000\n",
       "87187        FY21  44256      RUM   Germany   0.000000\n",
       "87188        FY21  44256      RUM   Germany   1.400000\n",
       "87189        FY21  44256      RUM   Germany   0.466667\n",
       "87190        FY21  44256      RUM   Germany   1.400000\n",
       "\n",
       "[5050 rows x 5 columns]"
      ]
     },
     "execution_count": 16,
     "metadata": {},
     "output_type": "execute_result"
    }
   ],
   "source": [
    "dfGRum"
   ]
  },
  {
   "cell_type": "code",
   "execution_count": 17,
   "metadata": {},
   "outputs": [
    {
     "name": "stdout",
     "output_type": "stream",
     "text": [
      "False\n",
      "False\n",
      "True\n"
     ]
    }
   ],
   "source": [
    "#check the nulls for each column\n",
    "print(dfGRum['Fiscal Year'].isnull().values.any())\n",
    "print(dfGRum['Month'].isnull().values.any())\n",
    "print(dfGRum['Vol 9LC'].isnull().values.any())\n"
   ]
  },
  {
   "cell_type": "code",
   "execution_count": 18,
   "metadata": {},
   "outputs": [
    {
     "name": "stderr",
     "output_type": "stream",
     "text": [
      "C:\\Users\\Krop\\AppData\\Local\\Temp/ipykernel_21120/1903365417.py:2: SettingWithCopyWarning: \n",
      "A value is trying to be set on a copy of a slice from a DataFrame\n",
      "\n",
      "See the caveats in the documentation: https://pandas.pydata.org/pandas-docs/stable/user_guide/indexing.html#returning-a-view-versus-a-copy\n",
      "  dfGRum.dropna(subset=['Vol 9LC'], inplace = True)\n"
     ]
    }
   ],
   "source": [
    "#drop the nulls \n",
    "dfGRum.dropna(subset=['Vol 9LC'], inplace = True)"
   ]
  },
  {
   "cell_type": "code",
   "execution_count": 19,
   "metadata": {},
   "outputs": [
    {
     "name": "stdout",
     "output_type": "stream",
     "text": [
      "False\n"
     ]
    }
   ],
   "source": [
    "#check to be sure\n",
    "print(dfGRum['Vol 9LC'].isnull().values.any())"
   ]
  },
  {
   "cell_type": "code",
   "execution_count": 20,
   "metadata": {},
   "outputs": [],
   "source": [
    "#reset index\n",
    "dfGRum.reset_index(drop=True, inplace=True)"
   ]
  },
  {
   "cell_type": "code",
   "execution_count": 21,
   "metadata": {},
   "outputs": [],
   "source": [
    "#we use a hnady function to convert the months into date\n",
    "def convert_int_date(ordinal_date):\n",
    "    date_time = datetime.fromordinal(\n",
    "        datetime(1900, 1, 1).toordinal() + ordinal_date - 2\n",
    "    )\n",
    "    return date_time"
   ]
  },
  {
   "cell_type": "code",
   "execution_count": 22,
   "metadata": {},
   "outputs": [
    {
     "name": "stderr",
     "output_type": "stream",
     "text": [
      "C:\\Users\\Krop\\AppData\\Local\\Temp/ipykernel_21120/674866573.py:2: SettingWithCopyWarning: \n",
      "A value is trying to be set on a copy of a slice from a DataFrame.\n",
      "Try using .loc[row_indexer,col_indexer] = value instead\n",
      "\n",
      "See the caveats in the documentation: https://pandas.pydata.org/pandas-docs/stable/user_guide/indexing.html#returning-a-view-versus-a-copy\n",
      "  dfGRum[\"Month\"] = dfGRum[\"Month\"].astype(int).apply(convert_int_date)\n"
     ]
    }
   ],
   "source": [
    "#we apply the function in the column\n",
    "dfGRum[\"Month\"] = dfGRum[\"Month\"].astype(int).apply(convert_int_date)"
   ]
  },
  {
   "cell_type": "code",
   "execution_count": 23,
   "metadata": {},
   "outputs": [
    {
     "data": {
      "text/html": [
       "<div>\n",
       "<style scoped>\n",
       "    .dataframe tbody tr th:only-of-type {\n",
       "        vertical-align: middle;\n",
       "    }\n",
       "\n",
       "    .dataframe tbody tr th {\n",
       "        vertical-align: top;\n",
       "    }\n",
       "\n",
       "    .dataframe thead th {\n",
       "        text-align: right;\n",
       "    }\n",
       "</style>\n",
       "<table border=\"1\" class=\"dataframe\">\n",
       "  <thead>\n",
       "    <tr style=\"text-align: right;\">\n",
       "      <th></th>\n",
       "      <th>Fiscal Year</th>\n",
       "      <th>Month</th>\n",
       "      <th>Category</th>\n",
       "      <th>Geography</th>\n",
       "      <th>Vol 9LC</th>\n",
       "    </tr>\n",
       "  </thead>\n",
       "  <tbody>\n",
       "    <tr>\n",
       "      <th>0</th>\n",
       "      <td>FY20</td>\n",
       "      <td>2019-04-01</td>\n",
       "      <td>RUM</td>\n",
       "      <td>Germany</td>\n",
       "      <td>6.666667</td>\n",
       "    </tr>\n",
       "    <tr>\n",
       "      <th>1</th>\n",
       "      <td>FY20</td>\n",
       "      <td>2019-04-01</td>\n",
       "      <td>RUM</td>\n",
       "      <td>Germany</td>\n",
       "      <td>0.466667</td>\n",
       "    </tr>\n",
       "    <tr>\n",
       "      <th>2</th>\n",
       "      <td>FY20</td>\n",
       "      <td>2019-04-01</td>\n",
       "      <td>RUM</td>\n",
       "      <td>Germany</td>\n",
       "      <td>2.000000</td>\n",
       "    </tr>\n",
       "    <tr>\n",
       "      <th>3</th>\n",
       "      <td>FY20</td>\n",
       "      <td>2019-04-01</td>\n",
       "      <td>RUM</td>\n",
       "      <td>Germany</td>\n",
       "      <td>21.000000</td>\n",
       "    </tr>\n",
       "    <tr>\n",
       "      <th>4</th>\n",
       "      <td>FY20</td>\n",
       "      <td>2019-04-01</td>\n",
       "      <td>RUM</td>\n",
       "      <td>Germany</td>\n",
       "      <td>7.000000</td>\n",
       "    </tr>\n",
       "    <tr>\n",
       "      <th>...</th>\n",
       "      <td>...</td>\n",
       "      <td>...</td>\n",
       "      <td>...</td>\n",
       "      <td>...</td>\n",
       "      <td>...</td>\n",
       "    </tr>\n",
       "    <tr>\n",
       "      <th>4807</th>\n",
       "      <td>FY21</td>\n",
       "      <td>2021-03-01</td>\n",
       "      <td>RUM</td>\n",
       "      <td>Germany</td>\n",
       "      <td>2.000000</td>\n",
       "    </tr>\n",
       "    <tr>\n",
       "      <th>4808</th>\n",
       "      <td>FY21</td>\n",
       "      <td>2021-03-01</td>\n",
       "      <td>RUM</td>\n",
       "      <td>Germany</td>\n",
       "      <td>0.000000</td>\n",
       "    </tr>\n",
       "    <tr>\n",
       "      <th>4809</th>\n",
       "      <td>FY21</td>\n",
       "      <td>2021-03-01</td>\n",
       "      <td>RUM</td>\n",
       "      <td>Germany</td>\n",
       "      <td>1.400000</td>\n",
       "    </tr>\n",
       "    <tr>\n",
       "      <th>4810</th>\n",
       "      <td>FY21</td>\n",
       "      <td>2021-03-01</td>\n",
       "      <td>RUM</td>\n",
       "      <td>Germany</td>\n",
       "      <td>0.466667</td>\n",
       "    </tr>\n",
       "    <tr>\n",
       "      <th>4811</th>\n",
       "      <td>FY21</td>\n",
       "      <td>2021-03-01</td>\n",
       "      <td>RUM</td>\n",
       "      <td>Germany</td>\n",
       "      <td>1.400000</td>\n",
       "    </tr>\n",
       "  </tbody>\n",
       "</table>\n",
       "<p>4812 rows × 5 columns</p>\n",
       "</div>"
      ],
      "text/plain": [
       "     Fiscal Year      Month Category Geography    Vol 9LC\n",
       "0           FY20 2019-04-01      RUM   Germany   6.666667\n",
       "1           FY20 2019-04-01      RUM   Germany   0.466667\n",
       "2           FY20 2019-04-01      RUM   Germany   2.000000\n",
       "3           FY20 2019-04-01      RUM   Germany  21.000000\n",
       "4           FY20 2019-04-01      RUM   Germany   7.000000\n",
       "...          ...        ...      ...       ...        ...\n",
       "4807        FY21 2021-03-01      RUM   Germany   2.000000\n",
       "4808        FY21 2021-03-01      RUM   Germany   0.000000\n",
       "4809        FY21 2021-03-01      RUM   Germany   1.400000\n",
       "4810        FY21 2021-03-01      RUM   Germany   0.466667\n",
       "4811        FY21 2021-03-01      RUM   Germany   1.400000\n",
       "\n",
       "[4812 rows x 5 columns]"
      ]
     },
     "execution_count": 23,
     "metadata": {},
     "output_type": "execute_result"
    }
   ],
   "source": [
    "dfGRum"
   ]
  },
  {
   "cell_type": "code",
   "execution_count": 24,
   "metadata": {},
   "outputs": [
    {
     "name": "stderr",
     "output_type": "stream",
     "text": [
      "C:\\Users\\Krop\\AppData\\Local\\Temp/ipykernel_21120/4043047071.py:1: SettingWithCopyWarning: \n",
      "A value is trying to be set on a copy of a slice from a DataFrame\n",
      "\n",
      "See the caveats in the documentation: https://pandas.pydata.org/pandas-docs/stable/user_guide/indexing.html#returning-a-view-versus-a-copy\n",
      "  dfGRum.rename(columns={'Fiscal Year': 'Fiscal_Year',\n"
     ]
    }
   ],
   "source": [
    "dfGRum.rename(columns={'Fiscal Year': 'Fiscal_Year',\n",
    "                   'Vol 9LC': 'Vol_9LC'},\n",
    "          inplace=True, errors='raise')"
   ]
  },
  {
   "cell_type": "code",
   "execution_count": 25,
   "metadata": {},
   "outputs": [
    {
     "name": "stdout",
     "output_type": "stream",
     "text": [
      "<class 'pandas.core.frame.DataFrame'>\n",
      "RangeIndex: 4812 entries, 0 to 4811\n",
      "Data columns (total 5 columns):\n",
      " #   Column       Non-Null Count  Dtype         \n",
      "---  ------       --------------  -----         \n",
      " 0   Fiscal_Year  4812 non-null   object        \n",
      " 1   Month        4812 non-null   datetime64[ns]\n",
      " 2   Category     4812 non-null   object        \n",
      " 3   Geography    4812 non-null   object        \n",
      " 4   Vol_9LC      4812 non-null   float64       \n",
      "dtypes: datetime64[ns](1), float64(1), object(3)\n",
      "memory usage: 188.1+ KB\n"
     ]
    }
   ],
   "source": [
    "dfGRum.info()"
   ]
  },
  {
   "cell_type": "raw",
   "metadata": {},
   "source": [
    "# change index in to date\n",
    "dfGRum.index=pd.DatetimeIndex(dfGRum['Month'])"
   ]
  },
  {
   "cell_type": "raw",
   "metadata": {},
   "source": [
    "dfGRum"
   ]
  },
  {
   "cell_type": "code",
   "execution_count": null,
   "metadata": {},
   "outputs": [],
   "source": []
  },
  {
   "cell_type": "markdown",
   "metadata": {},
   "source": [
    "### on the idea of groupby month\n"
   ]
  },
  {
   "cell_type": "code",
   "execution_count": 26,
   "metadata": {
    "scrolled": true
   },
   "outputs": [],
   "source": [
    "dfGRum=dfGRum.reset_index(drop=True)"
   ]
  },
  {
   "cell_type": "code",
   "execution_count": 27,
   "metadata": {},
   "outputs": [
    {
     "data": {
      "text/html": [
       "<div>\n",
       "<style scoped>\n",
       "    .dataframe tbody tr th:only-of-type {\n",
       "        vertical-align: middle;\n",
       "    }\n",
       "\n",
       "    .dataframe tbody tr th {\n",
       "        vertical-align: top;\n",
       "    }\n",
       "\n",
       "    .dataframe thead th {\n",
       "        text-align: right;\n",
       "    }\n",
       "</style>\n",
       "<table border=\"1\" class=\"dataframe\">\n",
       "  <thead>\n",
       "    <tr style=\"text-align: right;\">\n",
       "      <th></th>\n",
       "      <th>Fiscal_Year</th>\n",
       "      <th>Month</th>\n",
       "      <th>Category</th>\n",
       "      <th>Geography</th>\n",
       "      <th>Vol_9LC</th>\n",
       "    </tr>\n",
       "  </thead>\n",
       "  <tbody>\n",
       "    <tr>\n",
       "      <th>0</th>\n",
       "      <td>FY20</td>\n",
       "      <td>2019-04-01</td>\n",
       "      <td>RUM</td>\n",
       "      <td>Germany</td>\n",
       "      <td>6.666667</td>\n",
       "    </tr>\n",
       "    <tr>\n",
       "      <th>1</th>\n",
       "      <td>FY20</td>\n",
       "      <td>2019-04-01</td>\n",
       "      <td>RUM</td>\n",
       "      <td>Germany</td>\n",
       "      <td>0.466667</td>\n",
       "    </tr>\n",
       "    <tr>\n",
       "      <th>2</th>\n",
       "      <td>FY20</td>\n",
       "      <td>2019-04-01</td>\n",
       "      <td>RUM</td>\n",
       "      <td>Germany</td>\n",
       "      <td>2.000000</td>\n",
       "    </tr>\n",
       "    <tr>\n",
       "      <th>3</th>\n",
       "      <td>FY20</td>\n",
       "      <td>2019-04-01</td>\n",
       "      <td>RUM</td>\n",
       "      <td>Germany</td>\n",
       "      <td>21.000000</td>\n",
       "    </tr>\n",
       "    <tr>\n",
       "      <th>4</th>\n",
       "      <td>FY20</td>\n",
       "      <td>2019-04-01</td>\n",
       "      <td>RUM</td>\n",
       "      <td>Germany</td>\n",
       "      <td>7.000000</td>\n",
       "    </tr>\n",
       "    <tr>\n",
       "      <th>...</th>\n",
       "      <td>...</td>\n",
       "      <td>...</td>\n",
       "      <td>...</td>\n",
       "      <td>...</td>\n",
       "      <td>...</td>\n",
       "    </tr>\n",
       "    <tr>\n",
       "      <th>4807</th>\n",
       "      <td>FY21</td>\n",
       "      <td>2021-03-01</td>\n",
       "      <td>RUM</td>\n",
       "      <td>Germany</td>\n",
       "      <td>2.000000</td>\n",
       "    </tr>\n",
       "    <tr>\n",
       "      <th>4808</th>\n",
       "      <td>FY21</td>\n",
       "      <td>2021-03-01</td>\n",
       "      <td>RUM</td>\n",
       "      <td>Germany</td>\n",
       "      <td>0.000000</td>\n",
       "    </tr>\n",
       "    <tr>\n",
       "      <th>4809</th>\n",
       "      <td>FY21</td>\n",
       "      <td>2021-03-01</td>\n",
       "      <td>RUM</td>\n",
       "      <td>Germany</td>\n",
       "      <td>1.400000</td>\n",
       "    </tr>\n",
       "    <tr>\n",
       "      <th>4810</th>\n",
       "      <td>FY21</td>\n",
       "      <td>2021-03-01</td>\n",
       "      <td>RUM</td>\n",
       "      <td>Germany</td>\n",
       "      <td>0.466667</td>\n",
       "    </tr>\n",
       "    <tr>\n",
       "      <th>4811</th>\n",
       "      <td>FY21</td>\n",
       "      <td>2021-03-01</td>\n",
       "      <td>RUM</td>\n",
       "      <td>Germany</td>\n",
       "      <td>1.400000</td>\n",
       "    </tr>\n",
       "  </tbody>\n",
       "</table>\n",
       "<p>4812 rows × 5 columns</p>\n",
       "</div>"
      ],
      "text/plain": [
       "     Fiscal_Year      Month Category Geography    Vol_9LC\n",
       "0           FY20 2019-04-01      RUM   Germany   6.666667\n",
       "1           FY20 2019-04-01      RUM   Germany   0.466667\n",
       "2           FY20 2019-04-01      RUM   Germany   2.000000\n",
       "3           FY20 2019-04-01      RUM   Germany  21.000000\n",
       "4           FY20 2019-04-01      RUM   Germany   7.000000\n",
       "...          ...        ...      ...       ...        ...\n",
       "4807        FY21 2021-03-01      RUM   Germany   2.000000\n",
       "4808        FY21 2021-03-01      RUM   Germany   0.000000\n",
       "4809        FY21 2021-03-01      RUM   Germany   1.400000\n",
       "4810        FY21 2021-03-01      RUM   Germany   0.466667\n",
       "4811        FY21 2021-03-01      RUM   Germany   1.400000\n",
       "\n",
       "[4812 rows x 5 columns]"
      ]
     },
     "execution_count": 27,
     "metadata": {},
     "output_type": "execute_result"
    }
   ],
   "source": [
    "dfGRum"
   ]
  },
  {
   "cell_type": "code",
   "execution_count": 28,
   "metadata": {
    "scrolled": true
   },
   "outputs": [
    {
     "name": "stdout",
     "output_type": "stream",
     "text": [
      "[ 6.66666700e+00  4.66667000e-01  2.00000000e+00  2.10000000e+01\n",
      "  7.00000000e+00  5.13333300e+00  1.40000000e+00  1.00000000e+01\n",
      "  5.30000000e+01  1.10000000e+01  2.33333000e-01  9.33333000e-01\n",
      "  2.80000000e+00  6.53333300e+00  1.33333300e+00  2.66666700e+00\n",
      "  6.66667000e-01  2.33333300e+00  4.66666700e+00  1.86666700e+00\n",
      "  4.00000000e+00  3.26666700e+00  6.90000000e+01  5.60000000e+00\n",
      "  1.90000000e+01  2.23333330e+01 -2.33333000e-01  3.33333300e+00\n",
      "  1.00000000e+00  1.91333330e+01  1.06000000e+02  1.16666670e+01\n",
      "  3.03333300e+00  6.00000000e+00  2.20000000e+01  3.64000000e+01\n",
      "  3.73333300e+00  4.10000000e+01  7.93333300e+00  1.53333330e+01\n",
      "  2.50000000e+01  1.06666670e+01  1.77333330e+01  2.52000000e+01\n",
      "  3.33333000e-01  5.33333300e+00  9.90000000e+01  1.80000000e+01\n",
      "  6.22067000e-01  7.79330000e-02  7.77000000e-02  1.66666700e+00\n",
      "  2.40000000e+01  1.63333300e+00  1.50000000e+01  2.89333330e+01\n",
      "  3.03333330e+01  3.33333330e+01  1.26000000e+01  2.80000000e+01\n",
      "  1.09000000e+02  6.34666670e+01  1.40000000e+01  1.04333333e+02\n",
      "  4.34000000e+01  4.66666670e+01  3.11267000e-01  1.58666670e+01\n",
      "  7.46666700e+00  2.14666670e+01  6.06666700e+00  1.70333330e+01\n",
      "  3.66666700e+00  1.21333330e+01  2.04866667e+02 -7.77000000e-02\n",
      "  9.33333300e+00  1.86666670e+01  7.33333300e+00  1.28000000e+02\n",
      "  5.04000000e+01  9.70666670e+01  5.00000000e+00  7.83300000e+00\n",
      "  8.86666700e+00  4.20000000e+01  8.33333300e+00  2.94000000e+01\n",
      "  7.66666700e+00  1.22266700e+00  1.88866700e+00  0.00000000e+00\n",
      "  3.50000000e+01  9.80000000e+00  3.80000000e+01  2.47333330e+01\n",
      "  6.30000000e+01  1.43333330e+01  2.75333330e+01  8.00000000e+00\n",
      "  2.00000000e-01  4.20000000e+00  3.00000000e+00  7.56000000e+01\n",
      "  9.14666670e+01  2.24000000e+01  2.98666670e+01  3.40000000e+01\n",
      "  4.50000000e+01  3.68666670e+01  1.60922067e+02  2.20000000e+00\n",
      "  1.33333330e+01  1.55633000e-01  8.40000000e+01  5.83333330e+01\n",
      "  9.33333330e+01  4.99333330e+01  1.72200000e+02  2.60000000e+01\n",
      "  8.70000000e+01  2.46666670e+01  3.50000000e+00  7.00000000e-01\n",
      "  6.39333330e+01  6.00000000e-01  1.46666670e+01  1.40000000e+02\n",
      "  3.10000000e+01  3.46666670e+01  1.96000000e+01  3.73333330e+01\n",
      "  3.20000000e+01  4.85333330e+01  4.00000000e-01  1.02666670e+01\n",
      "  2.00000000e+01  2.66000000e+01  1.35333330e+01  5.93333330e+01\n",
      "  3.96666670e+01  5.08666670e+01  8.24460000e+00  2.00666670e+01\n",
      "  1.49333330e+01  1.20000000e+01  1.30666670e+01  3.82666670e+01\n",
      "  4.06666670e+01  2.19333330e+01  5.13333330e+01  3.23333330e+01\n",
      "  9.56666670e+01  2.56666700e+00  3.08000000e+01  2.13333330e+01\n",
      "  1.13333330e+01  1.44666670e+01  4.76000000e+01  7.30000000e+01\n",
      "  1.16666700e+00  6.67333330e+01 -4.66667000e-01 -6.66667000e-01\n",
      "  1.12000000e+01  5.78666670e+01  3.54666670e+01  4.52666670e+01\n",
      "  2.93333330e+01  4.46666670e+01  2.90000000e+01  4.16666670e+01\n",
      "  3.59333330e+01  1.82000000e+01  8.96000000e+01  1.07333330e+01\n",
      "  8.00000000e-01  2.33333330e+01  6.00000000e+01  1.66666670e+01\n",
      "  6.26666670e+01  3.30000000e+01  3.26666670e+01  8.40000000e+00\n",
      "  3.88733000e-01  1.63333330e+01  1.20000000e+00  1.16666667e+02\n",
      " -1.86666700e+00 -7.79330000e-02  1.54000000e+01  4.80000000e+01\n",
      "  3.13333330e+01  9.60000000e+01  2.43333330e+01  2.42666670e+01\n",
      "  3.53333330e+01  1.44000000e+02  2.63333330e+01  4.10666670e+01\n",
      "  1.55400000e-01  4.38666670e+01  1.72666670e+01  8.66666700e+00\n",
      "  3.36000000e+01  1.86666600e+00  9.33334000e-01  1.68000000e+01\n",
      "  5.18000000e+01  1.73333330e+01  7.23333330e+01  7.16666670e+01\n",
      "  2.33333400e+00  2.61333330e+01  2.56666660e+01  2.54666667e+02\n",
      "  2.28666670e+01  2.05333330e+01  5.92666670e+01  3.92000000e+01\n",
      "  7.49000000e+01  3.87333330e+01  4.30000000e+01  1.75000000e+02\n",
      "  7.14000000e+01  3.31333330e+01  1.26666670e+01  5.57666670e+01\n",
      "  2.38000000e+02  1.60000000e+01  1.07333333e+02  6.20666670e+01\n",
      "  4.45666670e+01  1.07333340e+01  1.02000000e+02  6.16000000e+01\n",
      "  1.50266667e+02  4.57333330e+01  1.19000000e+02  1.37000000e+02\n",
      "  4.94666670e+01  7.46666670e+01  4.24666670e+01  1.63333340e+01\n",
      "  5.40000000e+01  2.38000000e+01]\n"
     ]
    }
   ],
   "source": [
    "#we should think about the negative values that we saw in the excel\n",
    "print(dfGRum['Vol_9LC'].unique())"
   ]
  },
  {
   "cell_type": "code",
   "execution_count": 29,
   "metadata": {
    "scrolled": true
   },
   "outputs": [
    {
     "data": {
      "text/html": [
       "<div>\n",
       "<style scoped>\n",
       "    .dataframe tbody tr th:only-of-type {\n",
       "        vertical-align: middle;\n",
       "    }\n",
       "\n",
       "    .dataframe tbody tr th {\n",
       "        vertical-align: top;\n",
       "    }\n",
       "\n",
       "    .dataframe thead th {\n",
       "        text-align: right;\n",
       "    }\n",
       "</style>\n",
       "<table border=\"1\" class=\"dataframe\">\n",
       "  <thead>\n",
       "    <tr style=\"text-align: right;\">\n",
       "      <th></th>\n",
       "      <th>Vol_9LC</th>\n",
       "    </tr>\n",
       "    <tr>\n",
       "      <th>Month</th>\n",
       "      <th></th>\n",
       "    </tr>\n",
       "  </thead>\n",
       "  <tbody>\n",
       "    <tr>\n",
       "      <th>2019-04-01</th>\n",
       "      <td>165.266668</td>\n",
       "    </tr>\n",
       "    <tr>\n",
       "      <th>2019-05-01</th>\n",
       "      <td>176.966667</td>\n",
       "    </tr>\n",
       "    <tr>\n",
       "      <th>2019-06-01</th>\n",
       "      <td>243.366666</td>\n",
       "    </tr>\n",
       "    <tr>\n",
       "      <th>2019-07-01</th>\n",
       "      <td>207.199999</td>\n",
       "    </tr>\n",
       "    <tr>\n",
       "      <th>2019-08-01</th>\n",
       "      <td>200.466439</td>\n",
       "    </tr>\n",
       "    <tr>\n",
       "      <th>2019-09-01</th>\n",
       "      <td>142.555631</td>\n",
       "    </tr>\n",
       "    <tr>\n",
       "      <th>2019-10-01</th>\n",
       "      <td>561.977931</td>\n",
       "    </tr>\n",
       "    <tr>\n",
       "      <th>2019-11-01</th>\n",
       "      <td>356.088971</td>\n",
       "    </tr>\n",
       "    <tr>\n",
       "      <th>2019-12-01</th>\n",
       "      <td>487.277701</td>\n",
       "    </tr>\n",
       "    <tr>\n",
       "      <th>2020-01-01</th>\n",
       "      <td>58.333000</td>\n",
       "    </tr>\n",
       "    <tr>\n",
       "      <th>2020-02-01</th>\n",
       "      <td>137.744372</td>\n",
       "    </tr>\n",
       "    <tr>\n",
       "      <th>2020-03-01</th>\n",
       "      <td>133.989339</td>\n",
       "    </tr>\n",
       "    <tr>\n",
       "      <th>2020-04-01</th>\n",
       "      <td>244.622070</td>\n",
       "    </tr>\n",
       "    <tr>\n",
       "      <th>2020-05-01</th>\n",
       "      <td>250.366672</td>\n",
       "    </tr>\n",
       "    <tr>\n",
       "      <th>2020-06-01</th>\n",
       "      <td>247.533339</td>\n",
       "    </tr>\n",
       "    <tr>\n",
       "      <th>2020-07-01</th>\n",
       "      <td>366.533109</td>\n",
       "    </tr>\n",
       "    <tr>\n",
       "      <th>2020-08-01</th>\n",
       "      <td>566.433336</td>\n",
       "    </tr>\n",
       "    <tr>\n",
       "      <th>2020-09-01</th>\n",
       "      <td>577.966671</td>\n",
       "    </tr>\n",
       "    <tr>\n",
       "      <th>2020-10-01</th>\n",
       "      <td>753.133333</td>\n",
       "    </tr>\n",
       "    <tr>\n",
       "      <th>2020-11-01</th>\n",
       "      <td>615.266678</td>\n",
       "    </tr>\n",
       "    <tr>\n",
       "      <th>2020-12-01</th>\n",
       "      <td>685.166673</td>\n",
       "    </tr>\n",
       "    <tr>\n",
       "      <th>2021-01-01</th>\n",
       "      <td>219.166671</td>\n",
       "    </tr>\n",
       "    <tr>\n",
       "      <th>2021-02-01</th>\n",
       "      <td>244.333340</td>\n",
       "    </tr>\n",
       "    <tr>\n",
       "      <th>2021-03-01</th>\n",
       "      <td>366.433336</td>\n",
       "    </tr>\n",
       "    <tr>\n",
       "      <th>2021-04-01</th>\n",
       "      <td>418.222005</td>\n",
       "    </tr>\n",
       "    <tr>\n",
       "      <th>2021-05-01</th>\n",
       "      <td>1183.755639</td>\n",
       "    </tr>\n",
       "    <tr>\n",
       "      <th>2021-06-01</th>\n",
       "      <td>845.733337</td>\n",
       "    </tr>\n",
       "    <tr>\n",
       "      <th>2021-07-01</th>\n",
       "      <td>814.200003</td>\n",
       "    </tr>\n",
       "    <tr>\n",
       "      <th>2021-08-01</th>\n",
       "      <td>542.244600</td>\n",
       "    </tr>\n",
       "    <tr>\n",
       "      <th>2021-09-01</th>\n",
       "      <td>637.233333</td>\n",
       "    </tr>\n",
       "    <tr>\n",
       "      <th>2021-10-01</th>\n",
       "      <td>568.300002</td>\n",
       "    </tr>\n",
       "    <tr>\n",
       "      <th>2021-11-01</th>\n",
       "      <td>780.733339</td>\n",
       "    </tr>\n",
       "    <tr>\n",
       "      <th>2021-12-01</th>\n",
       "      <td>700.100005</td>\n",
       "    </tr>\n",
       "    <tr>\n",
       "      <th>2022-01-01</th>\n",
       "      <td>559.044138</td>\n",
       "    </tr>\n",
       "    <tr>\n",
       "      <th>2022-02-01</th>\n",
       "      <td>626.533333</td>\n",
       "    </tr>\n",
       "    <tr>\n",
       "      <th>2022-03-01</th>\n",
       "      <td>691.099767</td>\n",
       "    </tr>\n",
       "  </tbody>\n",
       "</table>\n",
       "</div>"
      ],
      "text/plain": [
       "                Vol_9LC\n",
       "Month                  \n",
       "2019-04-01   165.266668\n",
       "2019-05-01   176.966667\n",
       "2019-06-01   243.366666\n",
       "2019-07-01   207.199999\n",
       "2019-08-01   200.466439\n",
       "2019-09-01   142.555631\n",
       "2019-10-01   561.977931\n",
       "2019-11-01   356.088971\n",
       "2019-12-01   487.277701\n",
       "2020-01-01    58.333000\n",
       "2020-02-01   137.744372\n",
       "2020-03-01   133.989339\n",
       "2020-04-01   244.622070\n",
       "2020-05-01   250.366672\n",
       "2020-06-01   247.533339\n",
       "2020-07-01   366.533109\n",
       "2020-08-01   566.433336\n",
       "2020-09-01   577.966671\n",
       "2020-10-01   753.133333\n",
       "2020-11-01   615.266678\n",
       "2020-12-01   685.166673\n",
       "2021-01-01   219.166671\n",
       "2021-02-01   244.333340\n",
       "2021-03-01   366.433336\n",
       "2021-04-01   418.222005\n",
       "2021-05-01  1183.755639\n",
       "2021-06-01   845.733337\n",
       "2021-07-01   814.200003\n",
       "2021-08-01   542.244600\n",
       "2021-09-01   637.233333\n",
       "2021-10-01   568.300002\n",
       "2021-11-01   780.733339\n",
       "2021-12-01   700.100005\n",
       "2022-01-01   559.044138\n",
       "2022-02-01   626.533333\n",
       "2022-03-01   691.099767"
      ]
     },
     "execution_count": 29,
     "metadata": {},
     "output_type": "execute_result"
    }
   ],
   "source": [
    "dfGRum.groupby(['Month']).sum()"
   ]
  },
  {
   "cell_type": "code",
   "execution_count": 30,
   "metadata": {},
   "outputs": [],
   "source": [
    "hist_dfGRum=dfGRum.groupby(['Month']).sum()"
   ]
  },
  {
   "cell_type": "code",
   "execution_count": 31,
   "metadata": {
    "scrolled": true
   },
   "outputs": [
    {
     "data": {
      "text/html": [
       "<div>\n",
       "<style scoped>\n",
       "    .dataframe tbody tr th:only-of-type {\n",
       "        vertical-align: middle;\n",
       "    }\n",
       "\n",
       "    .dataframe tbody tr th {\n",
       "        vertical-align: top;\n",
       "    }\n",
       "\n",
       "    .dataframe thead th {\n",
       "        text-align: right;\n",
       "    }\n",
       "</style>\n",
       "<table border=\"1\" class=\"dataframe\">\n",
       "  <thead>\n",
       "    <tr style=\"text-align: right;\">\n",
       "      <th></th>\n",
       "      <th>Vol_9LC</th>\n",
       "    </tr>\n",
       "    <tr>\n",
       "      <th>Month</th>\n",
       "      <th></th>\n",
       "    </tr>\n",
       "  </thead>\n",
       "  <tbody>\n",
       "    <tr>\n",
       "      <th>2019-04-01</th>\n",
       "      <td>165.266668</td>\n",
       "    </tr>\n",
       "    <tr>\n",
       "      <th>2019-05-01</th>\n",
       "      <td>176.966667</td>\n",
       "    </tr>\n",
       "    <tr>\n",
       "      <th>2019-06-01</th>\n",
       "      <td>243.366666</td>\n",
       "    </tr>\n",
       "    <tr>\n",
       "      <th>2019-07-01</th>\n",
       "      <td>207.199999</td>\n",
       "    </tr>\n",
       "    <tr>\n",
       "      <th>2019-08-01</th>\n",
       "      <td>200.466439</td>\n",
       "    </tr>\n",
       "    <tr>\n",
       "      <th>2019-09-01</th>\n",
       "      <td>142.555631</td>\n",
       "    </tr>\n",
       "    <tr>\n",
       "      <th>2019-10-01</th>\n",
       "      <td>561.977931</td>\n",
       "    </tr>\n",
       "    <tr>\n",
       "      <th>2019-11-01</th>\n",
       "      <td>356.088971</td>\n",
       "    </tr>\n",
       "    <tr>\n",
       "      <th>2019-12-01</th>\n",
       "      <td>487.277701</td>\n",
       "    </tr>\n",
       "    <tr>\n",
       "      <th>2020-01-01</th>\n",
       "      <td>58.333000</td>\n",
       "    </tr>\n",
       "    <tr>\n",
       "      <th>2020-02-01</th>\n",
       "      <td>137.744372</td>\n",
       "    </tr>\n",
       "    <tr>\n",
       "      <th>2020-03-01</th>\n",
       "      <td>133.989339</td>\n",
       "    </tr>\n",
       "    <tr>\n",
       "      <th>2020-04-01</th>\n",
       "      <td>244.622070</td>\n",
       "    </tr>\n",
       "    <tr>\n",
       "      <th>2020-05-01</th>\n",
       "      <td>250.366672</td>\n",
       "    </tr>\n",
       "    <tr>\n",
       "      <th>2020-06-01</th>\n",
       "      <td>247.533339</td>\n",
       "    </tr>\n",
       "    <tr>\n",
       "      <th>2020-07-01</th>\n",
       "      <td>366.533109</td>\n",
       "    </tr>\n",
       "    <tr>\n",
       "      <th>2020-08-01</th>\n",
       "      <td>566.433336</td>\n",
       "    </tr>\n",
       "    <tr>\n",
       "      <th>2020-09-01</th>\n",
       "      <td>577.966671</td>\n",
       "    </tr>\n",
       "    <tr>\n",
       "      <th>2020-10-01</th>\n",
       "      <td>753.133333</td>\n",
       "    </tr>\n",
       "    <tr>\n",
       "      <th>2020-11-01</th>\n",
       "      <td>615.266678</td>\n",
       "    </tr>\n",
       "    <tr>\n",
       "      <th>2020-12-01</th>\n",
       "      <td>685.166673</td>\n",
       "    </tr>\n",
       "    <tr>\n",
       "      <th>2021-01-01</th>\n",
       "      <td>219.166671</td>\n",
       "    </tr>\n",
       "    <tr>\n",
       "      <th>2021-02-01</th>\n",
       "      <td>244.333340</td>\n",
       "    </tr>\n",
       "    <tr>\n",
       "      <th>2021-03-01</th>\n",
       "      <td>366.433336</td>\n",
       "    </tr>\n",
       "    <tr>\n",
       "      <th>2021-04-01</th>\n",
       "      <td>418.222005</td>\n",
       "    </tr>\n",
       "    <tr>\n",
       "      <th>2021-05-01</th>\n",
       "      <td>1183.755639</td>\n",
       "    </tr>\n",
       "    <tr>\n",
       "      <th>2021-06-01</th>\n",
       "      <td>845.733337</td>\n",
       "    </tr>\n",
       "    <tr>\n",
       "      <th>2021-07-01</th>\n",
       "      <td>814.200003</td>\n",
       "    </tr>\n",
       "    <tr>\n",
       "      <th>2021-08-01</th>\n",
       "      <td>542.244600</td>\n",
       "    </tr>\n",
       "    <tr>\n",
       "      <th>2021-09-01</th>\n",
       "      <td>637.233333</td>\n",
       "    </tr>\n",
       "    <tr>\n",
       "      <th>2021-10-01</th>\n",
       "      <td>568.300002</td>\n",
       "    </tr>\n",
       "    <tr>\n",
       "      <th>2021-11-01</th>\n",
       "      <td>780.733339</td>\n",
       "    </tr>\n",
       "    <tr>\n",
       "      <th>2021-12-01</th>\n",
       "      <td>700.100005</td>\n",
       "    </tr>\n",
       "    <tr>\n",
       "      <th>2022-01-01</th>\n",
       "      <td>559.044138</td>\n",
       "    </tr>\n",
       "    <tr>\n",
       "      <th>2022-02-01</th>\n",
       "      <td>626.533333</td>\n",
       "    </tr>\n",
       "    <tr>\n",
       "      <th>2022-03-01</th>\n",
       "      <td>691.099767</td>\n",
       "    </tr>\n",
       "  </tbody>\n",
       "</table>\n",
       "</div>"
      ],
      "text/plain": [
       "                Vol_9LC\n",
       "Month                  \n",
       "2019-04-01   165.266668\n",
       "2019-05-01   176.966667\n",
       "2019-06-01   243.366666\n",
       "2019-07-01   207.199999\n",
       "2019-08-01   200.466439\n",
       "2019-09-01   142.555631\n",
       "2019-10-01   561.977931\n",
       "2019-11-01   356.088971\n",
       "2019-12-01   487.277701\n",
       "2020-01-01    58.333000\n",
       "2020-02-01   137.744372\n",
       "2020-03-01   133.989339\n",
       "2020-04-01   244.622070\n",
       "2020-05-01   250.366672\n",
       "2020-06-01   247.533339\n",
       "2020-07-01   366.533109\n",
       "2020-08-01   566.433336\n",
       "2020-09-01   577.966671\n",
       "2020-10-01   753.133333\n",
       "2020-11-01   615.266678\n",
       "2020-12-01   685.166673\n",
       "2021-01-01   219.166671\n",
       "2021-02-01   244.333340\n",
       "2021-03-01   366.433336\n",
       "2021-04-01   418.222005\n",
       "2021-05-01  1183.755639\n",
       "2021-06-01   845.733337\n",
       "2021-07-01   814.200003\n",
       "2021-08-01   542.244600\n",
       "2021-09-01   637.233333\n",
       "2021-10-01   568.300002\n",
       "2021-11-01   780.733339\n",
       "2021-12-01   700.100005\n",
       "2022-01-01   559.044138\n",
       "2022-02-01   626.533333\n",
       "2022-03-01   691.099767"
      ]
     },
     "execution_count": 31,
     "metadata": {},
     "output_type": "execute_result"
    }
   ],
   "source": [
    "hist_dfGRum"
   ]
  },
  {
   "cell_type": "code",
   "execution_count": 32,
   "metadata": {},
   "outputs": [],
   "source": [
    "#we could reset the name of the index if we wanted to with the next comand\n",
    "\n",
    "# df = df.rename_axis(None, axis = 1)"
   ]
  },
  {
   "cell_type": "code",
   "execution_count": 33,
   "metadata": {},
   "outputs": [],
   "source": [
    "#consider scaling the data to get better models as we have data that is not stationary"
   ]
  },
  {
   "cell_type": "raw",
   "metadata": {},
   "source": [
    "# check for normality\n",
    "plt.hist(hist_dfGRum['Vol_9LC'], bins=50);\n"
   ]
  },
  {
   "cell_type": "raw",
   "metadata": {},
   "source": [
    "# apply a log transformation to normalize the data\n",
    "hist_dfGRum['Vol_9LC_log'] = np.log(hist_dfGRum['Vol_9LC'])"
   ]
  },
  {
   "cell_type": "raw",
   "metadata": {},
   "source": [
    "# check for normality\n",
    "plt.hist(hist_dfGRum['Vol_9LC_log'], bins=50);"
   ]
  },
  {
   "cell_type": "markdown",
   "metadata": {},
   "source": [
    "## 2.2 Visualization"
   ]
  },
  {
   "cell_type": "code",
   "execution_count": 34,
   "metadata": {},
   "outputs": [],
   "source": [
    "#set seaborn\n",
    "sns.set(rc={'figure.figsize':(20,8)})\n",
    "sns.set_style('whitegrid')"
   ]
  },
  {
   "cell_type": "code",
   "execution_count": 35,
   "metadata": {},
   "outputs": [
    {
     "data": {
      "image/png": "[encoded data removed]",
      "text/plain": [
       "<Figure size 1440x576 with 1 Axes>"
      ]
     },
     "metadata": {},
     "output_type": "display_data"
    }
   ],
   "source": [
    "#first plot\n",
    "ax=sns.lineplot(x='Month',y='Vol_9LC',data=hist_dfGRum)\n",
    "plt.xticks(dfGRum['Month'])\n",
    "ax.tick_params(axis='x',rotation=45);"
   ]
  },
  {
   "cell_type": "markdown",
   "metadata": {},
   "source": [
    "#  3 Data preprocessing for time-series forecasting"
   ]
  },
  {
   "cell_type": "code",
   "execution_count": 36,
   "metadata": {},
   "outputs": [
    {
     "data": {
      "image/png": "[encoded data removed]",
      "text/plain": [
       "<Figure size 1440x576 with 4 Axes>"
      ]
     },
     "metadata": {},
     "output_type": "display_data"
    }
   ],
   "source": [
    "# decomposition plot\n",
    "\n",
    "decomp=seasonal_decompose(hist_dfGRum['Vol_9LC'])\n",
    "decomp.plot()\n",
    "plt.show();"
   ]
  },
  {
   "cell_type": "code",
   "execution_count": 37,
   "metadata": {},
   "outputs": [
    {
     "data": {
      "text/plain": [
       "<AxesSubplot:xlabel='Month'>"
      ]
     },
     "execution_count": 37,
     "metadata": {},
     "output_type": "execute_result"
    },
    {
     "data": {
      "image/png": "[encoded data removed]",
      "text/plain": [
       "<Figure size 1440x576 with 1 Axes>"
      ]
     },
     "metadata": {},
     "output_type": "display_data"
    }
   ],
   "source": [
    "seasonality=decomp.seasonal\n",
    "seasonality.plot(color='green')"
   ]
  },
  {
   "cell_type": "code",
   "execution_count": 38,
   "metadata": {
    "scrolled": true
   },
   "outputs": [
    {
     "data": {
      "image/png": "[encoded data removed]",
      "text/plain": [
       "<Figure size 1440x576 with 1 Axes>"
      ]
     },
     "execution_count": 38,
     "metadata": {},
     "output_type": "execute_result"
    },
    {
     "data": {
      "image/png": "[encoded data removed]",
      "text/plain": [
       "<Figure size 1440x576 with 1 Axes>"
      ]
     },
     "metadata": {},
     "output_type": "display_data"
    }
   ],
   "source": [
    "# check autocorrelation\n",
    "\n",
    "\n",
    "plot_pacf(hist_dfGRum)\n",
    "\n"
   ]
  },
  {
   "cell_type": "raw",
   "metadata": {},
   "source": [
    "The null hypothesis of the ADF test is that a unit root is present in the time series. The alternative hypothesis is that the data is stationary.\n",
    "\n",
    "The second value is the p-value. If this p-value is smaller than 0.05 you can reject the null hypothesis (reject non-stationarity) and accept the alternative hypothesis (stationarity). "
   ]
  },
  {
   "cell_type": "code",
   "execution_count": 39,
   "metadata": {},
   "outputs": [
    {
     "name": "stdout",
     "output_type": "stream",
     "text": [
      "ADF test statistic: -2.7273790084059586\n",
      "ADF p-values: 0.06941914676221339\n",
      "ADF number of lags used: 0\n",
      "ADF number of observations: 35\n",
      "ADF critical values: {'1%': -3.6327426647230316, '5%': -2.9485102040816327, '10%': -2.6130173469387756}\n",
      "ADF best information criterion: 338.0607839526979\n"
     ]
    }
   ],
   "source": [
    "# stats to analize the stationality\n",
    "\n",
    "\n",
    "adf, pval, usedlag, nobs, crit_vals, icbest =  adfuller(hist_dfGRum.Vol_9LC.values)\n",
    "print('ADF test statistic:', adf)\n",
    "print('ADF p-values:', pval)\n",
    "print('ADF number of lags used:', usedlag)\n",
    "print('ADF number of observations:', nobs)\n",
    "print('ADF critical values:', crit_vals)\n",
    "print('ADF best information criterion:', icbest)\n"
   ]
  },
  {
   "cell_type": "code",
   "execution_count": 40,
   "metadata": {},
   "outputs": [],
   "source": [
    "#hist_dfGRum_diff = hist_dfGRum.diff().dropna()\n",
    "\n",
    "#lets do temporal df to aply  diferenciation maybe try to get it stationaly\n",
    "\n",
    "tdf=hist_dfGRum[['Vol_9LC']]\n"
   ]
  },
  {
   "cell_type": "code",
   "execution_count": 41,
   "metadata": {},
   "outputs": [],
   "source": [
    "tdf['first_dif']=tdf['Vol_9LC']-tdf['Vol_9LC'].shift(1)"
   ]
  },
  {
   "cell_type": "code",
   "execution_count": 42,
   "metadata": {},
   "outputs": [],
   "source": [
    "tdf['seasonal_dif']=tdf['Vol_9LC']-tdf['Vol_9LC'].shift(12)"
   ]
  },
  {
   "cell_type": "code",
   "execution_count": 43,
   "metadata": {
    "scrolled": true
   },
   "outputs": [
    {
     "data": {
      "text/html": [
       "<div>\n",
       "<style scoped>\n",
       "    .dataframe tbody tr th:only-of-type {\n",
       "        vertical-align: middle;\n",
       "    }\n",
       "\n",
       "    .dataframe tbody tr th {\n",
       "        vertical-align: top;\n",
       "    }\n",
       "\n",
       "    .dataframe thead th {\n",
       "        text-align: right;\n",
       "    }\n",
       "</style>\n",
       "<table border=\"1\" class=\"dataframe\">\n",
       "  <thead>\n",
       "    <tr style=\"text-align: right;\">\n",
       "      <th></th>\n",
       "      <th>Vol_9LC</th>\n",
       "      <th>first_dif</th>\n",
       "      <th>seasonal_dif</th>\n",
       "    </tr>\n",
       "    <tr>\n",
       "      <th>Month</th>\n",
       "      <th></th>\n",
       "      <th></th>\n",
       "      <th></th>\n",
       "    </tr>\n",
       "  </thead>\n",
       "  <tbody>\n",
       "    <tr>\n",
       "      <th>2019-04-01</th>\n",
       "      <td>165.266668</td>\n",
       "      <td>NaN</td>\n",
       "      <td>NaN</td>\n",
       "    </tr>\n",
       "    <tr>\n",
       "      <th>2019-05-01</th>\n",
       "      <td>176.966667</td>\n",
       "      <td>11.699999</td>\n",
       "      <td>NaN</td>\n",
       "    </tr>\n",
       "    <tr>\n",
       "      <th>2019-06-01</th>\n",
       "      <td>243.366666</td>\n",
       "      <td>66.399999</td>\n",
       "      <td>NaN</td>\n",
       "    </tr>\n",
       "    <tr>\n",
       "      <th>2019-07-01</th>\n",
       "      <td>207.199999</td>\n",
       "      <td>-36.166667</td>\n",
       "      <td>NaN</td>\n",
       "    </tr>\n",
       "    <tr>\n",
       "      <th>2019-08-01</th>\n",
       "      <td>200.466439</td>\n",
       "      <td>-6.733560</td>\n",
       "      <td>NaN</td>\n",
       "    </tr>\n",
       "    <tr>\n",
       "      <th>2019-09-01</th>\n",
       "      <td>142.555631</td>\n",
       "      <td>-57.910808</td>\n",
       "      <td>NaN</td>\n",
       "    </tr>\n",
       "    <tr>\n",
       "      <th>2019-10-01</th>\n",
       "      <td>561.977931</td>\n",
       "      <td>419.422300</td>\n",
       "      <td>NaN</td>\n",
       "    </tr>\n",
       "    <tr>\n",
       "      <th>2019-11-01</th>\n",
       "      <td>356.088971</td>\n",
       "      <td>-205.888960</td>\n",
       "      <td>NaN</td>\n",
       "    </tr>\n",
       "    <tr>\n",
       "      <th>2019-12-01</th>\n",
       "      <td>487.277701</td>\n",
       "      <td>131.188730</td>\n",
       "      <td>NaN</td>\n",
       "    </tr>\n",
       "    <tr>\n",
       "      <th>2020-01-01</th>\n",
       "      <td>58.333000</td>\n",
       "      <td>-428.944701</td>\n",
       "      <td>NaN</td>\n",
       "    </tr>\n",
       "    <tr>\n",
       "      <th>2020-02-01</th>\n",
       "      <td>137.744372</td>\n",
       "      <td>79.411372</td>\n",
       "      <td>NaN</td>\n",
       "    </tr>\n",
       "    <tr>\n",
       "      <th>2020-03-01</th>\n",
       "      <td>133.989339</td>\n",
       "      <td>-3.755033</td>\n",
       "      <td>NaN</td>\n",
       "    </tr>\n",
       "    <tr>\n",
       "      <th>2020-04-01</th>\n",
       "      <td>244.622070</td>\n",
       "      <td>110.632731</td>\n",
       "      <td>79.355402</td>\n",
       "    </tr>\n",
       "    <tr>\n",
       "      <th>2020-05-01</th>\n",
       "      <td>250.366672</td>\n",
       "      <td>5.744602</td>\n",
       "      <td>73.400005</td>\n",
       "    </tr>\n",
       "    <tr>\n",
       "      <th>2020-06-01</th>\n",
       "      <td>247.533339</td>\n",
       "      <td>-2.833333</td>\n",
       "      <td>4.166673</td>\n",
       "    </tr>\n",
       "    <tr>\n",
       "      <th>2020-07-01</th>\n",
       "      <td>366.533109</td>\n",
       "      <td>118.999770</td>\n",
       "      <td>159.333110</td>\n",
       "    </tr>\n",
       "    <tr>\n",
       "      <th>2020-08-01</th>\n",
       "      <td>566.433336</td>\n",
       "      <td>199.900227</td>\n",
       "      <td>365.966897</td>\n",
       "    </tr>\n",
       "    <tr>\n",
       "      <th>2020-09-01</th>\n",
       "      <td>577.966671</td>\n",
       "      <td>11.533335</td>\n",
       "      <td>435.411040</td>\n",
       "    </tr>\n",
       "    <tr>\n",
       "      <th>2020-10-01</th>\n",
       "      <td>753.133333</td>\n",
       "      <td>175.166662</td>\n",
       "      <td>191.155402</td>\n",
       "    </tr>\n",
       "    <tr>\n",
       "      <th>2020-11-01</th>\n",
       "      <td>615.266678</td>\n",
       "      <td>-137.866655</td>\n",
       "      <td>259.177707</td>\n",
       "    </tr>\n",
       "    <tr>\n",
       "      <th>2020-12-01</th>\n",
       "      <td>685.166673</td>\n",
       "      <td>69.899995</td>\n",
       "      <td>197.888972</td>\n",
       "    </tr>\n",
       "    <tr>\n",
       "      <th>2021-01-01</th>\n",
       "      <td>219.166671</td>\n",
       "      <td>-466.000002</td>\n",
       "      <td>160.833671</td>\n",
       "    </tr>\n",
       "    <tr>\n",
       "      <th>2021-02-01</th>\n",
       "      <td>244.333340</td>\n",
       "      <td>25.166669</td>\n",
       "      <td>106.588968</td>\n",
       "    </tr>\n",
       "    <tr>\n",
       "      <th>2021-03-01</th>\n",
       "      <td>366.433336</td>\n",
       "      <td>122.099996</td>\n",
       "      <td>232.443997</td>\n",
       "    </tr>\n",
       "    <tr>\n",
       "      <th>2021-04-01</th>\n",
       "      <td>418.222005</td>\n",
       "      <td>51.788669</td>\n",
       "      <td>173.599935</td>\n",
       "    </tr>\n",
       "    <tr>\n",
       "      <th>2021-05-01</th>\n",
       "      <td>1183.755639</td>\n",
       "      <td>765.533634</td>\n",
       "      <td>933.388967</td>\n",
       "    </tr>\n",
       "    <tr>\n",
       "      <th>2021-06-01</th>\n",
       "      <td>845.733337</td>\n",
       "      <td>-338.022302</td>\n",
       "      <td>598.199998</td>\n",
       "    </tr>\n",
       "    <tr>\n",
       "      <th>2021-07-01</th>\n",
       "      <td>814.200003</td>\n",
       "      <td>-31.533334</td>\n",
       "      <td>447.666894</td>\n",
       "    </tr>\n",
       "    <tr>\n",
       "      <th>2021-08-01</th>\n",
       "      <td>542.244600</td>\n",
       "      <td>-271.955403</td>\n",
       "      <td>-24.188736</td>\n",
       "    </tr>\n",
       "    <tr>\n",
       "      <th>2021-09-01</th>\n",
       "      <td>637.233333</td>\n",
       "      <td>94.988733</td>\n",
       "      <td>59.266662</td>\n",
       "    </tr>\n",
       "    <tr>\n",
       "      <th>2021-10-01</th>\n",
       "      <td>568.300002</td>\n",
       "      <td>-68.933331</td>\n",
       "      <td>-184.833331</td>\n",
       "    </tr>\n",
       "    <tr>\n",
       "      <th>2021-11-01</th>\n",
       "      <td>780.733339</td>\n",
       "      <td>212.433337</td>\n",
       "      <td>165.466661</td>\n",
       "    </tr>\n",
       "    <tr>\n",
       "      <th>2021-12-01</th>\n",
       "      <td>700.100005</td>\n",
       "      <td>-80.633334</td>\n",
       "      <td>14.933332</td>\n",
       "    </tr>\n",
       "    <tr>\n",
       "      <th>2022-01-01</th>\n",
       "      <td>559.044138</td>\n",
       "      <td>-141.055867</td>\n",
       "      <td>339.877467</td>\n",
       "    </tr>\n",
       "    <tr>\n",
       "      <th>2022-02-01</th>\n",
       "      <td>626.533333</td>\n",
       "      <td>67.489195</td>\n",
       "      <td>382.199993</td>\n",
       "    </tr>\n",
       "    <tr>\n",
       "      <th>2022-03-01</th>\n",
       "      <td>691.099767</td>\n",
       "      <td>64.566434</td>\n",
       "      <td>324.666431</td>\n",
       "    </tr>\n",
       "  </tbody>\n",
       "</table>\n",
       "</div>"
      ],
      "text/plain": [
       "                Vol_9LC   first_dif  seasonal_dif\n",
       "Month                                            \n",
       "2019-04-01   165.266668         NaN           NaN\n",
       "2019-05-01   176.966667   11.699999           NaN\n",
       "2019-06-01   243.366666   66.399999           NaN\n",
       "2019-07-01   207.199999  -36.166667           NaN\n",
       "2019-08-01   200.466439   -6.733560           NaN\n",
       "2019-09-01   142.555631  -57.910808           NaN\n",
       "2019-10-01   561.977931  419.422300           NaN\n",
       "2019-11-01   356.088971 -205.888960           NaN\n",
       "2019-12-01   487.277701  131.188730           NaN\n",
       "2020-01-01    58.333000 -428.944701           NaN\n",
       "2020-02-01   137.744372   79.411372           NaN\n",
       "2020-03-01   133.989339   -3.755033           NaN\n",
       "2020-04-01   244.622070  110.632731     79.355402\n",
       "2020-05-01   250.366672    5.744602     73.400005\n",
       "2020-06-01   247.533339   -2.833333      4.166673\n",
       "2020-07-01   366.533109  118.999770    159.333110\n",
       "2020-08-01   566.433336  199.900227    365.966897\n",
       "2020-09-01   577.966671   11.533335    435.411040\n",
       "2020-10-01   753.133333  175.166662    191.155402\n",
       "2020-11-01   615.266678 -137.866655    259.177707\n",
       "2020-12-01   685.166673   69.899995    197.888972\n",
       "2021-01-01   219.166671 -466.000002    160.833671\n",
       "2021-02-01   244.333340   25.166669    106.588968\n",
       "2021-03-01   366.433336  122.099996    232.443997\n",
       "2021-04-01   418.222005   51.788669    173.599935\n",
       "2021-05-01  1183.755639  765.533634    933.388967\n",
       "2021-06-01   845.733337 -338.022302    598.199998\n",
       "2021-07-01   814.200003  -31.533334    447.666894\n",
       "2021-08-01   542.244600 -271.955403    -24.188736\n",
       "2021-09-01   637.233333   94.988733     59.266662\n",
       "2021-10-01   568.300002  -68.933331   -184.833331\n",
       "2021-11-01   780.733339  212.433337    165.466661\n",
       "2021-12-01   700.100005  -80.633334     14.933332\n",
       "2022-01-01   559.044138 -141.055867    339.877467\n",
       "2022-02-01   626.533333   67.489195    382.199993\n",
       "2022-03-01   691.099767   64.566434    324.666431"
      ]
     },
     "execution_count": 43,
     "metadata": {},
     "output_type": "execute_result"
    }
   ],
   "source": [
    "tdf"
   ]
  },
  {
   "cell_type": "code",
   "execution_count": 44,
   "metadata": {},
   "outputs": [
    {
     "name": "stdout",
     "output_type": "stream",
     "text": [
      "ADF test statistic: -5.1675380861390305\n",
      "ADF p-values: 1.0237749150123557e-05\n",
      "ADF number of lags used: 3\n",
      "ADF number of observations: 31\n",
      "ADF critical values: {'1%': -3.661428725118324, '5%': -2.960525341210433, '10%': -2.6193188033298647}\n",
      "ADF best information criterion: 328.4403549708416\n"
     ]
    }
   ],
   "source": [
    "#adfuller test to the first diference\n",
    "\n",
    "\n",
    "adf, pval, usedlag, nobs, crit_vals, icbest =  adfuller(tdf['first_dif'].dropna())\n",
    "print('ADF test statistic:', adf)\n",
    "print('ADF p-values:', pval)\n",
    "print('ADF number of lags used:', usedlag)\n",
    "print('ADF number of observations:', nobs)\n",
    "print('ADF critical values:', crit_vals)\n",
    "print('ADF best information criterion:', icbest)"
   ]
  },
  {
   "cell_type": "code",
   "execution_count": 45,
   "metadata": {},
   "outputs": [
    {
     "data": {
      "text/plain": [
       "<AxesSubplot:xlabel='Month'>"
      ]
     },
     "execution_count": 45,
     "metadata": {},
     "output_type": "execute_result"
    },
    {
     "data": {
      "image/png": "[encoded data removed]",
      "text/plain": [
       "<Figure size 1440x576 with 1 Axes>"
      ]
     },
     "metadata": {},
     "output_type": "display_data"
    }
   ],
   "source": [
    "tdf['first_dif'].plot()"
   ]
  },
  {
   "cell_type": "code",
   "execution_count": 46,
   "metadata": {},
   "outputs": [
    {
     "name": "stdout",
     "output_type": "stream",
     "text": [
      "ADF test statistic: -3.9946351729061607\n",
      "ADF p-values: 0.0014388650591884735\n",
      "ADF number of lags used: 2\n",
      "ADF number of observations: 21\n",
      "ADF critical values: {'1%': -3.7883858816542486, '5%': -3.013097747543462, '10%': -2.6463967573696143}\n",
      "ADF best information criterion: 196.13822846367816\n"
     ]
    }
   ],
   "source": [
    "#adfuller test to the seasonal diference\n",
    "\n",
    "\n",
    "adf, pval, usedlag, nobs, crit_vals, icbest =  adfuller(tdf['seasonal_dif'].dropna())\n",
    "print('ADF test statistic:', adf)\n",
    "print('ADF p-values:', pval)\n",
    "print('ADF number of lags used:', usedlag)\n",
    "print('ADF number of observations:', nobs)\n",
    "print('ADF critical values:', crit_vals)\n",
    "print('ADF best information criterion:', icbest)"
   ]
  },
  {
   "cell_type": "code",
   "execution_count": 47,
   "metadata": {},
   "outputs": [
    {
     "data": {
      "text/plain": [
       "<AxesSubplot:xlabel='Month'>"
      ]
     },
     "execution_count": 47,
     "metadata": {},
     "output_type": "execute_result"
    },
    {
     "data": {
      "image/png": "[encoded data removed]",
      "text/plain": [
       "<Figure size 1440x576 with 1 Axes>"
      ]
     },
     "metadata": {},
     "output_type": "display_data"
    }
   ],
   "source": [
    "tdf['seasonal_dif'].plot()"
   ]
  },
  {
   "cell_type": "code",
   "execution_count": 49,
   "metadata": {
    "scrolled": true
   },
   "outputs": [
    {
     "data": {
      "text/html": [
       "<div>\n",
       "<style scoped>\n",
       "    .dataframe tbody tr th:only-of-type {\n",
       "        vertical-align: middle;\n",
       "    }\n",
       "\n",
       "    .dataframe tbody tr th {\n",
       "        vertical-align: top;\n",
       "    }\n",
       "\n",
       "    .dataframe thead th {\n",
       "        text-align: right;\n",
       "    }\n",
       "</style>\n",
       "<table border=\"1\" class=\"dataframe\">\n",
       "  <thead>\n",
       "    <tr style=\"text-align: right;\">\n",
       "      <th></th>\n",
       "      <th>Vol_9LC</th>\n",
       "    </tr>\n",
       "    <tr>\n",
       "      <th>Month</th>\n",
       "      <th></th>\n",
       "    </tr>\n",
       "  </thead>\n",
       "  <tbody>\n",
       "    <tr>\n",
       "      <th>2019-04-01</th>\n",
       "      <td>165.266668</td>\n",
       "    </tr>\n",
       "    <tr>\n",
       "      <th>2019-05-01</th>\n",
       "      <td>176.966667</td>\n",
       "    </tr>\n",
       "    <tr>\n",
       "      <th>2019-06-01</th>\n",
       "      <td>243.366666</td>\n",
       "    </tr>\n",
       "    <tr>\n",
       "      <th>2019-07-01</th>\n",
       "      <td>207.199999</td>\n",
       "    </tr>\n",
       "    <tr>\n",
       "      <th>2019-08-01</th>\n",
       "      <td>200.466439</td>\n",
       "    </tr>\n",
       "    <tr>\n",
       "      <th>2019-09-01</th>\n",
       "      <td>142.555631</td>\n",
       "    </tr>\n",
       "    <tr>\n",
       "      <th>2019-10-01</th>\n",
       "      <td>561.977931</td>\n",
       "    </tr>\n",
       "    <tr>\n",
       "      <th>2019-11-01</th>\n",
       "      <td>356.088971</td>\n",
       "    </tr>\n",
       "    <tr>\n",
       "      <th>2019-12-01</th>\n",
       "      <td>487.277701</td>\n",
       "    </tr>\n",
       "    <tr>\n",
       "      <th>2020-01-01</th>\n",
       "      <td>58.333000</td>\n",
       "    </tr>\n",
       "    <tr>\n",
       "      <th>2020-02-01</th>\n",
       "      <td>137.744372</td>\n",
       "    </tr>\n",
       "    <tr>\n",
       "      <th>2020-03-01</th>\n",
       "      <td>133.989339</td>\n",
       "    </tr>\n",
       "    <tr>\n",
       "      <th>2020-04-01</th>\n",
       "      <td>244.622070</td>\n",
       "    </tr>\n",
       "    <tr>\n",
       "      <th>2020-05-01</th>\n",
       "      <td>250.366672</td>\n",
       "    </tr>\n",
       "    <tr>\n",
       "      <th>2020-06-01</th>\n",
       "      <td>247.533339</td>\n",
       "    </tr>\n",
       "    <tr>\n",
       "      <th>2020-07-01</th>\n",
       "      <td>366.533109</td>\n",
       "    </tr>\n",
       "    <tr>\n",
       "      <th>2020-08-01</th>\n",
       "      <td>566.433336</td>\n",
       "    </tr>\n",
       "    <tr>\n",
       "      <th>2020-09-01</th>\n",
       "      <td>577.966671</td>\n",
       "    </tr>\n",
       "    <tr>\n",
       "      <th>2020-10-01</th>\n",
       "      <td>753.133333</td>\n",
       "    </tr>\n",
       "    <tr>\n",
       "      <th>2020-11-01</th>\n",
       "      <td>615.266678</td>\n",
       "    </tr>\n",
       "    <tr>\n",
       "      <th>2020-12-01</th>\n",
       "      <td>685.166673</td>\n",
       "    </tr>\n",
       "    <tr>\n",
       "      <th>2021-01-01</th>\n",
       "      <td>219.166671</td>\n",
       "    </tr>\n",
       "    <tr>\n",
       "      <th>2021-02-01</th>\n",
       "      <td>244.333340</td>\n",
       "    </tr>\n",
       "    <tr>\n",
       "      <th>2021-03-01</th>\n",
       "      <td>366.433336</td>\n",
       "    </tr>\n",
       "    <tr>\n",
       "      <th>2021-04-01</th>\n",
       "      <td>418.222005</td>\n",
       "    </tr>\n",
       "    <tr>\n",
       "      <th>2021-05-01</th>\n",
       "      <td>1183.755639</td>\n",
       "    </tr>\n",
       "    <tr>\n",
       "      <th>2021-06-01</th>\n",
       "      <td>845.733337</td>\n",
       "    </tr>\n",
       "    <tr>\n",
       "      <th>2021-07-01</th>\n",
       "      <td>814.200003</td>\n",
       "    </tr>\n",
       "    <tr>\n",
       "      <th>2021-08-01</th>\n",
       "      <td>542.244600</td>\n",
       "    </tr>\n",
       "    <tr>\n",
       "      <th>2021-09-01</th>\n",
       "      <td>637.233333</td>\n",
       "    </tr>\n",
       "    <tr>\n",
       "      <th>2021-10-01</th>\n",
       "      <td>568.300002</td>\n",
       "    </tr>\n",
       "    <tr>\n",
       "      <th>2021-11-01</th>\n",
       "      <td>780.733339</td>\n",
       "    </tr>\n",
       "    <tr>\n",
       "      <th>2021-12-01</th>\n",
       "      <td>700.100005</td>\n",
       "    </tr>\n",
       "    <tr>\n",
       "      <th>2022-01-01</th>\n",
       "      <td>559.044138</td>\n",
       "    </tr>\n",
       "    <tr>\n",
       "      <th>2022-02-01</th>\n",
       "      <td>626.533333</td>\n",
       "    </tr>\n",
       "    <tr>\n",
       "      <th>2022-03-01</th>\n",
       "      <td>691.099767</td>\n",
       "    </tr>\n",
       "  </tbody>\n",
       "</table>\n",
       "</div>"
      ],
      "text/plain": [
       "                Vol_9LC\n",
       "Month                  \n",
       "2019-04-01   165.266668\n",
       "2019-05-01   176.966667\n",
       "2019-06-01   243.366666\n",
       "2019-07-01   207.199999\n",
       "2019-08-01   200.466439\n",
       "2019-09-01   142.555631\n",
       "2019-10-01   561.977931\n",
       "2019-11-01   356.088971\n",
       "2019-12-01   487.277701\n",
       "2020-01-01    58.333000\n",
       "2020-02-01   137.744372\n",
       "2020-03-01   133.989339\n",
       "2020-04-01   244.622070\n",
       "2020-05-01   250.366672\n",
       "2020-06-01   247.533339\n",
       "2020-07-01   366.533109\n",
       "2020-08-01   566.433336\n",
       "2020-09-01   577.966671\n",
       "2020-10-01   753.133333\n",
       "2020-11-01   615.266678\n",
       "2020-12-01   685.166673\n",
       "2021-01-01   219.166671\n",
       "2021-02-01   244.333340\n",
       "2021-03-01   366.433336\n",
       "2021-04-01   418.222005\n",
       "2021-05-01  1183.755639\n",
       "2021-06-01   845.733337\n",
       "2021-07-01   814.200003\n",
       "2021-08-01   542.244600\n",
       "2021-09-01   637.233333\n",
       "2021-10-01   568.300002\n",
       "2021-11-01   780.733339\n",
       "2021-12-01   700.100005\n",
       "2022-01-01   559.044138\n",
       "2022-02-01   626.533333\n",
       "2022-03-01   691.099767"
      ]
     },
     "execution_count": 49,
     "metadata": {},
     "output_type": "execute_result"
    }
   ],
   "source": [
    "hist_dfGRum\n"
   ]
  },
  {
   "cell_type": "code",
   "execution_count": null,
   "metadata": {},
   "outputs": [],
   "source": []
  },
  {
   "cell_type": "code",
   "execution_count": null,
   "metadata": {},
   "outputs": [],
   "source": []
  },
  {
   "cell_type": "code",
   "execution_count": null,
   "metadata": {},
   "outputs": [],
   "source": []
  },
  {
   "cell_type": "markdown",
   "metadata": {},
   "source": [
    " - the data is non-stationary but the p-value is close to be stationary..."
   ]
  },
  {
   "cell_type": "code",
   "execution_count": 50,
   "metadata": {},
   "outputs": [
    {
     "data": {
      "image/png": "[encoded data removed]",
      "text/plain": [
       "<Figure size 1440x576 with 1 Axes>"
      ]
     },
     "metadata": {},
     "output_type": "display_data"
    },
    {
     "data": {
      "image/png": "[encoded data removed]",
      "text/plain": [
       "<Figure size 1440x576 with 1 Axes>"
      ]
     },
     "metadata": {},
     "output_type": "display_data"
    }
   ],
   "source": [
    "plot_acf(hist_dfGRum['Vol_9LC']);\n",
    "plot_pacf(hist_dfGRum['Vol_9LC']);"
   ]
  },
  {
   "cell_type": "code",
   "execution_count": 51,
   "metadata": {},
   "outputs": [
    {
     "data": {
      "image/png": "[encoded data removed]",
      "text/plain": [
       "<Figure size 1440x576 with 1 Axes>"
      ]
     },
     "metadata": {},
     "output_type": "display_data"
    },
    {
     "data": {
      "image/png": "[encoded data removed]",
      "text/plain": [
       "<Figure size 1440x576 with 1 Axes>"
      ]
     },
     "metadata": {},
     "output_type": "display_data"
    }
   ],
   "source": [
    "# autocorrelation and partial ac of the first diference\n",
    "\n",
    "plot_acf(tdf['first_dif'].iloc[1:], lags=10);\n",
    "plot_pacf(tdf['first_dif'].iloc[1:], lags=10);"
   ]
  },
  {
   "cell_type": "markdown",
   "metadata": {},
   "source": [
    "### With this plots we can extract\n",
    "\n",
    "- for the normal hist_dfGRum we can get that q=[0,1,2](from ACf) and p=[1,14,16](from PACf)\n",
    "- for the dif hist_dfGRum_diff we can get that q=[0,3](from ACf) and p=[11,12](from PACf) but is prob wrong"
   ]
  },
  {
   "cell_type": "markdown",
   "metadata": {},
   "source": [
    "## ARIMA model"
   ]
  },
  {
   "cell_type": "code",
   "execution_count": 52,
   "metadata": {
    "scrolled": true
   },
   "outputs": [
    {
     "name": "stderr",
     "output_type": "stream",
     "text": [
      "C:\\Users\\Krop\\anaconda3\\envs\\ClassPau\\lib\\site-packages\\statsmodels\\tsa\\base\\tsa_model.py:524: ValueWarning: No frequency information was provided, so inferred frequency MS will be used.\n",
      "  warnings.warn('No frequency information was'\n",
      "C:\\Users\\Krop\\anaconda3\\envs\\ClassPau\\lib\\site-packages\\statsmodels\\tsa\\base\\tsa_model.py:524: ValueWarning: No frequency information was provided, so inferred frequency MS will be used.\n",
      "  warnings.warn('No frequency information was'\n",
      "C:\\Users\\Krop\\anaconda3\\envs\\ClassPau\\lib\\site-packages\\statsmodels\\tsa\\base\\tsa_model.py:524: ValueWarning: No frequency information was provided, so inferred frequency MS will be used.\n",
      "  warnings.warn('No frequency information was'\n"
     ]
    }
   ],
   "source": [
    "# lets fit \n",
    "#good candidates\n",
    "#14, 2 ,1\n",
    "#1 ,1 ,2/1\n",
    "#0, 1, 1/2\n",
    "\n",
    "arima = ARIMA(hist_dfGRum['Vol_9LC'], order=(0,1,2))\n",
    "predictions1 = arima.fit().predict()\n",
    "model1=arima.fit()"
   ]
  },
  {
   "cell_type": "code",
   "execution_count": 53,
   "metadata": {},
   "outputs": [
    {
     "data": {
      "text/plain": [
       "<matplotlib.legend.Legend at 0x180cba33970>"
      ]
     },
     "execution_count": 53,
     "metadata": {},
     "output_type": "execute_result"
    },
    {
     "data": {
      "image/png": "[encoded data removed]",
      "text/plain": [
       "<Figure size 1152x288 with 1 Axes>"
      ]
     },
     "metadata": {},
     "output_type": "display_data"
    }
   ],
   "source": [
    "# lets plot???\n",
    "\n",
    "plt.figure(figsize=(16,4))\n",
    "plt.plot(hist_dfGRum.diff(), label=\"Actual\")\n",
    "plt.plot(predictions1, label=\"Predicted\")\n",
    "plt.title('Volume 9LC', fontsize=20)\n",
    "plt.ylabel('Vol', fontsize=16)\n",
    "plt.legend()\n"
   ]
  },
  {
   "cell_type": "code",
   "execution_count": 54,
   "metadata": {
    "scrolled": true
   },
   "outputs": [
    {
     "data": {
      "text/html": [
       "<table class=\"simpletable\">\n",
       "<caption>SARIMAX Results</caption>\n",
       "<tr>\n",
       "  <th>Dep. Variable:</th>        <td>Vol_9LC</td>     <th>  No. Observations:  </th>    <td>36</td>   \n",
       "</tr>\n",
       "<tr>\n",
       "  <th>Model:</th>            <td>ARIMA(0, 1, 2)</td>  <th>  Log Likelihood     </th> <td>-235.818</td>\n",
       "</tr>\n",
       "<tr>\n",
       "  <th>Date:</th>            <td>Sun, 05 Jun 2022</td> <th>  AIC                </th>  <td>477.635</td>\n",
       "</tr>\n",
       "<tr>\n",
       "  <th>Time:</th>                <td>14:20:41</td>     <th>  BIC                </th>  <td>482.301</td>\n",
       "</tr>\n",
       "<tr>\n",
       "  <th>Sample:</th>             <td>04-01-2019</td>    <th>  HQIC               </th>  <td>479.246</td>\n",
       "</tr>\n",
       "<tr>\n",
       "  <th></th>                   <td>- 03-01-2022</td>   <th>                     </th>     <td> </td>   \n",
       "</tr>\n",
       "<tr>\n",
       "  <th>Covariance Type:</th>        <td>opg</td>       <th>                     </th>     <td> </td>   \n",
       "</tr>\n",
       "</table>\n",
       "<table class=\"simpletable\">\n",
       "<tr>\n",
       "     <td></td>       <th>coef</th>     <th>std err</th>      <th>z</th>      <th>P>|z|</th>  <th>[0.025</th>    <th>0.975]</th>  \n",
       "</tr>\n",
       "<tr>\n",
       "  <th>ma.L1</th>  <td>   -0.5006</td> <td>    0.286</td> <td>   -1.750</td> <td> 0.080</td> <td>   -1.061</td> <td>    0.060</td>\n",
       "</tr>\n",
       "<tr>\n",
       "  <th>ma.L2</th>  <td>   -0.1783</td> <td>    0.299</td> <td>   -0.596</td> <td> 0.551</td> <td>   -0.765</td> <td>    0.409</td>\n",
       "</tr>\n",
       "<tr>\n",
       "  <th>sigma2</th> <td> 4.105e+04</td> <td> 5867.640</td> <td>    6.996</td> <td> 0.000</td> <td> 2.95e+04</td> <td> 5.25e+04</td>\n",
       "</tr>\n",
       "</table>\n",
       "<table class=\"simpletable\">\n",
       "<tr>\n",
       "  <th>Ljung-Box (L1) (Q):</th>     <td>0.01</td> <th>  Jarque-Bera (JB):  </th> <td>28.25</td>\n",
       "</tr>\n",
       "<tr>\n",
       "  <th>Prob(Q):</th>                <td>0.91</td> <th>  Prob(JB):          </th> <td>0.00</td> \n",
       "</tr>\n",
       "<tr>\n",
       "  <th>Heteroskedasticity (H):</th> <td>2.18</td> <th>  Skew:              </th> <td>1.12</td> \n",
       "</tr>\n",
       "<tr>\n",
       "  <th>Prob(H) (two-sided):</th>    <td>0.19</td> <th>  Kurtosis:          </th> <td>6.79</td> \n",
       "</tr>\n",
       "</table><br/><br/>Warnings:<br/>[1] Covariance matrix calculated using the outer product of gradients (complex-step)."
      ],
      "text/plain": [
       "<class 'statsmodels.iolib.summary.Summary'>\n",
       "\"\"\"\n",
       "                               SARIMAX Results                                \n",
       "==============================================================================\n",
       "Dep. Variable:                Vol_9LC   No. Observations:                   36\n",
       "Model:                 ARIMA(0, 1, 2)   Log Likelihood                -235.818\n",
       "Date:                Sun, 05 Jun 2022   AIC                            477.635\n",
       "Time:                        14:20:41   BIC                            482.301\n",
       "Sample:                    04-01-2019   HQIC                           479.246\n",
       "                         - 03-01-2022                                         \n",
       "Covariance Type:                  opg                                         \n",
       "==============================================================================\n",
       "                 coef    std err          z      P>|z|      [0.025      0.975]\n",
       "------------------------------------------------------------------------------\n",
       "ma.L1         -0.5006      0.286     -1.750      0.080      -1.061       0.060\n",
       "ma.L2         -0.1783      0.299     -0.596      0.551      -0.765       0.409\n",
       "sigma2      4.105e+04   5867.640      6.996      0.000    2.95e+04    5.25e+04\n",
       "===================================================================================\n",
       "Ljung-Box (L1) (Q):                   0.01   Jarque-Bera (JB):                28.25\n",
       "Prob(Q):                              0.91   Prob(JB):                         0.00\n",
       "Heteroskedasticity (H):               2.18   Skew:                             1.12\n",
       "Prob(H) (two-sided):                  0.19   Kurtosis:                         6.79\n",
       "===================================================================================\n",
       "\n",
       "Warnings:\n",
       "[1] Covariance matrix calculated using the outer product of gradients (complex-step).\n",
       "\"\"\""
      ]
     },
     "execution_count": 54,
     "metadata": {},
     "output_type": "execute_result"
    }
   ],
   "source": [
    "model1.summary()"
   ]
  },
  {
   "cell_type": "code",
   "execution_count": null,
   "metadata": {},
   "outputs": [],
   "source": []
  },
  {
   "cell_type": "markdown",
   "metadata": {},
   "source": [
    "## SARIMAX model"
   ]
  },
  {
   "cell_type": "code",
   "execution_count": 55,
   "metadata": {
    "scrolled": true
   },
   "outputs": [
    {
     "name": "stderr",
     "output_type": "stream",
     "text": [
      "C:\\Users\\Krop\\anaconda3\\envs\\ClassPau\\lib\\site-packages\\statsmodels\\tsa\\base\\tsa_model.py:524: ValueWarning: No frequency information was provided, so inferred frequency MS will be used.\n",
      "  warnings.warn('No frequency information was'\n",
      "C:\\Users\\Krop\\anaconda3\\envs\\ClassPau\\lib\\site-packages\\statsmodels\\tsa\\base\\tsa_model.py:524: ValueWarning: No frequency information was provided, so inferred frequency MS will be used.\n",
      "  warnings.warn('No frequency information was'\n",
      "C:\\Users\\Krop\\anaconda3\\envs\\ClassPau\\lib\\site-packages\\statsmodels\\tsa\\statespace\\sarimax.py:978: UserWarning: Non-invertible starting MA parameters found. Using zeros as starting parameters.\n",
      "  warn('Non-invertible starting MA parameters found.'\n",
      "C:\\Users\\Krop\\anaconda3\\envs\\ClassPau\\lib\\site-packages\\statsmodels\\tsa\\statespace\\sarimax.py:866: UserWarning: Too few observations to estimate starting parameters for seasonal ARMA. All parameters except for variances will be set to zeros.\n",
      "  warn('Too few observations to estimate starting parameters%s.'\n",
      "C:\\Users\\Krop\\anaconda3\\envs\\ClassPau\\lib\\site-packages\\statsmodels\\base\\model.py:566: ConvergenceWarning: Maximum Likelihood optimization failed to converge. Check mle_retvals\n",
      "  warnings.warn(\"Maximum Likelihood optimization failed to \"\n",
      "C:\\Users\\Krop\\anaconda3\\envs\\ClassPau\\lib\\site-packages\\statsmodels\\tsa\\statespace\\sarimax.py:978: UserWarning: Non-invertible starting MA parameters found. Using zeros as starting parameters.\n",
      "  warn('Non-invertible starting MA parameters found.'\n",
      "C:\\Users\\Krop\\anaconda3\\envs\\ClassPau\\lib\\site-packages\\statsmodels\\tsa\\statespace\\sarimax.py:866: UserWarning: Too few observations to estimate starting parameters for seasonal ARMA. All parameters except for variances will be set to zeros.\n",
      "  warn('Too few observations to estimate starting parameters%s.'\n",
      "C:\\Users\\Krop\\anaconda3\\envs\\ClassPau\\lib\\site-packages\\statsmodels\\base\\model.py:566: ConvergenceWarning: Maximum Likelihood optimization failed to converge. Check mle_retvals\n",
      "  warnings.warn(\"Maximum Likelihood optimization failed to \"\n"
     ]
    }
   ],
   "source": [
    "# lets shoot to the moon an try sarimax\n",
    "\n",
    "#from statsmodels.tsa.statespace.sarimax import SARIMAX\n",
    "\n",
    "s_mod = SARIMAX(hist_dfGRum['Vol_9LC'], \n",
    "                order=(1,2,3), \n",
    "                seasonal_order=(1,1,3,12))\n",
    "predictions2 = s_mod.fit().predict()\n",
    "\n",
    "model2 = s_mod.fit()"
   ]
  },
  {
   "cell_type": "code",
   "execution_count": 56,
   "metadata": {},
   "outputs": [
    {
     "data": {
      "text/plain": [
       "<matplotlib.legend.Legend at 0x180cbabc340>"
      ]
     },
     "execution_count": 56,
     "metadata": {},
     "output_type": "execute_result"
    },
    {
     "data": {
      "image/png": "[encoded data removed]",
      "text/plain": [
       "<Figure size 1152x288 with 1 Axes>"
      ]
     },
     "metadata": {},
     "output_type": "display_data"
    }
   ],
   "source": [
    "# lets plot???\n",
    "\n",
    "plt.figure(figsize=(16,4))\n",
    "plt.plot(hist_dfGRum.diff(), label=\"Actual\")\n",
    "plt.plot(predictions2, label=\"Predicted\")\n",
    "plt.title('Volume 9LC', fontsize=20)\n",
    "plt.ylabel('Vol', fontsize=16)\n",
    "plt.legend()\n"
   ]
  },
  {
   "cell_type": "code",
   "execution_count": 57,
   "metadata": {
    "scrolled": true
   },
   "outputs": [
    {
     "data": {
      "text/html": [
       "<table class=\"simpletable\">\n",
       "<caption>SARIMAX Results</caption>\n",
       "<tr>\n",
       "  <th>Dep. Variable:</th>               <td>Vol_9LC</td>            <th>  No. Observations:  </th>    <td>36</td>   \n",
       "</tr>\n",
       "<tr>\n",
       "  <th>Model:</th>           <td>SARIMAX(1, 2, 3)x(1, 1, 3, 12)</td> <th>  Log Likelihood     </th> <td>-151.415</td>\n",
       "</tr>\n",
       "<tr>\n",
       "  <th>Date:</th>                   <td>Sun, 05 Jun 2022</td>        <th>  AIC                </th>  <td>320.830</td>\n",
       "</tr>\n",
       "<tr>\n",
       "  <th>Time:</th>                       <td>14:20:52</td>            <th>  BIC                </th>  <td>330.649</td>\n",
       "</tr>\n",
       "<tr>\n",
       "  <th>Sample:</th>                    <td>04-01-2019</td>           <th>  HQIC               </th>  <td>323.143</td>\n",
       "</tr>\n",
       "<tr>\n",
       "  <th></th>                          <td>- 03-01-2022</td>          <th>                     </th>     <td> </td>   \n",
       "</tr>\n",
       "<tr>\n",
       "  <th>Covariance Type:</th>               <td>opg</td>              <th>                     </th>     <td> </td>   \n",
       "</tr>\n",
       "</table>\n",
       "<table class=\"simpletable\">\n",
       "<tr>\n",
       "      <td></td>        <th>coef</th>     <th>std err</th>      <th>z</th>      <th>P>|z|</th>  <th>[0.025</th>    <th>0.975]</th>  \n",
       "</tr>\n",
       "<tr>\n",
       "  <th>ar.L1</th>    <td>   -0.9537</td> <td>    1.865</td> <td>   -0.511</td> <td> 0.609</td> <td>   -4.610</td> <td>    2.702</td>\n",
       "</tr>\n",
       "<tr>\n",
       "  <th>ma.L1</th>    <td>   -0.1171</td> <td>   46.216</td> <td>   -0.003</td> <td> 0.998</td> <td>  -90.699</td> <td>   90.464</td>\n",
       "</tr>\n",
       "<tr>\n",
       "  <th>ma.L2</th>    <td>   -0.7431</td> <td>   40.208</td> <td>   -0.018</td> <td> 0.985</td> <td>  -79.549</td> <td>   78.063</td>\n",
       "</tr>\n",
       "<tr>\n",
       "  <th>ma.L3</th>    <td>   -0.1374</td> <td>    7.098</td> <td>   -0.019</td> <td> 0.985</td> <td>  -14.050</td> <td>   13.775</td>\n",
       "</tr>\n",
       "<tr>\n",
       "  <th>ar.S.L12</th> <td>    0.3949</td> <td>  247.934</td> <td>    0.002</td> <td> 0.999</td> <td> -485.547</td> <td>  486.337</td>\n",
       "</tr>\n",
       "<tr>\n",
       "  <th>ma.S.L12</th> <td>   -0.7984</td> <td>  310.243</td> <td>   -0.003</td> <td> 0.998</td> <td> -608.864</td> <td>  607.267</td>\n",
       "</tr>\n",
       "<tr>\n",
       "  <th>ma.S.L24</th> <td>   -0.4056</td> <td>  138.273</td> <td>   -0.003</td> <td> 0.998</td> <td> -271.417</td> <td>  270.605</td>\n",
       "</tr>\n",
       "<tr>\n",
       "  <th>ma.S.L36</th> <td>    0.4727</td> <td>  167.816</td> <td>    0.003</td> <td> 0.998</td> <td> -328.441</td> <td>  329.387</td>\n",
       "</tr>\n",
       "<tr>\n",
       "  <th>sigma2</th>   <td> 3.288e+04</td> <td>    0.162</td> <td> 2.03e+05</td> <td> 0.000</td> <td> 3.29e+04</td> <td> 3.29e+04</td>\n",
       "</tr>\n",
       "</table>\n",
       "<table class=\"simpletable\">\n",
       "<tr>\n",
       "  <th>Ljung-Box (L1) (Q):</th>     <td>0.04</td> <th>  Jarque-Bera (JB):  </th> <td>7.52</td>\n",
       "</tr>\n",
       "<tr>\n",
       "  <th>Prob(Q):</th>                <td>0.84</td> <th>  Prob(JB):          </th> <td>0.02</td>\n",
       "</tr>\n",
       "<tr>\n",
       "  <th>Heteroskedasticity (H):</th> <td>1.06</td> <th>  Skew:              </th> <td>0.99</td>\n",
       "</tr>\n",
       "<tr>\n",
       "  <th>Prob(H) (two-sided):</th>    <td>0.94</td> <th>  Kurtosis:          </th> <td>5.06</td>\n",
       "</tr>\n",
       "</table><br/><br/>Warnings:<br/>[1] Covariance matrix calculated using the outer product of gradients (complex-step).<br/>[2] Covariance matrix is singular or near-singular, with condition number 1.1e+23. Standard errors may be unstable."
      ],
      "text/plain": [
       "<class 'statsmodels.iolib.summary.Summary'>\n",
       "\"\"\"\n",
       "                                     SARIMAX Results                                      \n",
       "==========================================================================================\n",
       "Dep. Variable:                            Vol_9LC   No. Observations:                   36\n",
       "Model:             SARIMAX(1, 2, 3)x(1, 1, 3, 12)   Log Likelihood                -151.415\n",
       "Date:                            Sun, 05 Jun 2022   AIC                            320.830\n",
       "Time:                                    14:20:52   BIC                            330.649\n",
       "Sample:                                04-01-2019   HQIC                           323.143\n",
       "                                     - 03-01-2022                                         \n",
       "Covariance Type:                              opg                                         \n",
       "==============================================================================\n",
       "                 coef    std err          z      P>|z|      [0.025      0.975]\n",
       "------------------------------------------------------------------------------\n",
       "ar.L1         -0.9537      1.865     -0.511      0.609      -4.610       2.702\n",
       "ma.L1         -0.1171     46.216     -0.003      0.998     -90.699      90.464\n",
       "ma.L2         -0.7431     40.208     -0.018      0.985     -79.549      78.063\n",
       "ma.L3         -0.1374      7.098     -0.019      0.985     -14.050      13.775\n",
       "ar.S.L12       0.3949    247.934      0.002      0.999    -485.547     486.337\n",
       "ma.S.L12      -0.7984    310.243     -0.003      0.998    -608.864     607.267\n",
       "ma.S.L24      -0.4056    138.273     -0.003      0.998    -271.417     270.605\n",
       "ma.S.L36       0.4727    167.816      0.003      0.998    -328.441     329.387\n",
       "sigma2      3.288e+04      0.162   2.03e+05      0.000    3.29e+04    3.29e+04\n",
       "===================================================================================\n",
       "Ljung-Box (L1) (Q):                   0.04   Jarque-Bera (JB):                 7.52\n",
       "Prob(Q):                              0.84   Prob(JB):                         0.02\n",
       "Heteroskedasticity (H):               1.06   Skew:                             0.99\n",
       "Prob(H) (two-sided):                  0.94   Kurtosis:                         5.06\n",
       "===================================================================================\n",
       "\n",
       "Warnings:\n",
       "[1] Covariance matrix calculated using the outer product of gradients (complex-step).\n",
       "[2] Covariance matrix is singular or near-singular, with condition number 1.1e+23. Standard errors may be unstable.\n",
       "\"\"\""
      ]
     },
     "execution_count": 57,
     "metadata": {},
     "output_type": "execute_result"
    }
   ],
   "source": [
    "model2.summary()"
   ]
  },
  {
   "cell_type": "code",
   "execution_count": 58,
   "metadata": {},
   "outputs": [
    {
     "name": "stderr",
     "output_type": "stream",
     "text": [
      "C:\\Users\\Krop\\anaconda3\\envs\\ClassPau\\lib\\site-packages\\statsmodels\\tsa\\base\\tsa_model.py:524: ValueWarning: No frequency information was provided, so inferred frequency MS will be used.\n",
      "  warnings.warn('No frequency information was'\n",
      "C:\\Users\\Krop\\anaconda3\\envs\\ClassPau\\lib\\site-packages\\statsmodels\\tsa\\base\\tsa_model.py:524: ValueWarning: No frequency information was provided, so inferred frequency MS will be used.\n",
      "  warnings.warn('No frequency information was'\n",
      "C:\\Users\\Krop\\anaconda3\\envs\\ClassPau\\lib\\site-packages\\statsmodels\\tsa\\statespace\\sarimax.py:866: UserWarning: Too few observations to estimate starting parameters for seasonal ARMA. All parameters except for variances will be set to zeros.\n",
      "  warn('Too few observations to estimate starting parameters%s.'\n",
      "C:\\Users\\Krop\\anaconda3\\envs\\ClassPau\\lib\\site-packages\\statsmodels\\base\\model.py:566: ConvergenceWarning: Maximum Likelihood optimization failed to converge. Check mle_retvals\n",
      "  warnings.warn(\"Maximum Likelihood optimization failed to \"\n"
     ]
    }
   ],
   "source": [
    "# lets shoot to the moon an try sarimax\n",
    "\n",
    "#from statsmodels.tsa.statespace.sarimax import SARIMAX\n",
    "\n",
    "#parametros sugeridos por carlos\n",
    "\n",
    "s_mod = SARIMAX(hist_dfGRum['Vol_9LC'], \n",
    "                order=(1,0,0), \n",
    "                seasonal_order=(1,0,2,12))\n",
    "predictions3 = s_mod.fit().predict()"
   ]
  },
  {
   "cell_type": "code",
   "execution_count": 59,
   "metadata": {},
   "outputs": [
    {
     "data": {
      "text/plain": [
       "<matplotlib.legend.Legend at 0x180cf1f6070>"
      ]
     },
     "execution_count": 59,
     "metadata": {},
     "output_type": "execute_result"
    },
    {
     "data": {
      "image/png": "[encoded data removed]",
      "text/plain": [
       "<Figure size 1152x288 with 1 Axes>"
      ]
     },
     "metadata": {},
     "output_type": "display_data"
    }
   ],
   "source": [
    "# lets plot???\n",
    "\n",
    "plt.figure(figsize=(16,4))\n",
    "plt.plot(hist_dfGRum.diff(), label=\"Actual\")\n",
    "plt.plot(predictions3, label=\"Predicted\")\n",
    "plt.title('Volume 9LC', fontsize=20)\n",
    "plt.ylabel('Vol', fontsize=16)\n",
    "plt.legend()"
   ]
  },
  {
   "cell_type": "code",
   "execution_count": null,
   "metadata": {},
   "outputs": [],
   "source": []
  },
  {
   "cell_type": "code",
   "execution_count": null,
   "metadata": {},
   "outputs": [],
   "source": []
  },
  {
   "cell_type": "markdown",
   "metadata": {},
   "source": [
    "## inputing external datas"
   ]
  },
  {
   "cell_type": "code",
   "execution_count": null,
   "metadata": {},
   "outputs": [],
   "source": [
    "lst=[]\n",
    "for i in range(36):\n",
    "    lst.append(0)\n",
    "\n",
    "covdf=pd.DataFrame([lst])"
   ]
  },
  {
   "cell_type": "code",
   "execution_count": null,
   "metadata": {},
   "outputs": [],
   "source": [
    "covdf"
   ]
  },
  {
   "cell_type": "code",
   "execution_count": null,
   "metadata": {},
   "outputs": [],
   "source": [
    "# lets shoot to the moon an try sarimax\n",
    "\n",
    "#from statsmodels.tsa.statespace.sarimax import SARIMAX\n",
    "\n",
    "#parametros sugeridos por carlos\n",
    "\n",
    "s_mod = SARIMAX(hist_dfGRum['Vol_9LC'], \n",
    "                order=(1,0,0), \n",
    "                seasonal_order=(1,0,2,12),\n",
    "                exog=)\n",
    "predictions3 = s_mod.fit().predict()"
   ]
  },
  {
   "cell_type": "code",
   "execution_count": null,
   "metadata": {},
   "outputs": [],
   "source": [
    "# lets plot???\n",
    "\n",
    "plt.figure(figsize=(16,4))\n",
    "plt.plot(hist_dfGRum.diff(), label=\"Actual\")\n",
    "plt.plot(predictions3, label=\"Predicted\")\n",
    "plt.title('Volume 9LC', fontsize=20)\n",
    "plt.ylabel('Vol', fontsize=16)\n",
    "plt.legend()"
   ]
  },
  {
   "cell_type": "code",
   "execution_count": null,
   "metadata": {},
   "outputs": [],
   "source": []
  },
  {
   "cell_type": "code",
   "execution_count": null,
   "metadata": {},
   "outputs": [],
   "source": []
  },
  {
   "cell_type": "markdown",
   "metadata": {},
   "source": [
    "## AutoARIMA model"
   ]
  },
  {
   "cell_type": "code",
   "execution_count": null,
   "metadata": {},
   "outputs": [],
   "source": []
  },
  {
   "cell_type": "markdown",
   "metadata": {},
   "source": [
    "our data is not stationary. We apply log transformation before we start modeling"
   ]
  },
  {
   "cell_type": "code",
   "execution_count": 98,
   "metadata": {},
   "outputs": [],
   "source": [
    "tdf2=hist_dfGRum[['Vol_9LC']]"
   ]
  },
  {
   "cell_type": "code",
   "execution_count": 99,
   "metadata": {},
   "outputs": [
    {
     "data": {
      "image/png": "[encoded data removed]",
      "text/plain": [
       "<Figure size 1440x576 with 1 Axes>"
      ]
     },
     "metadata": {},
     "output_type": "display_data"
    }
   ],
   "source": [
    "# check for normality\n",
    "plt.hist(tdf2['Vol_9LC'], bins=50);\n"
   ]
  },
  {
   "cell_type": "code",
   "execution_count": 100,
   "metadata": {},
   "outputs": [],
   "source": [
    "# apply a log transformation to normalize the data\n",
    "tdf2['Vol_9LC_log'] = np.log(tdf2['Vol_9LC'])"
   ]
  },
  {
   "cell_type": "code",
   "execution_count": 101,
   "metadata": {},
   "outputs": [
    {
     "data": {
      "image/png": "[encoded data removed]",
      "text/plain": [
       "<Figure size 1440x576 with 1 Axes>"
      ]
     },
     "metadata": {},
     "output_type": "display_data"
    }
   ],
   "source": [
    "# check for normality\n",
    "plt.hist(tdf2['Vol_9LC_log'], bins=50);"
   ]
  },
  {
   "cell_type": "code",
   "execution_count": null,
   "metadata": {
    "scrolled": true
   },
   "outputs": [],
   "source": [
    "hist_dfGRum"
   ]
  },
  {
   "cell_type": "code",
   "execution_count": 102,
   "metadata": {},
   "outputs": [],
   "source": [
    "#we still want univariable\n",
    "tdf2.drop('Vol_9LC', axis = 1, inplace = True) \n"
   ]
  },
  {
   "cell_type": "code",
   "execution_count": null,
   "metadata": {},
   "outputs": [],
   "source": []
  },
  {
   "cell_type": "code",
   "execution_count": null,
   "metadata": {},
   "outputs": [],
   "source": []
  },
  {
   "cell_type": "code",
   "execution_count": 103,
   "metadata": {},
   "outputs": [],
   "source": [
    "from pmdarima.arima import auto_arima"
   ]
  },
  {
   "cell_type": "code",
   "execution_count": 104,
   "metadata": {},
   "outputs": [
    {
     "data": {
      "text/html": [
       "<table class=\"simpletable\">\n",
       "<caption>SARIMAX Results</caption>\n",
       "<tr>\n",
       "  <th>Dep. Variable:</th>           <td>y</td>        <th>  No. Observations:  </th>   <td>36</td>   \n",
       "</tr>\n",
       "<tr>\n",
       "  <th>Model:</th>           <td>SARIMAX(1, 1, 1)</td> <th>  Log Likelihood     </th> <td>-26.935</td>\n",
       "</tr>\n",
       "<tr>\n",
       "  <th>Date:</th>            <td>Fri, 03 Jun 2022</td> <th>  AIC                </th> <td>59.870</td> \n",
       "</tr>\n",
       "<tr>\n",
       "  <th>Time:</th>                <td>16:29:25</td>     <th>  BIC                </th> <td>64.536</td> \n",
       "</tr>\n",
       "<tr>\n",
       "  <th>Sample:</th>                  <td>0</td>        <th>  HQIC               </th> <td>61.481</td> \n",
       "</tr>\n",
       "<tr>\n",
       "  <th></th>                       <td> - 36</td>      <th>                     </th>    <td> </td>   \n",
       "</tr>\n",
       "<tr>\n",
       "  <th>Covariance Type:</th>        <td>opg</td>       <th>                     </th>    <td> </td>   \n",
       "</tr>\n",
       "</table>\n",
       "<table class=\"simpletable\">\n",
       "<tr>\n",
       "     <td></td>       <th>coef</th>     <th>std err</th>      <th>z</th>      <th>P>|z|</th>  <th>[0.025</th>    <th>0.975]</th>  \n",
       "</tr>\n",
       "<tr>\n",
       "  <th>ar.L1</th>  <td>   -0.8106</td> <td>    0.263</td> <td>   -3.081</td> <td> 0.002</td> <td>   -1.326</td> <td>   -0.295</td>\n",
       "</tr>\n",
       "<tr>\n",
       "  <th>ma.L1</th>  <td>    0.5539</td> <td>    0.489</td> <td>    1.133</td> <td> 0.257</td> <td>   -0.404</td> <td>    1.512</td>\n",
       "</tr>\n",
       "<tr>\n",
       "  <th>sigma2</th> <td>    0.2710</td> <td>    0.051</td> <td>    5.267</td> <td> 0.000</td> <td>    0.170</td> <td>    0.372</td>\n",
       "</tr>\n",
       "</table>\n",
       "<table class=\"simpletable\">\n",
       "<tr>\n",
       "  <th>Ljung-Box (L1) (Q):</th>     <td>0.00</td> <th>  Jarque-Bera (JB):  </th> <td>31.34</td>\n",
       "</tr>\n",
       "<tr>\n",
       "  <th>Prob(Q):</th>                <td>0.99</td> <th>  Prob(JB):          </th> <td>0.00</td> \n",
       "</tr>\n",
       "<tr>\n",
       "  <th>Heteroskedasticity (H):</th> <td>0.27</td> <th>  Skew:              </th> <td>-1.01</td>\n",
       "</tr>\n",
       "<tr>\n",
       "  <th>Prob(H) (two-sided):</th>    <td>0.03</td> <th>  Kurtosis:          </th> <td>7.18</td> \n",
       "</tr>\n",
       "</table><br/><br/>Warnings:<br/>[1] Covariance matrix calculated using the outer product of gradients (complex-step)."
      ],
      "text/plain": [
       "<class 'statsmodels.iolib.summary.Summary'>\n",
       "\"\"\"\n",
       "                               SARIMAX Results                                \n",
       "==============================================================================\n",
       "Dep. Variable:                      y   No. Observations:                   36\n",
       "Model:               SARIMAX(1, 1, 1)   Log Likelihood                 -26.935\n",
       "Date:                Fri, 03 Jun 2022   AIC                             59.870\n",
       "Time:                        16:29:25   BIC                             64.536\n",
       "Sample:                             0   HQIC                            61.481\n",
       "                                 - 36                                         \n",
       "Covariance Type:                  opg                                         \n",
       "==============================================================================\n",
       "                 coef    std err          z      P>|z|      [0.025      0.975]\n",
       "------------------------------------------------------------------------------\n",
       "ar.L1         -0.8106      0.263     -3.081      0.002      -1.326      -0.295\n",
       "ma.L1          0.5539      0.489      1.133      0.257      -0.404       1.512\n",
       "sigma2         0.2710      0.051      5.267      0.000       0.170       0.372\n",
       "===================================================================================\n",
       "Ljung-Box (L1) (Q):                   0.00   Jarque-Bera (JB):                31.34\n",
       "Prob(Q):                              0.99   Prob(JB):                         0.00\n",
       "Heteroskedasticity (H):               0.27   Skew:                            -1.01\n",
       "Prob(H) (two-sided):                  0.03   Kurtosis:                         7.18\n",
       "===================================================================================\n",
       "\n",
       "Warnings:\n",
       "[1] Covariance matrix calculated using the outer product of gradients (complex-step).\n",
       "\"\"\""
      ]
     },
     "execution_count": 104,
     "metadata": {},
     "output_type": "execute_result"
    }
   ],
   "source": [
    "model = auto_arima(tdf2, start_p=0, start_q=0)\n",
    "model.summary()"
   ]
  },
  {
   "cell_type": "code",
   "execution_count": null,
   "metadata": {},
   "outputs": [],
   "source": [
    "model.plot_diagnostics()"
   ]
  },
  {
   "cell_type": "raw",
   "metadata": {},
   "source": [
    "#copied lines i used to plot and\n",
    "# to get forecast we should do something like this \n",
    "\n",
    "forecast = model.get_forecast(steps=12)\n",
    "pred_df = forecast.conf_int()\n",
    "pred_df['pred'] = forecast.predicted_mean\n",
    "pred_df.columns = ['lower', 'upper', 'pred']"
   ]
  },
  {
   "cell_type": "code",
   "execution_count": null,
   "metadata": {},
   "outputs": [],
   "source": [
    "hist_dfGRum.info()"
   ]
  },
  {
   "cell_type": "code",
   "execution_count": null,
   "metadata": {},
   "outputs": [],
   "source": [
    "#use the model to predict\n",
    "\n",
    "prediction, confint = model.predict(n_periods=6, return_conf_int=True)\n",
    "\n",
    "prediction\n"
   ]
  },
  {
   "cell_type": "code",
   "execution_count": null,
   "metadata": {},
   "outputs": [],
   "source": [
    "#put prediction on a df\n",
    "cf= pd.DataFrame(confint)"
   ]
  },
  {
   "cell_type": "code",
   "execution_count": null,
   "metadata": {},
   "outputs": [],
   "source": [
    "cf"
   ]
  },
  {
   "cell_type": "raw",
   "metadata": {},
   "source": [
    "#Mostramos la gráfica con la predicción de los 2 últimos años en naranja\n",
    "#sobre la serie real \n",
    "prediction_series = pd.Series(prediction,index=[2021-10-01 \t,\n",
    "2021-11-01 \t,\n",
    "2021-12-01 \t,\n",
    "2022-01-01 \t,\n",
    "2022-02-01 \t,\n",
    "2022-03-01])\n",
    "fig, ax = plt.subplots(1, 1, figsize=(15, 5))\n",
    "ax.plot(hist_dfGRum.Vol_9LC_log)\n",
    "ax.plot(prediction_series)\n",
    "ax.fill_between(prediction_series.index,\n",
    "                cf[0],\n",
    "                cf[1],color='grey',alpha=.3)"
   ]
  },
  {
   "cell_type": "code",
   "execution_count": null,
   "metadata": {},
   "outputs": [],
   "source": [
    "prediction_series = pd.Series(prediction,index=['2021-10-01 00:00:00', '2021-11-01 00:00:00' ,'2021-12-01 00:00:00',\n",
    "                                                '2022-01-01 00:00:00','2022-02-01 00:00:00','2022-03-01 00:00:00'])"
   ]
  },
  {
   "cell_type": "code",
   "execution_count": null,
   "metadata": {},
   "outputs": [],
   "source": [
    "prediction_series"
   ]
  },
  {
   "cell_type": "code",
   "execution_count": null,
   "metadata": {
    "scrolled": true
   },
   "outputs": [],
   "source": [
    "hist_dfGRum"
   ]
  },
  {
   "cell_type": "code",
   "execution_count": null,
   "metadata": {},
   "outputs": [],
   "source": []
  },
  {
   "cell_type": "raw",
   "metadata": {},
   "source": [
    "USE pred_df.shift(30) !!!!!!!!!!!!!!!!!!!!!!!!!!!!!!!!!!!!!!!!!!!!!!!!!!!!!!!!!"
   ]
  },
  {
   "cell_type": "raw",
   "metadata": {},
   "source": [
    "#add the prediction\n",
    "#hist_dfGRum['prediction']=prediction_series.to_frame()"
   ]
  },
  {
   "cell_type": "code",
   "execution_count": null,
   "metadata": {},
   "outputs": [],
   "source": [
    "pred_df=prediction_series.to_frame()"
   ]
  },
  {
   "cell_type": "code",
   "execution_count": null,
   "metadata": {},
   "outputs": [],
   "source": [
    "pred_df"
   ]
  },
  {
   "cell_type": "raw",
   "metadata": {},
   "source": [
    "a_row = pd.Series([1, 2])\n",
    "\n",
    "df = pd.DataFrame([[3, 4], [5, 6]], index = [\"row1\", \"row2\"])\n",
    "\n",
    "\n",
    "row_df = pd.DataFrame([a_row], index = [\"row3\"])\n",
    "\n",
    "df = pd.concat([row_df, df])"
   ]
  },
  {
   "cell_type": "raw",
   "metadata": {},
   "source": [
    "nan_array= np.empty(30)\n",
    "nan_array[:]=np.NaN"
   ]
  },
  {
   "cell_type": "raw",
   "metadata": {},
   "source": [
    "pred_array = prediction_series.to_numpy()"
   ]
  },
  {
   "cell_type": "raw",
   "metadata": {},
   "source": [
    "pred_array"
   ]
  },
  {
   "cell_type": "raw",
   "metadata": {},
   "source": [
    "nan_array"
   ]
  },
  {
   "cell_type": "raw",
   "metadata": {},
   "source": [
    "np.concatenate(nan_array,pred_array)"
   ]
  },
  {
   "cell_type": "code",
   "execution_count": null,
   "metadata": {},
   "outputs": [],
   "source": [
    "hist_dfGRum=pd.concat([hist_dfGRum, pred_df], axis=1)"
   ]
  },
  {
   "cell_type": "code",
   "execution_count": null,
   "metadata": {
    "scrolled": true
   },
   "outputs": [],
   "source": [
    "hist_dfGRum"
   ]
  },
  {
   "cell_type": "raw",
   "metadata": {},
   "source": []
  }
 ],
 "metadata": {
  "kernelspec": {
   "display_name": "Python 3 (ipykernel)",
   "language": "python",
   "name": "python3"
  },
  "language_info": {
   "codemirror_mode": {
    "name": "ipython",
    "version": 3
   },
   "file_extension": ".py",
   "mimetype": "text/x-python",
   "name": "python",
   "nbconvert_exporter": "python",
   "pygments_lexer": "ipython3",
   "version": "3.9.12"
  }
 },
 "nbformat": 4,
 "nbformat_minor": 4
}
