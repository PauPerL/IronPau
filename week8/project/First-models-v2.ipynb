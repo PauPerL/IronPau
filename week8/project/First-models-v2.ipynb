{
 "cells": [
  {
   "cell_type": "markdown",
   "metadata": {},
   "source": [
    "# 1. Importing libraries"
   ]
  },
  {
   "cell_type": "code",
   "execution_count": 1,
   "metadata": {},
   "outputs": [
    {
     "name": "stderr",
     "output_type": "stream",
     "text": [
      "C:\\Users\\Krop\\anaconda3\\envs\\ClassPau\\lib\\site-packages\\statsmodels\\tsa\\base\\tsa_model.py:7: FutureWarning: pandas.Int64Index is deprecated and will be removed from pandas in a future version. Use pandas.Index with the appropriate dtype instead.\n",
      "  from pandas import (to_datetime, Int64Index, DatetimeIndex, Period,\n",
      "C:\\Users\\Krop\\anaconda3\\envs\\ClassPau\\lib\\site-packages\\statsmodels\\tsa\\base\\tsa_model.py:7: FutureWarning: pandas.Float64Index is deprecated and will be removed from pandas in a future version. Use pandas.Index with the appropriate dtype instead.\n",
      "  from pandas import (to_datetime, Int64Index, DatetimeIndex, Period,\n"
     ]
    }
   ],
   "source": [
    "import numpy as np\n",
    "import pandas as pd\n",
    "import seaborn as sns\n",
    "import matplotlib.pyplot as plt\n",
    "import datetime\n",
    "from dateutil.relativedelta import relativedelta\n",
    "import statsmodels.api as sm\n",
    "from datetime import datetime \n",
    "from statsmodels.graphics.tsaplots import plot_acf, plot_pacf\n",
    "\n",
    "from statsmodels.tsa.arima.model import ARIMA\n",
    "# deprecated -- statsmodels.tsa.arima_model.ARIMA \n",
    "# should use -- statsmodels.tsa.arima.model.ARIMA\n",
    "from statsmodels.tsa.statespace.sarimax import SARIMAX\n",
    "\n",
    "from datetime import timedelta\n",
    "from time import time\n"
   ]
  },
  {
   "cell_type": "markdown",
   "metadata": {},
   "source": [
    "# 2 Preparing dataframe"
   ]
  },
  {
   "cell_type": "code",
   "execution_count": 50,
   "metadata": {},
   "outputs": [
    {
     "name": "stdout",
     "output_type": "stream",
     "text": [
      " Volume in drive C has no label.\n",
      " Volume Serial Number is EA54-6392\n",
      "\n",
      " Directory of C:\\Users\\Krop\\Documents\\Ironhack\\IronPau\\week8\\project\\bacardi\\Files\n",
      "\n",
      "02/06/2022  19:39    <DIR>          .\n",
      "02/06/2022  19:39    <DIR>          ..\n",
      "03/05/2022  07:29        71,965,842 Digital_Commerce_Market Share US_UEBig5.xlsx\n",
      "03/05/2022  06:54        10,276,231 Digital_Commerce_Pure Players_US_UEbig5.xlsb\n",
      "09/05/2022  00:46        37,760,083 Digital_Commerce_RetailersCom_US_UEBig5.xlsx\n",
      "01/06/2022  09:26        11,763,614 Market_share_clean_v2.xlsx\n",
      "02/06/2022  10:31         3,267,508 pureRetailersCleanv1.csv\n",
      "03/06/2022  12:05             3,348 pureRetailersDuplicates.csv\n",
      "               6 File(s)    135,036,626 bytes\n",
      "               2 Dir(s)  760,518,131,712 bytes free\n"
     ]
    }
   ],
   "source": [
    "ls"
   ]
  },
  {
   "cell_type": "code",
   "execution_count": 3,
   "metadata": {},
   "outputs": [
    {
     "name": "stdout",
     "output_type": "stream",
     "text": [
      "C:\\Users\\Krop\\Documents\\Ironhack\\IronPau\\week8\\project\\bacardi\\Files\n"
     ]
    }
   ],
   "source": [
    "cd bacardi\\Files"
   ]
  },
  {
   "cell_type": "code",
   "execution_count": 4,
   "metadata": {},
   "outputs": [
    {
     "name": "stdout",
     "output_type": "stream",
     "text": [
      " Volume in drive C has no label.\n",
      " Volume Serial Number is EA54-6392\n",
      "\n",
      " Directory of C:\\Users\\Krop\\Documents\\Ironhack\\IronPau\\week8\\project\\bacardi\\Files\n",
      "\n",
      "02/06/2022  19:39    <DIR>          .\n",
      "02/06/2022  19:39    <DIR>          ..\n",
      "03/05/2022  07:29        71,965,842 Digital_Commerce_Market Share US_UEBig5.xlsx\n",
      "03/05/2022  06:54        10,276,231 Digital_Commerce_Pure Players_US_UEbig5.xlsb\n",
      "09/05/2022  00:46        37,760,083 Digital_Commerce_RetailersCom_US_UEBig5.xlsx\n",
      "01/06/2022  09:26        11,763,614 Market_share_clean_v2.xlsx\n",
      "02/06/2022  10:31         3,267,508 pureRetailersCleanv1.csv\n",
      "03/06/2022  11:54             3,348 pureRetailersDuplicates.csv\n",
      "               6 File(s)    135,036,626 bytes\n",
      "               2 Dir(s)  760,514,850,816 bytes free\n"
     ]
    }
   ],
   "source": [
    "ls"
   ]
  },
  {
   "cell_type": "code",
   "execution_count": 5,
   "metadata": {},
   "outputs": [],
   "source": [
    "#we are interested on the dataframe [3]\n",
    "dfpurep = pd.read_excel('Digital_Commerce_Pure Players_US_UEbig5.xlsb', sheet_name=3, engine='pyxlsb')"
   ]
  },
  {
   "cell_type": "code",
   "execution_count": 6,
   "metadata": {
    "scrolled": true
   },
   "outputs": [
    {
     "name": "stdout",
     "output_type": "stream",
     "text": [
      "<class 'pandas.core.frame.DataFrame'>\n",
      "RangeIndex: 87244 entries, 0 to 87243\n",
      "Data columns (total 23 columns):\n",
      " #   Column              Non-Null Count  Dtype  \n",
      "---  ------              --------------  -----  \n",
      " 0   Budget Type         87244 non-null  object \n",
      " 1   Fiscal Year         87244 non-null  object \n",
      " 2   Month               87244 non-null  int64  \n",
      " 3   Customer Name       87244 non-null  object \n",
      " 4   Customer Group 1    87244 non-null  object \n",
      " 5   Customer Group 2    87244 non-null  object \n",
      " 6   Financial Category  87244 non-null  object \n",
      " 7   Category            87244 non-null  object \n",
      " 8   Brand               87244 non-null  object \n",
      " 9   Brandline           87244 non-null  object \n",
      " 10  Format              87243 non-null  float64\n",
      " 11  Classification      87244 non-null  object \n",
      " 12  Geography           87244 non-null  object \n",
      " 13  Region              87244 non-null  object \n",
      " 14  Agency Toggle       87244 non-null  object \n",
      " 15  IPC Value           87244 non-null  int64  \n",
      " 16  Market              87244 non-null  object \n",
      " 17  4 Digit Code        87244 non-null  int64  \n",
      " 18  Currency            87244 non-null  object \n",
      " 19  Vol 9LC             84076 non-null  float64\n",
      " 20  Manufacturer        87244 non-null  object \n",
      " 21  DataInd             86896 non-null  object \n",
      " 22  DataSource          87244 non-null  object \n",
      "dtypes: float64(2), int64(3), object(18)\n",
      "memory usage: 15.3+ MB\n"
     ]
    }
   ],
   "source": [
    "dfpurep.info() #inspect the df"
   ]
  },
  {
   "cell_type": "code",
   "execution_count": 7,
   "metadata": {},
   "outputs": [
    {
     "data": {
      "text/plain": [
       "Index(['Budget Type', 'Fiscal Year', 'Month', 'Customer Name',\n",
       "       'Customer Group 1', 'Customer Group 2', 'Financial Category',\n",
       "       'Category', 'Brand', 'Brandline', 'Format', 'Classification',\n",
       "       'Geography', 'Region', 'Agency Toggle', 'IPC Value', 'Market',\n",
       "       '4 Digit Code', 'Currency', 'Vol 9LC', 'Manufacturer', 'DataInd',\n",
       "       'DataSource'],\n",
       "      dtype='object')"
      ]
     },
     "execution_count": 7,
     "metadata": {},
     "output_type": "execute_result"
    }
   ],
   "source": [
    "dfpurep.columns"
   ]
  },
  {
   "cell_type": "code",
   "execution_count": 8,
   "metadata": {},
   "outputs": [
    {
     "data": {
      "text/plain": [
       "8"
      ]
     },
     "execution_count": 8,
     "metadata": {},
     "output_type": "execute_result"
    }
   ],
   "source": [
    "#look for duplicates\n",
    "dfpurep.duplicated().sum()"
   ]
  },
  {
   "cell_type": "code",
   "execution_count": 9,
   "metadata": {
    "scrolled": true
   },
   "outputs": [
    {
     "data": {
      "text/html": [
       "<div>\n",
       "<style scoped>\n",
       "    .dataframe tbody tr th:only-of-type {\n",
       "        vertical-align: middle;\n",
       "    }\n",
       "\n",
       "    .dataframe tbody tr th {\n",
       "        vertical-align: top;\n",
       "    }\n",
       "\n",
       "    .dataframe thead th {\n",
       "        text-align: right;\n",
       "    }\n",
       "</style>\n",
       "<table border=\"1\" class=\"dataframe\">\n",
       "  <thead>\n",
       "    <tr style=\"text-align: right;\">\n",
       "      <th></th>\n",
       "      <th>Budget Type</th>\n",
       "      <th>Fiscal Year</th>\n",
       "      <th>Month</th>\n",
       "      <th>Customer Name</th>\n",
       "      <th>Customer Group 1</th>\n",
       "      <th>Customer Group 2</th>\n",
       "      <th>Financial Category</th>\n",
       "      <th>Category</th>\n",
       "      <th>Brand</th>\n",
       "      <th>Brandline</th>\n",
       "      <th>...</th>\n",
       "      <th>Region</th>\n",
       "      <th>Agency Toggle</th>\n",
       "      <th>IPC Value</th>\n",
       "      <th>Market</th>\n",
       "      <th>4 Digit Code</th>\n",
       "      <th>Currency</th>\n",
       "      <th>Vol 9LC</th>\n",
       "      <th>Manufacturer</th>\n",
       "      <th>DataInd</th>\n",
       "      <th>DataSource</th>\n",
       "    </tr>\n",
       "  </thead>\n",
       "  <tbody>\n",
       "    <tr>\n",
       "      <th>37261</th>\n",
       "      <td>ACTUAL</td>\n",
       "      <td>FY22</td>\n",
       "      <td>44348</td>\n",
       "      <td>Tastillery GmbH</td>\n",
       "      <td>Other DE</td>\n",
       "      <td>Other DE</td>\n",
       "      <td>RUM</td>\n",
       "      <td>RUM</td>\n",
       "      <td>BACARDI</td>\n",
       "      <td>BACARDI OAKHEART ORIGINAL</td>\n",
       "      <td>...</td>\n",
       "      <td>EUROPE</td>\n",
       "      <td>N</td>\n",
       "      <td>4870009675</td>\n",
       "      <td>DE</td>\n",
       "      <td>4870</td>\n",
       "      <td>EUR</td>\n",
       "      <td>0.0</td>\n",
       "      <td>BACARDI</td>\n",
       "      <td>Sell In</td>\n",
       "      <td>NSV Europe</td>\n",
       "    </tr>\n",
       "    <tr>\n",
       "      <th>37262</th>\n",
       "      <td>ACTUAL</td>\n",
       "      <td>FY22</td>\n",
       "      <td>44348</td>\n",
       "      <td>Tastillery GmbH</td>\n",
       "      <td>Other DE</td>\n",
       "      <td>Other DE</td>\n",
       "      <td>RUM</td>\n",
       "      <td>RUM</td>\n",
       "      <td>BACARDI</td>\n",
       "      <td>BACARDI OAKHEART ORIGINAL</td>\n",
       "      <td>...</td>\n",
       "      <td>EUROPE</td>\n",
       "      <td>N</td>\n",
       "      <td>4870009675</td>\n",
       "      <td>DE</td>\n",
       "      <td>4870</td>\n",
       "      <td>EUR</td>\n",
       "      <td>0.0</td>\n",
       "      <td>BACARDI</td>\n",
       "      <td>Sell In</td>\n",
       "      <td>NSV Europe</td>\n",
       "    </tr>\n",
       "    <tr>\n",
       "      <th>37263</th>\n",
       "      <td>ACTUAL</td>\n",
       "      <td>FY22</td>\n",
       "      <td>44348</td>\n",
       "      <td>Tastillery GmbH</td>\n",
       "      <td>Other DE</td>\n",
       "      <td>Other DE</td>\n",
       "      <td>RUM</td>\n",
       "      <td>RUM</td>\n",
       "      <td>BACARDI</td>\n",
       "      <td>BACARDI OAKHEART ORIGINAL</td>\n",
       "      <td>...</td>\n",
       "      <td>EUROPE</td>\n",
       "      <td>N</td>\n",
       "      <td>4870010113</td>\n",
       "      <td>DE</td>\n",
       "      <td>4870</td>\n",
       "      <td>EUR</td>\n",
       "      <td>0.0</td>\n",
       "      <td>BACARDI</td>\n",
       "      <td>Sell In</td>\n",
       "      <td>NSV Europe</td>\n",
       "    </tr>\n",
       "    <tr>\n",
       "      <th>37264</th>\n",
       "      <td>ACTUAL</td>\n",
       "      <td>FY22</td>\n",
       "      <td>44348</td>\n",
       "      <td>Tastillery GmbH</td>\n",
       "      <td>Other DE</td>\n",
       "      <td>Other DE</td>\n",
       "      <td>RUM</td>\n",
       "      <td>RUM</td>\n",
       "      <td>BACARDI</td>\n",
       "      <td>BACARDI OAKHEART ORIGINAL</td>\n",
       "      <td>...</td>\n",
       "      <td>EUROPE</td>\n",
       "      <td>N</td>\n",
       "      <td>4870010113</td>\n",
       "      <td>DE</td>\n",
       "      <td>4870</td>\n",
       "      <td>EUR</td>\n",
       "      <td>0.0</td>\n",
       "      <td>BACARDI</td>\n",
       "      <td>Sell In</td>\n",
       "      <td>NSV Europe</td>\n",
       "    </tr>\n",
       "    <tr>\n",
       "      <th>37265</th>\n",
       "      <td>ACTUAL</td>\n",
       "      <td>FY22</td>\n",
       "      <td>44348</td>\n",
       "      <td>Tastillery GmbH</td>\n",
       "      <td>Other DE</td>\n",
       "      <td>Other DE</td>\n",
       "      <td>RUM</td>\n",
       "      <td>RUM</td>\n",
       "      <td>BACARDI</td>\n",
       "      <td>BACARDI OAKHEART ORIGINAL</td>\n",
       "      <td>...</td>\n",
       "      <td>EUROPE</td>\n",
       "      <td>N</td>\n",
       "      <td>4870009671</td>\n",
       "      <td>DE</td>\n",
       "      <td>4870</td>\n",
       "      <td>EUR</td>\n",
       "      <td>0.0</td>\n",
       "      <td>BACARDI</td>\n",
       "      <td>Sell In</td>\n",
       "      <td>NSV Europe</td>\n",
       "    </tr>\n",
       "    <tr>\n",
       "      <th>37266</th>\n",
       "      <td>ACTUAL</td>\n",
       "      <td>FY22</td>\n",
       "      <td>44348</td>\n",
       "      <td>Tastillery GmbH</td>\n",
       "      <td>Other DE</td>\n",
       "      <td>Other DE</td>\n",
       "      <td>RUM</td>\n",
       "      <td>RUM</td>\n",
       "      <td>BACARDI</td>\n",
       "      <td>BACARDI OAKHEART ORIGINAL</td>\n",
       "      <td>...</td>\n",
       "      <td>EUROPE</td>\n",
       "      <td>N</td>\n",
       "      <td>4870009671</td>\n",
       "      <td>DE</td>\n",
       "      <td>4870</td>\n",
       "      <td>EUR</td>\n",
       "      <td>0.0</td>\n",
       "      <td>BACARDI</td>\n",
       "      <td>Sell In</td>\n",
       "      <td>NSV Europe</td>\n",
       "    </tr>\n",
       "    <tr>\n",
       "      <th>41191</th>\n",
       "      <td>ACTUAL</td>\n",
       "      <td>FY22</td>\n",
       "      <td>44440</td>\n",
       "      <td>YOPOGOELHIELO</td>\n",
       "      <td>YOPOGOELHIELO</td>\n",
       "      <td>YOPOGOELHIELO</td>\n",
       "      <td>RUM</td>\n",
       "      <td>RUM</td>\n",
       "      <td>BACARDI</td>\n",
       "      <td>BACARDI OAKHEART ORIGINAL</td>\n",
       "      <td>...</td>\n",
       "      <td>EUROPE</td>\n",
       "      <td>N</td>\n",
       "      <td>4870002859</td>\n",
       "      <td>ES</td>\n",
       "      <td>4870</td>\n",
       "      <td>EUR</td>\n",
       "      <td>0.0</td>\n",
       "      <td>BACARDI</td>\n",
       "      <td>Sell In</td>\n",
       "      <td>NSV Europe</td>\n",
       "    </tr>\n",
       "    <tr>\n",
       "      <th>41192</th>\n",
       "      <td>ACTUAL</td>\n",
       "      <td>FY22</td>\n",
       "      <td>44440</td>\n",
       "      <td>YOPOGOELHIELO</td>\n",
       "      <td>YOPOGOELHIELO</td>\n",
       "      <td>YOPOGOELHIELO</td>\n",
       "      <td>RUM</td>\n",
       "      <td>RUM</td>\n",
       "      <td>BACARDI</td>\n",
       "      <td>BACARDI OAKHEART ORIGINAL</td>\n",
       "      <td>...</td>\n",
       "      <td>EUROPE</td>\n",
       "      <td>N</td>\n",
       "      <td>4870002859</td>\n",
       "      <td>ES</td>\n",
       "      <td>4870</td>\n",
       "      <td>EUR</td>\n",
       "      <td>0.0</td>\n",
       "      <td>BACARDI</td>\n",
       "      <td>Sell In</td>\n",
       "      <td>NSV Europe</td>\n",
       "    </tr>\n",
       "    <tr>\n",
       "      <th>44703</th>\n",
       "      <td>ACTUAL</td>\n",
       "      <td>FY22</td>\n",
       "      <td>44531</td>\n",
       "      <td>Knuspr.de</td>\n",
       "      <td>Other DE</td>\n",
       "      <td>Other DE</td>\n",
       "      <td>RUM</td>\n",
       "      <td>RUM</td>\n",
       "      <td>BACARDI</td>\n",
       "      <td>BACARDI OAKHEART ORIGINAL</td>\n",
       "      <td>...</td>\n",
       "      <td>EUROPE</td>\n",
       "      <td>N</td>\n",
       "      <td>4870009671</td>\n",
       "      <td>DE</td>\n",
       "      <td>4870</td>\n",
       "      <td>EUR</td>\n",
       "      <td>0.0</td>\n",
       "      <td>BACARDI</td>\n",
       "      <td>Sell In</td>\n",
       "      <td>NSV Europe</td>\n",
       "    </tr>\n",
       "    <tr>\n",
       "      <th>44704</th>\n",
       "      <td>ACTUAL</td>\n",
       "      <td>FY22</td>\n",
       "      <td>44531</td>\n",
       "      <td>Knuspr.de</td>\n",
       "      <td>Other DE</td>\n",
       "      <td>Other DE</td>\n",
       "      <td>RUM</td>\n",
       "      <td>RUM</td>\n",
       "      <td>BACARDI</td>\n",
       "      <td>BACARDI OAKHEART ORIGINAL</td>\n",
       "      <td>...</td>\n",
       "      <td>EUROPE</td>\n",
       "      <td>N</td>\n",
       "      <td>4870009671</td>\n",
       "      <td>DE</td>\n",
       "      <td>4870</td>\n",
       "      <td>EUR</td>\n",
       "      <td>0.0</td>\n",
       "      <td>BACARDI</td>\n",
       "      <td>Sell In</td>\n",
       "      <td>NSV Europe</td>\n",
       "    </tr>\n",
       "    <tr>\n",
       "      <th>44729</th>\n",
       "      <td>ACTUAL</td>\n",
       "      <td>FY22</td>\n",
       "      <td>44531</td>\n",
       "      <td>La Compagnie Du Rhum</td>\n",
       "      <td>La Compagnie Du Rhum</td>\n",
       "      <td>La Compagnie Du Rhum</td>\n",
       "      <td>RUM</td>\n",
       "      <td>RUM</td>\n",
       "      <td>BACARDI</td>\n",
       "      <td>BACARDI OAKHEART ORIGINAL</td>\n",
       "      <td>...</td>\n",
       "      <td>EUROPE</td>\n",
       "      <td>N</td>\n",
       "      <td>4870003253</td>\n",
       "      <td>FR</td>\n",
       "      <td>4870</td>\n",
       "      <td>EUR</td>\n",
       "      <td>0.0</td>\n",
       "      <td>BACARDI</td>\n",
       "      <td>Sell In</td>\n",
       "      <td>NSV Europe</td>\n",
       "    </tr>\n",
       "    <tr>\n",
       "      <th>44730</th>\n",
       "      <td>ACTUAL</td>\n",
       "      <td>FY22</td>\n",
       "      <td>44531</td>\n",
       "      <td>La Compagnie Du Rhum</td>\n",
       "      <td>La Compagnie Du Rhum</td>\n",
       "      <td>La Compagnie Du Rhum</td>\n",
       "      <td>RUM</td>\n",
       "      <td>RUM</td>\n",
       "      <td>BACARDI</td>\n",
       "      <td>BACARDI OAKHEART ORIGINAL</td>\n",
       "      <td>...</td>\n",
       "      <td>EUROPE</td>\n",
       "      <td>N</td>\n",
       "      <td>4870003253</td>\n",
       "      <td>FR</td>\n",
       "      <td>4870</td>\n",
       "      <td>EUR</td>\n",
       "      <td>0.0</td>\n",
       "      <td>BACARDI</td>\n",
       "      <td>Sell In</td>\n",
       "      <td>NSV Europe</td>\n",
       "    </tr>\n",
       "    <tr>\n",
       "      <th>48660</th>\n",
       "      <td>ACTUAL</td>\n",
       "      <td>FY22</td>\n",
       "      <td>44621</td>\n",
       "      <td>Knuspr.de</td>\n",
       "      <td>Other DE</td>\n",
       "      <td>Other DE</td>\n",
       "      <td>RUM</td>\n",
       "      <td>RUM</td>\n",
       "      <td>BACARDI</td>\n",
       "      <td>BACARDI OAKHEART ORIGINAL</td>\n",
       "      <td>...</td>\n",
       "      <td>EUROPE</td>\n",
       "      <td>N</td>\n",
       "      <td>4870012665</td>\n",
       "      <td>DE</td>\n",
       "      <td>4870</td>\n",
       "      <td>EUR</td>\n",
       "      <td>0.0</td>\n",
       "      <td>BACARDI</td>\n",
       "      <td>Sell In</td>\n",
       "      <td>NSV Europe</td>\n",
       "    </tr>\n",
       "    <tr>\n",
       "      <th>48661</th>\n",
       "      <td>ACTUAL</td>\n",
       "      <td>FY22</td>\n",
       "      <td>44621</td>\n",
       "      <td>Knuspr.de</td>\n",
       "      <td>Other DE</td>\n",
       "      <td>Other DE</td>\n",
       "      <td>RUM</td>\n",
       "      <td>RUM</td>\n",
       "      <td>BACARDI</td>\n",
       "      <td>BACARDI OAKHEART ORIGINAL</td>\n",
       "      <td>...</td>\n",
       "      <td>EUROPE</td>\n",
       "      <td>N</td>\n",
       "      <td>4870012665</td>\n",
       "      <td>DE</td>\n",
       "      <td>4870</td>\n",
       "      <td>EUR</td>\n",
       "      <td>0.0</td>\n",
       "      <td>BACARDI</td>\n",
       "      <td>Sell In</td>\n",
       "      <td>NSV Europe</td>\n",
       "    </tr>\n",
       "    <tr>\n",
       "      <th>48689</th>\n",
       "      <td>ACTUAL</td>\n",
       "      <td>FY22</td>\n",
       "      <td>44621</td>\n",
       "      <td>La Compagnie Du Rhum</td>\n",
       "      <td>La Compagnie Du Rhum</td>\n",
       "      <td>La Compagnie Du Rhum</td>\n",
       "      <td>RUM</td>\n",
       "      <td>RUM</td>\n",
       "      <td>BACARDI</td>\n",
       "      <td>BACARDI OAKHEART ORIGINAL</td>\n",
       "      <td>...</td>\n",
       "      <td>EUROPE</td>\n",
       "      <td>N</td>\n",
       "      <td>4870003253</td>\n",
       "      <td>FR</td>\n",
       "      <td>4870</td>\n",
       "      <td>EUR</td>\n",
       "      <td>0.0</td>\n",
       "      <td>BACARDI</td>\n",
       "      <td>Sell In</td>\n",
       "      <td>NSV Europe</td>\n",
       "    </tr>\n",
       "    <tr>\n",
       "      <th>48690</th>\n",
       "      <td>ACTUAL</td>\n",
       "      <td>FY22</td>\n",
       "      <td>44621</td>\n",
       "      <td>La Compagnie Du Rhum</td>\n",
       "      <td>La Compagnie Du Rhum</td>\n",
       "      <td>La Compagnie Du Rhum</td>\n",
       "      <td>RUM</td>\n",
       "      <td>RUM</td>\n",
       "      <td>BACARDI</td>\n",
       "      <td>BACARDI OAKHEART ORIGINAL</td>\n",
       "      <td>...</td>\n",
       "      <td>EUROPE</td>\n",
       "      <td>N</td>\n",
       "      <td>4870003253</td>\n",
       "      <td>FR</td>\n",
       "      <td>4870</td>\n",
       "      <td>EUR</td>\n",
       "      <td>0.0</td>\n",
       "      <td>BACARDI</td>\n",
       "      <td>Sell In</td>\n",
       "      <td>NSV Europe</td>\n",
       "    </tr>\n",
       "  </tbody>\n",
       "</table>\n",
       "<p>16 rows × 23 columns</p>\n",
       "</div>"
      ],
      "text/plain": [
       "      Budget Type Fiscal Year  Month          Customer Name  \\\n",
       "37261      ACTUAL        FY22  44348        Tastillery GmbH   \n",
       "37262      ACTUAL        FY22  44348        Tastillery GmbH   \n",
       "37263      ACTUAL        FY22  44348        Tastillery GmbH   \n",
       "37264      ACTUAL        FY22  44348        Tastillery GmbH   \n",
       "37265      ACTUAL        FY22  44348        Tastillery GmbH   \n",
       "37266      ACTUAL        FY22  44348        Tastillery GmbH   \n",
       "41191      ACTUAL        FY22  44440          YOPOGOELHIELO   \n",
       "41192      ACTUAL        FY22  44440          YOPOGOELHIELO   \n",
       "44703      ACTUAL        FY22  44531              Knuspr.de   \n",
       "44704      ACTUAL        FY22  44531              Knuspr.de   \n",
       "44729      ACTUAL        FY22  44531  La Compagnie Du Rhum    \n",
       "44730      ACTUAL        FY22  44531  La Compagnie Du Rhum    \n",
       "48660      ACTUAL        FY22  44621              Knuspr.de   \n",
       "48661      ACTUAL        FY22  44621              Knuspr.de   \n",
       "48689      ACTUAL        FY22  44621  La Compagnie Du Rhum    \n",
       "48690      ACTUAL        FY22  44621  La Compagnie Du Rhum    \n",
       "\n",
       "            Customer Group 1       Customer Group 2 Financial Category  \\\n",
       "37261               Other DE               Other DE                RUM   \n",
       "37262               Other DE               Other DE                RUM   \n",
       "37263               Other DE               Other DE                RUM   \n",
       "37264               Other DE               Other DE                RUM   \n",
       "37265               Other DE               Other DE                RUM   \n",
       "37266               Other DE               Other DE                RUM   \n",
       "41191          YOPOGOELHIELO          YOPOGOELHIELO                RUM   \n",
       "41192          YOPOGOELHIELO          YOPOGOELHIELO                RUM   \n",
       "44703               Other DE               Other DE                RUM   \n",
       "44704               Other DE               Other DE                RUM   \n",
       "44729  La Compagnie Du Rhum   La Compagnie Du Rhum                 RUM   \n",
       "44730  La Compagnie Du Rhum   La Compagnie Du Rhum                 RUM   \n",
       "48660               Other DE               Other DE                RUM   \n",
       "48661               Other DE               Other DE                RUM   \n",
       "48689  La Compagnie Du Rhum   La Compagnie Du Rhum                 RUM   \n",
       "48690  La Compagnie Du Rhum   La Compagnie Du Rhum                 RUM   \n",
       "\n",
       "      Category    Brand                  Brandline  ...  Region Agency Toggle  \\\n",
       "37261      RUM  BACARDI  BACARDI OAKHEART ORIGINAL  ...  EUROPE             N   \n",
       "37262      RUM  BACARDI  BACARDI OAKHEART ORIGINAL  ...  EUROPE             N   \n",
       "37263      RUM  BACARDI  BACARDI OAKHEART ORIGINAL  ...  EUROPE             N   \n",
       "37264      RUM  BACARDI  BACARDI OAKHEART ORIGINAL  ...  EUROPE             N   \n",
       "37265      RUM  BACARDI  BACARDI OAKHEART ORIGINAL  ...  EUROPE             N   \n",
       "37266      RUM  BACARDI  BACARDI OAKHEART ORIGINAL  ...  EUROPE             N   \n",
       "41191      RUM  BACARDI  BACARDI OAKHEART ORIGINAL  ...  EUROPE             N   \n",
       "41192      RUM  BACARDI  BACARDI OAKHEART ORIGINAL  ...  EUROPE             N   \n",
       "44703      RUM  BACARDI  BACARDI OAKHEART ORIGINAL  ...  EUROPE             N   \n",
       "44704      RUM  BACARDI  BACARDI OAKHEART ORIGINAL  ...  EUROPE             N   \n",
       "44729      RUM  BACARDI  BACARDI OAKHEART ORIGINAL  ...  EUROPE             N   \n",
       "44730      RUM  BACARDI  BACARDI OAKHEART ORIGINAL  ...  EUROPE             N   \n",
       "48660      RUM  BACARDI  BACARDI OAKHEART ORIGINAL  ...  EUROPE             N   \n",
       "48661      RUM  BACARDI  BACARDI OAKHEART ORIGINAL  ...  EUROPE             N   \n",
       "48689      RUM  BACARDI  BACARDI OAKHEART ORIGINAL  ...  EUROPE             N   \n",
       "48690      RUM  BACARDI  BACARDI OAKHEART ORIGINAL  ...  EUROPE             N   \n",
       "\n",
       "        IPC Value Market 4 Digit Code  Currency Vol 9LC  Manufacturer  \\\n",
       "37261  4870009675     DE         4870       EUR     0.0       BACARDI   \n",
       "37262  4870009675     DE         4870       EUR     0.0       BACARDI   \n",
       "37263  4870010113     DE         4870       EUR     0.0       BACARDI   \n",
       "37264  4870010113     DE         4870       EUR     0.0       BACARDI   \n",
       "37265  4870009671     DE         4870       EUR     0.0       BACARDI   \n",
       "37266  4870009671     DE         4870       EUR     0.0       BACARDI   \n",
       "41191  4870002859     ES         4870       EUR     0.0       BACARDI   \n",
       "41192  4870002859     ES         4870       EUR     0.0       BACARDI   \n",
       "44703  4870009671     DE         4870       EUR     0.0       BACARDI   \n",
       "44704  4870009671     DE         4870       EUR     0.0       BACARDI   \n",
       "44729  4870003253     FR         4870       EUR     0.0       BACARDI   \n",
       "44730  4870003253     FR         4870       EUR     0.0       BACARDI   \n",
       "48660  4870012665     DE         4870       EUR     0.0       BACARDI   \n",
       "48661  4870012665     DE         4870       EUR     0.0       BACARDI   \n",
       "48689  4870003253     FR         4870       EUR     0.0       BACARDI   \n",
       "48690  4870003253     FR         4870       EUR     0.0       BACARDI   \n",
       "\n",
       "       DataInd  DataSource  \n",
       "37261  Sell In  NSV Europe  \n",
       "37262  Sell In  NSV Europe  \n",
       "37263  Sell In  NSV Europe  \n",
       "37264  Sell In  NSV Europe  \n",
       "37265  Sell In  NSV Europe  \n",
       "37266  Sell In  NSV Europe  \n",
       "41191  Sell In  NSV Europe  \n",
       "41192  Sell In  NSV Europe  \n",
       "44703  Sell In  NSV Europe  \n",
       "44704  Sell In  NSV Europe  \n",
       "44729  Sell In  NSV Europe  \n",
       "44730  Sell In  NSV Europe  \n",
       "48660  Sell In  NSV Europe  \n",
       "48661  Sell In  NSV Europe  \n",
       "48689  Sell In  NSV Europe  \n",
       "48690  Sell In  NSV Europe  \n",
       "\n",
       "[16 rows x 23 columns]"
      ]
     },
     "execution_count": 9,
     "metadata": {},
     "output_type": "execute_result"
    }
   ],
   "source": [
    "#look how are this duplicates\n",
    "dfduplicates=dfpurep[dfpurep.duplicated(keep=False)]\n",
    "dfduplicates"
   ]
  },
  {
   "cell_type": "code",
   "execution_count": 10,
   "metadata": {
    "scrolled": true
   },
   "outputs": [],
   "source": [
    "dfduplicates.to_csv('pureRetailersDuplicates.csv')"
   ]
  },
  {
   "cell_type": "code",
   "execution_count": 11,
   "metadata": {},
   "outputs": [
    {
     "data": {
      "text/plain": [
       "0"
      ]
     },
     "execution_count": 11,
     "metadata": {},
     "output_type": "execute_result"
    }
   ],
   "source": [
    "#drop the duplicates\n",
    "dfpurep = dfpurep.drop_duplicates()\n",
    "dfpurep.duplicated().sum()"
   ]
  },
  {
   "cell_type": "code",
   "execution_count": 12,
   "metadata": {},
   "outputs": [],
   "source": [
    "#reset the index\n",
    "dfpurep.reset_index(drop=True, inplace=True)"
   ]
  },
  {
   "cell_type": "code",
   "execution_count": 13,
   "metadata": {},
   "outputs": [],
   "source": [
    "#we select only the columns we are interested in\n",
    "data1=dfpurep[['Fiscal Year', 'Month','Category', 'Geography', 'Vol 9LC']]"
   ]
  },
  {
   "cell_type": "code",
   "execution_count": 14,
   "metadata": {
    "scrolled": true
   },
   "outputs": [
    {
     "name": "stdout",
     "output_type": "stream",
     "text": [
      "<class 'pandas.core.frame.DataFrame'>\n",
      "RangeIndex: 87236 entries, 0 to 87235\n",
      "Data columns (total 5 columns):\n",
      " #   Column       Non-Null Count  Dtype  \n",
      "---  ------       --------------  -----  \n",
      " 0   Fiscal Year  87236 non-null  object \n",
      " 1   Month        87236 non-null  int64  \n",
      " 2   Category     87236 non-null  object \n",
      " 3   Geography    87236 non-null  object \n",
      " 4   Vol 9LC      84068 non-null  float64\n",
      "dtypes: float64(1), int64(1), object(3)\n",
      "memory usage: 3.3+ MB\n"
     ]
    }
   ],
   "source": [
    "data1.info()"
   ]
  },
  {
   "cell_type": "code",
   "execution_count": 15,
   "metadata": {},
   "outputs": [],
   "source": [
    "#selecting only germany rum data\n",
    "dfGRum=data1.loc[(data1['Geography'] == 'Germany') & (data1['Category'] == 'RUM')]"
   ]
  },
  {
   "cell_type": "code",
   "execution_count": 16,
   "metadata": {
    "scrolled": true
   },
   "outputs": [
    {
     "data": {
      "text/html": [
       "<div>\n",
       "<style scoped>\n",
       "    .dataframe tbody tr th:only-of-type {\n",
       "        vertical-align: middle;\n",
       "    }\n",
       "\n",
       "    .dataframe tbody tr th {\n",
       "        vertical-align: top;\n",
       "    }\n",
       "\n",
       "    .dataframe thead th {\n",
       "        text-align: right;\n",
       "    }\n",
       "</style>\n",
       "<table border=\"1\" class=\"dataframe\">\n",
       "  <thead>\n",
       "    <tr style=\"text-align: right;\">\n",
       "      <th></th>\n",
       "      <th>Fiscal Year</th>\n",
       "      <th>Month</th>\n",
       "      <th>Category</th>\n",
       "      <th>Geography</th>\n",
       "      <th>Vol 9LC</th>\n",
       "    </tr>\n",
       "  </thead>\n",
       "  <tbody>\n",
       "    <tr>\n",
       "      <th>24288</th>\n",
       "      <td>FY20</td>\n",
       "      <td>43556</td>\n",
       "      <td>RUM</td>\n",
       "      <td>Germany</td>\n",
       "      <td>NaN</td>\n",
       "    </tr>\n",
       "    <tr>\n",
       "      <th>24289</th>\n",
       "      <td>FY20</td>\n",
       "      <td>43556</td>\n",
       "      <td>RUM</td>\n",
       "      <td>Germany</td>\n",
       "      <td>6.666667</td>\n",
       "    </tr>\n",
       "    <tr>\n",
       "      <th>24290</th>\n",
       "      <td>FY20</td>\n",
       "      <td>43556</td>\n",
       "      <td>RUM</td>\n",
       "      <td>Germany</td>\n",
       "      <td>0.466667</td>\n",
       "    </tr>\n",
       "    <tr>\n",
       "      <th>24291</th>\n",
       "      <td>FY20</td>\n",
       "      <td>43556</td>\n",
       "      <td>RUM</td>\n",
       "      <td>Germany</td>\n",
       "      <td>2.000000</td>\n",
       "    </tr>\n",
       "    <tr>\n",
       "      <th>24292</th>\n",
       "      <td>FY20</td>\n",
       "      <td>43556</td>\n",
       "      <td>RUM</td>\n",
       "      <td>Germany</td>\n",
       "      <td>21.000000</td>\n",
       "    </tr>\n",
       "    <tr>\n",
       "      <th>...</th>\n",
       "      <td>...</td>\n",
       "      <td>...</td>\n",
       "      <td>...</td>\n",
       "      <td>...</td>\n",
       "      <td>...</td>\n",
       "    </tr>\n",
       "    <tr>\n",
       "      <th>87186</th>\n",
       "      <td>FY21</td>\n",
       "      <td>44256</td>\n",
       "      <td>RUM</td>\n",
       "      <td>Germany</td>\n",
       "      <td>2.000000</td>\n",
       "    </tr>\n",
       "    <tr>\n",
       "      <th>87187</th>\n",
       "      <td>FY21</td>\n",
       "      <td>44256</td>\n",
       "      <td>RUM</td>\n",
       "      <td>Germany</td>\n",
       "      <td>0.000000</td>\n",
       "    </tr>\n",
       "    <tr>\n",
       "      <th>87188</th>\n",
       "      <td>FY21</td>\n",
       "      <td>44256</td>\n",
       "      <td>RUM</td>\n",
       "      <td>Germany</td>\n",
       "      <td>1.400000</td>\n",
       "    </tr>\n",
       "    <tr>\n",
       "      <th>87189</th>\n",
       "      <td>FY21</td>\n",
       "      <td>44256</td>\n",
       "      <td>RUM</td>\n",
       "      <td>Germany</td>\n",
       "      <td>0.466667</td>\n",
       "    </tr>\n",
       "    <tr>\n",
       "      <th>87190</th>\n",
       "      <td>FY21</td>\n",
       "      <td>44256</td>\n",
       "      <td>RUM</td>\n",
       "      <td>Germany</td>\n",
       "      <td>1.400000</td>\n",
       "    </tr>\n",
       "  </tbody>\n",
       "</table>\n",
       "<p>5050 rows × 5 columns</p>\n",
       "</div>"
      ],
      "text/plain": [
       "      Fiscal Year  Month Category Geography    Vol 9LC\n",
       "24288        FY20  43556      RUM   Germany        NaN\n",
       "24289        FY20  43556      RUM   Germany   6.666667\n",
       "24290        FY20  43556      RUM   Germany   0.466667\n",
       "24291        FY20  43556      RUM   Germany   2.000000\n",
       "24292        FY20  43556      RUM   Germany  21.000000\n",
       "...           ...    ...      ...       ...        ...\n",
       "87186        FY21  44256      RUM   Germany   2.000000\n",
       "87187        FY21  44256      RUM   Germany   0.000000\n",
       "87188        FY21  44256      RUM   Germany   1.400000\n",
       "87189        FY21  44256      RUM   Germany   0.466667\n",
       "87190        FY21  44256      RUM   Germany   1.400000\n",
       "\n",
       "[5050 rows x 5 columns]"
      ]
     },
     "execution_count": 16,
     "metadata": {},
     "output_type": "execute_result"
    }
   ],
   "source": [
    "dfGRum"
   ]
  },
  {
   "cell_type": "code",
   "execution_count": 17,
   "metadata": {},
   "outputs": [
    {
     "name": "stdout",
     "output_type": "stream",
     "text": [
      "False\n",
      "False\n",
      "True\n"
     ]
    }
   ],
   "source": [
    "#check the nulls for each column\n",
    "print(dfGRum['Fiscal Year'].isnull().values.any())\n",
    "print(dfGRum['Month'].isnull().values.any())\n",
    "print(dfGRum['Vol 9LC'].isnull().values.any())\n"
   ]
  },
  {
   "cell_type": "code",
   "execution_count": 18,
   "metadata": {},
   "outputs": [
    {
     "name": "stderr",
     "output_type": "stream",
     "text": [
      "C:\\Users\\Krop\\AppData\\Local\\Temp/ipykernel_9352/1903365417.py:2: SettingWithCopyWarning: \n",
      "A value is trying to be set on a copy of a slice from a DataFrame\n",
      "\n",
      "See the caveats in the documentation: https://pandas.pydata.org/pandas-docs/stable/user_guide/indexing.html#returning-a-view-versus-a-copy\n",
      "  dfGRum.dropna(subset=['Vol 9LC'], inplace = True)\n"
     ]
    }
   ],
   "source": [
    "#drop the nulls \n",
    "dfGRum.dropna(subset=['Vol 9LC'], inplace = True)"
   ]
  },
  {
   "cell_type": "code",
   "execution_count": 19,
   "metadata": {},
   "outputs": [
    {
     "name": "stdout",
     "output_type": "stream",
     "text": [
      "False\n"
     ]
    }
   ],
   "source": [
    "#check to be sure\n",
    "print(dfGRum['Vol 9LC'].isnull().values.any())"
   ]
  },
  {
   "cell_type": "code",
   "execution_count": 20,
   "metadata": {},
   "outputs": [],
   "source": [
    "#reset index\n",
    "dfGRum.reset_index(drop=True, inplace=True)"
   ]
  },
  {
   "cell_type": "code",
   "execution_count": 21,
   "metadata": {},
   "outputs": [],
   "source": [
    "#we use a hnady function to convert the months into date\n",
    "def convert_int_date(ordinal_date):\n",
    "    date_time = datetime.fromordinal(\n",
    "        datetime(1900, 1, 1).toordinal() + ordinal_date - 2\n",
    "    )\n",
    "    return date_time"
   ]
  },
  {
   "cell_type": "code",
   "execution_count": 22,
   "metadata": {},
   "outputs": [
    {
     "name": "stderr",
     "output_type": "stream",
     "text": [
      "C:\\Users\\Krop\\AppData\\Local\\Temp/ipykernel_9352/674866573.py:2: SettingWithCopyWarning: \n",
      "A value is trying to be set on a copy of a slice from a DataFrame.\n",
      "Try using .loc[row_indexer,col_indexer] = value instead\n",
      "\n",
      "See the caveats in the documentation: https://pandas.pydata.org/pandas-docs/stable/user_guide/indexing.html#returning-a-view-versus-a-copy\n",
      "  dfGRum[\"Month\"] = dfGRum[\"Month\"].astype(int).apply(convert_int_date)\n"
     ]
    }
   ],
   "source": [
    "#we apply the function in the column\n",
    "dfGRum[\"Month\"] = dfGRum[\"Month\"].astype(int).apply(convert_int_date)"
   ]
  },
  {
   "cell_type": "code",
   "execution_count": 23,
   "metadata": {},
   "outputs": [
    {
     "data": {
      "text/html": [
       "<div>\n",
       "<style scoped>\n",
       "    .dataframe tbody tr th:only-of-type {\n",
       "        vertical-align: middle;\n",
       "    }\n",
       "\n",
       "    .dataframe tbody tr th {\n",
       "        vertical-align: top;\n",
       "    }\n",
       "\n",
       "    .dataframe thead th {\n",
       "        text-align: right;\n",
       "    }\n",
       "</style>\n",
       "<table border=\"1\" class=\"dataframe\">\n",
       "  <thead>\n",
       "    <tr style=\"text-align: right;\">\n",
       "      <th></th>\n",
       "      <th>Fiscal Year</th>\n",
       "      <th>Month</th>\n",
       "      <th>Category</th>\n",
       "      <th>Geography</th>\n",
       "      <th>Vol 9LC</th>\n",
       "    </tr>\n",
       "  </thead>\n",
       "  <tbody>\n",
       "    <tr>\n",
       "      <th>0</th>\n",
       "      <td>FY20</td>\n",
       "      <td>2019-04-01</td>\n",
       "      <td>RUM</td>\n",
       "      <td>Germany</td>\n",
       "      <td>6.666667</td>\n",
       "    </tr>\n",
       "    <tr>\n",
       "      <th>1</th>\n",
       "      <td>FY20</td>\n",
       "      <td>2019-04-01</td>\n",
       "      <td>RUM</td>\n",
       "      <td>Germany</td>\n",
       "      <td>0.466667</td>\n",
       "    </tr>\n",
       "    <tr>\n",
       "      <th>2</th>\n",
       "      <td>FY20</td>\n",
       "      <td>2019-04-01</td>\n",
       "      <td>RUM</td>\n",
       "      <td>Germany</td>\n",
       "      <td>2.000000</td>\n",
       "    </tr>\n",
       "    <tr>\n",
       "      <th>3</th>\n",
       "      <td>FY20</td>\n",
       "      <td>2019-04-01</td>\n",
       "      <td>RUM</td>\n",
       "      <td>Germany</td>\n",
       "      <td>21.000000</td>\n",
       "    </tr>\n",
       "    <tr>\n",
       "      <th>4</th>\n",
       "      <td>FY20</td>\n",
       "      <td>2019-04-01</td>\n",
       "      <td>RUM</td>\n",
       "      <td>Germany</td>\n",
       "      <td>7.000000</td>\n",
       "    </tr>\n",
       "    <tr>\n",
       "      <th>...</th>\n",
       "      <td>...</td>\n",
       "      <td>...</td>\n",
       "      <td>...</td>\n",
       "      <td>...</td>\n",
       "      <td>...</td>\n",
       "    </tr>\n",
       "    <tr>\n",
       "      <th>4807</th>\n",
       "      <td>FY21</td>\n",
       "      <td>2021-03-01</td>\n",
       "      <td>RUM</td>\n",
       "      <td>Germany</td>\n",
       "      <td>2.000000</td>\n",
       "    </tr>\n",
       "    <tr>\n",
       "      <th>4808</th>\n",
       "      <td>FY21</td>\n",
       "      <td>2021-03-01</td>\n",
       "      <td>RUM</td>\n",
       "      <td>Germany</td>\n",
       "      <td>0.000000</td>\n",
       "    </tr>\n",
       "    <tr>\n",
       "      <th>4809</th>\n",
       "      <td>FY21</td>\n",
       "      <td>2021-03-01</td>\n",
       "      <td>RUM</td>\n",
       "      <td>Germany</td>\n",
       "      <td>1.400000</td>\n",
       "    </tr>\n",
       "    <tr>\n",
       "      <th>4810</th>\n",
       "      <td>FY21</td>\n",
       "      <td>2021-03-01</td>\n",
       "      <td>RUM</td>\n",
       "      <td>Germany</td>\n",
       "      <td>0.466667</td>\n",
       "    </tr>\n",
       "    <tr>\n",
       "      <th>4811</th>\n",
       "      <td>FY21</td>\n",
       "      <td>2021-03-01</td>\n",
       "      <td>RUM</td>\n",
       "      <td>Germany</td>\n",
       "      <td>1.400000</td>\n",
       "    </tr>\n",
       "  </tbody>\n",
       "</table>\n",
       "<p>4812 rows × 5 columns</p>\n",
       "</div>"
      ],
      "text/plain": [
       "     Fiscal Year      Month Category Geography    Vol 9LC\n",
       "0           FY20 2019-04-01      RUM   Germany   6.666667\n",
       "1           FY20 2019-04-01      RUM   Germany   0.466667\n",
       "2           FY20 2019-04-01      RUM   Germany   2.000000\n",
       "3           FY20 2019-04-01      RUM   Germany  21.000000\n",
       "4           FY20 2019-04-01      RUM   Germany   7.000000\n",
       "...          ...        ...      ...       ...        ...\n",
       "4807        FY21 2021-03-01      RUM   Germany   2.000000\n",
       "4808        FY21 2021-03-01      RUM   Germany   0.000000\n",
       "4809        FY21 2021-03-01      RUM   Germany   1.400000\n",
       "4810        FY21 2021-03-01      RUM   Germany   0.466667\n",
       "4811        FY21 2021-03-01      RUM   Germany   1.400000\n",
       "\n",
       "[4812 rows x 5 columns]"
      ]
     },
     "execution_count": 23,
     "metadata": {},
     "output_type": "execute_result"
    }
   ],
   "source": [
    "dfGRum"
   ]
  },
  {
   "cell_type": "code",
   "execution_count": 24,
   "metadata": {},
   "outputs": [
    {
     "name": "stderr",
     "output_type": "stream",
     "text": [
      "C:\\Users\\Krop\\AppData\\Local\\Temp/ipykernel_9352/4043047071.py:1: SettingWithCopyWarning: \n",
      "A value is trying to be set on a copy of a slice from a DataFrame\n",
      "\n",
      "See the caveats in the documentation: https://pandas.pydata.org/pandas-docs/stable/user_guide/indexing.html#returning-a-view-versus-a-copy\n",
      "  dfGRum.rename(columns={'Fiscal Year': 'Fiscal_Year',\n"
     ]
    }
   ],
   "source": [
    "dfGRum.rename(columns={'Fiscal Year': 'Fiscal_Year',\n",
    "                   'Vol 9LC': 'Vol_9LC'},\n",
    "          inplace=True, errors='raise')"
   ]
  },
  {
   "cell_type": "code",
   "execution_count": 25,
   "metadata": {},
   "outputs": [
    {
     "name": "stdout",
     "output_type": "stream",
     "text": [
      "<class 'pandas.core.frame.DataFrame'>\n",
      "RangeIndex: 4812 entries, 0 to 4811\n",
      "Data columns (total 5 columns):\n",
      " #   Column       Non-Null Count  Dtype         \n",
      "---  ------       --------------  -----         \n",
      " 0   Fiscal_Year  4812 non-null   object        \n",
      " 1   Month        4812 non-null   datetime64[ns]\n",
      " 2   Category     4812 non-null   object        \n",
      " 3   Geography    4812 non-null   object        \n",
      " 4   Vol_9LC      4812 non-null   float64       \n",
      "dtypes: datetime64[ns](1), float64(1), object(3)\n",
      "memory usage: 188.1+ KB\n"
     ]
    }
   ],
   "source": [
    "dfGRum.info()"
   ]
  },
  {
   "cell_type": "raw",
   "metadata": {},
   "source": [
    "# change index in to date\n",
    "dfGRum.index=pd.DatetimeIndex(dfGRum['Month'])"
   ]
  },
  {
   "cell_type": "raw",
   "metadata": {},
   "source": [
    "dfGRum"
   ]
  },
  {
   "cell_type": "code",
   "execution_count": null,
   "metadata": {},
   "outputs": [],
   "source": []
  },
  {
   "cell_type": "markdown",
   "metadata": {},
   "source": [
    "### on the idea of groupby month\n"
   ]
  },
  {
   "cell_type": "code",
   "execution_count": 26,
   "metadata": {
    "scrolled": true
   },
   "outputs": [],
   "source": [
    "dfGRum=dfGRum.reset_index(drop=True)"
   ]
  },
  {
   "cell_type": "code",
   "execution_count": 27,
   "metadata": {},
   "outputs": [
    {
     "data": {
      "text/html": [
       "<div>\n",
       "<style scoped>\n",
       "    .dataframe tbody tr th:only-of-type {\n",
       "        vertical-align: middle;\n",
       "    }\n",
       "\n",
       "    .dataframe tbody tr th {\n",
       "        vertical-align: top;\n",
       "    }\n",
       "\n",
       "    .dataframe thead th {\n",
       "        text-align: right;\n",
       "    }\n",
       "</style>\n",
       "<table border=\"1\" class=\"dataframe\">\n",
       "  <thead>\n",
       "    <tr style=\"text-align: right;\">\n",
       "      <th></th>\n",
       "      <th>Fiscal_Year</th>\n",
       "      <th>Month</th>\n",
       "      <th>Category</th>\n",
       "      <th>Geography</th>\n",
       "      <th>Vol_9LC</th>\n",
       "    </tr>\n",
       "  </thead>\n",
       "  <tbody>\n",
       "    <tr>\n",
       "      <th>0</th>\n",
       "      <td>FY20</td>\n",
       "      <td>2019-04-01</td>\n",
       "      <td>RUM</td>\n",
       "      <td>Germany</td>\n",
       "      <td>6.666667</td>\n",
       "    </tr>\n",
       "    <tr>\n",
       "      <th>1</th>\n",
       "      <td>FY20</td>\n",
       "      <td>2019-04-01</td>\n",
       "      <td>RUM</td>\n",
       "      <td>Germany</td>\n",
       "      <td>0.466667</td>\n",
       "    </tr>\n",
       "    <tr>\n",
       "      <th>2</th>\n",
       "      <td>FY20</td>\n",
       "      <td>2019-04-01</td>\n",
       "      <td>RUM</td>\n",
       "      <td>Germany</td>\n",
       "      <td>2.000000</td>\n",
       "    </tr>\n",
       "    <tr>\n",
       "      <th>3</th>\n",
       "      <td>FY20</td>\n",
       "      <td>2019-04-01</td>\n",
       "      <td>RUM</td>\n",
       "      <td>Germany</td>\n",
       "      <td>21.000000</td>\n",
       "    </tr>\n",
       "    <tr>\n",
       "      <th>4</th>\n",
       "      <td>FY20</td>\n",
       "      <td>2019-04-01</td>\n",
       "      <td>RUM</td>\n",
       "      <td>Germany</td>\n",
       "      <td>7.000000</td>\n",
       "    </tr>\n",
       "    <tr>\n",
       "      <th>...</th>\n",
       "      <td>...</td>\n",
       "      <td>...</td>\n",
       "      <td>...</td>\n",
       "      <td>...</td>\n",
       "      <td>...</td>\n",
       "    </tr>\n",
       "    <tr>\n",
       "      <th>4807</th>\n",
       "      <td>FY21</td>\n",
       "      <td>2021-03-01</td>\n",
       "      <td>RUM</td>\n",
       "      <td>Germany</td>\n",
       "      <td>2.000000</td>\n",
       "    </tr>\n",
       "    <tr>\n",
       "      <th>4808</th>\n",
       "      <td>FY21</td>\n",
       "      <td>2021-03-01</td>\n",
       "      <td>RUM</td>\n",
       "      <td>Germany</td>\n",
       "      <td>0.000000</td>\n",
       "    </tr>\n",
       "    <tr>\n",
       "      <th>4809</th>\n",
       "      <td>FY21</td>\n",
       "      <td>2021-03-01</td>\n",
       "      <td>RUM</td>\n",
       "      <td>Germany</td>\n",
       "      <td>1.400000</td>\n",
       "    </tr>\n",
       "    <tr>\n",
       "      <th>4810</th>\n",
       "      <td>FY21</td>\n",
       "      <td>2021-03-01</td>\n",
       "      <td>RUM</td>\n",
       "      <td>Germany</td>\n",
       "      <td>0.466667</td>\n",
       "    </tr>\n",
       "    <tr>\n",
       "      <th>4811</th>\n",
       "      <td>FY21</td>\n",
       "      <td>2021-03-01</td>\n",
       "      <td>RUM</td>\n",
       "      <td>Germany</td>\n",
       "      <td>1.400000</td>\n",
       "    </tr>\n",
       "  </tbody>\n",
       "</table>\n",
       "<p>4812 rows × 5 columns</p>\n",
       "</div>"
      ],
      "text/plain": [
       "     Fiscal_Year      Month Category Geography    Vol_9LC\n",
       "0           FY20 2019-04-01      RUM   Germany   6.666667\n",
       "1           FY20 2019-04-01      RUM   Germany   0.466667\n",
       "2           FY20 2019-04-01      RUM   Germany   2.000000\n",
       "3           FY20 2019-04-01      RUM   Germany  21.000000\n",
       "4           FY20 2019-04-01      RUM   Germany   7.000000\n",
       "...          ...        ...      ...       ...        ...\n",
       "4807        FY21 2021-03-01      RUM   Germany   2.000000\n",
       "4808        FY21 2021-03-01      RUM   Germany   0.000000\n",
       "4809        FY21 2021-03-01      RUM   Germany   1.400000\n",
       "4810        FY21 2021-03-01      RUM   Germany   0.466667\n",
       "4811        FY21 2021-03-01      RUM   Germany   1.400000\n",
       "\n",
       "[4812 rows x 5 columns]"
      ]
     },
     "execution_count": 27,
     "metadata": {},
     "output_type": "execute_result"
    }
   ],
   "source": [
    "dfGRum"
   ]
  },
  {
   "cell_type": "code",
   "execution_count": 28,
   "metadata": {
    "scrolled": true
   },
   "outputs": [
    {
     "name": "stdout",
     "output_type": "stream",
     "text": [
      "[ 6.66666700e+00  4.66667000e-01  2.00000000e+00  2.10000000e+01\n",
      "  7.00000000e+00  5.13333300e+00  1.40000000e+00  1.00000000e+01\n",
      "  5.30000000e+01  1.10000000e+01  2.33333000e-01  9.33333000e-01\n",
      "  2.80000000e+00  6.53333300e+00  1.33333300e+00  2.66666700e+00\n",
      "  6.66667000e-01  2.33333300e+00  4.66666700e+00  1.86666700e+00\n",
      "  4.00000000e+00  3.26666700e+00  6.90000000e+01  5.60000000e+00\n",
      "  1.90000000e+01  2.23333330e+01 -2.33333000e-01  3.33333300e+00\n",
      "  1.00000000e+00  1.91333330e+01  1.06000000e+02  1.16666670e+01\n",
      "  3.03333300e+00  6.00000000e+00  2.20000000e+01  3.64000000e+01\n",
      "  3.73333300e+00  4.10000000e+01  7.93333300e+00  1.53333330e+01\n",
      "  2.50000000e+01  1.06666670e+01  1.77333330e+01  2.52000000e+01\n",
      "  3.33333000e-01  5.33333300e+00  9.90000000e+01  1.80000000e+01\n",
      "  6.22067000e-01  7.79330000e-02  7.77000000e-02  1.66666700e+00\n",
      "  2.40000000e+01  1.63333300e+00  1.50000000e+01  2.89333330e+01\n",
      "  3.03333330e+01  3.33333330e+01  1.26000000e+01  2.80000000e+01\n",
      "  1.09000000e+02  6.34666670e+01  1.40000000e+01  1.04333333e+02\n",
      "  4.34000000e+01  4.66666670e+01  3.11267000e-01  1.58666670e+01\n",
      "  7.46666700e+00  2.14666670e+01  6.06666700e+00  1.70333330e+01\n",
      "  3.66666700e+00  1.21333330e+01  2.04866667e+02 -7.77000000e-02\n",
      "  9.33333300e+00  1.86666670e+01  7.33333300e+00  1.28000000e+02\n",
      "  5.04000000e+01  9.70666670e+01  5.00000000e+00  7.83300000e+00\n",
      "  8.86666700e+00  4.20000000e+01  8.33333300e+00  2.94000000e+01\n",
      "  7.66666700e+00  1.22266700e+00  1.88866700e+00  0.00000000e+00\n",
      "  3.50000000e+01  9.80000000e+00  3.80000000e+01  2.47333330e+01\n",
      "  6.30000000e+01  1.43333330e+01  2.75333330e+01  8.00000000e+00\n",
      "  2.00000000e-01  4.20000000e+00  3.00000000e+00  7.56000000e+01\n",
      "  9.14666670e+01  2.24000000e+01  2.98666670e+01  3.40000000e+01\n",
      "  4.50000000e+01  3.68666670e+01  1.60922067e+02  2.20000000e+00\n",
      "  1.33333330e+01  1.55633000e-01  8.40000000e+01  5.83333330e+01\n",
      "  9.33333330e+01  4.99333330e+01  1.72200000e+02  2.60000000e+01\n",
      "  8.70000000e+01  2.46666670e+01  3.50000000e+00  7.00000000e-01\n",
      "  6.39333330e+01  6.00000000e-01  1.46666670e+01  1.40000000e+02\n",
      "  3.10000000e+01  3.46666670e+01  1.96000000e+01  3.73333330e+01\n",
      "  3.20000000e+01  4.85333330e+01  4.00000000e-01  1.02666670e+01\n",
      "  2.00000000e+01  2.66000000e+01  1.35333330e+01  5.93333330e+01\n",
      "  3.96666670e+01  5.08666670e+01  8.24460000e+00  2.00666670e+01\n",
      "  1.49333330e+01  1.20000000e+01  1.30666670e+01  3.82666670e+01\n",
      "  4.06666670e+01  2.19333330e+01  5.13333330e+01  3.23333330e+01\n",
      "  9.56666670e+01  2.56666700e+00  3.08000000e+01  2.13333330e+01\n",
      "  1.13333330e+01  1.44666670e+01  4.76000000e+01  7.30000000e+01\n",
      "  1.16666700e+00  6.67333330e+01 -4.66667000e-01 -6.66667000e-01\n",
      "  1.12000000e+01  5.78666670e+01  3.54666670e+01  4.52666670e+01\n",
      "  2.93333330e+01  4.46666670e+01  2.90000000e+01  4.16666670e+01\n",
      "  3.59333330e+01  1.82000000e+01  8.96000000e+01  1.07333330e+01\n",
      "  8.00000000e-01  2.33333330e+01  6.00000000e+01  1.66666670e+01\n",
      "  6.26666670e+01  3.30000000e+01  3.26666670e+01  8.40000000e+00\n",
      "  3.88733000e-01  1.63333330e+01  1.20000000e+00  1.16666667e+02\n",
      " -1.86666700e+00 -7.79330000e-02  1.54000000e+01  4.80000000e+01\n",
      "  3.13333330e+01  9.60000000e+01  2.43333330e+01  2.42666670e+01\n",
      "  3.53333330e+01  1.44000000e+02  2.63333330e+01  4.10666670e+01\n",
      "  1.55400000e-01  4.38666670e+01  1.72666670e+01  8.66666700e+00\n",
      "  3.36000000e+01  1.86666600e+00  9.33334000e-01  1.68000000e+01\n",
      "  5.18000000e+01  1.73333330e+01  7.23333330e+01  7.16666670e+01\n",
      "  2.33333400e+00  2.61333330e+01  2.56666660e+01  2.54666667e+02\n",
      "  2.28666670e+01  2.05333330e+01  5.92666670e+01  3.92000000e+01\n",
      "  7.49000000e+01  3.87333330e+01  4.30000000e+01  1.75000000e+02\n",
      "  7.14000000e+01  3.31333330e+01  1.26666670e+01  5.57666670e+01\n",
      "  2.38000000e+02  1.60000000e+01  1.07333333e+02  6.20666670e+01\n",
      "  4.45666670e+01  1.07333340e+01  1.02000000e+02  6.16000000e+01\n",
      "  1.50266667e+02  4.57333330e+01  1.19000000e+02  1.37000000e+02\n",
      "  4.94666670e+01  7.46666670e+01  4.24666670e+01  1.63333340e+01\n",
      "  5.40000000e+01  2.38000000e+01]\n"
     ]
    }
   ],
   "source": [
    "#we should think about the negative values that we saw in the excel\n",
    "print(dfGRum['Vol_9LC'].unique())"
   ]
  },
  {
   "cell_type": "code",
   "execution_count": 29,
   "metadata": {
    "scrolled": true
   },
   "outputs": [
    {
     "data": {
      "text/html": [
       "<div>\n",
       "<style scoped>\n",
       "    .dataframe tbody tr th:only-of-type {\n",
       "        vertical-align: middle;\n",
       "    }\n",
       "\n",
       "    .dataframe tbody tr th {\n",
       "        vertical-align: top;\n",
       "    }\n",
       "\n",
       "    .dataframe thead th {\n",
       "        text-align: right;\n",
       "    }\n",
       "</style>\n",
       "<table border=\"1\" class=\"dataframe\">\n",
       "  <thead>\n",
       "    <tr style=\"text-align: right;\">\n",
       "      <th></th>\n",
       "      <th>Vol_9LC</th>\n",
       "    </tr>\n",
       "    <tr>\n",
       "      <th>Month</th>\n",
       "      <th></th>\n",
       "    </tr>\n",
       "  </thead>\n",
       "  <tbody>\n",
       "    <tr>\n",
       "      <th>2019-04-01</th>\n",
       "      <td>165.266668</td>\n",
       "    </tr>\n",
       "    <tr>\n",
       "      <th>2019-05-01</th>\n",
       "      <td>176.966667</td>\n",
       "    </tr>\n",
       "    <tr>\n",
       "      <th>2019-06-01</th>\n",
       "      <td>243.366666</td>\n",
       "    </tr>\n",
       "    <tr>\n",
       "      <th>2019-07-01</th>\n",
       "      <td>207.199999</td>\n",
       "    </tr>\n",
       "    <tr>\n",
       "      <th>2019-08-01</th>\n",
       "      <td>200.466439</td>\n",
       "    </tr>\n",
       "    <tr>\n",
       "      <th>2019-09-01</th>\n",
       "      <td>142.555631</td>\n",
       "    </tr>\n",
       "    <tr>\n",
       "      <th>2019-10-01</th>\n",
       "      <td>561.977931</td>\n",
       "    </tr>\n",
       "    <tr>\n",
       "      <th>2019-11-01</th>\n",
       "      <td>356.088971</td>\n",
       "    </tr>\n",
       "    <tr>\n",
       "      <th>2019-12-01</th>\n",
       "      <td>487.277701</td>\n",
       "    </tr>\n",
       "    <tr>\n",
       "      <th>2020-01-01</th>\n",
       "      <td>58.333000</td>\n",
       "    </tr>\n",
       "    <tr>\n",
       "      <th>2020-02-01</th>\n",
       "      <td>137.744372</td>\n",
       "    </tr>\n",
       "    <tr>\n",
       "      <th>2020-03-01</th>\n",
       "      <td>133.989339</td>\n",
       "    </tr>\n",
       "    <tr>\n",
       "      <th>2020-04-01</th>\n",
       "      <td>244.622070</td>\n",
       "    </tr>\n",
       "    <tr>\n",
       "      <th>2020-05-01</th>\n",
       "      <td>250.366672</td>\n",
       "    </tr>\n",
       "    <tr>\n",
       "      <th>2020-06-01</th>\n",
       "      <td>247.533339</td>\n",
       "    </tr>\n",
       "    <tr>\n",
       "      <th>2020-07-01</th>\n",
       "      <td>366.533109</td>\n",
       "    </tr>\n",
       "    <tr>\n",
       "      <th>2020-08-01</th>\n",
       "      <td>566.433336</td>\n",
       "    </tr>\n",
       "    <tr>\n",
       "      <th>2020-09-01</th>\n",
       "      <td>577.966671</td>\n",
       "    </tr>\n",
       "    <tr>\n",
       "      <th>2020-10-01</th>\n",
       "      <td>753.133333</td>\n",
       "    </tr>\n",
       "    <tr>\n",
       "      <th>2020-11-01</th>\n",
       "      <td>615.266678</td>\n",
       "    </tr>\n",
       "    <tr>\n",
       "      <th>2020-12-01</th>\n",
       "      <td>685.166673</td>\n",
       "    </tr>\n",
       "    <tr>\n",
       "      <th>2021-01-01</th>\n",
       "      <td>219.166671</td>\n",
       "    </tr>\n",
       "    <tr>\n",
       "      <th>2021-02-01</th>\n",
       "      <td>244.333340</td>\n",
       "    </tr>\n",
       "    <tr>\n",
       "      <th>2021-03-01</th>\n",
       "      <td>366.433336</td>\n",
       "    </tr>\n",
       "    <tr>\n",
       "      <th>2021-04-01</th>\n",
       "      <td>418.222005</td>\n",
       "    </tr>\n",
       "    <tr>\n",
       "      <th>2021-05-01</th>\n",
       "      <td>1183.755639</td>\n",
       "    </tr>\n",
       "    <tr>\n",
       "      <th>2021-06-01</th>\n",
       "      <td>845.733337</td>\n",
       "    </tr>\n",
       "    <tr>\n",
       "      <th>2021-07-01</th>\n",
       "      <td>814.200003</td>\n",
       "    </tr>\n",
       "    <tr>\n",
       "      <th>2021-08-01</th>\n",
       "      <td>542.244600</td>\n",
       "    </tr>\n",
       "    <tr>\n",
       "      <th>2021-09-01</th>\n",
       "      <td>637.233333</td>\n",
       "    </tr>\n",
       "    <tr>\n",
       "      <th>2021-10-01</th>\n",
       "      <td>568.300002</td>\n",
       "    </tr>\n",
       "    <tr>\n",
       "      <th>2021-11-01</th>\n",
       "      <td>780.733339</td>\n",
       "    </tr>\n",
       "    <tr>\n",
       "      <th>2021-12-01</th>\n",
       "      <td>700.100005</td>\n",
       "    </tr>\n",
       "    <tr>\n",
       "      <th>2022-01-01</th>\n",
       "      <td>559.044138</td>\n",
       "    </tr>\n",
       "    <tr>\n",
       "      <th>2022-02-01</th>\n",
       "      <td>626.533333</td>\n",
       "    </tr>\n",
       "    <tr>\n",
       "      <th>2022-03-01</th>\n",
       "      <td>691.099767</td>\n",
       "    </tr>\n",
       "  </tbody>\n",
       "</table>\n",
       "</div>"
      ],
      "text/plain": [
       "                Vol_9LC\n",
       "Month                  \n",
       "2019-04-01   165.266668\n",
       "2019-05-01   176.966667\n",
       "2019-06-01   243.366666\n",
       "2019-07-01   207.199999\n",
       "2019-08-01   200.466439\n",
       "2019-09-01   142.555631\n",
       "2019-10-01   561.977931\n",
       "2019-11-01   356.088971\n",
       "2019-12-01   487.277701\n",
       "2020-01-01    58.333000\n",
       "2020-02-01   137.744372\n",
       "2020-03-01   133.989339\n",
       "2020-04-01   244.622070\n",
       "2020-05-01   250.366672\n",
       "2020-06-01   247.533339\n",
       "2020-07-01   366.533109\n",
       "2020-08-01   566.433336\n",
       "2020-09-01   577.966671\n",
       "2020-10-01   753.133333\n",
       "2020-11-01   615.266678\n",
       "2020-12-01   685.166673\n",
       "2021-01-01   219.166671\n",
       "2021-02-01   244.333340\n",
       "2021-03-01   366.433336\n",
       "2021-04-01   418.222005\n",
       "2021-05-01  1183.755639\n",
       "2021-06-01   845.733337\n",
       "2021-07-01   814.200003\n",
       "2021-08-01   542.244600\n",
       "2021-09-01   637.233333\n",
       "2021-10-01   568.300002\n",
       "2021-11-01   780.733339\n",
       "2021-12-01   700.100005\n",
       "2022-01-01   559.044138\n",
       "2022-02-01   626.533333\n",
       "2022-03-01   691.099767"
      ]
     },
     "execution_count": 29,
     "metadata": {},
     "output_type": "execute_result"
    }
   ],
   "source": [
    "dfGRum.groupby(['Month']).sum()"
   ]
  },
  {
   "cell_type": "code",
   "execution_count": 30,
   "metadata": {},
   "outputs": [],
   "source": [
    "hist_dfGRum=dfGRum.groupby(['Month']).sum()"
   ]
  },
  {
   "cell_type": "code",
   "execution_count": 31,
   "metadata": {
    "scrolled": true
   },
   "outputs": [
    {
     "data": {
      "text/html": [
       "<div>\n",
       "<style scoped>\n",
       "    .dataframe tbody tr th:only-of-type {\n",
       "        vertical-align: middle;\n",
       "    }\n",
       "\n",
       "    .dataframe tbody tr th {\n",
       "        vertical-align: top;\n",
       "    }\n",
       "\n",
       "    .dataframe thead th {\n",
       "        text-align: right;\n",
       "    }\n",
       "</style>\n",
       "<table border=\"1\" class=\"dataframe\">\n",
       "  <thead>\n",
       "    <tr style=\"text-align: right;\">\n",
       "      <th></th>\n",
       "      <th>Vol_9LC</th>\n",
       "    </tr>\n",
       "    <tr>\n",
       "      <th>Month</th>\n",
       "      <th></th>\n",
       "    </tr>\n",
       "  </thead>\n",
       "  <tbody>\n",
       "    <tr>\n",
       "      <th>2019-04-01</th>\n",
       "      <td>165.266668</td>\n",
       "    </tr>\n",
       "    <tr>\n",
       "      <th>2019-05-01</th>\n",
       "      <td>176.966667</td>\n",
       "    </tr>\n",
       "    <tr>\n",
       "      <th>2019-06-01</th>\n",
       "      <td>243.366666</td>\n",
       "    </tr>\n",
       "    <tr>\n",
       "      <th>2019-07-01</th>\n",
       "      <td>207.199999</td>\n",
       "    </tr>\n",
       "    <tr>\n",
       "      <th>2019-08-01</th>\n",
       "      <td>200.466439</td>\n",
       "    </tr>\n",
       "    <tr>\n",
       "      <th>2019-09-01</th>\n",
       "      <td>142.555631</td>\n",
       "    </tr>\n",
       "    <tr>\n",
       "      <th>2019-10-01</th>\n",
       "      <td>561.977931</td>\n",
       "    </tr>\n",
       "    <tr>\n",
       "      <th>2019-11-01</th>\n",
       "      <td>356.088971</td>\n",
       "    </tr>\n",
       "    <tr>\n",
       "      <th>2019-12-01</th>\n",
       "      <td>487.277701</td>\n",
       "    </tr>\n",
       "    <tr>\n",
       "      <th>2020-01-01</th>\n",
       "      <td>58.333000</td>\n",
       "    </tr>\n",
       "    <tr>\n",
       "      <th>2020-02-01</th>\n",
       "      <td>137.744372</td>\n",
       "    </tr>\n",
       "    <tr>\n",
       "      <th>2020-03-01</th>\n",
       "      <td>133.989339</td>\n",
       "    </tr>\n",
       "    <tr>\n",
       "      <th>2020-04-01</th>\n",
       "      <td>244.622070</td>\n",
       "    </tr>\n",
       "    <tr>\n",
       "      <th>2020-05-01</th>\n",
       "      <td>250.366672</td>\n",
       "    </tr>\n",
       "    <tr>\n",
       "      <th>2020-06-01</th>\n",
       "      <td>247.533339</td>\n",
       "    </tr>\n",
       "    <tr>\n",
       "      <th>2020-07-01</th>\n",
       "      <td>366.533109</td>\n",
       "    </tr>\n",
       "    <tr>\n",
       "      <th>2020-08-01</th>\n",
       "      <td>566.433336</td>\n",
       "    </tr>\n",
       "    <tr>\n",
       "      <th>2020-09-01</th>\n",
       "      <td>577.966671</td>\n",
       "    </tr>\n",
       "    <tr>\n",
       "      <th>2020-10-01</th>\n",
       "      <td>753.133333</td>\n",
       "    </tr>\n",
       "    <tr>\n",
       "      <th>2020-11-01</th>\n",
       "      <td>615.266678</td>\n",
       "    </tr>\n",
       "    <tr>\n",
       "      <th>2020-12-01</th>\n",
       "      <td>685.166673</td>\n",
       "    </tr>\n",
       "    <tr>\n",
       "      <th>2021-01-01</th>\n",
       "      <td>219.166671</td>\n",
       "    </tr>\n",
       "    <tr>\n",
       "      <th>2021-02-01</th>\n",
       "      <td>244.333340</td>\n",
       "    </tr>\n",
       "    <tr>\n",
       "      <th>2021-03-01</th>\n",
       "      <td>366.433336</td>\n",
       "    </tr>\n",
       "    <tr>\n",
       "      <th>2021-04-01</th>\n",
       "      <td>418.222005</td>\n",
       "    </tr>\n",
       "    <tr>\n",
       "      <th>2021-05-01</th>\n",
       "      <td>1183.755639</td>\n",
       "    </tr>\n",
       "    <tr>\n",
       "      <th>2021-06-01</th>\n",
       "      <td>845.733337</td>\n",
       "    </tr>\n",
       "    <tr>\n",
       "      <th>2021-07-01</th>\n",
       "      <td>814.200003</td>\n",
       "    </tr>\n",
       "    <tr>\n",
       "      <th>2021-08-01</th>\n",
       "      <td>542.244600</td>\n",
       "    </tr>\n",
       "    <tr>\n",
       "      <th>2021-09-01</th>\n",
       "      <td>637.233333</td>\n",
       "    </tr>\n",
       "    <tr>\n",
       "      <th>2021-10-01</th>\n",
       "      <td>568.300002</td>\n",
       "    </tr>\n",
       "    <tr>\n",
       "      <th>2021-11-01</th>\n",
       "      <td>780.733339</td>\n",
       "    </tr>\n",
       "    <tr>\n",
       "      <th>2021-12-01</th>\n",
       "      <td>700.100005</td>\n",
       "    </tr>\n",
       "    <tr>\n",
       "      <th>2022-01-01</th>\n",
       "      <td>559.044138</td>\n",
       "    </tr>\n",
       "    <tr>\n",
       "      <th>2022-02-01</th>\n",
       "      <td>626.533333</td>\n",
       "    </tr>\n",
       "    <tr>\n",
       "      <th>2022-03-01</th>\n",
       "      <td>691.099767</td>\n",
       "    </tr>\n",
       "  </tbody>\n",
       "</table>\n",
       "</div>"
      ],
      "text/plain": [
       "                Vol_9LC\n",
       "Month                  \n",
       "2019-04-01   165.266668\n",
       "2019-05-01   176.966667\n",
       "2019-06-01   243.366666\n",
       "2019-07-01   207.199999\n",
       "2019-08-01   200.466439\n",
       "2019-09-01   142.555631\n",
       "2019-10-01   561.977931\n",
       "2019-11-01   356.088971\n",
       "2019-12-01   487.277701\n",
       "2020-01-01    58.333000\n",
       "2020-02-01   137.744372\n",
       "2020-03-01   133.989339\n",
       "2020-04-01   244.622070\n",
       "2020-05-01   250.366672\n",
       "2020-06-01   247.533339\n",
       "2020-07-01   366.533109\n",
       "2020-08-01   566.433336\n",
       "2020-09-01   577.966671\n",
       "2020-10-01   753.133333\n",
       "2020-11-01   615.266678\n",
       "2020-12-01   685.166673\n",
       "2021-01-01   219.166671\n",
       "2021-02-01   244.333340\n",
       "2021-03-01   366.433336\n",
       "2021-04-01   418.222005\n",
       "2021-05-01  1183.755639\n",
       "2021-06-01   845.733337\n",
       "2021-07-01   814.200003\n",
       "2021-08-01   542.244600\n",
       "2021-09-01   637.233333\n",
       "2021-10-01   568.300002\n",
       "2021-11-01   780.733339\n",
       "2021-12-01   700.100005\n",
       "2022-01-01   559.044138\n",
       "2022-02-01   626.533333\n",
       "2022-03-01   691.099767"
      ]
     },
     "execution_count": 31,
     "metadata": {},
     "output_type": "execute_result"
    }
   ],
   "source": [
    "hist_dfGRum"
   ]
  },
  {
   "cell_type": "code",
   "execution_count": 32,
   "metadata": {},
   "outputs": [],
   "source": [
    "#we could reset the name of the index if we wanted to with the next comand\n",
    "\n",
    "# df = df.rename_axis(None, axis = 1)"
   ]
  },
  {
   "cell_type": "code",
   "execution_count": 33,
   "metadata": {},
   "outputs": [],
   "source": [
    "#consider scaling the data to get better models as we have data that is not stationary"
   ]
  },
  {
   "cell_type": "raw",
   "metadata": {},
   "source": [
    "# check for normality\n",
    "plt.hist(hist_dfGRum['Vol_9LC'], bins=50);\n"
   ]
  },
  {
   "cell_type": "raw",
   "metadata": {},
   "source": [
    "# apply a log transformation to normalize the data\n",
    "hist_dfGRum['Vol_9LC_log'] = np.log(hist_dfGRum['Vol_9LC'])"
   ]
  },
  {
   "cell_type": "raw",
   "metadata": {},
   "source": [
    "# check for normality\n",
    "plt.hist(hist_dfGRum['Vol_9LC_log'], bins=50);"
   ]
  },
  {
   "cell_type": "markdown",
   "metadata": {},
   "source": [
    "## 2.2 Visualization"
   ]
  },
  {
   "cell_type": "code",
   "execution_count": 34,
   "metadata": {},
   "outputs": [],
   "source": [
    "#set seaborn\n",
    "sns.set(rc={'figure.figsize':(20,8)})\n",
    "sns.set_style('whitegrid')"
   ]
  },
  {
   "cell_type": "code",
   "execution_count": 35,
   "metadata": {},
   "outputs": [
    {
     "data": {
      "image/png": "[encoded data removed]",
      "text/plain": [
       "<Figure size 1440x576 with 1 Axes>"
      ]
     },
     "metadata": {},
     "output_type": "display_data"
    }
   ],
   "source": [
    "#first plot\n",
    "ax=sns.lineplot(x='Month',y='Vol_9LC',data=hist_dfGRum)\n",
    "plt.xticks(dfGRum['Month'])\n",
    "ax.tick_params(axis='x',rotation=45);"
   ]
  },
  {
   "cell_type": "markdown",
   "metadata": {},
   "source": [
    "#  3 Data preprocessing for time-series forecasting"
   ]
  },
  {
   "cell_type": "code",
   "execution_count": 36,
   "metadata": {},
   "outputs": [
    {
     "data": {
      "image/png": "[encoded data removed]",
      "text/plain": [
       "<Figure size 1440x576 with 4 Axes>"
      ]
     },
     "metadata": {},
     "output_type": "display_data"
    }
   ],
   "source": [
    "# decomposition plot\n",
    "\n",
    "decomp=sm.tsa.seasonal_decompose(hist_dfGRum['Vol_9LC'])\n",
    "decomp.plot()\n",
    "plt.show();"
   ]
  },
  {
   "cell_type": "code",
   "execution_count": 37,
   "metadata": {
    "scrolled": false
   },
   "outputs": [
    {
     "data": {
      "image/png": "[encoded data removed]",
      "text/plain": [
       "<Figure size 1440x576 with 1 Axes>"
      ]
     },
     "execution_count": 37,
     "metadata": {},
     "output_type": "execute_result"
    },
    {
     "data": {
      "image/png": "[encoded data removed]",
      "text/plain": [
       "<Figure size 1440x576 with 1 Axes>"
      ]
     },
     "metadata": {},
     "output_type": "display_data"
    }
   ],
   "source": [
    "# check autocorrelation\n",
    "\n",
    "\n",
    "plot_pacf(hist_dfGRum)\n",
    "\n"
   ]
  },
  {
   "cell_type": "raw",
   "metadata": {},
   "source": [
    "The null hypothesis of the ADF test is that a unit root is present in the time series. The alternative hypothesis is that the data is stationary.\n",
    "\n",
    "The second value is the p-value. If this p-value is smaller than 0.05 you can reject the null hypothesis (reject non-stationarity) and accept the alternative hypothesis (stationarity). "
   ]
  },
  {
   "cell_type": "code",
   "execution_count": 38,
   "metadata": {},
   "outputs": [
    {
     "name": "stdout",
     "output_type": "stream",
     "text": [
      "ADF test statistic: -2.7273790084059586\n",
      "ADF p-values: 0.06941914676221339\n",
      "ADF number of lags used: 0\n",
      "ADF number of observations: 35\n",
      "ADF critical values: {'1%': -3.6327426647230316, '5%': -2.9485102040816327, '10%': -2.6130173469387756}\n",
      "ADF best information criterion: 338.0607839526979\n"
     ]
    }
   ],
   "source": [
    "# stats to analize the stationality\n",
    "\n",
    "from statsmodels.tsa.stattools import adfuller\n",
    "adf, pval, usedlag, nobs, crit_vals, icbest =  adfuller(hist_dfGRum.Vol_9LC.values)\n",
    "print('ADF test statistic:', adf)\n",
    "print('ADF p-values:', pval)\n",
    "print('ADF number of lags used:', usedlag)\n",
    "print('ADF number of observations:', nobs)\n",
    "print('ADF critical values:', crit_vals)\n",
    "print('ADF best information criterion:', icbest)\n"
   ]
  },
  {
   "cell_type": "code",
   "execution_count": 39,
   "metadata": {},
   "outputs": [],
   "source": [
    "hist_dfGRum_diff = hist_dfGRum.diff().dropna()"
   ]
  },
  {
   "cell_type": "code",
   "execution_count": 41,
   "metadata": {},
   "outputs": [
    {
     "name": "stdout",
     "output_type": "stream",
     "text": [
      "ADF test statistic: -5.1675380861390305\n",
      "ADF p-values: 1.0237749150123557e-05\n",
      "ADF number of lags used: 3\n",
      "ADF number of observations: 31\n",
      "ADF critical values: {'1%': -3.661428725118324, '5%': -2.960525341210433, '10%': -2.6193188033298647}\n",
      "ADF best information criterion: 328.4403549708416\n"
     ]
    }
   ],
   "source": [
    "from statsmodels.tsa.stattools import adfuller\n",
    "adf, pval, usedlag, nobs, crit_vals, icbest =  adfuller(hist_dfGRum_diff.Vol_9LC.values)\n",
    "print('ADF test statistic:', adf)\n",
    "print('ADF p-values:', pval)\n",
    "print('ADF number of lags used:', usedlag)\n",
    "print('ADF number of observations:', nobs)\n",
    "print('ADF critical values:', crit_vals)\n",
    "print('ADF best information criterion:', icbest)"
   ]
  },
  {
   "cell_type": "code",
   "execution_count": 42,
   "metadata": {
    "scrolled": true
   },
   "outputs": [
    {
     "data": {
      "text/html": [
       "<div>\n",
       "<style scoped>\n",
       "    .dataframe tbody tr th:only-of-type {\n",
       "        vertical-align: middle;\n",
       "    }\n",
       "\n",
       "    .dataframe tbody tr th {\n",
       "        vertical-align: top;\n",
       "    }\n",
       "\n",
       "    .dataframe thead th {\n",
       "        text-align: right;\n",
       "    }\n",
       "</style>\n",
       "<table border=\"1\" class=\"dataframe\">\n",
       "  <thead>\n",
       "    <tr style=\"text-align: right;\">\n",
       "      <th></th>\n",
       "      <th>Vol_9LC</th>\n",
       "    </tr>\n",
       "    <tr>\n",
       "      <th>Month</th>\n",
       "      <th></th>\n",
       "    </tr>\n",
       "  </thead>\n",
       "  <tbody>\n",
       "    <tr>\n",
       "      <th>2019-05-01</th>\n",
       "      <td>11.699999</td>\n",
       "    </tr>\n",
       "    <tr>\n",
       "      <th>2019-06-01</th>\n",
       "      <td>66.399999</td>\n",
       "    </tr>\n",
       "    <tr>\n",
       "      <th>2019-07-01</th>\n",
       "      <td>-36.166667</td>\n",
       "    </tr>\n",
       "    <tr>\n",
       "      <th>2019-08-01</th>\n",
       "      <td>-6.733560</td>\n",
       "    </tr>\n",
       "    <tr>\n",
       "      <th>2019-09-01</th>\n",
       "      <td>-57.910808</td>\n",
       "    </tr>\n",
       "    <tr>\n",
       "      <th>2019-10-01</th>\n",
       "      <td>419.422300</td>\n",
       "    </tr>\n",
       "    <tr>\n",
       "      <th>2019-11-01</th>\n",
       "      <td>-205.888960</td>\n",
       "    </tr>\n",
       "    <tr>\n",
       "      <th>2019-12-01</th>\n",
       "      <td>131.188730</td>\n",
       "    </tr>\n",
       "    <tr>\n",
       "      <th>2020-01-01</th>\n",
       "      <td>-428.944701</td>\n",
       "    </tr>\n",
       "    <tr>\n",
       "      <th>2020-02-01</th>\n",
       "      <td>79.411372</td>\n",
       "    </tr>\n",
       "    <tr>\n",
       "      <th>2020-03-01</th>\n",
       "      <td>-3.755033</td>\n",
       "    </tr>\n",
       "    <tr>\n",
       "      <th>2020-04-01</th>\n",
       "      <td>110.632731</td>\n",
       "    </tr>\n",
       "    <tr>\n",
       "      <th>2020-05-01</th>\n",
       "      <td>5.744602</td>\n",
       "    </tr>\n",
       "    <tr>\n",
       "      <th>2020-06-01</th>\n",
       "      <td>-2.833333</td>\n",
       "    </tr>\n",
       "    <tr>\n",
       "      <th>2020-07-01</th>\n",
       "      <td>118.999770</td>\n",
       "    </tr>\n",
       "    <tr>\n",
       "      <th>2020-08-01</th>\n",
       "      <td>199.900227</td>\n",
       "    </tr>\n",
       "    <tr>\n",
       "      <th>2020-09-01</th>\n",
       "      <td>11.533335</td>\n",
       "    </tr>\n",
       "    <tr>\n",
       "      <th>2020-10-01</th>\n",
       "      <td>175.166662</td>\n",
       "    </tr>\n",
       "    <tr>\n",
       "      <th>2020-11-01</th>\n",
       "      <td>-137.866655</td>\n",
       "    </tr>\n",
       "    <tr>\n",
       "      <th>2020-12-01</th>\n",
       "      <td>69.899995</td>\n",
       "    </tr>\n",
       "    <tr>\n",
       "      <th>2021-01-01</th>\n",
       "      <td>-466.000002</td>\n",
       "    </tr>\n",
       "    <tr>\n",
       "      <th>2021-02-01</th>\n",
       "      <td>25.166669</td>\n",
       "    </tr>\n",
       "    <tr>\n",
       "      <th>2021-03-01</th>\n",
       "      <td>122.099996</td>\n",
       "    </tr>\n",
       "    <tr>\n",
       "      <th>2021-04-01</th>\n",
       "      <td>51.788669</td>\n",
       "    </tr>\n",
       "    <tr>\n",
       "      <th>2021-05-01</th>\n",
       "      <td>765.533634</td>\n",
       "    </tr>\n",
       "    <tr>\n",
       "      <th>2021-06-01</th>\n",
       "      <td>-338.022302</td>\n",
       "    </tr>\n",
       "    <tr>\n",
       "      <th>2021-07-01</th>\n",
       "      <td>-31.533334</td>\n",
       "    </tr>\n",
       "    <tr>\n",
       "      <th>2021-08-01</th>\n",
       "      <td>-271.955403</td>\n",
       "    </tr>\n",
       "    <tr>\n",
       "      <th>2021-09-01</th>\n",
       "      <td>94.988733</td>\n",
       "    </tr>\n",
       "    <tr>\n",
       "      <th>2021-10-01</th>\n",
       "      <td>-68.933331</td>\n",
       "    </tr>\n",
       "    <tr>\n",
       "      <th>2021-11-01</th>\n",
       "      <td>212.433337</td>\n",
       "    </tr>\n",
       "    <tr>\n",
       "      <th>2021-12-01</th>\n",
       "      <td>-80.633334</td>\n",
       "    </tr>\n",
       "    <tr>\n",
       "      <th>2022-01-01</th>\n",
       "      <td>-141.055867</td>\n",
       "    </tr>\n",
       "    <tr>\n",
       "      <th>2022-02-01</th>\n",
       "      <td>67.489195</td>\n",
       "    </tr>\n",
       "    <tr>\n",
       "      <th>2022-03-01</th>\n",
       "      <td>64.566434</td>\n",
       "    </tr>\n",
       "  </tbody>\n",
       "</table>\n",
       "</div>"
      ],
      "text/plain": [
       "               Vol_9LC\n",
       "Month                 \n",
       "2019-05-01   11.699999\n",
       "2019-06-01   66.399999\n",
       "2019-07-01  -36.166667\n",
       "2019-08-01   -6.733560\n",
       "2019-09-01  -57.910808\n",
       "2019-10-01  419.422300\n",
       "2019-11-01 -205.888960\n",
       "2019-12-01  131.188730\n",
       "2020-01-01 -428.944701\n",
       "2020-02-01   79.411372\n",
       "2020-03-01   -3.755033\n",
       "2020-04-01  110.632731\n",
       "2020-05-01    5.744602\n",
       "2020-06-01   -2.833333\n",
       "2020-07-01  118.999770\n",
       "2020-08-01  199.900227\n",
       "2020-09-01   11.533335\n",
       "2020-10-01  175.166662\n",
       "2020-11-01 -137.866655\n",
       "2020-12-01   69.899995\n",
       "2021-01-01 -466.000002\n",
       "2021-02-01   25.166669\n",
       "2021-03-01  122.099996\n",
       "2021-04-01   51.788669\n",
       "2021-05-01  765.533634\n",
       "2021-06-01 -338.022302\n",
       "2021-07-01  -31.533334\n",
       "2021-08-01 -271.955403\n",
       "2021-09-01   94.988733\n",
       "2021-10-01  -68.933331\n",
       "2021-11-01  212.433337\n",
       "2021-12-01  -80.633334\n",
       "2022-01-01 -141.055867\n",
       "2022-02-01   67.489195\n",
       "2022-03-01   64.566434"
      ]
     },
     "execution_count": 42,
     "metadata": {},
     "output_type": "execute_result"
    }
   ],
   "source": [
    "hist_dfGRum_diff\n"
   ]
  },
  {
   "cell_type": "code",
   "execution_count": null,
   "metadata": {},
   "outputs": [],
   "source": []
  },
  {
   "cell_type": "code",
   "execution_count": null,
   "metadata": {},
   "outputs": [],
   "source": []
  },
  {
   "cell_type": "code",
   "execution_count": null,
   "metadata": {},
   "outputs": [],
   "source": []
  },
  {
   "cell_type": "markdown",
   "metadata": {},
   "source": [
    " - the data is non-stationary but the p-value is close to be stationary..."
   ]
  },
  {
   "cell_type": "code",
   "execution_count": 45,
   "metadata": {},
   "outputs": [
    {
     "data": {
      "image/png": "[encoded data removed]",
      "text/plain": [
       "<Figure size 1440x576 with 1 Axes>"
      ]
     },
     "metadata": {},
     "output_type": "display_data"
    },
    {
     "data": {
      "image/png": "[encoded data removed]",
      "text/plain": [
       "<Figure size 1440x576 with 1 Axes>"
      ]
     },
     "metadata": {},
     "output_type": "display_data"
    }
   ],
   "source": [
    "# autocorrelation and partial ac\n",
    "\n",
    "plot_acf(hist_dfGRum['Vol_9LC']);\n",
    "plot_pacf(hist_dfGRum['Vol_9LC']);"
   ]
  },
  {
   "cell_type": "code",
   "execution_count": 44,
   "metadata": {
    "scrolled": true
   },
   "outputs": [
    {
     "name": "stderr",
     "output_type": "stream",
     "text": [
      "C:\\Users\\Krop\\anaconda3\\envs\\ClassPau\\lib\\site-packages\\statsmodels\\regression\\linear_model.py:1434: RuntimeWarning: invalid value encountered in sqrt\n",
      "  return rho, np.sqrt(sigmasq)\n"
     ]
    },
    {
     "data": {
      "image/png": "[encoded data removed]",
      "text/plain": [
       "<Figure size 1440x576 with 1 Axes>"
      ]
     },
     "metadata": {},
     "output_type": "display_data"
    },
    {
     "data": {
      "image/png": "[encoded data removed]",
      "text/plain": [
       "<Figure size 1440x576 with 1 Axes>"
      ]
     },
     "metadata": {},
     "output_type": "display_data"
    }
   ],
   "source": [
    "# autocorrelation and partial ac\n",
    "\n",
    "plot_acf(hist_dfGRum_diff['Vol_9LC']);\n",
    "plot_pacf(hist_dfGRum_diff['Vol_9LC']);"
   ]
  },
  {
   "cell_type": "markdown",
   "metadata": {},
   "source": [
    "### With this plots we can extract\n",
    "\n",
    "- for the normal hist_dfGRum we can get that q=[0,1,2](from ACf) and p=[1,14,16](from PACf)\n",
    "- for the dif hist_dfGRum_diff we can get that q=[0,3](from ACf) and p=[11,12](from PACf) but is prob wrong"
   ]
  },
  {
   "cell_type": "markdown",
   "metadata": {},
   "source": [
    "## ARIMA model"
   ]
  },
  {
   "cell_type": "code",
   "execution_count": 59,
   "metadata": {},
   "outputs": [
    {
     "name": "stderr",
     "output_type": "stream",
     "text": [
      "C:\\Users\\Krop\\anaconda3\\envs\\ClassPau\\lib\\site-packages\\statsmodels\\tsa\\base\\tsa_model.py:524: ValueWarning: No frequency information was provided, so inferred frequency MS will be used.\n",
      "  warnings.warn('No frequency information was'\n",
      "C:\\Users\\Krop\\anaconda3\\envs\\ClassPau\\lib\\site-packages\\statsmodels\\tsa\\base\\tsa_model.py:524: ValueWarning: No frequency information was provided, so inferred frequency MS will be used.\n",
      "  warnings.warn('No frequency information was'\n",
      "C:\\Users\\Krop\\anaconda3\\envs\\ClassPau\\lib\\site-packages\\statsmodels\\tsa\\base\\tsa_model.py:524: ValueWarning: No frequency information was provided, so inferred frequency MS will be used.\n",
      "  warnings.warn('No frequency information was'\n",
      "C:\\Users\\Krop\\anaconda3\\envs\\ClassPau\\lib\\site-packages\\statsmodels\\tsa\\statespace\\sarimax.py:966: UserWarning: Non-stationary starting autoregressive parameters found. Using zeros as starting parameters.\n",
      "  warn('Non-stationary starting autoregressive parameters'\n",
      "C:\\Users\\Krop\\anaconda3\\envs\\ClassPau\\lib\\site-packages\\statsmodels\\tsa\\statespace\\sarimax.py:978: UserWarning: Non-invertible starting MA parameters found. Using zeros as starting parameters.\n",
      "  warn('Non-invertible starting MA parameters found.'\n"
     ]
    }
   ],
   "source": [
    "# lets fit \n",
    "\n",
    "arima = ARIMA(hist_dfGRum['Vol_9LC'], order=(12,2,6))\n",
    "predictions1 = arima.fit().predict()"
   ]
  },
  {
   "cell_type": "code",
   "execution_count": 60,
   "metadata": {},
   "outputs": [
    {
     "data": {
      "text/plain": [
       "<matplotlib.legend.Legend at 0x1d927c74280>"
      ]
     },
     "execution_count": 60,
     "metadata": {},
     "output_type": "execute_result"
    },
    {
     "data": {
      "image/png": "[encoded data removed]",
      "text/plain": [
       "<Figure size 1152x288 with 1 Axes>"
      ]
     },
     "metadata": {},
     "output_type": "display_data"
    }
   ],
   "source": [
    "# lets plot???\n",
    "\n",
    "plt.figure(figsize=(16,4))\n",
    "plt.plot(hist_dfGRum.diff(), label=\"Actual\")\n",
    "plt.plot(predictions1, label=\"Predicted\")\n",
    "plt.title('Volume 9LC', fontsize=20)\n",
    "plt.ylabel('Vol', fontsize=16)\n",
    "plt.legend()\n"
   ]
  },
  {
   "cell_type": "code",
   "execution_count": null,
   "metadata": {},
   "outputs": [],
   "source": []
  },
  {
   "cell_type": "markdown",
   "metadata": {},
   "source": [
    "## SARIMAX model"
   ]
  },
  {
   "cell_type": "code",
   "execution_count": 61,
   "metadata": {},
   "outputs": [
    {
     "name": "stderr",
     "output_type": "stream",
     "text": [
      "C:\\Users\\Krop\\anaconda3\\envs\\ClassPau\\lib\\site-packages\\statsmodels\\tsa\\base\\tsa_model.py:524: ValueWarning: No frequency information was provided, so inferred frequency MS will be used.\n",
      "  warnings.warn('No frequency information was'\n",
      "C:\\Users\\Krop\\anaconda3\\envs\\ClassPau\\lib\\site-packages\\statsmodels\\tsa\\base\\tsa_model.py:524: ValueWarning: No frequency information was provided, so inferred frequency MS will be used.\n",
      "  warnings.warn('No frequency information was'\n",
      "C:\\Users\\Krop\\anaconda3\\envs\\ClassPau\\lib\\site-packages\\statsmodels\\tsa\\statespace\\sarimax.py:978: UserWarning: Non-invertible starting MA parameters found. Using zeros as starting parameters.\n",
      "  warn('Non-invertible starting MA parameters found.'\n",
      "C:\\Users\\Krop\\anaconda3\\envs\\ClassPau\\lib\\site-packages\\statsmodels\\tsa\\statespace\\sarimax.py:866: UserWarning: Too few observations to estimate starting parameters for seasonal ARMA. All parameters except for variances will be set to zeros.\n",
      "  warn('Too few observations to estimate starting parameters%s.'\n",
      "C:\\Users\\Krop\\anaconda3\\envs\\ClassPau\\lib\\site-packages\\statsmodels\\base\\model.py:566: ConvergenceWarning: Maximum Likelihood optimization failed to converge. Check mle_retvals\n",
      "  warnings.warn(\"Maximum Likelihood optimization failed to \"\n"
     ]
    }
   ],
   "source": [
    "# lets shoot to the moon an try sarimax\n",
    "\n",
    "#from statsmodels.tsa.statespace.sarimax import SARIMAX\n",
    "\n",
    "s_mod = SARIMAX(hist_dfGRum['Vol_9LC'], \n",
    "                order=(1,2,3), \n",
    "                seasonal_order=(1,1,3,12))\n",
    "predictions2 = s_mod.fit().predict()"
   ]
  },
  {
   "cell_type": "code",
   "execution_count": 62,
   "metadata": {},
   "outputs": [
    {
     "data": {
      "text/plain": [
       "<matplotlib.legend.Legend at 0x1d92fa487f0>"
      ]
     },
     "execution_count": 62,
     "metadata": {},
     "output_type": "execute_result"
    },
    {
     "data": {
      "image/png": "[encoded data removed]",
      "text/plain": [
       "<Figure size 1152x288 with 1 Axes>"
      ]
     },
     "metadata": {},
     "output_type": "display_data"
    }
   ],
   "source": [
    "# lets plot???\n",
    "\n",
    "plt.figure(figsize=(16,4))\n",
    "plt.plot(hist_dfGRum.diff(), label=\"Actual\")\n",
    "plt.plot(predictions2, label=\"Predicted\")\n",
    "plt.title('Volume 9LC', fontsize=20)\n",
    "plt.ylabel('Vol', fontsize=16)\n",
    "plt.legend()\n"
   ]
  },
  {
   "cell_type": "code",
   "execution_count": null,
   "metadata": {},
   "outputs": [],
   "source": []
  },
  {
   "cell_type": "code",
   "execution_count": null,
   "metadata": {},
   "outputs": [],
   "source": []
  },
  {
   "cell_type": "code",
   "execution_count": null,
   "metadata": {},
   "outputs": [],
   "source": []
  },
  {
   "cell_type": "code",
   "execution_count": null,
   "metadata": {},
   "outputs": [],
   "source": []
  },
  {
   "cell_type": "code",
   "execution_count": null,
   "metadata": {},
   "outputs": [],
   "source": []
  },
  {
   "cell_type": "code",
   "execution_count": null,
   "metadata": {},
   "outputs": [],
   "source": []
  },
  {
   "cell_type": "markdown",
   "metadata": {},
   "source": [
    "## AutoARIMA model"
   ]
  },
  {
   "cell_type": "code",
   "execution_count": null,
   "metadata": {},
   "outputs": [],
   "source": []
  },
  {
   "cell_type": "markdown",
   "metadata": {},
   "source": [
    "our data is not stationary. We apply log transformation before we start modeling"
   ]
  },
  {
   "cell_type": "code",
   "execution_count": null,
   "metadata": {},
   "outputs": [],
   "source": []
  },
  {
   "cell_type": "code",
   "execution_count": null,
   "metadata": {},
   "outputs": [],
   "source": [
    "# check for normality\n",
    "plt.hist(hist_dfGRum['Vol_9LC'], bins=50);\n"
   ]
  },
  {
   "cell_type": "code",
   "execution_count": null,
   "metadata": {},
   "outputs": [],
   "source": [
    "# apply a log transformation to normalize the data\n",
    "hist_dfGRum['Vol_9LC_log'] = np.log(hist_dfGRum['Vol_9LC'])"
   ]
  },
  {
   "cell_type": "code",
   "execution_count": null,
   "metadata": {},
   "outputs": [],
   "source": [
    "# check for normality\n",
    "plt.hist(hist_dfGRum['Vol_9LC_log'], bins=50);"
   ]
  },
  {
   "cell_type": "code",
   "execution_count": null,
   "metadata": {
    "scrolled": true
   },
   "outputs": [],
   "source": [
    "hist_dfGRum"
   ]
  },
  {
   "cell_type": "code",
   "execution_count": null,
   "metadata": {},
   "outputs": [],
   "source": [
    "#we still want univariable\n",
    "hist_dfGRum.drop('Vol_9LC', axis = 1, inplace = True) "
   ]
  },
  {
   "cell_type": "code",
   "execution_count": null,
   "metadata": {},
   "outputs": [],
   "source": []
  },
  {
   "cell_type": "code",
   "execution_count": null,
   "metadata": {},
   "outputs": [],
   "source": []
  },
  {
   "cell_type": "code",
   "execution_count": null,
   "metadata": {},
   "outputs": [],
   "source": [
    "from pmdarima.arima import auto_arima"
   ]
  },
  {
   "cell_type": "code",
   "execution_count": null,
   "metadata": {},
   "outputs": [],
   "source": [
    "model = auto_arima(hist_dfGRum, start_p=0, start_q=0)\n",
    "model.summary()"
   ]
  },
  {
   "cell_type": "code",
   "execution_count": null,
   "metadata": {},
   "outputs": [],
   "source": [
    "model.plot_diagnostics()"
   ]
  },
  {
   "cell_type": "raw",
   "metadata": {},
   "source": [
    "# to get forecast we should do something like this \n",
    "\n",
    "forecast = model.get_forecast(steps=12)\n",
    "pred_df = forecast.conf_int()\n",
    "pred_df['pred'] = forecast.predicted_mean\n",
    "pred_df.columns = ['lower', 'upper', 'pred']"
   ]
  },
  {
   "cell_type": "code",
   "execution_count": null,
   "metadata": {},
   "outputs": [],
   "source": [
    "hist_dfGRum.info()"
   ]
  },
  {
   "cell_type": "code",
   "execution_count": null,
   "metadata": {},
   "outputs": [],
   "source": [
    "#use the model to predict\n",
    "\n",
    "prediction, confint = model.predict(n_periods=6, return_conf_int=True)\n",
    "\n",
    "prediction\n"
   ]
  },
  {
   "cell_type": "code",
   "execution_count": null,
   "metadata": {},
   "outputs": [],
   "source": [
    "#put prediction on a df\n",
    "cf= pd.DataFrame(confint)"
   ]
  },
  {
   "cell_type": "code",
   "execution_count": null,
   "metadata": {},
   "outputs": [],
   "source": [
    "cf"
   ]
  },
  {
   "cell_type": "raw",
   "metadata": {},
   "source": [
    "#Mostramos la gráfica con la predicción de los 2 últimos años en naranja\n",
    "#sobre la serie real \n",
    "prediction_series = pd.Series(prediction,index=[0,1,2,3,4,5])\n",
    "fig, ax = plt.subplots(1, 1, figsize=(15, 5))\n",
    "ax.plot(hist_dfGRum.Vol_9LC_log)\n",
    "ax.plot(prediction_series)\n",
    "ax.fill_between(prediction_series.index,\n",
    "                cf[0],\n",
    "                cf[1],color='grey',alpha=.3)"
   ]
  },
  {
   "cell_type": "raw",
   "metadata": {},
   "source": [
    "prediction_series"
   ]
  },
  {
   "cell_type": "code",
   "execution_count": null,
   "metadata": {
    "scrolled": true
   },
   "outputs": [],
   "source": [
    "hist_dfGRum"
   ]
  },
  {
   "cell_type": "raw",
   "metadata": {},
   "source": [
    "#add the prediction\n",
    "#hist_dfGRum['prediction']=prediction_series.to_frame()"
   ]
  },
  {
   "cell_type": "raw",
   "metadata": {},
   "source": [
    "pred_df=prediction_series.to_frame()"
   ]
  },
  {
   "cell_type": "raw",
   "metadata": {},
   "source": [
    "pred_df"
   ]
  },
  {
   "cell_type": "raw",
   "metadata": {},
   "source": [
    "a_row = pd.Series([1, 2])\n",
    "\n",
    "df = pd.DataFrame([[3, 4], [5, 6]], index = [\"row1\", \"row2\"])\n",
    "\n",
    "\n",
    "row_df = pd.DataFrame([a_row], index = [\"row3\"])\n",
    "\n",
    "df = pd.concat([row_df, df])"
   ]
  },
  {
   "cell_type": "raw",
   "metadata": {},
   "source": [
    "nan_array= np.empty(30)\n",
    "nan_array[:]=np.NaN"
   ]
  },
  {
   "cell_type": "raw",
   "metadata": {},
   "source": [
    "pred_array = prediction_series.to_numpy()"
   ]
  },
  {
   "cell_type": "raw",
   "metadata": {},
   "source": [
    "pred_array"
   ]
  },
  {
   "cell_type": "raw",
   "metadata": {},
   "source": [
    "nan_array"
   ]
  },
  {
   "cell_type": "raw",
   "metadata": {},
   "source": [
    "np.concatenate(nan_array,pred_array)"
   ]
  },
  {
   "cell_type": "raw",
   "metadata": {},
   "source": [
    "hist_dfGRum=pd.concat([hist_dfGRum, pred_df], axis=1)"
   ]
  },
  {
   "cell_type": "raw",
   "metadata": {},
   "source": [
    "hist_dfGRum"
   ]
  },
  {
   "cell_type": "code",
   "execution_count": null,
   "metadata": {},
   "outputs": [],
   "source": []
  }
 ],
 "metadata": {
  "kernelspec": {
   "display_name": "Python 3 (ipykernel)",
   "language": "python",
   "name": "python3"
  },
  "language_info": {
   "codemirror_mode": {
    "name": "ipython",
    "version": 3
   },
   "file_extension": ".py",
   "mimetype": "text/x-python",
   "name": "python",
   "nbconvert_exporter": "python",
   "pygments_lexer": "ipython3",
   "version": "3.9.12"
  }
 },
 "nbformat": 4,
 "nbformat_minor": 4
}
